{
 "cells": [
  {
   "cell_type": "code",
   "execution_count": 21,
   "id": "d64310da",
   "metadata": {},
   "outputs": [
    {
     "name": "stdout",
     "output_type": "stream",
     "text": [
      "Digite o seu CPF ou (0-sai): 717\n",
      "8 6\n",
      "CPF INVÁLIDO !!\n",
      "Digite o seu CPF ou (0-sai): 71793674605\n",
      "0 4\n",
      "CPF INVÁLIDO !!\n",
      "Digite o seu CPF ou (0-sai): 71793674604\n",
      "0 4\n",
      "\n",
      "CPF Válido !!\n"
     ]
    }
   ],
   "source": [
    "def calcula_cpf(calcula, verificador):\n",
    "    soma_cpf = 0\n",
    "    multiplica_cpf = []\n",
    "    for indice in range(0,len(calcula)):\n",
    "        if verificador == 1:\n",
    "            multiplica_cpf.append(int(calcula[indice])*(indice+1))\n",
    "        else:\n",
    "            multiplica_cpf.append(int(calcula[indice])*indice)\n",
    "            \n",
    "        soma_cpf += multiplica_cpf[indice]\n",
    "    \n",
    "    return soma_cpf\n",
    "\n",
    "digito_verificador = '0'\n",
    "digito_calculado = '1'\n",
    "cpf = '1'\n",
    "while digito_verificador != digito_calculado:\n",
    "    \n",
    "    cpf = input('Digite o seu CPF ou (0-sai): ')\n",
    "    \n",
    "    if cpf == '0':\n",
    "        break\n",
    "        \n",
    "    cpf_nove = cpf[:9]\n",
    "\n",
    "    retorno_soma = calcula_cpf(cpf_nove,1)\n",
    "\n",
    "    if retorno_soma % 11 == 10:\n",
    "        primeiro_digito = 0\n",
    "    else:\n",
    "        primeiro_digito = (retorno_soma%11)\n",
    "\n",
    "    cpf_dez = cpf_nove + str(primeiro_digito)\n",
    "    retorno_soma = calcula_cpf(cpf_dez,2)\n",
    "\n",
    "    if retorno_soma % 11 == 10:\n",
    "        segundo_digito = 0\n",
    "    else:\n",
    "        segundo_digito = (retorno_soma%11)\n",
    "\n",
    "    digito_calculado = str(primeiro_digito)+str(segundo_digito)\n",
    "    digito_verificador = cpf[-2] + cpf[-1]\n",
    "\n",
    "    print(primeiro_digito, segundo_digito)\n",
    "    \n",
    "    if digito_verificador != digito_calculado:\n",
    "        print('CPF INVÁLIDO !!')\n",
    "else:\n",
    "    \n",
    "    print('\\nCPF Válido !!')"
   ]
  },
  {
   "cell_type": "code",
   "execution_count": null,
   "id": "e661a6f6",
   "metadata": {},
   "outputs": [],
   "source": []
  }
 ],
 "metadata": {
  "kernelspec": {
   "display_name": "Python 3 (ipykernel)",
   "language": "python",
   "name": "python3"
  },
  "language_info": {
   "codemirror_mode": {
    "name": "ipython",
    "version": 3
   },
   "file_extension": ".py",
   "mimetype": "text/x-python",
   "name": "python",
   "nbconvert_exporter": "python",
   "pygments_lexer": "ipython3",
   "version": "3.9.2"
  }
 },
 "nbformat": 4,
 "nbformat_minor": 5
}
