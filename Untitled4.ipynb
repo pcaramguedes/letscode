{
 "cells": [
  {
   "cell_type": "code",
<<<<<<< HEAD
   "execution_count": 2,
   "id": "7ca09a6f",
=======
   "execution_count": 15,
   "id": "3454040d",
   "metadata": {},
   "outputs": [
    {
     "data": {
      "text/plain": [
       "[1, 2, 3]"
      ]
     },
     "execution_count": 15,
     "metadata": {},
     "output_type": "execute_result"
    }
   ],
   "source": [
    "lista = [1,2,3,4,5,6,7,9]\n",
    "lista[:3]"
   ]
  },
  {
   "cell_type": "code",
   "execution_count": 18,
   "id": "f78f7d20",
   "metadata": {},
   "outputs": [
    {
     "data": {
      "text/plain": [
       "[1, 11, 2, 3, 4, 5, 6, 7, 9, 1, 1]"
      ]
     },
     "execution_count": 18,
     "metadata": {},
     "output_type": "execute_result"
    }
   ],
   "source": [
    "lista.insert(1,11)\n",
    "lista"
   ]
  },
  {
   "cell_type": "code",
   "execution_count": 22,
   "id": "15372a36",
   "metadata": {},
   "outputs": [
    {
     "ename": "ValueError",
     "evalue": "list.remove(x): x not in list",
     "output_type": "error",
     "traceback": [
      "\u001b[0;31m---------------------------------------------------------------------------\u001b[0m",
      "\u001b[0;31mValueError\u001b[0m                                Traceback (most recent call last)",
      "\u001b[0;32m<ipython-input-22-288f10040fba>\u001b[0m in \u001b[0;36m<module>\u001b[0;34m\u001b[0m\n\u001b[0;32m----> 1\u001b[0;31m \u001b[0mlista\u001b[0m\u001b[0;34m.\u001b[0m\u001b[0mremove\u001b[0m\u001b[0;34m(\u001b[0m\u001b[0;36m1\u001b[0m\u001b[0;34m)\u001b[0m\u001b[0;34m\u001b[0m\u001b[0m\n\u001b[0m\u001b[1;32m      2\u001b[0m \u001b[0mlista\u001b[0m\u001b[0;34m\u001b[0m\u001b[0m\n",
      "\u001b[0;31mValueError\u001b[0m: list.remove(x): x not in list"
     ]
    }
   ],
   "source": [
    "lista.remove(1)\n",
    "lista"
   ]
  },
  {
   "cell_type": "code",
   "execution_count": 24,
   "id": "38341bb0",
>>>>>>> 5d6b5c52527d0a5b758328542ad849560565142d
   "metadata": {},
   "outputs": [
    {
     "name": "stdout",
     "output_type": "stream",
     "text": [
<<<<<<< HEAD
      "15\n",
      "2\n"
=======
      "item nao encontrado\n"
>>>>>>> 5d6b5c52527d0a5b758328542ad849560565142d
     ]
    }
   ],
   "source": [
<<<<<<< HEAD
    "consumo = [12,14,15,11,8.5]\n",
    "max_consumo = max(consumo)\n",
    "print(max_consumo)\n",
    "print(consumo.index(max_consumo))"
=======
    "if 1 in lista:\n",
    "    lista.remove(1)\n",
    "else:\n",
    "    print('item nao encontrado')\n"
   ]
  },
  {
   "cell_type": "code",
   "execution_count": 28,
   "id": "ffcf72e2",
   "metadata": {},
   "outputs": [
    {
     "name": "stdout",
     "output_type": "stream",
     "text": [
      "o item9 foi removido da lista\n"
     ]
    }
   ],
   "source": [
    "lista = [1,2,3,4,5,6,7,9]\n",
    "item_deletado = lista[-1]\n",
    "lista.pop()\n",
    "print(f'o item{item_deletado} foi removido da lista')"
   ]
  },
  {
   "cell_type": "code",
   "execution_count": 36,
   "id": "01b9bc0e",
   "metadata": {},
   "outputs": [
    {
     "name": "stdout",
     "output_type": "stream",
     "text": [
      "['josé', 'maria', 'paulo', 'pedro']\n"
     ]
    },
    {
     "data": {
      "text/plain": [
       "['carlão', 'josé', 'maria', 'paulo', 'pedro']"
      ]
     },
     "execution_count": 36,
     "metadata": {},
     "output_type": "execute_result"
    }
   ],
   "source": [
    "lista = ['paulo', 'maria', 'josé', 'pedro']\n",
    "print(sorted(lista))\n",
    "lista.append('carlão')\n",
    "lista\n",
    "lista.sort()\n",
    "lista"
   ]
  },
  {
   "cell_type": "code",
   "execution_count": 38,
   "id": "ac59f0a3",
   "metadata": {},
   "outputs": [
    {
     "name": "stdout",
     "output_type": "stream",
     "text": [
      "['pedro', 'paulo', 'maria', 'josé', 'carlão']\n"
     ]
    }
   ],
   "source": [
    "print(sorted(lista, reverse=True))"
   ]
  },
  {
   "cell_type": "code",
   "execution_count": 39,
   "id": "f8ac0e88",
   "metadata": {},
   "outputs": [
    {
     "data": {
      "text/plain": [
       "1"
      ]
     },
     "execution_count": 39,
     "metadata": {},
     "output_type": "execute_result"
    }
   ],
   "source": [
    "lista.count('pedro')"
   ]
  },
  {
   "cell_type": "code",
   "execution_count": 43,
   "id": "27cc320f",
   "metadata": {},
   "outputs": [
    {
     "name": "stdout",
     "output_type": "stream",
     "text": [
      "['carlão', 'josé', 'maria', 'paulo', 'pedro', 'pedro', 'pedro', 'pedro']\n"
     ]
    },
    {
     "data": {
      "text/plain": [
       "4"
      ]
     },
     "execution_count": 43,
     "metadata": {},
     "output_type": "execute_result"
    }
   ],
   "source": [
    "\n",
    "print(lista)\n",
    "lista.count('pedro')\n"
>>>>>>> 5d6b5c52527d0a5b758328542ad849560565142d
   ]
  }
 ],
 "metadata": {
  "kernelspec": {
<<<<<<< HEAD
   "display_name": "Python 3 (ipykernel)",
=======
   "display_name": "Python 3",
>>>>>>> 5d6b5c52527d0a5b758328542ad849560565142d
   "language": "python",
   "name": "python3"
  },
  "language_info": {
   "codemirror_mode": {
    "name": "ipython",
    "version": 3
   },
   "file_extension": ".py",
   "mimetype": "text/x-python",
   "name": "python",
   "nbconvert_exporter": "python",
   "pygments_lexer": "ipython3",
<<<<<<< HEAD
   "version": "3.9.2"
=======
   "version": "3.6.3"
>>>>>>> 5d6b5c52527d0a5b758328542ad849560565142d
  }
 },
 "nbformat": 4,
 "nbformat_minor": 5
}
