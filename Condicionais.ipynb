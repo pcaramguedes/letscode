{
 "cells": [
  {
   "cell_type": "markdown",
   "id": "2cd40289-d113-4e44-a1ee-e956666d459b",
   "metadata": {},
   "source": [
    "# O que veremos\n",
    "***\n",
    "- [Lógica Booleana](#bool)\n",
    "- [Condicionais](#condicionais)\n",
    "- [Exercícios](#ex)"
   ]
  },
  {
   "cell_type": "markdown",
   "id": "acf9c583-ab66-4419-afe5-6e140304bdfb",
   "metadata": {},
   "source": [
    "<a name = \"bool\"></a>\n",
    "# Lógica e Operadores Booleanos\n",
    "\n",
    "Em muitos problemas de programação, há necessidade de se fazer **comparações** entre variáveis.\n",
    "\n",
    "Por exemplo:\n",
    "\n",
    "- checar se um número é maior que outro;\n",
    "- checar se uma variável é igual a outra;\n",
    "- checar se há números diferentes; etc.\n",
    "\n",
    "Para fazer essas comparações, utilizamos os **operadores lógicos de comparação**. Em Python, há 6 desses operadores:\n",
    "\n",
    "- Maior que: >\n",
    "- Maior ou igual: >=\n",
    "- Menor que: <\n",
    "- Menor ou igual: <=\n",
    "- Igual: ==\n",
    "- Diferente: !=\n",
    "\n",
    "O resultado de uma comparação sempre vai ser um booleano, isto é, **True** ou **False**!\n",
    "\n",
    "Dica: sempre leia as comparações como uma **pergunta**\n",
    "\n",
    "- Ex: \"numero < 100\", leia: \"o valor na variável numero é menor que 100?\"\n",
    "\n"
   ]
  },
  {
   "cell_type": "code",
   "execution_count": 78,
   "id": "d34837b7-f953-4e24-bb2a-e27267c4ef1d",
   "metadata": {},
   "outputs": [],
   "source": [
    "#Exemplos"
   ]
  },
  {
   "cell_type": "code",
   "execution_count": 79,
   "id": "0f08f196-1784-4194-a678-aade07ab6499",
   "metadata": {},
   "outputs": [],
   "source": [
    "#negativa"
   ]
  },
  {
   "cell_type": "markdown",
   "id": "14039dc4-aaff-473a-b3f7-e2a1ee228d8d",
   "metadata": {},
   "source": [
    "## Tabela Verdade\n",
    "### Not (~, !, ¬)\n",
    "Sempre o oposto do valor original\n",
    "\n",
    "|P| ~P|\n",
    "|:---:|:---:|\n",
    "|T|F|\n",
    "|F|T|\n"
   ]
  },
  {
   "cell_type": "code",
   "execution_count": null,
   "id": "3e132895-4053-43e9-af5b-7c19178bb33b",
   "metadata": {},
   "outputs": [],
   "source": []
  },
  {
   "cell_type": "markdown",
   "id": "799f9c19-7fc9-455b-af28-f4747069f1e4",
   "metadata": {},
   "source": [
    "### AND\n",
    "Comparação é verdadeira apenas se as duas condições são satisfeitas\n",
    "\n",
    "|P|Q|P ^ Q|\n",
    "|:---:|:---:|:---:|\n",
    "|T|T|T|\n",
    "|T|F|F|\n",
    "|F|T|F|\n",
    "|F|F|F|"
   ]
  },
  {
   "cell_type": "code",
   "execution_count": 80,
   "id": "655049f3-6cdc-4e59-8b1e-be51a26a5365",
   "metadata": {},
   "outputs": [],
   "source": [
    "#Login"
   ]
  },
  {
   "cell_type": "markdown",
   "id": "81a4b076-4629-4ce7-966c-a9fb7fd37fdd",
   "metadata": {},
   "source": [
    "### OR\n",
    "Comparação é falsa apenas se as duas condições falham\n",
    "\n",
    "|P|Q|P v Q|\n",
    "|:---:|:---:|:---:|\n",
    "|T|T|T|\n",
    "|T|F|T|\n",
    "|F|T|T|\n",
    "|F|F|F|"
   ]
  },
  {
   "cell_type": "code",
   "execution_count": 81,
   "id": "2ccd1ba8-27ee-48fd-99dc-b1814b70b647",
   "metadata": {},
   "outputs": [],
   "source": [
    "#Nota progressiva"
   ]
  },
  {
   "cell_type": "markdown",
   "id": "b0acfb6c-2440-4bff-aacb-16ecaf952106",
   "metadata": {},
   "source": [
    "Ordem de precedência: ~, ^, v, ->, <->"
   ]
  },
  {
   "cell_type": "markdown",
   "id": "743f9706-1cf7-4d6a-84a7-a3497e0eb3d8",
   "metadata": {},
   "source": [
    "<a name = \"condicionais\"></a>\n",
    "# Condicionais\n"
   ]
  },
  {
   "cell_type": "markdown",
   "id": "9e38f738-245e-4d9f-8088-e04701a18a38",
   "metadata": {},
   "source": [
    "\n",
    "O principal uso dos operadores lógicos é em **estruturas condicionais**\n",
    "\n",
    "Esse tipo de estrutura é utilizada para tratar casos diferentes dentro do código\n",
    "\n",
    "Os **operadores condicionais** são: **if**, **elif** e **else**\n",
    "\n",
    "- **if**: Se uma condição for verdadeira, faça determinada operação.\n",
    "- **elif**: Se a condição acima for falsa, avalie uma próxima condição, e se essa for verdadeira, faça outra operação\n",
    "- **else**: Se nenhuma das condições acima for verdadeira, faça outra coisa\n",
    "\n",
    "O uso de elif e else **não** é obrigatório! (Mas é muitas vezes conveniente!)\n",
    "\n",
    "As estruturas de repetição aparecem em **blocos identados (com \"tab\") após dois pontos**, na seguinte estrutura:\n",
    "\n",
    "```python\n",
    "if (condicao é True):\n",
    "    operacoes\n",
    "elif (condicao é True):\n",
    "    operacoes\n",
    "else:\n",
    "    operacoes\n",
    "```\n",
    "\n",
    "- Se alguma condição no if ou elif for verdadeira, todo o resto é ignorado!\n",
    "- Por isso, as condições no if e os diferentes elifs sempre são **excludentes**"
   ]
  },
  {
   "cell_type": "code",
   "execution_count": 82,
   "id": "accff025-828f-4f5c-b0a8-fd2cda18f25d",
   "metadata": {},
   "outputs": [],
   "source": [
    "#Login Pagina"
   ]
  },
  {
   "cell_type": "code",
   "execution_count": 83,
   "id": "02c575b7-4ac6-4c7d-bb7e-e9334a25167d",
   "metadata": {},
   "outputs": [],
   "source": [
    "#Nota progressiva"
   ]
  },
  {
   "cell_type": "markdown",
   "id": "23320661-da09-45f6-abd4-8ee639bb6e10",
   "metadata": {},
   "source": [
    "<a name = \"ex\"></a>\n",
    "# Exercícios\n",
    "***\n",
    "\n",
    "**1)** Faça um Programa que verifique se uma letra digitada é \"F\", \"M\", ou \"I\". \n",
    "Conforme a letra escrever:    \n",
    "    \n",
    "    F - Feminino   \n",
    "    M - Masculino   \n",
    "    I - Intersexo   \n",
    "    Sexo Inválido   "
   ]
  },
  {
   "cell_type": "code",
   "execution_count": 4,
   "id": "8682b78a-4425-4e8e-b7c2-7199efa397f6",
   "metadata": {},
   "outputs": [
    {
     "name": "stdout",
     "output_type": "stream",
     "text": [
      "Digite uma letra: s\n",
      "Sexo inválido\n"
     ]
    }
   ],
   "source": [
    "letra = input('Digite uma letra: ')\n",
    "\n",
    "if letra.upper() == 'F':\n",
    "    print('F - Feminino')\n",
    "elif letra.upper() == 'M':\n",
    "    print('M - Masculuno')\n",
    "elif letra.upper() == 'I':\n",
    "    print('I - Intersexo')\n",
    "else:\n",
    "    print('Sexo inválido')"
   ]
  },
  {
   "cell_type": "markdown",
   "id": "3032c2ed-d59f-4c30-848d-eb4372b0cb69",
   "metadata": {},
   "source": [
    "**2)** Faça um programa que lê as duas notas parciais obtidas por um aluno numa disciplina ao longo de um semestre, e calcule a sua média. O algoritmo deve mostrar na tela as notas, a média, o conceito correspondente e a mensagem “APROVADO” se o conceito for A, B ou C ou “REPROVADO” se o conceito for D ou E.\n",
    "\n",
    "A atribuição de conceitos obedece à tabela abaixo:\n",
    "\n",
    "|Média de Aproveitamento|Conceito|\n",
    "|:---:|:---:|\n",
    "  |Entre 9.0 e 10.0|        A|\n",
    "  |Entre 7.5 e 9.0|         B|\n",
    "  |Entre 6.0 e 7.5|         C|\n",
    "  |Entre 4.0 e 6.0|         D|\n",
    "  |Entre 4.0 e 0.0|        E|"
   ]
  },
  {
   "cell_type": "code",
   "execution_count": 27,
   "id": "31f03f8b-a04d-45ca-8eda-b3901936dfec",
   "metadata": {},
   "outputs": [
    {
     "name": "stdout",
     "output_type": "stream",
     "text": [
      "Digite uma nota: 9\n",
      "Digite uma nota: 6\n",
      "Nota tirada: 7.5 APROVADO - Conceito B\n"
     ]
    }
   ],
   "source": [
    "notas=[]\n",
    "\n",
    "for num in range(0,2):\n",
    "    n = float(input('Digite uma nota: '))\n",
    "    notas.append(n)\n",
    "\n",
    "soma = 0\n",
    "for num in notas:\n",
    "    soma += num\n",
    "\n",
    "media = soma / len(notas)\n",
    "\n",
    "if media >= 9:\n",
    "    print(f'Nota tirada: {media} - APROVADO - Conceito A')\n",
    "elif media >= 7.5:\n",
    "    print(f'Nota tirada: {media} APROVADO - Conceito B')\n",
    "elif media >= 6.0:\n",
    "    print(f'Nota tirada: {media} APROVADO - Conceito C')\n",
    "elif media >= 4.0:\n",
    "    print(f'Nota tirada: {media} REPROVADO - Conceito D')\n",
    "else:\n",
    "    print(f'Nota tirada: {media} REPROVADO - Conceito E')"
   ]
  },
  {
   "cell_type": "markdown",
   "id": "ec08fe22-a0d7-445e-a53f-475ec8231c7b",
   "metadata": {},
   "source": [
    "**3)** Faça um programa para o cálculo de uma folha de pagamento, sabendo que os descontos são do Imposto de Renda, que depende do salário bruto (conforme tabela abaixo) e 3% para o Sindicato e que o FGTS corresponde a 11% do Salário Bruto, mas não é descontado (é a empresa que deposita). O Salário Líquido corresponde ao Salário Bruto menos os descontos. O programa deverá pedir ao usuário o valor da sua hora e a quantidade de horas trabalhadas no mês.\n",
    "\n",
    "Desconto do IR:\n",
    "\n",
    "    Salário Bruto até 900 (inclusive) - isento\n",
    "    Salário Bruto até 1500 (inclusive) - desconto de 5%\n",
    "    Salário Bruto até 2500 (inclusive) - desconto de 10%\n",
    "    Salário Bruto acima de 2500 - desconto de 20% \n",
    "    \n",
    "Imprima na tela as informações, dispostas conforme o exemplo abaixo. No exemplo o valor da hora é 5 e a quantidade de hora é 220.\n",
    "\n",
    "    Salário Bruto: (5 * 220) : R$ 1100.00\n",
    "    \n",
    "    (-) IR (5%)              : R$ 55.00\n",
    "    \n",
    "    (-) INSS (10%)           : R$ 110.00\n",
    "    \n",
    "    FGTS (11%)               : R$ 121.00\n",
    "    \n",
    "    Total de descontos       : R$ 165.00\n",
    "    \n",
    "    Salário Liquido          : R$ 935.00"
   ]
  },
  {
   "cell_type": "code",
   "execution_count": 20,
   "id": "b3ea65ab-4f8c-4f28-9089-4439df806e9d",
   "metadata": {},
   "outputs": [
    {
     "name": "stdout",
     "output_type": "stream",
     "text": [
      "Valor Hora: 10\n",
      "Qtd de horas trabalhadas no mês: 220\n",
      "\n",
      "\n",
      "Salário Bruto: (10.0 * 220.0): R$ 2200.0\n",
      "(-) IR..: 10.0%              : R$ 220.00\n",
      "(-) INSS: (10%)             : R$ 220.00\n",
      "(-) SINDICATO (3%)          : R$ 66.00\n",
      "FGTS (11%)                  : R$ 242.00\n",
      "Total de descontos          : R$ 506.00\n",
      "Salário Líquido             : R$ 1694.00\n"
     ]
    }
   ],
   "source": [
    "valor_hora = float(input('Valor Hora: '))\n",
    "qtd_horas = float(input('Qtd de horas trabalhadas no mês: '))\n",
    "print('\\n')\n",
    "sal_bruto = valor_hora * qtd_horas\n",
    "\n",
    "if sal_bruto <= 900.00:\n",
    "    desconto_ir = 0\n",
    "elif sal_bruto <=1500.00:\n",
    "    percentual = 0.05\n",
    "    desconto_ir = sal_bruto * percentual\n",
    "elif sal_bruto <= 2500.00:\n",
    "    percentual = 0.10\n",
    "    desconto_ir = sal_bruto * percentual\n",
    "else:\n",
    "    percentual = 0.20\n",
    "    desconto_ir = sal_bruto * percentual\n",
    "\n",
    "desconto_sindicato = sal_bruto * 0.03\n",
    "desconto_inss = sal_bruto * 0.10\n",
    "fgts = sal_bruto * 0.11\n",
    "total_descontos = desconto_sindicato + desconto_inss + desconto_ir\n",
    "sal_liquido = sal_bruto - total_descontos\n",
    "print(f'Salário Bruto: ({valor_hora} * {qtd_horas}): R$ {sal_bruto}')\n",
    "print(f'(-) IR..: {percentual*100}%              : R$ {desconto_ir:.2f}')\n",
    "print(f'(-) INSS: (10%)             : R$ {desconto_inss:.2f}')\n",
    "print(f'(-) SINDICATO (3%)          : R$ {desconto_sindicato:.2f}')\n",
    "print(f'FGTS (11%)                  : R$ {fgts:.2f}')\n",
    "\n",
    "print(f'Total de descontos          : R$ {total_descontos:.2f}')\n",
    "print(f'Salário Líquido             : R$ {sal_liquido:.2f}')\n",
    "\n",
    "\n",
    "\n",
    "    \n"
   ]
  },
  {
   "cell_type": "markdown",
   "id": "68a30605-c90f-49eb-b65c-3c2224b634ef",
   "metadata": {},
   "source": [
    "**4)** Uma fruteira está vendendo frutas com a seguinte tabela de preços:\n",
    "\n",
    "||Até 5 Kg|           Acima de 5 Kg   |\n",
    "|-|-|-|\n",
    "|**Morango**|         R\\$ 2,50 por Kg |         R\\$ 2,20 por Kg|\n",
    "|**Maçã**|            R\\$ 1,80 por Kg |         R\\$ 1,50 por Kg|\n",
    "\n",
    "Se o cliente comprar mais de 8 Kg em frutas ou o valor total da compra ultrapassar R\\$ 25,00, receberá ainda um desconto de 10% sobre este total.\n",
    "\n",
    "Escreva um algoritmo para ler a quantidade (em Kg) de morangos e a quantidade (em Kg) de maças adquiridas e escreva o valor a ser pago pelo cliente."
   ]
  },
  {
   "cell_type": "code",
   "execution_count": 30,
   "id": "218e14f1-8dd0-405d-bab2-4bfc9f0140e5",
   "metadata": {},
   "outputs": [
    {
     "name": "stdout",
     "output_type": "stream",
     "text": [
      "Quantidade de KG de morangos comprados: 10\n",
      "Quantide de KG de macas compradas: 10\n",
      "Valor a ser pago pelo cliente: R$ 33.30\n"
     ]
    }
   ],
   "source": [
    "morango = float(input('Quantidade de KG de morangos comprados: '))\n",
    "macas = float(input('Quantide de KG de macas compradas: '))\n",
    "\n",
    "total_morangos=0\n",
    "total_macas=0\n",
    "\n",
    "if macas <=5.00:\n",
    "    total_macas = macas * 1.80\n",
    "elif macas >5.00:\n",
    "    total_macas = macas * 1.50\n",
    "    \n",
    "if morango <=5.00:\n",
    "    total_morangos = morango * 2.50\n",
    "elif morango >5.00:\n",
    "    total_morangos = morango * 2.20\n",
    "\n",
    "\n",
    "total_pagar = total_morangos + total_macas\n",
    "total_frutas = morango + macas\n",
    "if total_frutas > 8.00 or total_pagar > 25.00:\n",
    "    total_pagar *= 0.90\n",
    "    print(f'Valor a ser pago pelo cliente: R$ {total_pagar:.2f}')\n",
    "else:   \n",
    "    print(f'Valor a ser pago pelo cliente: R$ {total_pagar:.2f}')"
   ]
  },
  {
   "cell_type": "markdown",
   "id": "dcef01d0-fd3b-40ba-9f38-2889918af05c",
   "metadata": {},
   "source": [
    "# Obrigado pela atenção de todos! 😄\n",
    "# Parabéns pelo empenho\n",
    "## Qualquer duvida não hesitem em me chamar. 👩‍💻\n",
    "### Programação é treino, teste e erro. Então façam as listas."
   ]
  }
 ],
 "metadata": {
  "kernelspec": {
   "display_name": "Python 3 (ipykernel)",
   "language": "python",
   "name": "python3"
  },
  "language_info": {
   "codemirror_mode": {
    "name": "ipython",
    "version": 3
   },
   "file_extension": ".py",
   "mimetype": "text/x-python",
   "name": "python",
   "nbconvert_exporter": "python",
   "pygments_lexer": "ipython3",
   "version": "3.9.2"
  }
 },
 "nbformat": 4,
 "nbformat_minor": 5
}
