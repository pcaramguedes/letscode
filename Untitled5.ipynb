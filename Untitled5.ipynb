{
 "cells": [
  {
   "cell_type": "code",
   "execution_count": 5,
   "id": "76a9c829",
   "metadata": {},
   "outputs": [
    {
     "name": "stdout",
     "output_type": "stream",
     "text": [
      "Digite um numero inteiro: 9\n",
      "Digite um numero inteiro: 1\n",
      "Digite um numero inteiro: 0\n",
      "Digite um numero inteiro: 5\n",
      "Digite um numero inteiro: 4\n",
      "Digite um numero inteiro: 3\n",
      "Digite um numero inteiro: 2\n",
      "Digite um numero inteiro: 6\n",
      "Digite um numero inteiro: 8\n",
      "Digite um numero inteiro: 7\n",
      "[7, 8, 6, 2, 3, 4, 5, 0, 1, 9]\n"
     ]
    }
   ],
   "source": [
    "#Faça um programa que peça 10 números para o usuário e guarde os números em uma lista. \n",
    "#Imprima os itens da lista preenchida de trás para frente.\n",
    "\n",
    "lista = []\n",
    "contador = 0\n",
    "\n",
    "while contador < 10:\n",
    "    num = int(input('Digite um numero inteiro: '))\n",
    "    lista.append(num)\n",
    "    contador += 1\n",
    "\n",
    "print(lista[::-1])"
   ]
  },
  {
   "cell_type": "code",
   "execution_count": 9,
   "id": "4a09fe3c",
   "metadata": {},
   "outputs": [
    {
     "name": "stdout",
     "output_type": "stream",
     "text": [
      "Digite um numero maior que 0: 100\n",
      "[0, 1, 2, 3, 4, 5, 6, 7, 8, 9, 10, 11, 12, 13, 14, 15, 16, 17, 18, 19, 20, 21, 22, 23, 24, 25, 26, 27, 28, 29, 30, 31, 32, 33, 34, 35, 36, 37, 38, 39, 40, 41, 42, 43, 44, 45, 46, 47, 48, 49, 50, 51, 52, 53, 54, 55, 56, 57, 58, 59, 60, 61, 62, 63, 64, 65, 66, 67, 68, 69, 70, 71, 72, 73, 74, 75, 76, 77, 78, 79, 80, 81, 82, 83, 84, 85, 86, 87, 88, 89, 90, 91, 92, 93, 94, 95, 96, 97, 98, 99]\n"
     ]
    }
   ],
   "source": [
    "#Faça um script que peça para o usuário digitar um número N e imprima uma lista com todos\n",
    "#os números de 0 a N-1.\n",
    "#\n",
    "#Exemplo\n",
    "#input: 5\n",
    "#output: [0, 1, 2, 3, 4]\n",
    "\n",
    "try:\n",
    "    num = int(input('Digite um numero maior que 0: '))\n",
    "except ValueError:\n",
    "    print('Digite somente números !!!')\n",
    "else:\n",
    "    contador = 0\n",
    "    lista = []\n",
    "    while contador < num:\n",
    "        lista.append(contador)\n",
    "        contador += 1\n",
    "    \n",
    "    print(lista)\n",
    "        "
   ]
  },
  {
   "cell_type": "code",
   "execution_count": 12,
   "id": "d149647d",
   "metadata": {
    "scrolled": true
   },
   "outputs": [
    {
     "name": "stdout",
     "output_type": "stream",
     "text": [
      "Entre com o seu nome: p\n",
      "Entre com a sua idade em anos: 10\n",
      "Entre com o seu nome: a\n",
      "Entre com a sua idade em anos: 45\n",
      "Entre com o seu nome: j\n",
      "Entre com a sua idade em anos: 20\n",
      "Entre com o seu nome: m\n",
      "Entre com a sua idade em anos: 15\n",
      "Entre com o seu nome: joana\n",
      "Entre com a sua idade em anos: 42\n",
      "Nome: p - Idade: 10\n",
      "Nome: a - Idade: 45\n",
      "Nome: j - Idade: 20\n",
      "Nome: m - Idade: 15\n",
      "Nome: joana - Idade: 42\n",
      "['p', 'a', 'j', 'm', 'joana']\n",
      "[10, 45, 20, 15, 42]\n"
     ]
    }
   ],
   "source": [
    "#Faça um programa que leia nome e idade de 5 pessoas e coloque os nomes em uma lista e as idades em outra.\n",
    "#Apresente as duas listas preenchidas.\n",
    "\n",
    "contador = 0\n",
    "nome = []\n",
    "idade = []\n",
    "\n",
    "while contador < 5:\n",
    "    name = input('Entre com o seu nome: ')\n",
    "    age = int(input('Entre com a sua idade em anos: '))\n",
    "    nome.append(name)\n",
    "    idade.append(age)\n",
    "    contador += 1\n",
    "    \n",
    "contador = 0\n",
    "\n",
    "while contador < len(idade):\n",
    "    print(f'Nome: {nome[contador]} - Idade: {idade[contador]}')\n",
    "    contador += 1\n",
    "\n",
    "print(nome)\n",
    "print(idade)\n",
    "    "
   ]
  },
  {
   "cell_type": "code",
   "execution_count": null,
   "id": "45782457",
   "metadata": {},
   "outputs": [],
   "source": [
    "#Faça um script que leia 10 números do usuário e devolva duas listas: uma com os números ímpares e \n",
    "#outra com os números pares.\n",
    "\n",
    "#Exemplo\n",
    "#input 1: 5\n",
    "#input 2: 4\n",
    "#(etc...): 6.. 7.. 1.. 2.. 3.. 7..\n",
    "#input 9: 4\n",
    "#input 10: 8\n",
    "#output: lista com ímpares: [5, 7, 1, 3, 7]\n",
    "#        lista com pares: [4, 6, 2, 4, 8]"
   ]
  }
 ],
 "metadata": {
  "kernelspec": {
   "display_name": "Python 3 (ipykernel)",
   "language": "python",
   "name": "python3"
  },
  "language_info": {
   "codemirror_mode": {
    "name": "ipython",
    "version": 3
   },
   "file_extension": ".py",
   "mimetype": "text/x-python",
   "name": "python",
   "nbconvert_exporter": "python",
   "pygments_lexer": "ipython3",
   "version": "3.9.2"
  }
 },
 "nbformat": 4,
 "nbformat_minor": 5
}
