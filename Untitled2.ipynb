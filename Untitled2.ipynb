{
 "cells": [
  {
   "cell_type": "code",
   "execution_count": 4,
   "id": "e92c7a41",
   "metadata": {},
   "outputs": [
    {
     "name": "stdout",
     "output_type": "stream",
     "text": [
      "Digite um valor inteiro: 10\n",
      "Encontramos o divisor. Pode parar\n",
      "Não eh Primo\n"
     ]
    }
   ],
   "source": [
    "n = int(input('Digite um valor inteiro: '))\n",
    "\n",
    "divisor = 2\n",
    "\n",
    "while divisor < n:\n",
    "    \n",
    "    if n % divisor == 0:\n",
    "        print('Encontramos o divisor. Pode parar')\n",
    "        break\n",
    "        \n",
    "    divisor += 1\n",
    "    \n",
    "if divisor == n:\n",
    "    print('Primo')\n",
    "else:\n",
    "    print('Não eh Primo')"
   ]
  }
 ],
 "metadata": {
  "kernelspec": {
   "display_name": "Python 3 (ipykernel)",
   "language": "python",
   "name": "python3"
  },
  "language_info": {
   "codemirror_mode": {
    "name": "ipython",
    "version": 3
   },
   "file_extension": ".py",
   "mimetype": "text/x-python",
   "name": "python",
   "nbconvert_exporter": "python",
   "pygments_lexer": "ipython3",
   "version": "3.9.2"
  }
 },
 "nbformat": 4,
 "nbformat_minor": 5
}
