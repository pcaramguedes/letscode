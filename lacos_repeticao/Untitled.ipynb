{
 "cells": [
  {
   "cell_type": "code",
   "execution_count": 21,
   "id": "b9b8c95f",
   "metadata": {},
   "outputs": [
    {
     "name": "stdout",
     "output_type": "stream",
     "text": [
      "Digite a sua idade: 1500\n",
      "Digite a sua idade: 1\n",
      "Digite o seu salario: 0\n",
      "Digite o seu salario: 0\n",
      "Digite o seu salario: 1\n",
      "Digite o seu sexo: x\n",
      "Digite o seu sexo: f\n"
     ]
    }
   ],
   "source": [
    "#Faça um programa que peça para o usuário digitar a idade, o salário e o                  \n",
    "# sexo de uma pessoa até que as entradas digitadas sejam válidas.\n",
    "\n",
    "#    Idade: entre 0 e 150;\n",
    "#    Salário: maior que 0;\n",
    "#    Gênero: M, F ou Outro.\n",
    "\n",
    "idade = 151\n",
    "\n",
    "while (idade <0 or idade > 150):\n",
    "    idade = int(input('Digite a sua idade: '))\n",
    "\n",
    "\n",
    "salario = 0\n",
    "while salario == 0:\n",
    "    salario = float(input('Digite o seu salario: '))\n",
    "\n",
    "genero = 'x'\n",
    "while (genero.upper() != 'F' and genero.upper() != 'M' and genero.upper() !='O'):\n",
    "    genero = input('Digite o seu sexo: ')\n"
   ]
  },
  {
   "cell_type": "code",
   "execution_count": 25,
   "id": "01f3cf9d",
   "metadata": {},
   "outputs": [
    {
     "name": "stdout",
     "output_type": "stream",
     "text": [
      "Digite um numero inteiro maior ou igual a 1: 4\n",
      "10\n"
     ]
    }
   ],
   "source": [
    "#Peça ao usuário para digitar um número n e some todos os números de 1 a n.\n",
    "\n",
    "num = int(input('Digite um numero inteiro maior ou igual a 1: '))\n",
    "\n",
    "contador = 0\n",
    "anterior = 0\n",
    "proximo = 1\n",
    "\n",
    "while contador < num:\n",
    "    contador += 1\n",
    "    anterior += proximo\n",
    "    proximo += 1\n",
    "\n",
    "print(f'{anterior}')"
   ]
  }
 ],
 "metadata": {
  "kernelspec": {
   "display_name": "Python 3 (ipykernel)",
   "language": "python",
   "name": "python3"
  },
  "language_info": {
   "codemirror_mode": {
    "name": "ipython",
    "version": 3
   },
   "file_extension": ".py",
   "mimetype": "text/x-python",
   "name": "python",
   "nbconvert_exporter": "python",
   "pygments_lexer": "ipython3",
   "version": "3.9.2"
  }
 },
 "nbformat": 4,
 "nbformat_minor": 5
}
