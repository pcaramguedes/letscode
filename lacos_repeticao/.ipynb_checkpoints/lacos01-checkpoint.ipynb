{
 "cells": [
  {
   "cell_type": "code",
   "execution_count": 26,
   "id": "a3afa7e0",
   "metadata": {},
   "outputs": [
    {
     "ename": "KeyboardInterrupt",
     "evalue": "Interrupted by user",
     "output_type": "error",
     "traceback": [
      "\u001b[0;31m---------------------------------------------------------------------------\u001b[0m",
      "\u001b[0;31mKeyboardInterrupt\u001b[0m                         Traceback (most recent call last)",
      "\u001b[0;32m/tmp/ipykernel_2794/989962894.py\u001b[0m in \u001b[0;36m<module>\u001b[0;34m\u001b[0m\n\u001b[1;32m      9\u001b[0m \u001b[0;34m\u001b[0m\u001b[0m\n\u001b[1;32m     10\u001b[0m \u001b[0;32mwhile\u001b[0m \u001b[0;34m(\u001b[0m\u001b[0midade\u001b[0m \u001b[0;34m<\u001b[0m\u001b[0;36m0\u001b[0m \u001b[0;32mor\u001b[0m \u001b[0midade\u001b[0m \u001b[0;34m>\u001b[0m \u001b[0;36m150\u001b[0m\u001b[0;34m)\u001b[0m\u001b[0;34m:\u001b[0m\u001b[0;34m\u001b[0m\u001b[0;34m\u001b[0m\u001b[0m\n\u001b[0;32m---> 11\u001b[0;31m     \u001b[0midade\u001b[0m \u001b[0;34m=\u001b[0m \u001b[0mint\u001b[0m\u001b[0;34m(\u001b[0m\u001b[0minput\u001b[0m\u001b[0;34m(\u001b[0m\u001b[0;34m'Digite a sua idade: '\u001b[0m\u001b[0;34m)\u001b[0m\u001b[0;34m)\u001b[0m\u001b[0;34m\u001b[0m\u001b[0;34m\u001b[0m\u001b[0m\n\u001b[0m\u001b[1;32m     12\u001b[0m \u001b[0;34m\u001b[0m\u001b[0m\n\u001b[1;32m     13\u001b[0m \u001b[0;34m\u001b[0m\u001b[0m\n",
      "\u001b[0;32m~/.local/lib/python3.9/site-packages/ipykernel/kernelbase.py\u001b[0m in \u001b[0;36mraw_input\u001b[0;34m(self, prompt)\u001b[0m\n\u001b[1;32m   1004\u001b[0m                 \u001b[0;34m\"raw_input was called, but this frontend does not support input requests.\"\u001b[0m\u001b[0;34m\u001b[0m\u001b[0;34m\u001b[0m\u001b[0m\n\u001b[1;32m   1005\u001b[0m             )\n\u001b[0;32m-> 1006\u001b[0;31m         return self._input_request(\n\u001b[0m\u001b[1;32m   1007\u001b[0m             \u001b[0mstr\u001b[0m\u001b[0;34m(\u001b[0m\u001b[0mprompt\u001b[0m\u001b[0;34m)\u001b[0m\u001b[0;34m,\u001b[0m\u001b[0;34m\u001b[0m\u001b[0;34m\u001b[0m\u001b[0m\n\u001b[1;32m   1008\u001b[0m             \u001b[0mself\u001b[0m\u001b[0;34m.\u001b[0m\u001b[0m_parent_ident\u001b[0m\u001b[0;34m[\u001b[0m\u001b[0;34m\"shell\"\u001b[0m\u001b[0;34m]\u001b[0m\u001b[0;34m,\u001b[0m\u001b[0;34m\u001b[0m\u001b[0;34m\u001b[0m\u001b[0m\n",
      "\u001b[0;32m~/.local/lib/python3.9/site-packages/ipykernel/kernelbase.py\u001b[0m in \u001b[0;36m_input_request\u001b[0;34m(self, prompt, ident, parent, password)\u001b[0m\n\u001b[1;32m   1049\u001b[0m             \u001b[0;32mexcept\u001b[0m \u001b[0mKeyboardInterrupt\u001b[0m\u001b[0;34m:\u001b[0m\u001b[0;34m\u001b[0m\u001b[0;34m\u001b[0m\u001b[0m\n\u001b[1;32m   1050\u001b[0m                 \u001b[0;31m# re-raise KeyboardInterrupt, to truncate traceback\u001b[0m\u001b[0;34m\u001b[0m\u001b[0;34m\u001b[0m\u001b[0;34m\u001b[0m\u001b[0m\n\u001b[0;32m-> 1051\u001b[0;31m                 \u001b[0;32mraise\u001b[0m \u001b[0mKeyboardInterrupt\u001b[0m\u001b[0;34m(\u001b[0m\u001b[0;34m\"Interrupted by user\"\u001b[0m\u001b[0;34m)\u001b[0m \u001b[0;32mfrom\u001b[0m \u001b[0;32mNone\u001b[0m\u001b[0;34m\u001b[0m\u001b[0;34m\u001b[0m\u001b[0m\n\u001b[0m\u001b[1;32m   1052\u001b[0m             \u001b[0;32mexcept\u001b[0m \u001b[0mException\u001b[0m\u001b[0;34m:\u001b[0m\u001b[0;34m\u001b[0m\u001b[0;34m\u001b[0m\u001b[0m\n\u001b[1;32m   1053\u001b[0m                 \u001b[0mself\u001b[0m\u001b[0;34m.\u001b[0m\u001b[0mlog\u001b[0m\u001b[0;34m.\u001b[0m\u001b[0mwarning\u001b[0m\u001b[0;34m(\u001b[0m\u001b[0;34m\"Invalid Message:\"\u001b[0m\u001b[0;34m,\u001b[0m \u001b[0mexc_info\u001b[0m\u001b[0;34m=\u001b[0m\u001b[0;32mTrue\u001b[0m\u001b[0;34m)\u001b[0m\u001b[0;34m\u001b[0m\u001b[0;34m\u001b[0m\u001b[0m\n",
      "\u001b[0;31mKeyboardInterrupt\u001b[0m: Interrupted by user"
     ]
    }
   ],
   "source": [
    "#Faça um programa que peça para o usuário digitar a idade, o salário e o                  \n",
    "# sexo de uma pessoa até que as entradas digitadas sejam válidas.\n",
    "\n",
    "#    Idade: entre 0 e 150;\n",
    "#    Salário: maior que 0;\n",
    "#    Gênero: M, F ou Outro.\n",
    "\n",
    "idade = 151\n",
    "\n",
    "while (idade <0 or idade > 150):\n",
    "    idade = int(input('Digite a sua idade: '))\n",
    "\n",
    "\n",
    "salario = 0\n",
    "while salario == 0:\n",
    "    salario = float(input('Digite o seu salario: '))\n",
    "\n",
    "genero = 'x'\n",
    "while (genero.upper() != 'F' and genero.upper() != 'M' and genero.upper() !='O'):\n",
    "    genero = input('Digite o seu sexo: ')\n"
   ]
  },
  {
   "cell_type": "code",
   "execution_count": 29,
   "id": "36d88c89",
   "metadata": {},
   "outputs": [
    {
     "name": "stdout",
     "output_type": "stream",
     "text": [
      "Digite um numero inteiro maior ou igual a 1: 2\n",
      "3\n"
     ]
    }
   ],
   "source": [
    "#Peça ao usuário para digitar um número n e some todos os números de 1 a n.A\n",
    "\n",
    "num = int(input('Digite um numero inteiro maior ou igual a 1: '))\n",
    "\n",
    "contador = 0\n",
    "anterior = 0\n",
    "proximo = 1\n",
    "\n",
    "while contador < num:\n",
    "    contador += 1\n",
    "    anterior += proximo\n",
    "    proximo += 1\n",
    "\n",
    "print(f'{anterior}')"
   ]
  },
  {
   "cell_type": "code",
   "execution_count": 32,
   "id": "f5116675",
   "metadata": {},
   "outputs": [
    {
     "name": "stdout",
     "output_type": "stream",
     "text": [
      "Digite um numero qualquer ou (0 - Finaliza): 1\n",
      "Digite um numero qualquer ou (0 - Finaliza): 2\n",
      "Digite um numero qualquer ou (0 - Finaliza): 34\n",
      "Digite um numero qualquer ou (0 - Finaliza): 3\n",
      "Digite um numero qualquer ou (0 - Finaliza): 0\n"
     ]
    }
   ],
   "source": [
    "#Faça um script que peça para um usuário digitar um número e que só finaliza quando\n",
    "#o usuário digitar 0.\n",
    "\n",
    "num = int(input('Digite um numero qualquer ou (0 - Finaliza): '))\n",
    "\n",
    "while num > 0:\n",
    "    num = int(input('Digite um numero qualquer ou (0 - Finaliza): '))\n",
    "    "
   ]
  },
  {
   "cell_type": "code",
   "execution_count": 34,
   "id": "c9d23f56",
   "metadata": {},
   "outputs": [
    {
     "name": "stdout",
     "output_type": "stream",
     "text": [
      "Digite um numero inteiro qualquer ou (0 - Finaliza): 42\n",
      "42\n",
      "Digite um numero inteiro qualquer ou (0 - Finaliza): 2\n",
      "2\n",
      "Digite um numero inteiro qualquer ou (0 - Finaliza): 6\n",
      "6\n",
      "Digite um numero inteiro qualquer ou (0 - Finaliza): 0\n",
      "A soma dos numeros digitados: 50\n"
     ]
    }
   ],
   "source": [
    "#Faça um script que peça para um usuário digitar um número e que só finaliza quando\n",
    "#o usuário digitar 0. Ao final imprima a soma de todos os números digitados.\n",
    "\n",
    "#Exemplo\n",
    "#input: 5\n",
    "#input: 1\n",
    "#input: 0\n",
    "#output: 6\n",
    "\n",
    "num = int(input('Digite um numero inteiro qualquer ou (0 - Finaliza): '))\n",
    "soma = 0\n",
    "while num > 0:\n",
    "    print(f'{num}')\n",
    "    soma += num\n",
    "    num = int(input('Digite um numero inteiro qualquer ou (0 - Finaliza): '))\n",
    "    \n",
    "print(f'A soma dos numeros digitados: {soma}')\n",
    "\n",
    "    \n"
   ]
  },
  {
   "cell_type": "code",
   "execution_count": 43,
   "id": "20d58226",
   "metadata": {},
   "outputs": [
    {
     "name": "stdout",
     "output_type": "stream",
     "text": [
      "Digite um numero inteiro qualquer: 81\n",
      "Divisor: 1\n",
      "Divisor: 3\n",
      "Divisor: 9\n",
      "Divisor: 27\n",
      "\n",
      "Total de divisores: 4\n"
     ]
    }
   ],
   "source": [
    "#Faça um programa que recebe um número inteiro do usuário e imprime na tela a quantidade \n",
    "#de divisores desse número e quais são eles.\n",
    "\n",
    "#Exemplo 1\n",
    "#input: 10\n",
    "#output:\n",
    "#Divisor: 1\n",
    "#Divisor: 2\n",
    "#Divisor: 5\n",
    "#Total de divisores: 3\n",
    "\n",
    "#Exemplo 2\n",
    "#input: 15\n",
    "#output:\n",
    "#Divisor: 1\n",
    "#Divisor: 3\n",
    "#Divisor: 5\n",
    "#Total de divisores: 3\n",
    "\n",
    "num = int(input('Digite um numero inteiro qualquer: '))\n",
    "\n",
    "contador = 1\n",
    "soma = 0\n",
    "while contador < num:\n",
    "    \n",
    "    if num % contador == 0:\n",
    "        print(f'Divisor: {contador}')\n",
    "        soma += 1\n",
    "        \n",
    "    contador += 1\n",
    "\n",
    "print(f'\\nTotal de divisores: {soma}')"
   ]
  },
  {
   "cell_type": "code",
   "execution_count": null,
   "id": "7b216974",
   "metadata": {},
   "outputs": [],
   "source": []
  }
 ],
 "metadata": {
  "kernelspec": {
   "display_name": "Python 3 (ipykernel)",
   "language": "python",
   "name": "python3"
  },
  "language_info": {
   "codemirror_mode": {
    "name": "ipython",
    "version": 3
   },
   "file_extension": ".py",
   "mimetype": "text/x-python",
   "name": "python",
   "nbconvert_exporter": "python",
   "pygments_lexer": "ipython3",
   "version": "3.9.2"
  }
 },
 "nbformat": 4,
 "nbformat_minor": 5
}
