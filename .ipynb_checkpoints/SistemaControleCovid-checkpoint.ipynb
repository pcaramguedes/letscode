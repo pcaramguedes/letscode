{
 "cells": [
  {
   "cell_type": "markdown",
   "id": "895f40ee",
   "metadata": {},
   "source": [
    "\n",
    "### Nesta parte do projeto você deverá construir um sistema para realizar o controle da vacinação. Você deverá considerar que existem somente os seguintes tipos de vacina: Pfizer, CoronaVac,Astrazeneca.\n",
    "    \n",
    "O programa deverá exibir um menu inicial com as seguintes opções:\n",
    "\n",
    "**1 . Registrar uma vacinação.**\n",
    "\n",
    "        Nesta opção você deverá perguntar:\n",
    "            O nome da pessoa\n",
    "            Qual a vacina\n",
    "\n",
    "        Você deverá salvar além desses dados, o valor do dia e da hora de vacinação.\n",
    "\n",
    "**2. Adicionar estoque de uma vacina**\n",
    "\n",
    "        Nesta opção você deverá perguntar:\n",
    "            O nome da vacina\n",
    "            A quantidade a ser adicionada\n",
    "\n",
    "**3. Obter número total de vacinados**\n",
    "\n",
    "        Nesta opção você deverá imprimir a quantidade total de vacinados e além disso a quantidade \n",
    "        total de vacinados por cada uma das vacinas.\n",
    "\n",
    "**4. Obter média de vacinação diária**\n",
    "\n",
    "        Nesta opção você deverá imprimir a média diária somando todas as vacinas e além disso a \n",
    "        média diária por cada uma das vacinas.\n",
    "\n",
    "**5. Obter a quantidade atual de doses de um tipo de vacina**\n",
    "\n",
    "        Você deverá imprimir a quantidade restante de doses para cada uma das vacinas.\n",
    "\n",
    "**6. Fechar programa**\n",
    "    \n",
    "**Observações:**\n",
    "\n",
    "    Caso a pessoa digite uma opção inválida, a programa deverá imprimir \"Opção inválida\" \n",
    "    e perguntar novamente uma nova opção.\n",
    "\n",
    "\n"
   ]
  },
  {
   "cell_type": "code",
   "execution_count": 15,
   "id": "66acb25a",
   "metadata": {},
   "outputs": [
    {
     "name": "stdout",
     "output_type": "stream",
     "text": [
      "1. Pfizer  \n",
      "2. CoronoVac \n",
      "3. Astrazeneca \n",
      "4. Sair\n",
      "Qual vacina (4-Sai)?: 1\n",
      "Digite a qtd: 3\n",
      "{'Pfizer': 3, 'CoronaVac': 0, 'Astrazeneca': 0}\n",
      "1. Pfizer  \n",
      "2. CoronoVac \n",
      "3. Astrazeneca \n",
      "4. Sair\n",
      "Qual vacina (4-Sai)?: 1\n",
      "Digite a qtd: 3\n",
      "{'Pfizer': 6, 'CoronaVac': 0, 'Astrazeneca': 0}\n",
      "1. Pfizer  \n",
      "2. CoronoVac \n",
      "3. Astrazeneca \n",
      "4. Sair\n",
      "Qual vacina (4-Sai)?: 1\n",
      "Digite a qtd: 7\n",
      "{'Pfizer': 13, 'CoronaVac': 0, 'Astrazeneca': 0}\n",
      "1. Pfizer  \n",
      "2. CoronoVac \n",
      "3. Astrazeneca \n",
      "4. Sair\n",
      "Qual vacina (4-Sai)?: 4\n"
     ]
    }
   ],
   "source": [
    "vacinas = {}.fromkeys(['Pfizer','CoronaVac','Astrazeneca'],0)\n",
    "\n",
    "while True:\n",
    "    \n",
    "    try:\n",
    "        print(f'1. Pfizer  \\n' \\\n",
    "              f'2. CoronoVac \\n' \\\n",
    "              f'3. Astrazeneca \\n' \\\n",
    "              f'4. Sair')\n",
    "        marca = int(input('Qual vacina (4-Sai)?: '))\n",
    "        \n",
    "        if marca == 4:\n",
    "            break\n",
    "        elif marca <0 or marca >4:\n",
    "            print('Opcao invalida')\n",
    "            continue\n",
    "            \n",
    "        qtd =   int(input('Digite a qtd: '))\n",
    "        \n",
    "      \n",
    "        \n",
    "        \n",
    "    except ValueError:\n",
    "        print('Somente números !!')\n",
    "        \n",
    "    else:\n",
    "        vacinas['Pfizer'] = vacinas.get('Pfizer') + qtd\n",
    "        print(vacinas)\n",
    "            \n",
    "    \n",
    "    "
   ]
  },
  {
   "cell_type": "code",
   "execution_count": 14,
   "id": "d2e65c86",
   "metadata": {},
   "outputs": [
    {
     "name": "stdout",
     "output_type": "stream",
     "text": [
      "{'Pfizer': 7, 'CoronaVac': 0, 'Astrazeneca': 0}\n"
     ]
    }
   ],
   "source": [
    "print(vacinas)"
   ]
  }
 ],
 "metadata": {
  "kernelspec": {
   "display_name": "Python 3 (ipykernel)",
   "language": "python",
   "name": "python3"
  },
  "language_info": {
   "codemirror_mode": {
    "name": "ipython",
    "version": 3
   },
   "file_extension": ".py",
   "mimetype": "text/x-python",
   "name": "python",
   "nbconvert_exporter": "python",
   "pygments_lexer": "ipython3",
   "version": "3.9.2"
  }
 },
 "nbformat": 4,
 "nbformat_minor": 5
}
