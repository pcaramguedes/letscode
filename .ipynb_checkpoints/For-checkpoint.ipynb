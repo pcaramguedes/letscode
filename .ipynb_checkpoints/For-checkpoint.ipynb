{
 "cells": [
  {
   "cell_type": "markdown",
   "metadata": {
    "id": "dpaMpGxxf6RG"
   },
   "source": [
    "# Laços de repetição (for)\n",
    "\n",
    "Já vimos como usar o laço de repetição \"while\" para repetir operações em Python\n",
    "\n",
    "Agora, veremos um outro laço, o **for**\n",
    "\n",
    "Mas, antes de vermos como este laço pode ser utilizado para **repetir operações**, é interessante entender o `for` como sendo, na realidade, um operador utilizado para **percorrer elementos de uma lista** (na verdade, de qualquer objeto **iterável**. Conheceremos outros objetos assim mais pra frente...)\n",
    "\n",
    "A estrutura do for é:\n",
    "\n",
    "```python\n",
    "for item in lista:\n",
    "    operacao_feita_pra_cada_item\n",
    "```"
   ]
  },
  {
   "cell_type": "code",
   "execution_count": 35,
   "metadata": {
    "colab": {
     "base_uri": "https://localhost:8080/"
    },
    "executionInfo": {
     "elapsed": 215,
     "status": "ok",
     "timestamp": 1623972232387,
     "user": {
      "displayName": "Brian Andrade",
      "photoUrl": "https://lh3.googleusercontent.com/a-/AOh14GiNSR7YI9sePN7kuQ-5OtZ2svQze2xDu8pxxO5k=s64",
      "userId": "06923984435008780318"
     },
     "user_tz": 180
    },
    "id": "FLNAyx8Wf6RG",
    "outputId": "c1ea3732-ed05-42a0-a046-bafc03895af7"
   },
   "outputs": [],
   "source": [
    "#alfabeto"
   ]
  },
  {
   "cell_type": "markdown",
   "metadata": {
    "id": "e8sPGZQyf6RH"
   },
   "source": [
    "O código acima é equivalente a:"
   ]
  },
  {
   "cell_type": "code",
   "execution_count": 36,
   "metadata": {
    "colab": {
     "base_uri": "https://localhost:8080/"
    },
    "executionInfo": {
     "elapsed": 235,
     "status": "ok",
     "timestamp": 1623972235584,
     "user": {
      "displayName": "Brian Andrade",
      "photoUrl": "https://lh3.googleusercontent.com/a-/AOh14GiNSR7YI9sePN7kuQ-5OtZ2svQze2xDu8pxxO5k=s64",
      "userId": "06923984435008780318"
     },
     "user_tz": 180
    },
    "id": "DWPxHPSTf6RH",
    "outputId": "c7211d8f-89c0-472a-afaf-44b1977aa27f"
   },
   "outputs": [],
   "source": [
    "#alfabeto manual"
   ]
  },
  {
   "cell_type": "markdown",
   "metadata": {
    "id": "tB0BQnPVf6RH"
   },
   "source": [
    "__Um exemplo de uso...__\n",
    "\n",
    "Separando números positivos e negativos de uma lista de números"
   ]
  },
  {
   "cell_type": "code",
   "execution_count": 37,
   "metadata": {
    "colab": {
     "base_uri": "https://localhost:8080/"
    },
    "executionInfo": {
     "elapsed": 218,
     "status": "ok",
     "timestamp": 1623972306893,
     "user": {
      "displayName": "Brian Andrade",
      "photoUrl": "https://lh3.googleusercontent.com/a-/AOh14GiNSR7YI9sePN7kuQ-5OtZ2svQze2xDu8pxxO5k=s64",
      "userId": "06923984435008780318"
     },
     "user_tz": 180
    },
    "id": "L9NIZ7dOf6RH",
    "outputId": "8e8ca8bc-7b0d-436e-fb75-4c58ab400e7d"
   },
   "outputs": [],
   "source": [
    "lista = [4, 5, 6, 5, -6, 56, 7, -10, 78, 80, 9]\n",
    "\n"
   ]
  },
  {
   "cell_type": "markdown",
   "metadata": {
    "id": "aJynyic9f6RI"
   },
   "source": [
    "O \"for\" percorre todos os elementos de uma lista, a não ser que o \"break\" seja utilizado -- esse comando quebra o for, ou seja, os elementos param de ser percorridos"
   ]
  },
  {
   "cell_type": "code",
   "execution_count": 38,
   "metadata": {
    "colab": {
     "base_uri": "https://localhost:8080/"
    },
    "executionInfo": {
     "elapsed": 227,
     "status": "ok",
     "timestamp": 1623972574876,
     "user": {
      "displayName": "Brian Andrade",
      "photoUrl": "https://lh3.googleusercontent.com/a-/AOh14GiNSR7YI9sePN7kuQ-5OtZ2svQze2xDu8pxxO5k=s64",
      "userId": "06923984435008780318"
     },
     "user_tz": 180
    },
    "id": "rgg55Es3f6RI",
    "outputId": "abcf311d-6e9c-47a0-d213-ff9dfd1fa1ef"
   },
   "outputs": [],
   "source": [
    "#primeiro negativo\n",
    "lista = [4, 5, 6, -5, 56, 7, -10, 78, 80, 9]\n"
   ]
  },
  {
   "cell_type": "markdown",
   "metadata": {
    "id": "DXGewznxf6RI"
   },
   "source": [
    "Podemos fazer operações com os elementos de umas lista e usá-los pra preencher outra lista:"
   ]
  },
  {
   "cell_type": "markdown",
   "metadata": {
    "id": "QL7rCsIPf6RL"
   },
   "source": [
    "É muito comum utilizarmos a função \"range()\" juntamente do for\n",
    "\n",
    "Essa função cria um **intervalo**, que é uma espécie de \"lista virtual\" de **números em sequência**. Sua sintaxe é:\n",
    "\n",
    "- range(primeiro_numero, último_numero - 1, passo)\n",
    "\n",
    "Se for dado apenas um argumento, o padrão é começar por zero, e ir de 1 em 1:\n",
    "\n",
    "- range(10) é equivalente a range(0, 10, 1), cria uma sequência de 0 a 9, de 1 em 1\n",
    "- range(-12, 12, 2): cria uma sequência de -12 a 11, de 2 em 2\n",
    "\n",
    "Ao fazermos list(range()), obtermos uma lista correspondente ao iterável.\n",
    "\n",
    "**OBS: só podemos fazer iteráveis de int!**"
   ]
  },
  {
   "cell_type": "code",
   "execution_count": null,
   "metadata": {},
   "outputs": [],
   "source": []
  },
  {
   "cell_type": "code",
   "execution_count": null,
   "metadata": {},
   "outputs": [],
   "source": []
  },
  {
   "cell_type": "code",
   "execution_count": null,
   "metadata": {},
   "outputs": [],
   "source": []
  },
  {
   "cell_type": "markdown",
   "metadata": {
    "id": "RJ9Kkl_Af6RM"
   },
   "source": [
    "É muito comum usar o for com o range para **percorrer os índices de uma lista**, e assim também **acessar os elementos da lista através do índice**.\n",
    "\n",
    "Isso é feito passando pro range o comprinento da lista como argumento!"
   ]
  },
  {
   "cell_type": "code",
   "execution_count": 39,
   "metadata": {
    "colab": {
     "base_uri": "https://localhost:8080/"
    },
    "executionInfo": {
     "elapsed": 217,
     "status": "ok",
     "timestamp": 1623973134161,
     "user": {
      "displayName": "Brian Andrade",
      "photoUrl": "https://lh3.googleusercontent.com/a-/AOh14GiNSR7YI9sePN7kuQ-5OtZ2svQze2xDu8pxxO5k=s64",
      "userId": "06923984435008780318"
     },
     "user_tz": 180
    },
    "id": "GlHpjvRXf6RO",
    "outputId": "46ce18d8-2b7f-4746-f8c0-6fba4daa3194"
   },
   "outputs": [],
   "source": [
    "#range lista\n",
    "lista = [\"a\", \"b\", \"c\", \"d\", 1, 2, 5, 3]\n"
   ]
  },
  {
   "cell_type": "code",
   "execution_count": 1,
   "metadata": {
    "colab": {
     "base_uri": "https://localhost:8080/"
    },
    "executionInfo": {
     "elapsed": 218,
     "status": "ok",
     "timestamp": 1623972932841,
     "user": {
      "displayName": "Brian Andrade",
      "photoUrl": "https://lh3.googleusercontent.com/a-/AOh14GiNSR7YI9sePN7kuQ-5OtZ2svQze2xDu8pxxO5k=s64",
      "userId": "06923984435008780318"
     },
     "user_tz": 180
    },
    "id": "D-A8oGn0U5PH",
    "outputId": "42e98a62-02a4-441e-c66a-3e8b07aed8b5"
   },
   "outputs": [
    {
     "name": "stdout",
     "output_type": "stream",
     "text": [
      "0 a\n",
      "1 b\n",
      "2 c\n",
      "3 d\n",
      "4 1\n",
      "5 2\n",
      "6 5\n",
      "7 3\n"
     ]
    }
   ],
   "source": [
    "#enumerate\n",
    "lista = [\"a\", \"b\", \"c\", \"d\", 1, 2, 5, 3]\n",
    "\n",
    "for idx, elemento in enumerate(lista):\n",
    "    print(idx, elemento)"
   ]
  },
  {
   "cell_type": "markdown",
   "metadata": {
    "id": "yQrH5eV5f6RP"
   },
   "source": [
    "O range é muito interessante caso **queiramos repetir determinada instrução**\n",
    "\n",
    "Se vc quer repetir N vezes, basta fazer:\n",
    "\n",
    "```python\n",
    "for i in range(N):\n",
    "    operacao_repetida\n",
    "```\n",
    "\n",
    "É neste sentido que o `for` passa a ser explicitamente um laço de repetição!\n",
    "\n",
    "Mas note que este laço se diferencia do while no fato de **não precisar de uma condição explícita**\n",
    "\n",
    "Este laço determina que as operações sejam repetidas **para valores em uma lista** (que no caso é o `range`).\n",
    "\n",
    "Este laço é, portanto, bem mais controlado -- dificilmente ocorrerá loops infinitos!"
   ]
  },
  {
   "cell_type": "code",
   "execution_count": 177,
   "metadata": {
    "colab": {
     "base_uri": "https://localhost:8080/"
    },
    "executionInfo": {
     "elapsed": 243,
     "status": "ok",
     "timestamp": 1623973360405,
     "user": {
      "displayName": "Brian Andrade",
      "photoUrl": "https://lh3.googleusercontent.com/a-/AOh14GiNSR7YI9sePN7kuQ-5OtZ2svQze2xDu8pxxO5k=s64",
      "userId": "06923984435008780318"
     },
     "user_tz": 180
    },
    "id": "gC_iSHuQf6RP",
    "outputId": "95ecaeab-6c79-4063-fd08-ffbbb24ec737"
   },
   "outputs": [
    {
     "name": "stdout",
     "output_type": "stream",
     "text": [
      "Olá, mundo\n",
      "Olá, mundo\n",
      "Olá, mundo\n",
      "Olá, mundo\n",
      "Olá, mundo\n"
     ]
    }
   ],
   "source": [
    "for elemento in range(5):\n",
    "    print(\"Olá, mundo\")"
   ]
  },
  {
   "cell_type": "markdown",
   "metadata": {
    "id": "6wmPvySnf6RQ"
   },
   "source": [
    "Note que o código acima é equivalente a:"
   ]
  },
  {
   "cell_type": "code",
   "execution_count": null,
   "metadata": {
    "id": "vNsgzPxwf6RQ"
   },
   "outputs": [],
   "source": [
    "for i in [0, 1, 2, 3, 4]:\n",
    "    print(\"Olá, mundo\")"
   ]
  },
  {
   "cell_type": "markdown",
   "metadata": {
    "id": "3TwevQ-Mf6RQ"
   },
   "source": [
    "Exemplo de uso com o break"
   ]
  },
  {
   "cell_type": "markdown",
   "metadata": {
    "id": "mT92GzQxf6RR"
   },
   "source": [
    "# Exercício"
   ]
  },
  {
   "cell_type": "markdown",
   "metadata": {},
   "source": [
    "- Faça um programa que receba um texto que pode ser um CEP, CPF ou CNPJ válidos; limpe a informação mantendo apenas os números e devolve qual, dentre esses três tipos, a informação diz respeito, além do próprio número limpo como inteiro."
   ]
  },
  {
   "cell_type": "code",
   "execution_count": 10,
   "metadata": {},
   "outputs": [
    {
     "name": "stdout",
     "output_type": "stream",
     "text": [
      "Digite CEP, CPF, CNPJ: 717.936.746-04\n",
      "71793674604 - CPF\n"
     ]
    }
   ],
   "source": [
    "texto = input('Digite CEP, CPF, CNPJ: ')\n",
    "\n",
    "numeros = \"\"\n",
    "for item in texto:\n",
    "    if item.isnumeric():\n",
    "        numeros += item\n",
    "\n",
    "num_inteiro = int(numeros)\n",
    "\n",
    "if len(numeros) == 8:\n",
    "    print(f'{num_inteiro} - CEP')\n",
    "elif len(numeros) == 11:\n",
    "    print(f'{num_inteiro} - CPF')\n",
    "elif len(numeros) == 14:\n",
    "    print(f'{num_inteiro} - CNPJ')\n",
    "else:\n",
    "    print('\\n Numeros digitados inválidos !!')\n",
    "        \n"
   ]
  },
  {
   "cell_type": "markdown",
   "metadata": {},
   "source": [
    "- Faca um programa que receba um texto longo separe as palavras que contenham apenas texto, apenas número e texto com número. Conte quantos palavras tem em todo o texto passado e quantos caractéres."
   ]
  },
  {
   "cell_type": "code",
   "execution_count": 30,
   "metadata": {},
   "outputs": [
    {
     "name": "stdout",
     "output_type": "stream",
     "text": [
      "Total de palavras: 17\n",
      "Total de caracteres: 143\n"
     ]
    }
   ],
   "source": [
    "texto = '''\n",
    " Estudar lógica não eh facil, principalmente trabalhando \n",
    " Mas algoritmo é excelente como raciocinio lógico.\n",
    " Meu CPF: 71793674604 senha12344\n",
    "'''\n",
    "\n",
    "texto_palavras = []\n",
    "texto_numeros = []\n",
    "texto_alpha = []\n",
    "texto_resto = []\n",
    "texto_lista = texto.split()\n",
    "\n",
    "for item in texto_lista:\n",
    "    \n",
    "    if item.isnumeric():\n",
    "        texto_numeros.append(item)\n",
    "    elif item.isalpha():\n",
    "        texto_palavras.append(item)\n",
    "    elif item.isalnum():\n",
    "        texto_alpha.append(item)\n",
    "    else:\n",
    "        texto_resto.append(item)\n",
    "\n",
    "print(f'Total de palavras: {len(texto_lista) - len(texto_numeros)}')\n",
    "print(f'Total de caracteres: {len(texto)}')\n",
    "\n"
   ]
  },
  {
   "cell_type": "code",
   "execution_count": 31,
   "metadata": {},
   "outputs": [
    {
     "data": {
      "text/plain": [
       "['12345678910', '41', '2', '06172000']"
      ]
     },
     "execution_count": 31,
     "metadata": {},
     "output_type": "execute_result"
    }
   ],
   "source": [
    "apenas_num"
   ]
  },
  {
   "cell_type": "code",
   "execution_count": 32,
   "metadata": {},
   "outputs": [
    {
     "data": {
      "text/plain": [
       "['XPT042', 'inc2021091910', 'n7']"
      ]
     },
     "execution_count": 32,
     "metadata": {},
     "output_type": "execute_result"
    }
   ],
   "source": [
    "texto_num"
   ]
  },
  {
   "cell_type": "code",
   "execution_count": 33,
   "metadata": {},
   "outputs": [
    {
     "data": {
      "text/plain": [
       "['sr.', 'Christopher,', ',', 'tv.', 'tres,']"
      ]
     },
     "execution_count": 33,
     "metadata": {},
     "output_type": "execute_result"
    }
   ],
   "source": [
    "resto"
   ]
  },
  {
   "cell_type": "code",
   "execution_count": 34,
   "metadata": {},
   "outputs": [
    {
     "data": {
      "text/plain": [
       "['A',\n",
       " 'empresa',\n",
       " 'abriu',\n",
       " 'o',\n",
       " 'chamado',\n",
       " 'para',\n",
       " 'o',\n",
       " 'portador',\n",
       " 'do',\n",
       " 'cpf',\n",
       " 'morador',\n",
       " 'da',\n",
       " 'ap',\n",
       " 'bl',\n",
       " 'cep']"
      ]
     },
     "execution_count": 34,
     "metadata": {},
     "output_type": "execute_result"
    }
   ],
   "source": [
    "apenas_texto"
   ]
  },
  {
   "cell_type": "markdown",
   "metadata": {},
   "source": [
    "- Faça um programa que pergunte o seguinte ao paciênte:\n",
    "\n",
    "    a. Sente dor no corpo?\n",
    "    b. Você tem febre?\n",
    "    c. Você tem tosse?\n",
    "    d. Está com congestão nasal?\n",
    "    e. Tem manchas pelo corpo?\n",
    " \n",
    "De acordo com as resposta do paciênte verifique se ele tem dengue, gripe, se não está doente ou se precisa consultar um médico de forma que:\n",
    "    \n",
    "|Resultado|Respostas afirmativas|\n",
    "|:---:|:---:|\n",
    "|Dengue|(a, b, e)|\n",
    "|Gripe|(a, b, c, d) ou (a, b, e)|\n",
    "|Sem Doença|(a) ou (todas negativas)|\n",
    "|Auxílio Médico| Caso inclusivo|\n",
    "\n"
   ]
  },
  {
   "cell_type": "code",
   "execution_count": 35,
   "metadata": {
    "colab": {
     "base_uri": "https://localhost:8080/",
     "height": 527
    },
    "executionInfo": {
     "elapsed": 58453,
     "status": "error",
     "timestamp": 1623959240117,
     "user": {
      "displayName": "Brian Andrade",
      "photoUrl": "https://lh3.googleusercontent.com/a-/AOh14GiNSR7YI9sePN7kuQ-5OtZ2svQze2xDu8pxxO5k=s64",
      "userId": "06923984435008780318"
     },
     "user_tz": 180
    },
    "id": "yLVgSKj0f6RR",
    "outputId": "bd6f4071-b3c2-4b0f-d9fc-12055b3f627f"
   },
   "outputs": [
    {
     "name": "stdout",
     "output_type": "stream",
     "text": [
      "a. Sente dor no corpo: (S/N): s\n",
      "b. Você tem febre? (S/N): s\n",
      "c. Você tem tosse? (S/N): s\n",
      "d. Está com congestão nasal?(S/N): s\n",
      "e. Tem manchas pelo corpo?(S/N): n\n",
      "================================\n",
      "Gripe\n"
     ]
    }
   ],
   "source": [
    "respostas = []\n",
    "\n",
    "corpo = input('a. Sente dor no corpo: (S/N): ')\n",
    "\n",
    "if corpo.upper() == 'S':\n",
    "    respostas.append('a')\n",
    "\n",
    "febre = input('b. Você tem febre? (S/N): ')\n",
    "\n",
    "if febre.upper() == 'S':\n",
    "    respostas.append('b')\n",
    "\n",
    "tosse = input('c. Você tem tosse? (S/N): ')\n",
    "\n",
    "if tosse.upper() == 'S':\n",
    "    respostas.append('c')\n",
    "\n",
    "nasal = input('d. Está com congestão nasal?(S/N): ')\n",
    "\n",
    "if nasal.upper() == 'S':\n",
    "    respostas.append('d')\n",
    "\n",
    "manchas = input('e. Tem manchas pelo corpo?(S/N): ')\n",
    "\n",
    "if manchas.upper() == 'S':\n",
    "    respostas.append('e')\n",
    "\n",
    "letras = \"\"\n",
    "for item in respostas:\n",
    "    letras += item\n",
    "\n",
    "print(\"=\"*32)\n",
    "\n",
    "if letras == 'abc':\n",
    "    print('Dengue')\n",
    "elif letras == 'abcd' or letras == 'abe':\n",
    "    print('Gripe')\n",
    "elif letras == 'a':\n",
    "    print('sem doença')\n",
    "else:\n",
    "    print('Procurar médico, caso inclusivo')\n"
   ]
  },
  {
   "cell_type": "markdown",
   "metadata": {},
   "source": [
    "- Utilizando listas faça um programa que faça 5 perguntas para uma pessoa sobre um crime. \n",
    "\n",
    "As perguntas são:    \n",
    "\"Telefonou para a vítima?\"    \n",
    "\"Esteve no local do crime?\"     \n",
    "\"Mora perto da vítima?\"    \n",
    "\"Devia para a vítima?\"    \n",
    "\"Já trabalhou com a vítima?\"    \n",
    "\n",
    "O programa deve no final emitir uma classificação sobre a participação da pessoa no crime. \n",
    "Se a pessoa responder positivamente a 2 questões ela deve ser classificada como \"Suspeita\", entre 3 e 4 como \"Cúmplice\" e 5 como \"Assassino\". Caso contrário, ele será classificado como \"Inocente\"."
   ]
  },
  {
   "cell_type": "code",
   "execution_count": 30,
   "metadata": {},
   "outputs": [
    {
     "name": "stdin",
     "output_type": "stream",
     "text": [
      "Telefonou para a vítima?\n",
      "Digite s ou n:  g\n",
      "Não entendi!\n",
      "Telefonou para a vítima?\n",
      "Digite s ou n:  s\n",
      "Esteve no local do crime?\n",
      "Digite s ou n:  s\n",
      "Mora perto da vítima?\n",
      "Digite s ou n:  s\n",
      "Devia para a vítima?\n",
      "Digite s ou n:  h\n",
      "Não entendi!\n",
      "Devia para a vítima?\n",
      "Digite s ou n:  n\n",
      "Já trabalhou com a vítima?\n",
      "Digite s ou n:  n\n"
     ]
    },
    {
     "name": "stdout",
     "output_type": "stream",
     "text": [
      "\n",
      "\n",
      "Cúmplice\n"
     ]
    }
   ],
   "source": [
    "\n"
   ]
  },
  {
   "cell_type": "markdown",
   "metadata": {},
   "source": [
    "- Faça um código que peça um CPF como login e valide se está correto. Para saber as regras de validação visite esse [link](https://www.calculadorafacil.com.br/computacao/validar-cpf)"
   ]
  },
  {
   "cell_type": "code",
   "execution_count": 29,
   "metadata": {},
   "outputs": [
    {
     "name": "stdout",
     "output_type": "stream",
     "text": [
      "CPF 01882176146 é válido\n"
     ]
    }
   ],
   "source": [
    "\n"
   ]
  },
  {
   "cell_type": "markdown",
   "metadata": {},
   "source": [
    "# Obrigado pela atenção de todos! 😄\n",
    "# Parabéns pelo empenho\n",
    "## Qualquer duvida não hesitem em me chamar. 👩‍💻\n",
    "### Programação é treino, teste e erro. Então façam as listas."
   ]
  }
 ],
 "metadata": {
  "colab": {
   "name": "Aula 3 - listas e loop for.ipynb",
   "provenance": []
  },
  "kernelspec": {
   "display_name": "Python 3",
   "language": "python",
   "name": "python3"
  },
  "language_info": {
   "codemirror_mode": {
    "name": "ipython",
    "version": 3
   },
   "file_extension": ".py",
   "mimetype": "text/x-python",
   "name": "python",
   "nbconvert_exporter": "python",
   "pygments_lexer": "ipython3",
   "version": "3.6.3"
  }
 },
 "nbformat": 4,
 "nbformat_minor": 4
}
