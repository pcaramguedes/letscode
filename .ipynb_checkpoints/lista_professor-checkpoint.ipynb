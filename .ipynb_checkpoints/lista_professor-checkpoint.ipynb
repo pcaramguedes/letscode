{
 "cells": [
  {
   "cell_type": "markdown",
   "metadata": {
    "id": "D8k-qsCYf6Qv"
   },
   "source": [
    "# Listas\n",
    "\n",
    "Imagine que você quer armazenar várias variáveis relacionadas, como, por exemplo, todas suas notas em provas.\n",
    "\n",
    "Se houver muitas notas, não é muito prático criar uma variável para cada uma. Seria muito mais conveniente armazenar todas as notas em uma **lista**, não é mesmo? \n",
    "\n",
    "Em python, temos uma estrutura de dados que é exatamente isso: uma lista! Listas são indicadas por colchete []\n",
    "\n",
    "Uma lista nada mais é que um **conjunto de objetos**, que podem ser de diversos tipos:"
   ]
  },
  {
   "cell_type": "markdown",
   "metadata": {
    "id": "yfDmlaMSf6Qw"
   },
   "source": [
    "Lista de números (int e float)"
   ]
  },
  {
   "cell_type": "code",
   "execution_count": 1,
   "metadata": {
    "colab": {
     "base_uri": "https://localhost:8080/"
    },
    "executionInfo": {
     "elapsed": 234,
     "status": "ok",
     "timestamp": 1623967631795,
     "user": {
      "displayName": "Brian Andrade",
      "photoUrl": "https://lh3.googleusercontent.com/a-/AOh14GiNSR7YI9sePN7kuQ-5OtZ2svQze2xDu8pxxO5k=s64",
      "userId": "06923984435008780318"
     },
     "user_tz": 180
    },
    "id": "HxBjpAoWf6Qx",
    "outputId": "f3d8c49b-2eda-4d62-beac-fa4a91511456"
   },
   "outputs": [
    {
     "data": {
      "text/plain": [
       "[1, 2, 3, 45.65, 1.71, -10, -19.05]"
      ]
     },
     "execution_count": 1,
     "metadata": {},
     "output_type": "execute_result"
    }
   ],
   "source": [
    "lista = [1, 2, 3, 45.65, 1.71, -10, -19.05]\n",
    "lista"
   ]
  },
  {
   "cell_type": "code",
   "execution_count": 2,
   "metadata": {},
   "outputs": [
    {
     "name": "stdout",
     "output_type": "stream",
     "text": [
      "10\n",
      "80\n"
     ]
    }
   ],
   "source": [
    "nota1, nota2 = 10, 80\n",
    "print(nota1)\n",
    "print(nota2)"
   ]
  },
  {
   "cell_type": "markdown",
   "metadata": {
    "id": "_56JUPVDf6Qy"
   },
   "source": [
    "Lista de strings"
   ]
  },
  {
   "cell_type": "code",
   "execution_count": 3,
   "metadata": {
    "colab": {
     "base_uri": "https://localhost:8080/"
    },
    "executionInfo": {
     "elapsed": 226,
     "status": "ok",
     "timestamp": 1623967727277,
     "user": {
      "displayName": "Brian Andrade",
      "photoUrl": "https://lh3.googleusercontent.com/a-/AOh14GiNSR7YI9sePN7kuQ-5OtZ2svQze2xDu8pxxO5k=s64",
      "userId": "06923984435008780318"
     },
     "user_tz": 180
    },
    "id": "HUNNtSlDf6Qz",
    "outputId": "6519ad37-aac8-4967-fb1e-60abb4db85f6"
   },
   "outputs": [
    {
     "data": {
      "text/plain": [
       "['Christopher', 'Silva', 'SP', '123.456.789-10']"
      ]
     },
     "execution_count": 3,
     "metadata": {},
     "output_type": "execute_result"
    }
   ],
   "source": [
    "lista_de_strings = [\"Christopher\", \"Silva\", \"SP\", \"123.456.789-10\"]\n",
    "lista_de_strings"
   ]
  },
  {
   "cell_type": "markdown",
   "metadata": {
    "id": "ODiqc8NEf6Qz"
   },
   "source": [
    "Lista de números e strings"
   ]
  },
  {
   "cell_type": "code",
   "execution_count": 4,
   "metadata": {
    "colab": {
     "base_uri": "https://localhost:8080/"
    },
    "executionInfo": {
     "elapsed": 230,
     "status": "ok",
     "timestamp": 1623967753454,
     "user": {
      "displayName": "Brian Andrade",
      "photoUrl": "https://lh3.googleusercontent.com/a-/AOh14GiNSR7YI9sePN7kuQ-5OtZ2svQze2xDu8pxxO5k=s64",
      "userId": "06923984435008780318"
     },
     "user_tz": 180
    },
    "id": "g7C6_Or1f6Qz",
    "outputId": "acbbf041-2016-44c8-e5b3-e9a022396608"
   },
   "outputs": [
    {
     "data": {
      "text/plain": [
       "['andre', 21, 1.75]"
      ]
     },
     "execution_count": 4,
     "metadata": {},
     "output_type": "execute_result"
    }
   ],
   "source": [
    "lista_num_string = [\"andre\", 21, 1.75]\n",
    "lista_num_string"
   ]
  },
  {
   "cell_type": "markdown",
   "metadata": {
    "id": "FB2NFycsf6Q1"
   },
   "source": [
    "Tudo junto"
   ]
  },
  {
   "cell_type": "code",
   "execution_count": 5,
   "metadata": {
    "colab": {
     "base_uri": "https://localhost:8080/"
    },
    "executionInfo": {
     "elapsed": 232,
     "status": "ok",
     "timestamp": 1623967819922,
     "user": {
      "displayName": "Brian Andrade",
      "photoUrl": "https://lh3.googleusercontent.com/a-/AOh14GiNSR7YI9sePN7kuQ-5OtZ2svQze2xDu8pxxO5k=s64",
      "userId": "06923984435008780318"
     },
     "user_tz": 180
    },
    "id": "xi9cu3Jsf6Q1",
    "outputId": "18efc1a1-ffa8-45ce-f14b-60cfde5d016e"
   },
   "outputs": [
    {
     "data": {
      "text/plain": [
       "['andre', 21, 1.75, True, 10]"
      ]
     },
     "execution_count": 5,
     "metadata": {},
     "output_type": "execute_result"
    }
   ],
   "source": [
    "nota = 10\n",
    "lista_geral = [\"andre\", 21, 1.75, True, nota]\n",
    "idade = 21\n",
    "lista_geral"
   ]
  },
  {
   "cell_type": "code",
   "execution_count": 6,
   "metadata": {},
   "outputs": [
    {
     "data": {
      "text/plain": [
       "['andre', 21, 1.75, True, 10]"
      ]
     },
     "execution_count": 6,
     "metadata": {},
     "output_type": "execute_result"
    }
   ],
   "source": [
    "lista = lista_geral\n",
    "lista"
   ]
  },
  {
   "cell_type": "code",
   "execution_count": 73,
   "metadata": {},
   "outputs": [
    {
     "data": {
      "text/plain": [
       "['andre', 21, 1.75, True, 10, [1, 2, 3]]"
      ]
     },
     "execution_count": 73,
     "metadata": {},
     "output_type": "execute_result"
    }
   ],
   "source": [
    "lista = [1, 2, 3]\n",
    "lista_de_lista = [\"andre\", 21, 1.75, True, nota, lista]\n",
    "lista_de_lista"
   ]
  },
  {
   "cell_type": "code",
   "execution_count": 78,
   "metadata": {},
   "outputs": [
    {
     "name": "stdout",
     "output_type": "stream",
     "text": [
      "[1, 2, 3]\n",
      "2\n"
     ]
    }
   ],
   "source": [
    "print(lista_de_lista[5])\n",
    "print(lista_de_lista[5][1])\n"
   ]
  },
  {
   "cell_type": "markdown",
   "metadata": {
    "id": "OjfUeo3bf6Q1"
   },
   "source": [
    "Muitas vezes, queremos **acessar elementos individuais** da lista. \n",
    "\n",
    "Para fazer isso, devemos indicar qual é o **índice** respectivo ao elemento, isto é, qual é a **posição** do elemento dentro da lista\n",
    "\n",
    "Para acessar o elemento na **posição i** da lista \"minha_lista\", fazemos:\n",
    "\n",
    "```python\n",
    "minha_lista[i]\n",
    "```\n",
    "\n",
    "__MUITO IMPORTANTE: a numeração de índice começa em zero!__\n",
    "\n",
    "Ou seja:\n",
    "\n",
    "- O primeiro elemento tem índice 0: ```minha_lista[0]``` ,\n",
    "- O segundo tem índice 1: ```minha_lista[1]```,\n",
    "\n",
    "E assim por diante!\n",
    "\n",
    "Também podemos acessar os últimos elementos, usando índices negativos:\n",
    "\n",
    "- O último elemento tem índice -1: ```minha_lista[-1]```,\n",
    "- O penúltimo tem índice -2: ```minha_lista[-2]```,\n",
    "\n",
    "E assim por diante!"
   ]
  },
  {
   "cell_type": "code",
   "execution_count": 7,
   "metadata": {
    "colab": {
     "base_uri": "https://localhost:8080/"
    },
    "executionInfo": {
     "elapsed": 228,
     "status": "ok",
     "timestamp": 1623968072986,
     "user": {
      "displayName": "Brian Andrade",
      "photoUrl": "https://lh3.googleusercontent.com/a-/AOh14GiNSR7YI9sePN7kuQ-5OtZ2svQze2xDu8pxxO5k=s64",
      "userId": "06923984435008780318"
     },
     "user_tz": 180
    },
    "id": "o2l-1b4Zf6Q3",
    "outputId": "b8cf54dc-12d6-41a4-fb7e-e8cf3289c130"
   },
   "outputs": [],
   "source": [
    "lista_geral = [\"andre\", 21, 1.75, True, nota]"
   ]
  },
  {
   "cell_type": "code",
   "execution_count": 9,
   "metadata": {},
   "outputs": [
    {
     "name": "stdout",
     "output_type": "stream",
     "text": [
      "andre 21 1.75\n"
     ]
    }
   ],
   "source": [
    "nome = lista_geral[0]\n",
    "idade = float(lista_geral[1])\n",
    "altura = lista_geral[2]\n",
    "\n",
    "print(nome, idade, altura)"
   ]
  },
  {
   "cell_type": "code",
   "execution_count": 15,
   "metadata": {},
   "outputs": [
    {
     "name": "stdout",
     "output_type": "stream",
     "text": [
      "A posicao é: 1 com o valor igual a: 21\n"
     ]
    }
   ],
   "source": [
    "count = 0\n",
    "while count < 5:\n",
    "    if lista_geral[count] == 21:\n",
    "        \n",
    "        print(f\"A posicao é: {count} com o valor igual a: {lista_geral[count]}\")\n",
    "    count += 1\n",
    "    \n"
   ]
  },
  {
   "cell_type": "markdown",
   "metadata": {
    "id": "6qWX_bogf6Q3"
   },
   "source": [
    "Também podemos **acessar pedaços da lista**, indicando o intervalo de índices que queremos, separados por \":\",  **com intervalo superior aberto**:\n",
    "\n",
    "- ```minha_lista[1:3]```: seleciona os elementos de indice 1 até indice 2\n",
    "- ```minha_lista[:4]```: seleciona do primeiro elemento até o de índice 3\n",
    "- ```minha_lista[3:]```: seleciona do elemento de índice 3 até o final\n",
    "- ```minha_lista[:]```: seleciona a lista inteira\n",
    "- ```minha_lista[1:5:2]```: seleciona do indice 1 ao 4 pulando a cada 2 elementos\n",
    "\n",
    "Este conceito é chamado de \"slicing\" em Python, pois você está pegando \"fatias\" da lista!"
   ]
  },
  {
   "cell_type": "markdown",
   "metadata": {},
   "source": [
    "lista[inicio : final : tamanho]"
   ]
  },
  {
   "cell_type": "code",
   "execution_count": 79,
   "metadata": {},
   "outputs": [],
   "source": [
    "lista_geral = [\"andre\", 21, 1.75, True, 10, 31, False, 0.2, -90, \"texto, com, virgula\"]"
   ]
  },
  {
   "cell_type": "code",
   "execution_count": 40,
   "metadata": {},
   "outputs": [
    {
     "data": {
      "text/plain": [
       "['andre', 21, 1.75, True, 10, 31, False, 0.2, -90, 'texto, com, virgula']"
      ]
     },
     "execution_count": 40,
     "metadata": {},
     "output_type": "execute_result"
    }
   ],
   "source": [
    "lista_geral"
   ]
  },
  {
   "cell_type": "code",
   "execution_count": 41,
   "metadata": {},
   "outputs": [
    {
     "data": {
      "text/plain": [
       "['andre', 21]"
      ]
     },
     "execution_count": 41,
     "metadata": {},
     "output_type": "execute_result"
    }
   ],
   "source": [
    "lista_geral[0:2]"
   ]
  },
  {
   "cell_type": "code",
   "execution_count": 30,
   "metadata": {},
   "outputs": [
    {
     "data": {
      "text/plain": [
       "[21, 1.75, True]"
      ]
     },
     "execution_count": 30,
     "metadata": {},
     "output_type": "execute_result"
    }
   ],
   "source": [
    "lista_geral[1:4]"
   ]
  },
  {
   "cell_type": "code",
   "execution_count": 52,
   "metadata": {},
   "outputs": [
    {
     "ename": "IndexError",
     "evalue": "list index out of range",
     "output_type": "error",
     "traceback": [
      "\u001b[0;31m---------------------------------------------------------------------------\u001b[0m",
      "\u001b[0;31mIndexError\u001b[0m                                Traceback (most recent call last)",
      "\u001b[0;32m<ipython-input-52-7734e7443810>\u001b[0m in \u001b[0;36m<module>\u001b[0;34m\u001b[0m\n\u001b[0;32m----> 1\u001b[0;31m \u001b[0mlista_geral\u001b[0m\u001b[0;34m[\u001b[0m\u001b[0;36m11\u001b[0m\u001b[0;34m]\u001b[0m\u001b[0;34m\u001b[0m\u001b[0;34m\u001b[0m\u001b[0m\n\u001b[0m",
      "\u001b[0;31mIndexError\u001b[0m: list index out of range"
     ]
    }
   ],
   "source": [
    "lista_geral[11]"
   ]
  },
  {
   "cell_type": "code",
   "execution_count": 53,
   "metadata": {},
   "outputs": [
    {
     "data": {
      "text/plain": [
       "['andre', 21, 1.75, True, 10, 31, False, 0.2, -90, 'texto, com, virgula']"
      ]
     },
     "execution_count": 53,
     "metadata": {},
     "output_type": "execute_result"
    }
   ],
   "source": [
    "lista_geral[0:10]"
   ]
  },
  {
   "cell_type": "code",
   "execution_count": 56,
   "metadata": {},
   "outputs": [
    {
     "data": {
      "text/plain": [
       "['andre', 1.75, 10, False, -90]"
      ]
     },
     "execution_count": 56,
     "metadata": {},
     "output_type": "execute_result"
    }
   ],
   "source": [
    "lista_geral[0:9:2]"
   ]
  },
  {
   "cell_type": "code",
   "execution_count": 57,
   "metadata": {},
   "outputs": [
    {
     "data": {
      "text/plain": [
       "['andre', 10, -90]"
      ]
     },
     "execution_count": 57,
     "metadata": {},
     "output_type": "execute_result"
    }
   ],
   "source": [
    "lista_geral[0:9:4]"
   ]
  },
  {
   "cell_type": "code",
   "execution_count": 55,
   "metadata": {},
   "outputs": [
    {
     "data": {
      "text/plain": [
       "['andre', 21, 1.75, True, 10, 31, False, 0.2, -90]"
      ]
     },
     "execution_count": 55,
     "metadata": {},
     "output_type": "execute_result"
    }
   ],
   "source": [
    "lista_geral[0:9]"
   ]
  },
  {
   "cell_type": "code",
   "execution_count": 80,
   "metadata": {},
   "outputs": [
    {
     "data": {
      "text/plain": [
       "['andre', 21, 1.75, True, 10, 31, False, 0.2, -90, 'texto, com, virgula']"
      ]
     },
     "execution_count": 80,
     "metadata": {},
     "output_type": "execute_result"
    }
   ],
   "source": [
    "lista_geral"
   ]
  },
  {
   "cell_type": "code",
   "execution_count": 84,
   "metadata": {},
   "outputs": [
    {
     "data": {
      "text/plain": [
       "-90"
      ]
     },
     "execution_count": 84,
     "metadata": {},
     "output_type": "execute_result"
    }
   ],
   "source": [
    "lista_geral[-2]"
   ]
  },
  {
   "cell_type": "code",
   "execution_count": 85,
   "metadata": {},
   "outputs": [
    {
     "data": {
      "text/plain": [
       "['andre', 21, 1.75, True, 10]"
      ]
     },
     "execution_count": 85,
     "metadata": {},
     "output_type": "execute_result"
    }
   ],
   "source": [
    "lista_geral[:5]"
   ]
  },
  {
   "cell_type": "code",
   "execution_count": 89,
   "metadata": {},
   "outputs": [
    {
     "data": {
      "text/plain": [
       "[31, False, 0.2, -90]"
      ]
     },
     "execution_count": 89,
     "metadata": {},
     "output_type": "execute_result"
    }
   ],
   "source": [
    "lista_geral[-5:-1]"
   ]
  },
  {
   "cell_type": "code",
   "execution_count": 90,
   "metadata": {},
   "outputs": [
    {
     "data": {
      "text/plain": [
       "['andre', 21, 1.75, True, 10, 31, False, 0.2, -90]"
      ]
     },
     "execution_count": 90,
     "metadata": {},
     "output_type": "execute_result"
    }
   ],
   "source": [
    "lista_geral[0:-1]"
   ]
  },
  {
   "cell_type": "code",
   "execution_count": null,
   "metadata": {},
   "outputs": [],
   "source": []
  },
  {
   "cell_type": "markdown",
   "metadata": {
    "id": "NmAM3lC5f6Q5"
   },
   "source": [
    "Podemos também fazer algumas **operações com listas**"
   ]
  },
  {
   "cell_type": "markdown",
   "metadata": {
    "id": "gwkUXoJbf6Q5"
   },
   "source": [
    "Soma de listas: ao **somar listas**, os elementos são **concatenados**, na ordem dada, para formar uma lista maior:"
   ]
  },
  {
   "cell_type": "code",
   "execution_count": 60,
   "metadata": {
    "colab": {
     "base_uri": "https://localhost:8080/"
    },
    "executionInfo": {
     "elapsed": 225,
     "status": "ok",
     "timestamp": 1623968786312,
     "user": {
      "displayName": "Brian Andrade",
      "photoUrl": "https://lh3.googleusercontent.com/a-/AOh14GiNSR7YI9sePN7kuQ-5OtZ2svQze2xDu8pxxO5k=s64",
      "userId": "06923984435008780318"
     },
     "user_tz": 180
    },
    "id": "IJqOp08Kf6Q6",
    "outputId": "ccfe9edb-5c0e-45da-9199-431ea8610385"
   },
   "outputs": [
    {
     "name": "stdout",
     "output_type": "stream",
     "text": [
      "4\n",
      "ab\n",
      "False\n"
     ]
    }
   ],
   "source": [
    "print(2+2)\n",
    "print(\"a\" + \"b\")\n",
    "print(True and False)"
   ]
  },
  {
   "cell_type": "code",
   "execution_count": 91,
   "metadata": {},
   "outputs": [
    {
     "name": "stdout",
     "output_type": "stream",
     "text": [
      "[1, 2, 3, 4, 5, 6]\n",
      "[4, 5, 6, 1, 2, 3]\n"
     ]
    }
   ],
   "source": [
    "lista = [1, 2, 3]\n",
    "lista2 = [4, 5, 6]\n",
    "\n",
    "print(lista + lista2)\n",
    "print(lista2 + lista)"
   ]
  },
  {
   "cell_type": "code",
   "execution_count": 65,
   "metadata": {},
   "outputs": [
    {
     "data": {
      "text/plain": [
       "8"
      ]
     },
     "execution_count": 65,
     "metadata": {},
     "output_type": "execute_result"
    }
   ],
   "source": [
    "lista[1] + lista2[2]"
   ]
  },
  {
   "cell_type": "code",
   "execution_count": 67,
   "metadata": {},
   "outputs": [
    {
     "ename": "IndexError",
     "evalue": "list index out of range",
     "output_type": "error",
     "traceback": [
      "\u001b[0;31m---------------------------------------------------------------------------\u001b[0m",
      "\u001b[0;31mIndexError\u001b[0m                                Traceback (most recent call last)",
      "\u001b[0;32m<ipython-input-67-6a428f6ba7cb>\u001b[0m in \u001b[0;36m<module>\u001b[0;34m\u001b[0m\n\u001b[0;32m----> 1\u001b[0;31m \u001b[0mlista2\u001b[0m\u001b[0;34m[\u001b[0m\u001b[0;36m3\u001b[0m\u001b[0;34m]\u001b[0m\u001b[0;34m\u001b[0m\u001b[0;34m\u001b[0m\u001b[0m\n\u001b[0m",
      "\u001b[0;31mIndexError\u001b[0m: list index out of range"
     ]
    }
   ],
   "source": [
    "lista2[3]"
   ]
  },
  {
   "cell_type": "code",
   "execution_count": 64,
   "metadata": {},
   "outputs": [
    {
     "name": "stdout",
     "output_type": "stream",
     "text": [
      "5\n",
      "7\n",
      "9\n"
     ]
    }
   ],
   "source": [
    "idx = 0\n",
    "while idx < 3:\n",
    "    print(lista[idx] + lista2[idx])\n",
    "    idx += 1"
   ]
  },
  {
   "cell_type": "markdown",
   "metadata": {
    "id": "rtIVx8fMf6Q6"
   },
   "source": [
    "Ao **multiplicar listas por um inteiro**, os elementos são repetidos, na ordem que aparecem:"
   ]
  },
  {
   "cell_type": "code",
   "execution_count": 93,
   "metadata": {
    "colab": {
     "base_uri": "https://localhost:8080/"
    },
    "executionInfo": {
     "elapsed": 225,
     "status": "ok",
     "timestamp": 1623969055153,
     "user": {
      "displayName": "Brian Andrade",
      "photoUrl": "https://lh3.googleusercontent.com/a-/AOh14GiNSR7YI9sePN7kuQ-5OtZ2svQze2xDu8pxxO5k=s64",
      "userId": "06923984435008780318"
     },
     "user_tz": 180
    },
    "id": "ES8dddM9f6Q6",
    "outputId": "8d151d3a-8016-4243-b9cd-9803782d5802"
   },
   "outputs": [
    {
     "name": "stdout",
     "output_type": "stream",
     "text": [
      "[1, 2, 3]\n"
     ]
    },
    {
     "data": {
      "text/plain": [
       "[1, 2, 3, 1, 2, 3, 1, 2, 3]"
      ]
     },
     "execution_count": 93,
     "metadata": {},
     "output_type": "execute_result"
    }
   ],
   "source": [
    "print(lista)\n",
    "lista*3"
   ]
  },
  {
   "cell_type": "code",
   "execution_count": 94,
   "metadata": {},
   "outputs": [
    {
     "data": {
      "text/plain": [
       "['andre', 21, 1.75, True, 10, 31, False, 0.2, -90, 'texto, com, virgula']"
      ]
     },
     "execution_count": 94,
     "metadata": {},
     "output_type": "execute_result"
    }
   ],
   "source": [
    "lista_geral"
   ]
  },
  {
   "cell_type": "markdown",
   "metadata": {
    "id": "dddisK2Yf6Q7"
   },
   "source": [
    "É possível transformar strings em uma **lista de caracteres**:"
   ]
  },
  {
   "cell_type": "code",
   "execution_count": 95,
   "metadata": {},
   "outputs": [
    {
     "name": "stdout",
     "output_type": "stream",
     "text": [
      "C\n",
      "risto\n"
     ]
    }
   ],
   "source": [
    "#index\n",
    "nome = \"Christopher\"\n",
    "print(nome[0])\n",
    "print(nome[2:7])\n"
   ]
  },
  {
   "cell_type": "code",
   "execution_count": 100,
   "metadata": {},
   "outputs": [
    {
     "name": "stdout",
     "output_type": "stream",
     "text": [
      "<class 'float'>\n"
     ]
    }
   ],
   "source": [
    "idade = 21\n",
    "float_idade = float(idade)\n",
    "print(type(float_idade))"
   ]
  },
  {
   "cell_type": "code",
   "execution_count": 103,
   "metadata": {
    "colab": {
     "base_uri": "https://localhost:8080/"
    },
    "executionInfo": {
     "elapsed": 221,
     "status": "ok",
     "timestamp": 1623969323144,
     "user": {
      "displayName": "Brian Andrade",
      "photoUrl": "https://lh3.googleusercontent.com/a-/AOh14GiNSR7YI9sePN7kuQ-5OtZ2svQze2xDu8pxxO5k=s64",
      "userId": "06923984435008780318"
     },
     "user_tz": 180
    },
    "id": "61bgxF0qf6Q7",
    "outputId": "acd37211-ef4a-427a-c0c7-268f486de001"
   },
   "outputs": [
    {
     "name": "stdout",
     "output_type": "stream",
     "text": [
      "['C', 'h', 'r', 'i', 's', 't', 'o', 'p', 'h', 'e', 'r']\n"
     ]
    }
   ],
   "source": [
    "#lista\n",
    "lista_nome = list(nome)\n",
    "print(lista_nome)"
   ]
  },
  {
   "cell_type": "code",
   "execution_count": 106,
   "metadata": {},
   "outputs": [
    {
     "name": "stdout",
     "output_type": "stream",
     "text": [
      "['Christopher']\n"
     ]
    }
   ],
   "source": [
    "lista_sem_quebra = [nome]\n",
    "print(lista_sem_quebra)\n"
   ]
  },
  {
   "cell_type": "code",
   "execution_count": 107,
   "metadata": {},
   "outputs": [
    {
     "data": {
      "text/plain": [
       "['1', '2', '3', '4', '5', '6', '7', '8', '9']"
      ]
     },
     "execution_count": 107,
     "metadata": {},
     "output_type": "execute_result"
    }
   ],
   "source": [
    "big_int = 123456789\n",
    "list(str(big_int))"
   ]
  },
  {
   "cell_type": "code",
   "execution_count": 109,
   "metadata": {},
   "outputs": [
    {
     "name": "stdout",
     "output_type": "stream",
     "text": [
      "['A', 'l', 'e', 'x', 'a', 'n', 'd', 'r', 'e', ' ', 'A', 'k', 'i', 'r', 'a', ' ', '7']\n"
     ]
    }
   ],
   "source": [
    "nome_composto = \"Alexandre Akira 7\"\n",
    "print(list(nome_composto))a"
   ]
  },
  {
   "cell_type": "code",
   "execution_count": 125,
   "metadata": {},
   "outputs": [
    {
     "data": {
      "text/plain": [
       "['Christopher', 21, 1.75, True, 10, 31, False, 0.2, -90, 'texto, com, virgula']"
      ]
     },
     "execution_count": 125,
     "metadata": {},
     "output_type": "execute_result"
    }
   ],
   "source": [
    "lista_geral[0] = \"Christopher\"\n",
    "lista_geral"
   ]
  },
  {
   "cell_type": "code",
   "execution_count": 126,
   "metadata": {},
   "outputs": [
    {
     "ename": "TypeError",
     "evalue": "'str' object does not support item assignment",
     "output_type": "error",
     "traceback": [
      "\u001b[0;31m---------------------------------------------------------------------------\u001b[0m",
      "\u001b[0;31mTypeError\u001b[0m                                 Traceback (most recent call last)",
      "\u001b[0;32m<ipython-input-126-7422c7803ba8>\u001b[0m in \u001b[0;36m<module>\u001b[0;34m\u001b[0m\n\u001b[1;32m      1\u001b[0m \u001b[0mnome\u001b[0m \u001b[0;34m=\u001b[0m \u001b[0;34m\"Christopher\"\u001b[0m\u001b[0;34m\u001b[0m\u001b[0;34m\u001b[0m\u001b[0m\n\u001b[0;32m----> 2\u001b[0;31m \u001b[0mnome\u001b[0m\u001b[0;34m[\u001b[0m\u001b[0;36m0\u001b[0m\u001b[0;34m]\u001b[0m \u001b[0;34m=\u001b[0m \u001b[0;34m\"A\"\u001b[0m\u001b[0;34m\u001b[0m\u001b[0;34m\u001b[0m\u001b[0m\n\u001b[0m",
      "\u001b[0;31mTypeError\u001b[0m: 'str' object does not support item assignment"
     ]
    }
   ],
   "source": [
    "nome = \"Christopher\"\n",
    "nome[0] = \"A\"\n"
   ]
  },
  {
   "cell_type": "markdown",
   "metadata": {
    "id": "HB1ogPXYf6Q7"
   },
   "source": [
    "__________\n",
    "__________\n",
    "__________"
   ]
  },
  {
   "cell_type": "code",
   "execution_count": 110,
   "metadata": {},
   "outputs": [
    {
     "data": {
      "text/plain": [
       "'Alexandre Akira 7'"
      ]
     },
     "execution_count": 110,
     "metadata": {},
     "output_type": "execute_result"
    }
   ],
   "source": [
    "nome_composto"
   ]
  },
  {
   "cell_type": "markdown",
   "metadata": {
    "id": "S2t7Bc79f6Q7"
   },
   "source": [
    "## 2) Funções de listas"
   ]
  },
  {
   "cell_type": "markdown",
   "metadata": {
    "id": "8Er6ECWJf6Q8"
   },
   "source": [
    "Podemos começar com uma lista vazia, e preenchê-la aos poucos.\n",
    "\n",
    "Para **criar uma lista vazia**, fazemos:"
   ]
  },
  {
   "cell_type": "code",
   "execution_count": 113,
   "metadata": {},
   "outputs": [
    {
     "data": {
      "text/plain": [
       "[]"
      ]
     },
     "execution_count": 113,
     "metadata": {},
     "output_type": "execute_result"
    }
   ],
   "source": [
    "lista_vazia = []\n",
    "lista_vazia"
   ]
  },
  {
   "cell_type": "markdown",
   "metadata": {
    "id": "Y7AWOdVsf6Q8"
   },
   "source": [
    "Para adicionar um elemento **ao fim da lista**, usamos a função \"append()\".\n",
    "\n",
    "**OBS.: só podemos apendar um único elemento por vez!**"
   ]
  },
  {
   "cell_type": "code",
   "execution_count": 114,
   "metadata": {
    "colab": {
     "base_uri": "https://localhost:8080/"
    },
    "executionInfo": {
     "elapsed": 224,
     "status": "ok",
     "timestamp": 1623969376024,
     "user": {
      "displayName": "Brian Andrade",
      "photoUrl": "https://lh3.googleusercontent.com/a-/AOh14GiNSR7YI9sePN7kuQ-5OtZ2svQze2xDu8pxxO5k=s64",
      "userId": "06923984435008780318"
     },
     "user_tz": 180
    },
    "id": "mdQqOC2af6Q8",
    "outputId": "838ee667-41c3-4df6-f74b-621a6a96b5e8"
   },
   "outputs": [
    {
     "data": {
      "text/plain": [
       "[4, 'Chris', True]"
      ]
     },
     "execution_count": 114,
     "metadata": {},
     "output_type": "execute_result"
    }
   ],
   "source": [
    "lista_vazia.append(4)\n",
    "lista_vazia.append(\"Chris\")\n",
    "lista_vazia.append(True)\n",
    "lista_vazia"
   ]
  },
  {
   "cell_type": "code",
   "execution_count": 115,
   "metadata": {},
   "outputs": [
    {
     "data": {
      "text/plain": [
       "[4, 'Chris', True, -1023]"
      ]
     },
     "execution_count": 115,
     "metadata": {},
     "output_type": "execute_result"
    }
   ],
   "source": [
    "lista_vazia.append(-1023)\n",
    "lista_vazia"
   ]
  },
  {
   "cell_type": "code",
   "execution_count": 117,
   "metadata": {},
   "outputs": [
    {
     "data": {
      "text/plain": [
       "[1, 23, 4, 667, 'Chris']"
      ]
     },
     "execution_count": 117,
     "metadata": {},
     "output_type": "execute_result"
    }
   ],
   "source": [
    "lista = [1,23,4,667]\n",
    "lista.append(\"Chris\")\n",
    "lista"
   ]
  },
  {
   "cell_type": "code",
   "execution_count": 118,
   "metadata": {},
   "outputs": [
    {
     "data": {
      "text/plain": [
       "[0, 1, 2, 3, 4, 5, 6, 7, 8, 9, 10, 11, 12, 13]"
      ]
     },
     "execution_count": 118,
     "metadata": {},
     "output_type": "execute_result"
    }
   ],
   "source": [
    "n = 13\n",
    "lista_vazia = []\n",
    "count = 0\n",
    "\n",
    "while count <= n:\n",
    "    lista_vazia.append(count) #lista_vazia + count\n",
    "    count += 1\n",
    "\n",
    "lista_vazia"
   ]
  },
  {
   "cell_type": "code",
   "execution_count": 120,
   "metadata": {},
   "outputs": [
    {
     "name": "stdout",
     "output_type": "stream",
     "text": [
      "[1, 2, 3, 4, 5, 6]\n",
      "[1, 2, 3, [4, 5, 6]]\n"
     ]
    }
   ],
   "source": [
    "lista = [1,2,3]\n",
    "lista2 = [4,5,6]\n",
    "print(lista + lista2)\n",
    "lista.append(lista2)\n",
    "print(lista)"
   ]
  },
  {
   "cell_type": "code",
   "execution_count": 123,
   "metadata": {},
   "outputs": [
    {
     "name": "stdout",
     "output_type": "stream",
     "text": [
      "[]\n",
      "[2]\n",
      "[2, [True, -23]]\n"
     ]
    }
   ],
   "source": [
    "lista = []\n",
    "print(lista)\n",
    "lista.append(2)\n",
    "print(lista)\n",
    "lista.append([True, -23])\n",
    "print(lista)\n"
   ]
  },
  {
   "cell_type": "code",
   "execution_count": null,
   "metadata": {},
   "outputs": [],
   "source": []
  },
  {
   "cell_type": "code",
   "execution_count": null,
   "metadata": {},
   "outputs": [],
   "source": []
  },
  {
   "cell_type": "markdown",
   "metadata": {
    "id": "PDsHL8Ocf6Q9"
   },
   "source": [
    "Se você quiser adicionar um elemento numa **posição específica**, use a função \"insert()\", onde o primeiro argumento é a posição, e o segundo é o elemento:\n",
    "\n",
    "**OBS.: só podemos inserir um único elemento por vez!**"
   ]
  },
  {
   "cell_type": "code",
   "execution_count": 128,
   "metadata": {
    "colab": {
     "base_uri": "https://localhost:8080/"
    },
    "executionInfo": {
     "elapsed": 230,
     "status": "ok",
     "timestamp": 1623969702123,
     "user": {
      "displayName": "Brian Andrade",
      "photoUrl": "https://lh3.googleusercontent.com/a-/AOh14GiNSR7YI9sePN7kuQ-5OtZ2svQze2xDu8pxxO5k=s64",
      "userId": "06923984435008780318"
     },
     "user_tz": 180
    },
    "id": "AJtrXOwLf6Q9",
    "outputId": "3168ef21-061e-43bb-89e2-2238aee7078b"
   },
   "outputs": [],
   "source": [
    "lista = [1, 2, 3, 4, 5]"
   ]
  },
  {
   "cell_type": "code",
   "execution_count": 129,
   "metadata": {},
   "outputs": [
    {
     "data": {
      "text/plain": [
       "[1, 'a', 2, 3, 4, 5]"
      ]
     },
     "execution_count": 129,
     "metadata": {},
     "output_type": "execute_result"
    }
   ],
   "source": [
    "lista.insert(1,\"a\") #isso aqui insere\n",
    "lista \n",
    "#lista[1] = \"a\" isso aqui sobrescreve"
   ]
  },
  {
   "cell_type": "code",
   "execution_count": 130,
   "metadata": {},
   "outputs": [
    {
     "data": {
      "text/plain": [
       "[1, 'b', 'a', 2, 3, 4, 5]"
      ]
     },
     "execution_count": 130,
     "metadata": {},
     "output_type": "execute_result"
    }
   ],
   "source": [
    "lista.insert(1,\"b\")\n",
    "lista"
   ]
  },
  {
   "cell_type": "code",
   "execution_count": null,
   "metadata": {},
   "outputs": [],
   "source": []
  },
  {
   "cell_type": "markdown",
   "metadata": {
    "id": "k6W_cDdUf6Q9"
   },
   "source": [
    "Podemos, também, **redefinir um elemento da lista individualmente**. Para isso, basta selecionarmos este elemento, e redefiní-lo:"
   ]
  },
  {
   "cell_type": "code",
   "execution_count": 16,
   "metadata": {
    "executionInfo": {
     "elapsed": 240,
     "status": "ok",
     "timestamp": 1623969514390,
     "user": {
      "displayName": "Brian Andrade",
      "photoUrl": "https://lh3.googleusercontent.com/a-/AOh14GiNSR7YI9sePN7kuQ-5OtZ2svQze2xDu8pxxO5k=s64",
      "userId": "06923984435008780318"
     },
     "user_tz": 180
    },
    "id": "EHch7QQYf6Q9"
   },
   "outputs": [],
   "source": [
    "# redefinindo um elemento pela posicao"
   ]
  },
  {
   "cell_type": "code",
   "execution_count": 131,
   "metadata": {},
   "outputs": [
    {
     "data": {
      "text/plain": [
       "[1, 'banana', 'a', 2, 3, 4, 5]"
      ]
     },
     "execution_count": 131,
     "metadata": {},
     "output_type": "execute_result"
    }
   ],
   "source": [
    "lista[1] = \"banana\"\n",
    "lista"
   ]
  },
  {
   "cell_type": "markdown",
   "metadata": {
    "id": "UocOxMYJf6Q-"
   },
   "source": [
    "Para **remover um elemento da lista**, use a função \"remove()\". \n",
    "\n",
    "**OBS.: Essa função remove apenas a primeira aparição do elemento**"
   ]
  },
  {
   "cell_type": "code",
   "execution_count": 132,
   "metadata": {
    "executionInfo": {
     "elapsed": 221,
     "status": "ok",
     "timestamp": 1623970346832,
     "user": {
      "displayName": "Brian Andrade",
      "photoUrl": "https://lh3.googleusercontent.com/a-/AOh14GiNSR7YI9sePN7kuQ-5OtZ2svQze2xDu8pxxO5k=s64",
      "userId": "06923984435008780318"
     },
     "user_tz": 180
    },
    "id": "FrKOOboOf6Q-"
   },
   "outputs": [
    {
     "data": {
      "text/plain": [
       "[1, 'banana', 2, 3, 4, 5]"
      ]
     },
     "execution_count": 132,
     "metadata": {},
     "output_type": "execute_result"
    }
   ],
   "source": [
    "# removendo um elemento pelo valor\n",
    "lista.remove(\"a\")\n",
    "lista"
   ]
  },
  {
   "cell_type": "code",
   "execution_count": 136,
   "metadata": {},
   "outputs": [
    {
     "name": "stdout",
     "output_type": "stream",
     "text": [
      "[1, 2, 3, 3, 3, 4, 4, 4, 4]\n",
      "[1, 3, 3, 3, 4, 4, 4, 4]\n"
     ]
    }
   ],
   "source": [
    "lista2 = [1,2,2,3,3,3,4,4,4,4]\n",
    "lista2.remove(2)\n",
    "print(lista2)\n",
    "lista2.remove(2)\n",
    "print(lista2)"
   ]
  },
  {
   "cell_type": "code",
   "execution_count": 133,
   "metadata": {},
   "outputs": [
    {
     "ename": "ValueError",
     "evalue": "list.remove(x): x not in list",
     "output_type": "error",
     "traceback": [
      "\u001b[0;31m---------------------------------------------------------------------------\u001b[0m",
      "\u001b[0;31mValueError\u001b[0m                                Traceback (most recent call last)",
      "\u001b[0;32m<ipython-input-133-ea2b315930bc>\u001b[0m in \u001b[0;36m<module>\u001b[0;34m\u001b[0m\n\u001b[0;32m----> 1\u001b[0;31m \u001b[0mlista\u001b[0m\u001b[0;34m.\u001b[0m\u001b[0mremove\u001b[0m\u001b[0;34m(\u001b[0m\u001b[0;34m\"a\"\u001b[0m\u001b[0;34m)\u001b[0m\u001b[0;34m\u001b[0m\u001b[0;34m\u001b[0m\u001b[0m\n\u001b[0m\u001b[1;32m      2\u001b[0m \u001b[0mlista\u001b[0m\u001b[0;34m\u001b[0m\u001b[0;34m\u001b[0m\u001b[0m\n",
      "\u001b[0;31mValueError\u001b[0m: list.remove(x): x not in list"
     ]
    }
   ],
   "source": [
    "lista.remove(\"a\")\n",
    "lista"
   ]
  },
  {
   "cell_type": "code",
   "execution_count": 138,
   "metadata": {},
   "outputs": [
    {
     "name": "stdout",
     "output_type": "stream",
     "text": [
      "True\n",
      "False\n"
     ]
    }
   ],
   "source": [
    "print(1 in lista2)\n",
    "print(2 in lista2)"
   ]
  },
  {
   "cell_type": "markdown",
   "metadata": {
    "id": "JJ1x3FvBf6Q-"
   },
   "source": [
    "Se você quiser remover um elemento de determinado índice, use a função \"pop()\":"
   ]
  },
  {
   "cell_type": "code",
   "execution_count": 134,
   "metadata": {
    "colab": {
     "base_uri": "https://localhost:8080/"
    },
    "executionInfo": {
     "elapsed": 223,
     "status": "ok",
     "timestamp": 1623969725832,
     "user": {
      "displayName": "Brian Andrade",
      "photoUrl": "https://lh3.googleusercontent.com/a-/AOh14GiNSR7YI9sePN7kuQ-5OtZ2svQze2xDu8pxxO5k=s64",
      "userId": "06923984435008780318"
     },
     "user_tz": 180
    },
    "id": "6M6BYX0yf6Q_",
    "outputId": "6d713dbf-8f44-4612-cf7d-03d9de99ea61"
   },
   "outputs": [
    {
     "name": "stdout",
     "output_type": "stream",
     "text": [
      "1\n",
      "['banana', 2, 3, 4, 5]\n"
     ]
    }
   ],
   "source": [
    "# removendo elemento pelo indice\n",
    "valor = lista.pop(0)\n",
    "print(valor)\n",
    "print(lista)"
   ]
  },
  {
   "cell_type": "code",
   "execution_count": 135,
   "metadata": {},
   "outputs": [
    {
     "name": "stdout",
     "output_type": "stream",
     "text": [
      "['banana', 2, 3, 4]\n"
     ]
    }
   ],
   "source": [
    "lista.pop()\n",
    "print(lista)"
   ]
  },
  {
   "cell_type": "markdown",
   "metadata": {
    "id": "fMQy1M-Nf6Q_"
   },
   "source": [
    "Muitas vezes é interessante **ordenar a lista**. Pra fazer isso, usamos a função \"sorted\".\n",
    "\n",
    "**OBS: essa função só funciona para listas com o mesmo tipo de dado!**"
   ]
  },
  {
   "cell_type": "code",
   "execution_count": 142,
   "metadata": {
    "colab": {
     "base_uri": "https://localhost:8080/"
    },
    "executionInfo": {
     "elapsed": 227,
     "status": "ok",
     "timestamp": 1623971023549,
     "user": {
      "displayName": "Brian Andrade",
      "photoUrl": "https://lh3.googleusercontent.com/a-/AOh14GiNSR7YI9sePN7kuQ-5OtZ2svQze2xDu8pxxO5k=s64",
      "userId": "06923984435008780318"
     },
     "user_tz": 180
    },
    "id": "b1gjM8g9f6RB",
    "outputId": "2c68469b-93c9-4641-986a-3abbad3de40b"
   },
   "outputs": [
    {
     "name": "stdout",
     "output_type": "stream",
     "text": [
      "[-10, 0, 1, 2, 3, 6]\n",
      "[1, 3, 6, 2, 0, -10]\n",
      "[-10, 0, 1, 2, 3, 6]\n"
     ]
    }
   ],
   "source": [
    "lista = [1,3,6,2,0,-10]\n",
    "print(sorted(lista))\n",
    "print(lista)\n",
    "lista = sorted(lista)\n",
    "print(lista)"
   ]
  },
  {
   "cell_type": "markdown",
   "metadata": {
    "id": "DQ4NrOkuf6RB"
   },
   "source": [
    "Para **inverter a ordem dos elementos**, adicione ao final da lista [::-1]:"
   ]
  },
  {
   "cell_type": "code",
   "execution_count": 143,
   "metadata": {
    "colab": {
     "base_uri": "https://localhost:8080/"
    },
    "executionInfo": {
     "elapsed": 222,
     "status": "ok",
     "timestamp": 1623971045024,
     "user": {
      "displayName": "Brian Andrade",
      "photoUrl": "https://lh3.googleusercontent.com/a-/AOh14GiNSR7YI9sePN7kuQ-5OtZ2svQze2xDu8pxxO5k=s64",
      "userId": "06923984435008780318"
     },
     "user_tz": 180
    },
    "id": "fkz-jVJEf6RB",
    "outputId": "a6c9c699-a871-4f2e-cd87-79187fc456ad"
   },
   "outputs": [
    {
     "data": {
      "text/plain": [
       "[-10, 0, 2, 6, 3, 1]"
      ]
     },
     "execution_count": 143,
     "metadata": {},
     "output_type": "execute_result"
    }
   ],
   "source": [
    "lista = [1,3,6,2,0,-10]\n",
    "lista[::-1]"
   ]
  },
  {
   "cell_type": "markdown",
   "metadata": {
    "id": "4UzaH5Hmf6RC"
   },
   "source": [
    "Isso pode ser usado para ordenar uma lista na ordem inversa (maior pro menor):"
   ]
  },
  {
   "cell_type": "code",
   "execution_count": 146,
   "metadata": {
    "colab": {
     "base_uri": "https://localhost:8080/"
    },
    "executionInfo": {
     "elapsed": 225,
     "status": "ok",
     "timestamp": 1623971107193,
     "user": {
      "displayName": "Brian Andrade",
      "photoUrl": "https://lh3.googleusercontent.com/a-/AOh14GiNSR7YI9sePN7kuQ-5OtZ2svQze2xDu8pxxO5k=s64",
      "userId": "06923984435008780318"
     },
     "user_tz": 180
    },
    "id": "-JZHRhpSf6RC",
    "outputId": "4cabd7d5-f512-4a7a-830e-f1612bc706fd"
   },
   "outputs": [
    {
     "name": "stdout",
     "output_type": "stream",
     "text": [
      "[-10, 0, 1, 2, 3, 6]\n"
     ]
    },
    {
     "data": {
      "text/plain": [
       "[6, 3, 2, 1, 0, -10]"
      ]
     },
     "execution_count": 146,
     "metadata": {},
     "output_type": "execute_result"
    }
   ],
   "source": [
    "print(sorted(lista))\n",
    "sorted(lista, reverse=True)"
   ]
  },
  {
   "cell_type": "code",
   "execution_count": 148,
   "metadata": {},
   "outputs": [
    {
     "name": "stdout",
     "output_type": "stream",
     "text": [
      "[1, 3, 6, 2, 0, -10]\n",
      "[-10, 0, 1, 2, 3, 6]\n"
     ]
    }
   ],
   "source": [
    "print(lista)\n",
    "lista.sort() #lista = sorted(lista)\n",
    "print(lista)"
   ]
  },
  {
   "cell_type": "markdown",
   "metadata": {
    "id": "5b-ptKd0f6RC"
   },
   "source": [
    "Se quisermos saber **qual é a posição (índice) de determinado elemento**, usamos o método \".index()\".\n",
    "\n",
    "Este método retorna apenas a **primeira aparição** do elemento:"
   ]
  },
  {
   "cell_type": "code",
   "execution_count": 149,
   "metadata": {
    "colab": {
     "base_uri": "https://localhost:8080/"
    },
    "executionInfo": {
     "elapsed": 223,
     "status": "ok",
     "timestamp": 1623971250699,
     "user": {
      "displayName": "Brian Andrade",
      "photoUrl": "https://lh3.googleusercontent.com/a-/AOh14GiNSR7YI9sePN7kuQ-5OtZ2svQze2xDu8pxxO5k=s64",
      "userId": "06923984435008780318"
     },
     "user_tz": 180
    },
    "id": "9bntBim6f6RC",
    "outputId": "c8a8a7c5-aa83-4b3b-e5f5-a80d6b8a6b90"
   },
   "outputs": [
    {
     "data": {
      "text/plain": [
       "1"
      ]
     },
     "execution_count": 149,
     "metadata": {},
     "output_type": "execute_result"
    }
   ],
   "source": [
    "lista = [\"chris\", 21, 1.75, \"andre\", \"chris\"]\n",
    "lista.index(21)"
   ]
  },
  {
   "cell_type": "code",
   "execution_count": 150,
   "metadata": {},
   "outputs": [
    {
     "data": {
      "text/plain": [
       "0"
      ]
     },
     "execution_count": 150,
     "metadata": {},
     "output_type": "execute_result"
    }
   ],
   "source": [
    "lista.index(\"chris\")"
   ]
  },
  {
   "cell_type": "code",
   "execution_count": null,
   "metadata": {},
   "outputs": [],
   "source": [
    "a"
   ]
  },
  {
   "cell_type": "code",
   "execution_count": null,
   "metadata": {},
   "outputs": [],
   "source": []
  },
  {
   "cell_type": "markdown",
   "metadata": {},
   "source": [
    "Também podemos verificar se um elemento pertence a lista"
   ]
  },
  {
   "cell_type": "code",
   "execution_count": 151,
   "metadata": {},
   "outputs": [
    {
     "data": {
      "text/plain": [
       "True"
      ]
     },
     "execution_count": 151,
     "metadata": {},
     "output_type": "execute_result"
    }
   ],
   "source": [
    "\"chris\" in lista"
   ]
  },
  {
   "cell_type": "markdown",
   "metadata": {
    "id": "TLiCVjlUf6RD"
   },
   "source": [
    "Por fim, podemos encontrar algumas **propriedades dos elementos da lista:**"
   ]
  },
  {
   "cell_type": "code",
   "execution_count": 152,
   "metadata": {
    "colab": {
     "base_uri": "https://localhost:8080/"
    },
    "executionInfo": {
     "elapsed": 239,
     "status": "ok",
     "timestamp": 1623971838059,
     "user": {
      "displayName": "Brian Andrade",
      "photoUrl": "https://lh3.googleusercontent.com/a-/AOh14GiNSR7YI9sePN7kuQ-5OtZ2svQze2xDu8pxxO5k=s64",
      "userId": "06923984435008780318"
     },
     "user_tz": 180
    },
    "id": "F12ZAbaUf6RD",
    "outputId": "014499e3-6e70-4b3c-cae4-6c500968cdbb"
   },
   "outputs": [
    {
     "data": {
      "text/plain": [
       "2"
      ]
     },
     "execution_count": 152,
     "metadata": {},
     "output_type": "execute_result"
    }
   ],
   "source": [
    "lista.count(\"chris\")"
   ]
  },
  {
   "cell_type": "code",
   "execution_count": 153,
   "metadata": {},
   "outputs": [
    {
     "data": {
      "text/plain": [
       "3"
      ]
     },
     "execution_count": 153,
     "metadata": {},
     "output_type": "execute_result"
    }
   ],
   "source": [
    "texto = \"banana\"\n",
    "texto.count(\"a\")"
   ]
  },
  {
   "cell_type": "markdown",
   "metadata": {
    "id": "14SHSiZzf6RD"
   },
   "source": [
    "Para encontrar o maior elemento, use \"max()\":"
   ]
  },
  {
   "cell_type": "code",
   "execution_count": 157,
   "metadata": {
    "colab": {
     "base_uri": "https://localhost:8080/"
    },
    "executionInfo": {
     "elapsed": 222,
     "status": "ok",
     "timestamp": 1623971357111,
     "user": {
      "displayName": "Brian Andrade",
      "photoUrl": "https://lh3.googleusercontent.com/a-/AOh14GiNSR7YI9sePN7kuQ-5OtZ2svQze2xDu8pxxO5k=s64",
      "userId": "06923984435008780318"
     },
     "user_tz": 180
    },
    "id": "zKmuL3taf6RD",
    "outputId": "37506c6b-e47d-40fe-9d29-c27b16d14b00"
   },
   "outputs": [
    {
     "data": {
      "text/plain": [
       "44"
      ]
     },
     "execution_count": 157,
     "metadata": {},
     "output_type": "execute_result"
    }
   ],
   "source": [
    "max([-10.03, 10,44, 2])"
   ]
  },
  {
   "cell_type": "markdown",
   "metadata": {
    "id": "Gh4jdgxlf6RD"
   },
   "source": [
    "Para encontrar o menor elemento, use \"min()\":"
   ]
  },
  {
   "cell_type": "code",
   "execution_count": 158,
   "metadata": {
    "colab": {
     "base_uri": "https://localhost:8080/"
    },
    "executionInfo": {
     "elapsed": 232,
     "status": "ok",
     "timestamp": 1623971360890,
     "user": {
      "displayName": "Brian Andrade",
      "photoUrl": "https://lh3.googleusercontent.com/a-/AOh14GiNSR7YI9sePN7kuQ-5OtZ2svQze2xDu8pxxO5k=s64",
      "userId": "06923984435008780318"
     },
     "user_tz": 180
    },
    "id": "BlbGdrdDf6RE",
    "outputId": "df616368-32de-4788-e6af-afe3dc3cd30c"
   },
   "outputs": [
    {
     "data": {
      "text/plain": [
       "-10.03"
      ]
     },
     "execution_count": 158,
     "metadata": {},
     "output_type": "execute_result"
    }
   ],
   "source": [
    "min([-10.03, 10,44, 2])"
   ]
  },
  {
   "cell_type": "markdown",
   "metadata": {
    "id": "dBAZ6fgmf6RE"
   },
   "source": [
    "Para encontrar o número de elementos (ou seja, qual é o \"tamanho\" da lista), use \"len()\" que é abreviaão de \"length\":"
   ]
  },
  {
   "cell_type": "code",
   "execution_count": 164,
   "metadata": {
    "colab": {
     "base_uri": "https://localhost:8080/"
    },
    "executionInfo": {
     "elapsed": 220,
     "status": "ok",
     "timestamp": 1623971373951,
     "user": {
      "displayName": "Brian Andrade",
      "photoUrl": "https://lh3.googleusercontent.com/a-/AOh14GiNSR7YI9sePN7kuQ-5OtZ2svQze2xDu8pxxO5k=s64",
      "userId": "06923984435008780318"
     },
     "user_tz": 180
    },
    "id": "cT-PkQauf6RE",
    "outputId": "48550c9c-5073-4dcf-eb05-1aebb6d51be9"
   },
   "outputs": [
    {
     "name": "stdout",
     "output_type": "stream",
     "text": [
      "6\n",
      "5\n",
      "4\n",
      "3\n"
     ]
    }
   ],
   "source": [
    "print(len(texto))\n",
    "print(len(lista))\n",
    "lista_de_lista = [1, 2, 3, [4,5,6]]\n",
    "print(len(lista_de_lista))\n",
    "print(len(lista_de_lista[3]))"
   ]
  },
  {
   "cell_type": "code",
   "execution_count": 166,
   "metadata": {},
   "outputs": [
    {
     "name": "stdout",
     "output_type": "stream",
     "text": [
      "2\n",
      "4\n",
      "6\n"
     ]
    }
   ],
   "source": [
    "lista = [1, 2]\n",
    "lista2 = [2, 3, 4, 5]\n",
    "print(len(lista))\n",
    "print(len(lista2))\n",
    "print(len(lista) + len(lista2))"
   ]
  },
  {
   "cell_type": "markdown",
   "metadata": {
    "id": "qeO426_qf6RE"
   },
   "source": [
    "Para somar os elementos da lista, use \"sum()\":"
   ]
  },
  {
   "cell_type": "code",
   "execution_count": 159,
   "metadata": {
    "colab": {
     "base_uri": "https://localhost:8080/"
    },
    "executionInfo": {
     "elapsed": 225,
     "status": "ok",
     "timestamp": 1623971800850,
     "user": {
      "displayName": "Brian Andrade",
      "photoUrl": "https://lh3.googleusercontent.com/a-/AOh14GiNSR7YI9sePN7kuQ-5OtZ2svQze2xDu8pxxO5k=s64",
      "userId": "06923984435008780318"
     },
     "user_tz": 180
    },
    "id": "whWs6Mj9f6RF",
    "outputId": "9701b908-b718-47ec-9525-01f10fedca90"
   },
   "outputs": [
    {
     "data": {
      "text/plain": [
       "45.97"
      ]
     },
     "execution_count": 159,
     "metadata": {},
     "output_type": "execute_result"
    }
   ],
   "source": [
    "sum([-10.03, 10,44, 2])"
   ]
  },
  {
   "cell_type": "code",
   "execution_count": 168,
   "metadata": {},
   "outputs": [
    {
     "name": "stdout",
     "output_type": "stream",
     "text": [
      "17\n",
      "17\n"
     ]
    }
   ],
   "source": [
    "# [1, 2] -> 3 \n",
    "# [2, 3, 4, 5] -> 14\n",
    "# 3 + 14 -> 17\n",
    "print(sum(lista) + sum(lista2)) \n",
    "\n",
    "# [1, 2, 2, 3, 4, 5] -> 17\n",
    "print(sum(lista + lista2))"
   ]
  },
  {
   "cell_type": "markdown",
   "metadata": {
    "id": "sdeNKQ6Vf6RF"
   },
   "source": [
    "Agora fica bem fácil encontrar a média dos números em uma lista:"
   ]
  },
  {
   "cell_type": "code",
   "execution_count": 161,
   "metadata": {
    "colab": {
     "base_uri": "https://localhost:8080/"
    },
    "executionInfo": {
     "elapsed": 230,
     "status": "ok",
     "timestamp": 1623971558108,
     "user": {
      "displayName": "Brian Andrade",
      "photoUrl": "https://lh3.googleusercontent.com/a-/AOh14GiNSR7YI9sePN7kuQ-5OtZ2svQze2xDu8pxxO5k=s64",
      "userId": "06923984435008780318"
     },
     "user_tz": 180
    },
    "id": "NaUOOh4xf6RF",
    "outputId": "64975bb2-5545-4512-d9eb-c3dc9f501d72"
   },
   "outputs": [
    {
     "name": "stdout",
     "output_type": "stream",
     "text": [
      "32\n",
      "4\n",
      "8.0\n"
     ]
    }
   ],
   "source": [
    "lista_notas = [10, 8, 5, 9]\n",
    "total = sum(lista_notas)\n",
    "qtd_provas = len(lista_notas)\n",
    "media = total/qtd_provas\n",
    "print(total)\n",
    "print(qtd_provas)\n",
    "print(media)"
   ]
  },
  {
   "cell_type": "markdown",
   "metadata": {},
   "source": [
    "<a name = \"ex\"></a>\n",
    "# Exercícios\n",
    "***"
   ]
  },
  {
   "cell_type": "markdown",
   "metadata": {},
   "source": [
    "**1)** Utilizando listas faça um programa que faça 5 perguntas para uma pessoa sobre um crime. \n",
    "\n",
    "As perguntas são:    \n",
    "\"Telefonou para a vítima?\"    \n",
    "\"Esteve no local do crime?\"     \n",
    "\"Mora perto da vítima?\"    \n",
    "\"Devia para a vítima?\"    \n",
    "\"Já trabalhou com a vítima?\"    \n",
    "\n",
    "O programa deve no final emitir uma classificação sobre a participação da pessoa no crime. \n",
    "Se a pessoa responder positivamente a 2 questões ela deve ser classificada como \"Suspeita\", entre 3 e 4 como \"Cúmplice\" e 5 como \"Assassino\". Caso contrário, ele será classificado como \"Inocente\"."
   ]
  },
  {
   "cell_type": "code",
   "execution_count": null,
   "metadata": {},
   "outputs": [],
   "source": []
  },
  {
   "cell_type": "markdown",
   "metadata": {},
   "source": [
    "**2)** Faça um programa que, dada uma lista com os modelos de cinco carros (exemplo de modelos: GOL, VECTRA, HB20, CRETA, ...) e uma outra lista com o consumo desses carros, isto é, quantos quilômetros cada um desses carros faz com um litro de combustível:\n",
    "\n",
    "    a. Mostre o modelo do carro mais econômico e o seu consumo.   \n",
    "    b. Crie um nova lista com os top3 modelos mais econômicos.  \n",
    "\n",
    "ex.:\n",
    "\n",
    "|Veículo|Km/Litro|\n",
    "|---|---|\n",
    "|Gol|10|\n",
    "|VECTRA|9|\n",
    "|HB20|15|\n",
    "|CRETA|8|\n",
    "|AUDI|12.5|\n",
    "\n",
    "a) HB20: 15km/L\n",
    "\n",
    "b) \\[\"HB20\", \"AUDI\", \"Gol\"\\]\n",
    "\n",
    "obs.: Não precisa fazer o input."
   ]
  },
  {
   "cell_type": "code",
   "execution_count": 175,
   "metadata": {},
   "outputs": [
    {
     "name": "stdout",
     "output_type": "stream",
     "text": [
      "Maior capacidade: 15\n",
      "Indice: 2\n",
      "hb20\n"
     ]
    }
   ],
   "source": [
    "#a\n",
    "modelos = [\"gol\", \"vectra\", \"hb20\", \"creta\", \"audi\"]\n",
    "litros = [10, 9, 15, 8, 12.5] #km/l\n",
    "\n",
    "maior_km_l = max(litros)\n",
    "print(\"Maior capacidade:\", maior_km_l)\n",
    "#print(litros.count(maior_km_l))\n",
    "\n",
    "idx_modelo = litros.index(maior_km_l)\n",
    "print(\"Indice:\", idx_modelo)\n",
    "\n",
    "print(modelos[idx_modelo])"
   ]
  },
  {
   "cell_type": "code",
   "execution_count": 181,
   "metadata": {},
   "outputs": [
    {
     "name": "stdout",
     "output_type": "stream",
     "text": [
      "[15, 12.5, 10, 9, 8]\n",
      "[15, 12.5, 10]\n",
      "================================\n",
      "15\n",
      "['hb20']\n",
      "12.5\n",
      "['hb20', 'audi']\n",
      "10\n",
      "['hb20', 'audi', 'gol']\n"
     ]
    },
    {
     "data": {
      "text/plain": [
       "['hb20', 'audi', 'gol']"
      ]
     },
     "execution_count": 181,
     "metadata": {},
     "output_type": "execute_result"
    }
   ],
   "source": [
    "#b\n",
    "n_top = 3\n",
    "litros_ord = sorted(litros, reverse = True)\n",
    "print(litros_ord)\n",
    "top3_litros = litros_ord[:n_top]\n",
    "print(top3_litros)\n",
    "top_modelos = []\n",
    "\n",
    "print(\"=\"*32)\n",
    "while len(top3_litros) > 0:\n",
    "    top = top3_litros.pop(0)\n",
    "    print(top)\n",
    "    idx_top3 = litros.index(top)\n",
    "    top_modelos.append(modelos[idx_top3])\n",
    "    print(top_modelos)\n",
    "top_modelos\n"
   ]
  },
  {
   "cell_type": "code",
   "execution_count": 179,
   "metadata": {},
   "outputs": [
    {
     "data": {
      "text/plain": [
       "0"
      ]
     },
     "execution_count": 179,
     "metadata": {},
     "output_type": "execute_result"
    }
   ],
   "source": [
    "len([])"
   ]
  },
  {
   "cell_type": "code",
   "execution_count": null,
   "metadata": {},
   "outputs": [],
   "source": []
  },
  {
   "cell_type": "markdown",
   "metadata": {},
   "source": [
    "**3)** Faça um código que peça um CPF como login e valide se está correto. Para saber as regras de validação visite esse [link](https://www.calculadorafacil.com.br/computacao/validar-cpf)"
   ]
  },
  {
   "cell_type": "code",
   "execution_count": null,
   "metadata": {},
   "outputs": [],
   "source": []
  },
  {
   "cell_type": "markdown",
   "metadata": {},
   "source": [
    "**4)** Crie um programa que determine se os assentos podem \"enxergar\" o palco. O número pode enxergar o palco se for estritamente maior que o número do assento a sua frente.\n",
    "\n",
    "Por exemplo, no caso abaixo todos os assentos podem enxergar o palco:\n",
    "\n",
    "    [[2, 3, 4, 3, 2, 1],\n",
    "    [3, 5, 5, 4, 3, 2],\n",
    "    [6, 6, 6, 6, 4, 5],\n",
    "    [7, 7, 8, 7, 5, 10]]\n",
    "\n",
    "Pois, começando da esquerda, 7 > 6 > 3 > 2, portanto todos a fila pode ver. O mesmo para a segunda fila 7 > 6 > 5 > 3, etc.\n",
    "\n",
    "Já no caso abaixo não visibilidade para todos pois logo na primeira fila a primeira cadeira é a maior de todas\n",
    "\n",
    "    [[10, 3, 4, 3, 2, 1],\n",
    "    [3, 5, 5, 4, 3, 2],\n",
    "    [6, 6, 6, 6, 4, 5],\n",
    "    [7, 7, 8, 7, 5, 10]]"
   ]
  },
  {
   "cell_type": "markdown",
   "metadata": {},
   "source": [
    "# Obrigado pela atenção de todes! 😄\n",
    "# Parabéns pelo empenho\n",
    "## Qualquer duvida não hesitem em me chamar. 👩‍💻\n",
    "### Programação é treino, teste e erro. Então façam as listas."
   ]
  }
 ],
 "metadata": {
  "colab": {
   "name": "Aula 3 - listas e loop for.ipynb",
   "provenance": []
  },
  "kernelspec": {
   "display_name": "Python 3",
   "language": "python",
   "name": "python3"
  },
  "language_info": {
   "codemirror_mode": {
    "name": "ipython",
    "version": 3
   },
   "file_extension": ".py",
   "mimetype": "text/x-python",
   "name": "python",
   "nbconvert_exporter": "python",
   "pygments_lexer": "ipython3",
   "version": "3.6.3"
  }
 },
 "nbformat": 4,
 "nbformat_minor": 4
}
