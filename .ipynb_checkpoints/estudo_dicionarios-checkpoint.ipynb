{
 "cells": [
  {
   "cell_type": "code",
   "execution_count": 86,
   "id": "1f9e9bd6",
   "metadata": {},
   "outputs": [
    {
     "name": "stdout",
     "output_type": "stream",
     "text": [
      "Entre com o seu nome: p\n",
      "Entre com o seu e-mail: p\n",
      "0\n",
      "Entre com o seu nome: a\n",
      "Entre com o seu e-mail: a\n",
      "1\n",
      "0 {'jan': 2300, 'fev': 2000, 'mar': 2200, 'abr': 4000}\n",
      "1 {'mai': 2300, 'jun': 2000, 'jul': 4000}\n",
      "2 {'nome': 'p', 'email': 'p'}\n",
      "3 {'nome': 'r', 'email': 'r'}\n",
      "4 {'nome': 'p', 'email': 'p'}\n",
      "5 {'nome': 'r', 'email': 'r'}\n",
      "6 {'nome': 'p', 'email': 'p'}\n",
      "7 {'nome': 'a', 'email': 'a'}\n"
     ]
    }
   ],
   "source": [
    "#### lista = []\n",
    "\n",
    "\n",
    "for num in range(0,2):\n",
    "    \n",
    "    nome = input('Entre com o seu nome: ')\n",
    "    email = input('Entre com o seu e-mail: ')\n",
    "    dicio = {}.fromkeys(['nome','email'], '')\n",
    "    dicio['nome'] = nome\n",
    "    dicio['email'] = email\n",
    "    lista.append(dicio)\n",
    "        \n",
    "    print(num)\n",
    "\n",
    "    \n",
    "for chave, valor in enumerate(lista):\n",
    "    print(chave, valor)\n",
    "    "
   ]
  },
  {
   "cell_type": "code",
   "execution_count": 57,
   "id": "0ab62cce",
   "metadata": {},
   "outputs": [
    {
     "name": "stdout",
     "output_type": "stream",
     "text": [
      "{'nome': 'desconhecido', 'telefone': 'desconhecido', 'email': 'desconhecido'}\n",
      "{'nome': 'desconhecido', 'telefone': 982218102, 'email': 'desconhecido'}\n",
      "{'nome': 'desconhecido', 'telefone': 31982218102, 'email': 'desconhecido'}\n",
      "<class 'dict_keys'> dict_keys(['nome', 'telefone', 'email'])\n",
      "<class 'dict_values'> dict_values(['desconhecido', 31982218102, 'desconhecido'])\n"
     ]
    }
   ],
   "source": [
    "dicio = {}.fromkeys(['nome','telefone','email'],'desconhecido')\n",
    "print(dicio)\n",
    "\n",
    "dicio.update({'telefone': 982218102})\n",
    "\n",
    "print(dicio)\n",
    "dicio.update(telefone=31982218102)\n",
    "print(dicio)\n",
    "dicio\n",
    "\n",
    "chaves = dicio.keys()\n",
    "valores = dicio.values()\n",
    "print(type(chaves), chaves)\n",
    "print(type(valores), valores)"
   ]
  }
 ],
 "metadata": {
  "kernelspec": {
   "display_name": "Python 3 (ipykernel)",
   "language": "python",
   "name": "python3"
  },
  "language_info": {
   "codemirror_mode": {
    "name": "ipython",
    "version": 3
   },
   "file_extension": ".py",
   "mimetype": "text/x-python",
   "name": "python",
   "nbconvert_exporter": "python",
   "pygments_lexer": "ipython3",
   "version": "3.9.2"
  }
 },
 "nbformat": 4,
 "nbformat_minor": 5
}
