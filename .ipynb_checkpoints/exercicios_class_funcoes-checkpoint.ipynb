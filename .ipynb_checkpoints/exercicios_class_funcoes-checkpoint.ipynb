{
 "cells": [
  {
   "cell_type": "code",
   "execution_count": 29,
   "id": "3ae2fe03",
   "metadata": {},
   "outputs": [
    {
     "name": "stdout",
     "output_type": "stream",
     "text": [
      "Digite um numero inteiro qualquer: 435\n",
      "534\n"
     ]
    }
   ],
   "source": [
    "#Enunciado\n",
    "\n",
    "#Faça uma função que retorne o reverso de um número inteiro informado. Por exemplo: 127 -> 721.\n",
    "\n",
    "def reverso(num):\n",
    "    lista = list(str(num))\n",
    "    lista.reverse()\n",
    "\n",
    "    retorno = ''\n",
    "    for i in range(len(lista)):\n",
    "        retorno += lista[i]\n",
    "    \n",
    "    return int(retorno)\n",
    "\n",
    "numero = int(input('Digite um numero inteiro qualquer: '))\n",
    "\n",
    "print(reverso(numero))\n"
   ]
  },
  {
   "cell_type": "code",
   "execution_count": 13,
   "id": "22afba55",
   "metadata": {
    "scrolled": true
   },
   "outputs": [
    {
     "name": "stdout",
     "output_type": "stream",
     "text": [
      "Digite um número inteiro qualquer: 5\n",
      "[5] [[1], [2, 2], [3, 3], [4, 4]]\n"
     ]
    }
   ],
   "source": [
    "\"\"\"\n",
    "    Enunciado\n",
    "\n",
    "    Faça um programa para imprimir:\n",
    "\n",
    "        1\n",
    "        1   2\n",
    "        1   2   3\n",
    "        .....\n",
    "        1   2   3   ...  n\n",
    "\n",
    "    para um n informado pelo usuário. Use uma função que receba um valor n inteiro imprima \n",
    "    até a n-ésima linha.\n",
    "\"\"\"\n",
    "\n",
    "\n"
   ]
  },
  {
   "cell_type": "code",
   "execution_count": 4,
   "id": "f771215d",
   "metadata": {},
   "outputs": [
    {
     "name": "stdout",
     "output_type": "stream",
     "text": [
      "Digite um valor númerico qualquer ou (0-Sai): 6\n",
      "True\n",
      "Digite um valor númerico qualquer ou (0-Sai): 5\n",
      "False\n",
      "Digite um valor númerico qualquer ou (0-Sai): 4\n",
      "False\n",
      "Digite um valor númerico qualquer ou (0-Sai): 8\n",
      "False\n",
      "Digite um valor númerico qualquer ou (0-Sai): 10\n",
      "False\n",
      "Digite um valor númerico qualquer ou (0-Sai): 11\n",
      "False\n",
      "Digite um valor númerico qualquer ou (0-Sai): 16\n",
      "False\n",
      "Digite um valor númerico qualquer ou (0-Sai): 14\n",
      "False\n",
      "Digite um valor númerico qualquer ou (0-Sai): 28\n",
      "True\n",
      "Digite um valor númerico qualquer ou (0-Sai): 486\n",
      "False\n",
      "Digite um valor númerico qualquer ou (0-Sai): 486\n",
      "False\n",
      "Digite um valor númerico qualquer ou (0-Sai): 486\n",
      "False\n",
      "Digite um valor númerico qualquer ou (0-Sai): 8128\n",
      "True\n",
      "Digite um valor númerico qualquer ou (0-Sai): 33550336\n",
      "True\n",
      "Digite um valor númerico qualquer ou (0-Sai): 484\n",
      "False\n",
      "Digite um valor númerico qualquer ou (0-Sai): 485\n",
      "False\n",
      "Digite um valor númerico qualquer ou (0-Sai): 486\n",
      "False\n",
      "Digite um valor númerico qualquer ou (0-Sai): 8589869046\n"
     ]
    },
    {
     "ename": "KeyboardInterrupt",
     "evalue": "",
     "output_type": "error",
     "traceback": [
      "\u001b[0;31m---------------------------------------------------------------------------\u001b[0m",
      "\u001b[0;31mKeyboardInterrupt\u001b[0m                         Traceback (most recent call last)",
      "\u001b[0;32m/tmp/ipykernel_17015/676183197.py\u001b[0m in \u001b[0;36m<module>\u001b[0;34m\u001b[0m\n\u001b[1;32m     31\u001b[0m             \u001b[0;32mbreak\u001b[0m\u001b[0;34m\u001b[0m\u001b[0;34m\u001b[0m\u001b[0m\n\u001b[1;32m     32\u001b[0m \u001b[0;34m\u001b[0m\u001b[0m\n\u001b[0;32m---> 33\u001b[0;31m         \u001b[0mprint\u001b[0m\u001b[0;34m(\u001b[0m\u001b[0mvalorPerfeito\u001b[0m\u001b[0;34m(\u001b[0m\u001b[0mvalor\u001b[0m\u001b[0;34m)\u001b[0m\u001b[0;34m)\u001b[0m\u001b[0;34m\u001b[0m\u001b[0;34m\u001b[0m\u001b[0m\n\u001b[0m",
      "\u001b[0;32m/tmp/ipykernel_17015/676183197.py\u001b[0m in \u001b[0;36mvalorPerfeito\u001b[0;34m(valor)\u001b[0m\n\u001b[1;32m     10\u001b[0m     \u001b[0;32mfor\u001b[0m \u001b[0mdiv\u001b[0m \u001b[0;32min\u001b[0m \u001b[0mrange\u001b[0m\u001b[0;34m(\u001b[0m\u001b[0;36m1\u001b[0m\u001b[0;34m,\u001b[0m\u001b[0mint\u001b[0m\u001b[0;34m(\u001b[0m\u001b[0mvalor\u001b[0m\u001b[0;34m)\u001b[0m\u001b[0;34m)\u001b[0m\u001b[0;34m:\u001b[0m\u001b[0;34m\u001b[0m\u001b[0;34m\u001b[0m\u001b[0m\n\u001b[1;32m     11\u001b[0m \u001b[0;34m\u001b[0m\u001b[0m\n\u001b[0;32m---> 12\u001b[0;31m         \u001b[0;32mif\u001b[0m \u001b[0mvalor\u001b[0m \u001b[0;34m%\u001b[0m \u001b[0mdiv\u001b[0m \u001b[0;34m==\u001b[0m \u001b[0;36m0\u001b[0m\u001b[0;34m:\u001b[0m\u001b[0;34m\u001b[0m\u001b[0;34m\u001b[0m\u001b[0m\n\u001b[0m\u001b[1;32m     13\u001b[0m             \u001b[0msoma\u001b[0m \u001b[0;34m+=\u001b[0m \u001b[0mdiv\u001b[0m\u001b[0;34m\u001b[0m\u001b[0;34m\u001b[0m\u001b[0m\n\u001b[1;32m     14\u001b[0m \u001b[0;34m\u001b[0m\u001b[0m\n",
      "\u001b[0;31mKeyboardInterrupt\u001b[0m: "
     ]
    }
   ],
   "source": [
    "\"\"\"\n",
    "    Faça uma função que verifique se um valor é perfeito ou não. Um valor é dito perfeito quando ele é igual \n",
    "    a soma dos seus divisores excetuando ele próprio. (Ex: 6 é perfeito, 6 = 1 + 2 + 3, que são seus divisores). \n",
    "    A função deve retornar um valor booleano.\n",
    "\"\"\"\n",
    "\n",
    "def valorPerfeito(valor):\n",
    "    \n",
    "    soma = 0\n",
    "    for div in range(1,int(valor)):\n",
    "        \n",
    "        if valor % div == 0:\n",
    "            soma += div\n",
    "            \n",
    "    if soma == valor:\n",
    "        return True\n",
    "    else:\n",
    "        return False\n",
    "\n",
    "\n",
    "\n",
    "while True:\n",
    "    try:\n",
    "        valor = float(input('Digite um valor númerico qualquer ou (0-Sai): '))\n",
    "\n",
    "    except ValueError:\n",
    "        print('Digite apenas números !!')\n",
    "    \n",
    "    else:\n",
    "        if int(valor) == 0:\n",
    "            break\n",
    "\n",
    "        print(valorPerfeito(valor))"
   ]
  },
  {
   "cell_type": "code",
   "execution_count": 17,
   "id": "d021c1e4",
   "metadata": {},
   "outputs": [
    {
     "name": "stdout",
     "output_type": "stream",
     "text": [
      "Digite o seu nome: joao\n",
      "Boa noite, JOAO\n"
     ]
    }
   ],
   "source": [
    "\"\"\"\n",
    "    Faça uma função que recebe um nome e um horário e imprima:\n",
    "\n",
    "    \"Bom dia, [nome]\", caso seja antes de 12h;\n",
    "\n",
    "    \"Boa Tarde, [nome]\", caso seja entre 12h e 18h;\n",
    "\n",
    "    \"Boa noite, [nome]\" se for após às 18h.\n",
    "    \n",
    "\"\"\"\n",
    "from datetime import datetime\n",
    "\n",
    "data = datetime.now()\n",
    "#hora = data.strftime('%H:%M')\n",
    "hora = '24:15'\n",
    "\n",
    "def saudacao(nome, horario):\n",
    "    hora_lista = horario.split(':')\n",
    "    \n",
    "    if int(hora_lista[0]) <12:\n",
    "        return f'Bom dia, {nome}'\n",
    "    elif int(hora_lista[0]) >=12 and int(hora_lista[0]) <=18:\n",
    "        return f'Boa tarde, {nome}'\n",
    "    elif int(hora_lista[0]) >18 and int(hora_lista[0]) <24:\n",
    "        return f'Boa noite, {nome}'\n",
    "                        \n",
    "                    \n",
    "\n",
    "\n",
    "nome = input('Digite o seu nome: ')\n",
    "\n",
    "print(saudacao(nome.upper(), hora))\n",
    "\n",
    "\n"
   ]
  },
  {
   "cell_type": "code",
   "execution_count": null,
   "id": "c996c4b2",
   "metadata": {},
   "outputs": [],
   "source": []
  }
 ],
 "metadata": {
  "kernelspec": {
   "display_name": "Python 3",
   "language": "python",
   "name": "python3"
  },
  "language_info": {
   "codemirror_mode": {
    "name": "ipython",
    "version": 3
   },
   "file_extension": ".py",
   "mimetype": "text/x-python",
   "name": "python",
   "nbconvert_exporter": "python",
   "pygments_lexer": "ipython3",
   "version": "3.6.3"
  }
 },
 "nbformat": 4,
 "nbformat_minor": 5
}
