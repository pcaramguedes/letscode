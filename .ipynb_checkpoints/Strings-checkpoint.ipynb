{
 "cells": [
  {
   "cell_type": "markdown",
   "id": "1a8a1f97-5213-4181-b8d4-165d5ad86891",
   "metadata": {},
   "source": [
    "# Operadores de strings"
   ]
  },
  {
   "cell_type": "markdown",
   "id": "50273c9e-8ee8-4cf6-83f0-c85f3df80213",
   "metadata": {},
   "source": [
    "|Operador|Resultado|\n",
    "|:---:|:---:|\n",
    "|+|Concatena duas strings|\n",
    "|*|Repete a string n vezes| "
   ]
  },
  {
   "cell_type": "code",
   "execution_count": 8,
   "id": "705aa0c5-fb4a-457c-8f9b-7c3226ad23a8",
   "metadata": {},
   "outputs": [
    {
     "data": {
      "text/plain": [
       "'abc'"
      ]
     },
     "execution_count": 8,
     "metadata": {},
     "output_type": "execute_result"
    }
   ],
   "source": [
    "\"a\" + \"b\" + \"c\""
   ]
  },
  {
   "cell_type": "code",
   "execution_count": 4,
   "id": "4b4ceb45-b9e2-42d5-a782-898ad643f2f2",
   "metadata": {},
   "outputs": [
    {
     "data": {
      "text/plain": [
       "'babababa'"
      ]
     },
     "execution_count": 4,
     "metadata": {},
     "output_type": "execute_result"
    }
   ],
   "source": [
    "\"ba\"*4"
   ]
  },
  {
   "cell_type": "code",
   "execution_count": 12,
   "id": "d470d695-92ef-468c-ab87-d34db8b3c57e",
   "metadata": {},
   "outputs": [
    {
     "data": {
      "text/plain": [
       "'================================'"
      ]
     },
     "execution_count": 12,
     "metadata": {},
     "output_type": "execute_result"
    }
   ],
   "source": [
    "\"=\"*32"
   ]
  },
  {
   "cell_type": "markdown",
   "id": "781259a3",
   "metadata": {},
   "source": [
    "# Format com Python\n",
    "Maneiras mais elegantes e inteligentes de apresentar seus dados.\n",
    "\n",
    "- Como usar caractéres especiais nas suas Strings?\n",
    "- Como colocar variáveis dentro de suas Strings (ou variáveis do tipo String)?\n",
    "- Como formatar inteiros, floats e strings (ajustar tamanho, precisão, espaço alocado, etc)? \n",
    "- Como formatar datas?"
   ]
  },
  {
   "cell_type": "markdown",
   "id": "b517644f",
   "metadata": {},
   "source": [
    "Caracteres especiais e seus usos, vamos utilizar a barra invertida(\\\\):\n",
    "<br>\n",
    "<br>\n",
    "\n",
    "| Caractere | String Final     |\n",
    "|-----------|------------------|\n",
    "| \\\\'       | '                |\n",
    "| \\\\\"       | \"                |\n",
    "| \\\\\\       | \\                |\n",
    "| \\n        | Nova Linha       |\n",
    "| \\r        | Retorno de Carro |\n",
    "| \\t        | Tab              |\n",
    "| \\b        | Backspace        |"
   ]
  },
  {
   "cell_type": "code",
   "execution_count": 5,
   "id": "4dd28407",
   "metadata": {},
   "outputs": [
    {
     "name": "stdout",
     "output_type": "stream",
     "text": [
      "Como pular linhas?\n",
      "Ah, assim!\n",
      "\n",
      "Exemplo de \"aspas\"\n",
      "Ao trabalhar com txt vocês verão muitas linhas terminadas assim.\n",
      "\n",
      "\tExemplo de tab\n",
      "\n",
      "Exemplo backspac\n"
     ]
    }
   ],
   "source": [
    "print(\"Como pular linhas?\\nAh, assim!\\n\")\n",
    "print(\"Exemplo de \\\"aspas\\\"\")\n",
    "print(\"Ao trabalhar com txt vocês verão muitas linhas terminadas assim.\\r\\n\")\n",
    "print(\"\\tExemplo de tab\\n\")\n",
    "print(\"Exemplo backspace\\b\")"
   ]
  },
  {
   "cell_type": "markdown",
   "id": "fb91389f",
   "metadata": {},
   "source": [
    "Métodos possiveis mas não muito elegantes e eficientes:"
   ]
  },
  {
   "cell_type": "markdown",
   "id": "987217e1",
   "metadata": {},
   "source": [
    "Por que não funciona tão bem? Leitura, problemas com espaçamento, e limitação de formatação"
   ]
  },
  {
   "cell_type": "code",
   "execution_count": 13,
   "id": "228d9cad",
   "metadata": {},
   "outputs": [
    {
     "name": "stdout",
     "output_type": "stream",
     "text": [
      "Oi, meu nome é Brian, eu sou Brasileiro\n",
      "\n",
      "Oi, meu nome é Brian , eu sou Brasileiro \n",
      "\n",
      "Oi, meu nome é Brian, eu sou Brasileiro\n"
     ]
    }
   ],
   "source": [
    "nome = \"Brian\"\n",
    "nacionalidade = \"Brasileiro\"\n",
    "\n",
    "print(\"Oi, meu nome é \" + nome + \", eu sou \" + nacionalidade + \"\\n\")\n",
    "print(\"Oi, meu nome é\", nome, \", eu sou\",  nacionalidade, \"\\n\")\n",
    "print(\"Oi, meu nome é %s, eu sou %s\" % (nome,  nacionalidade))"
   ]
  },
  {
   "cell_type": "markdown",
   "id": "02cbb20e",
   "metadata": {},
   "source": [
    "Como fazemos hoje no Python 2?"
   ]
  },
  {
   "cell_type": "code",
   "execution_count": 19,
   "id": "be9ec239",
   "metadata": {},
   "outputs": [
    {
     "name": "stdout",
     "output_type": "stream",
     "text": [
      "Oi, meu nome é Brian, e eu sou Brasileiro\n",
      "\n",
      "Oi, meu nome é Brian, e eu sou Brasileiro\n",
      "\n",
      "Oi, meu nome é Brian, e eu sou Brasileiro\n",
      "\n",
      "Oi, meu nome é Brian, e eu sou Brasileiro\n",
      "\n"
     ]
    }
   ],
   "source": [
    "nome = \"Brian\"\n",
    "nacionalidade = \"Brasileiro\"\n",
    "\n",
    "print(\"Oi, meu nome é {}, e eu sou {}\\n\".format(nome, nacionalidade))\n",
    "\n",
    "comprimento = \"Oi, meu nome é {}, e eu sou {}\\n\"\n",
    "print(comprimento.format(nome, nacionalidade))\n",
    "\n",
    "comprimento = \"Oi, meu nome é {1}, e eu sou {0}\\n\"\n",
    "print(comprimento.format(nacionalidade, nome))\n",
    "\n",
    "comprimento = \"Oi, meu nome é {nm}, e eu sou {nac}\\n\"\n",
    "print(comprimento.format(nac = nacionalidade, nm = nome))"
   ]
  },
  {
   "cell_type": "markdown",
   "id": "24cf7594",
   "metadata": {},
   "source": [
    "E no Python 3?"
   ]
  },
  {
   "cell_type": "code",
   "execution_count": 24,
   "id": "55084fa5",
   "metadata": {},
   "outputs": [
    {
     "name": "stdout",
     "output_type": "stream",
     "text": [
      "Oi, meu nome é Brian, e eu sou Brasileiro\n",
      "\n",
      "O menino tem 7 anos\n"
     ]
    }
   ],
   "source": [
    "nome = \"Brian\"\n",
    "nacionalidade = \"Brasileiro\"\n",
    "\n",
    "print(f'Oi, meu nome é {nome}, e eu sou {nacionalidade}\\n')\n",
    "print(f'O menino tem {2 + 5} anos')"
   ]
  },
  {
   "cell_type": "markdown",
   "id": "938d557a-f099-45ae-a553-5f7b8eb629fa",
   "metadata": {},
   "source": [
    "---"
   ]
  },
  {
   "cell_type": "markdown",
   "id": "dcb4b739",
   "metadata": {},
   "source": [
    "Beleza, mas e os números? Como controlo eles?\n",
    "\n",
    "Números receberão essa formatação:<br>\n",
    " **:[preenchimento][tamanho][.precisao]tipo**\n",
    "\n",
    " - Preenchimento = Como preencher em caso do tamanho ser maior que o número\n",
    " - Tamanho = Espaço alocado\n",
    " - Precisão = Casas depois do ponto (para float)\n",
    " - Tipo = 'd' para int, 'f' para float e vazio para string"
   ]
  },
  {
   "cell_type": "code",
   "execution_count": 33,
   "id": "e5507465",
   "metadata": {},
   "outputs": [
    {
     "name": "stdout",
     "output_type": "stream",
     "text": [
      "400 Ex\n",
      "400        Ex\n",
      "400*******\n",
      "       400\n",
      "0000000400\n",
      "_______400\n",
      "+1.54\n",
      "-00001.543\n",
      "***teste***\n"
     ]
    }
   ],
   "source": [
    "num = 1.54328\n",
    "print(f'{400:2d} Ex')\n",
    "print(f'{400:<10d} Ex')\n",
    "print(f'{400:*<10d}')\n",
    "\n",
    "print(f'{400:10d}')\n",
    "print(f'{400:0>10d}')\n",
    "print(f'{400:_>10d}')\n",
    "\n",
    "print(f'{num:+03.2f}')\n",
    "print(f'{-num:010.3f}')\n",
    "\n",
    "print(f\"{'teste':*^11}\")"
   ]
  },
  {
   "cell_type": "markdown",
   "id": "61087e60",
   "metadata": {},
   "source": [
    "# Funções de Strings\n"
   ]
  },
  {
   "cell_type": "code",
   "execution_count": 38,
   "id": "e4371d4b",
   "metadata": {},
   "outputs": [
    {
     "name": "stdout",
     "output_type": "stream",
     "text": [
      "CHRISTOPHER\n",
      "christopher\n",
      "Christopher\n"
     ]
    }
   ],
   "source": [
    "palavra = \"CHRIStopher\"\n",
    "print(palavra.upper())\n",
    "print(palavra.lower())\n",
    "print(palavra.capitalize())"
   ]
  },
  {
   "cell_type": "markdown",
   "id": "2bf672df",
   "metadata": {},
   "source": [
    "Tirar espaços \"sobrando\" com strip:"
   ]
  },
  {
   "cell_type": "code",
   "execution_count": 42,
   "id": "03e50234",
   "metadata": {},
   "outputs": [
    {
     "name": "stdout",
     "output_type": "stream",
     "text": [
      "[     Let's Code      ]\n",
      "[Let's Code]\n"
     ]
    }
   ],
   "source": [
    "palavra = \"     Let's Code      \"\n",
    "print(f\"[{palavra}]\")\n",
    "print(f\"[{palavra.strip()}]\")"
   ]
  },
  {
   "cell_type": "markdown",
   "id": "8ced2ed1",
   "metadata": {},
   "source": [
    "Replace pode trocar um dado caracter por outra coisa qualquer, e o split quebra uma uma string por espaços (ou qualquer caractér que você quiser!)"
   ]
  },
  {
   "cell_type": "code",
   "execution_count": 9,
   "id": "c8a5d995",
   "metadata": {},
   "outputs": [
    {
     "name": "stdout",
     "output_type": "stream",
     "text": [
      " Tchau, L! et's Code \n"
     ]
    }
   ],
   "source": [
    "print(palavra.replace(\"L\", \"Tchau, L! \"))"
   ]
  },
  {
   "cell_type": "code",
   "execution_count": 2,
   "id": "f5c0269f-cd36-4865-913f-6f52a5bbdae4",
   "metadata": {},
   "outputs": [
    {
     "data": {
      "text/plain": [
       "False"
      ]
     },
     "execution_count": 2,
     "metadata": {},
     "output_type": "execute_result"
    }
   ],
   "source": [
    "palavra = \"Teste 123\"\n",
    "palavra.isalnum()"
   ]
  },
  {
   "cell_type": "code",
   "execution_count": 51,
   "id": "b7bc66f8",
   "metadata": {},
   "outputs": [
    {
     "name": "stdout",
     "output_type": "stream",
     "text": [
      "['Bom', 'dia,', 'Brian!', 'Como', 'você', 'está', 'hoje?']\n"
     ]
    }
   ],
   "source": [
    "frase = \"Bom dia, Brian! Como você está hoje?\"\n",
    "listaFrase = frase.split()\n",
    "print(listaFrase)"
   ]
  },
  {
   "cell_type": "markdown",
   "id": "16f12156",
   "metadata": {},
   "source": [
    "---\n",
    "\n",
    "Mais funções em: https://www.w3schools.com/python/python_strings_methods.asp"
   ]
  }
 ],
 "metadata": {
  "kernelspec": {
   "display_name": "Python 3",
   "language": "python",
   "name": "python3"
  },
  "language_info": {
   "codemirror_mode": {
    "name": "ipython",
    "version": 3
   },
   "file_extension": ".py",
   "mimetype": "text/x-python",
   "name": "python",
   "nbconvert_exporter": "python",
   "pygments_lexer": "ipython3",
   "version": "3.6.3"
  }
 },
 "nbformat": 4,
 "nbformat_minor": 5
}
