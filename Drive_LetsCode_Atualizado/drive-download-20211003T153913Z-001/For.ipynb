{
 "cells": [
  {
   "cell_type": "markdown",
   "metadata": {
    "id": "dpaMpGxxf6RG"
   },
   "source": [
    "# Laços de repetição (for)\n",
    "\n",
    "Já vimos como usar o laço de repetição \"while\" para repetir operações em Python\n",
    "\n",
    "Agora, veremos um outro laço, o **for**\n",
    "\n",
    "Mas, antes de vermos como este laço pode ser utilizado para **repetir operações**, é interessante entender o `for` como sendo, na realidade, um operador utilizado para **percorrer elementos de uma lista** (na verdade, de qualquer objeto **iterável**. Conheceremos outros objetos assim mais pra frente...)\n",
    "\n",
    "A estrutura do for é:\n",
    "\n",
    "```python\n",
    "for item in lista:\n",
    "    operacao_feita_pra_cada_item\n",
    "```"
   ]
  },
  {
   "cell_type": "code",
   "execution_count": 5,
   "metadata": {
    "colab": {
     "base_uri": "https://localhost:8080/"
    },
    "executionInfo": {
     "elapsed": 215,
     "status": "ok",
     "timestamp": 1623972232387,
     "user": {
      "displayName": "Brian Andrade",
      "photoUrl": "https://lh3.googleusercontent.com/a-/AOh14GiNSR7YI9sePN7kuQ-5OtZ2svQze2xDu8pxxO5k=s64",
      "userId": "06923984435008780318"
     },
     "user_tz": 180
    },
    "id": "FLNAyx8Wf6RG",
    "outputId": "c1ea3732-ed05-42a0-a046-bafc03895af7"
   },
   "outputs": [
    {
     "name": "stdout",
     "output_type": "stream",
     "text": [
      "a\n",
      "b\n",
      "c\n",
      "10\n",
      "18\n",
      "25\n",
      "115\n",
      "105\n"
     ]
    }
   ],
   "source": [
    "#alfabeto\n",
    "alfabeto = [\"a\", \"b\", \"c\"]\n",
    "\n",
    "for letra in alfabeto:\n",
    "    print(letra)\n",
    "\n",
    "lista_notas = [10, 8, 7, 90, -10]\n",
    "\n",
    "soma = 0\n",
    "for nota in lista_notas:\n",
    "    soma += nota\n",
    "    print(soma)"
   ]
  },
  {
   "cell_type": "markdown",
   "metadata": {
    "id": "e8sPGZQyf6RH"
   },
   "source": [
    "O código acima é equivalente a:"
   ]
  },
  {
   "cell_type": "code",
   "execution_count": 3,
   "metadata": {
    "colab": {
     "base_uri": "https://localhost:8080/"
    },
    "executionInfo": {
     "elapsed": 235,
     "status": "ok",
     "timestamp": 1623972235584,
     "user": {
      "displayName": "Brian Andrade",
      "photoUrl": "https://lh3.googleusercontent.com/a-/AOh14GiNSR7YI9sePN7kuQ-5OtZ2svQze2xDu8pxxO5k=s64",
      "userId": "06923984435008780318"
     },
     "user_tz": 180
    },
    "id": "DWPxHPSTf6RH",
    "outputId": "c7211d8f-89c0-472a-afaf-44b1977aa27f"
   },
   "outputs": [
    {
     "name": "stdout",
     "output_type": "stream",
     "text": [
      "a\n",
      "b\n",
      "c\n"
     ]
    }
   ],
   "source": [
    "#alfabeto manual\n",
    "print(alfabeto[0])\n",
    "print(alfabeto[1])\n",
    "print(alfabeto[2])"
   ]
  },
  {
   "cell_type": "markdown",
   "metadata": {
    "id": "tB0BQnPVf6RH"
   },
   "source": [
    "__Um exemplo de uso...__\n",
    "\n",
    "Separando números positivos e negativos de uma lista de números"
   ]
  },
  {
   "cell_type": "code",
   "execution_count": 6,
   "metadata": {
    "colab": {
     "base_uri": "https://localhost:8080/"
    },
    "executionInfo": {
     "elapsed": 218,
     "status": "ok",
     "timestamp": 1623972306893,
     "user": {
      "displayName": "Brian Andrade",
      "photoUrl": "https://lh3.googleusercontent.com/a-/AOh14GiNSR7YI9sePN7kuQ-5OtZ2svQze2xDu8pxxO5k=s64",
      "userId": "06923984435008780318"
     },
     "user_tz": 180
    },
    "id": "L9NIZ7dOf6RH",
    "outputId": "8e8ca8bc-7b0d-436e-fb75-4c58ab400e7d"
   },
   "outputs": [
    {
     "name": "stdout",
     "output_type": "stream",
     "text": [
      "[4, 5, 6, 5, 56, 7, 78, 80, 9]\n",
      "[-6, -10]\n"
     ]
    }
   ],
   "source": [
    "lista = [4, 5, 6, 5, -6, 56, 7, -10, 78, 80, 9]\n",
    "\n",
    "lista_neg = []\n",
    "lista_pos = []\n",
    "\n",
    "for numero in lista:\n",
    "    if numero >= 0:\n",
    "        lista_pos.append(numero)\n",
    "    else:\n",
    "        lista_neg.append(numero)\n",
    "        \n",
    "print(lista_pos)\n",
    "print(lista_neg)"
   ]
  },
  {
   "cell_type": "markdown",
   "metadata": {
    "id": "aJynyic9f6RI"
   },
   "source": [
    "O \"for\" percorre todos os elementos de uma lista, a não ser que o \"break\" seja utilizado -- esse comando quebra o for, ou seja, os elementos param de ser percorridos"
   ]
  },
  {
   "cell_type": "code",
   "execution_count": 8,
   "metadata": {
    "colab": {
     "base_uri": "https://localhost:8080/"
    },
    "executionInfo": {
     "elapsed": 227,
     "status": "ok",
     "timestamp": 1623972574876,
     "user": {
      "displayName": "Brian Andrade",
      "photoUrl": "https://lh3.googleusercontent.com/a-/AOh14GiNSR7YI9sePN7kuQ-5OtZ2svQze2xDu8pxxO5k=s64",
      "userId": "06923984435008780318"
     },
     "user_tz": 180
    },
    "id": "rgg55Es3f6RI",
    "outputId": "abcf311d-6e9c-47a0-d213-ff9dfd1fa1ef"
   },
   "outputs": [
    {
     "name": "stdout",
     "output_type": "stream",
     "text": [
      "4\n",
      "5\n",
      "6\n",
      "-5\n"
     ]
    }
   ],
   "source": [
    "#primeiro negativo\n",
    "lista = [4, 5, 6, -5, 56, 7, -10, 78, 80, 9]\n",
    "\n",
    "for numero in lista:\n",
    "    print(numero)\n",
    "    if numero < 0:\n",
    "        break\n"
   ]
  },
  {
   "cell_type": "markdown",
   "metadata": {
    "id": "DXGewznxf6RI"
   },
   "source": [
    "Podemos fazer operações com os elementos de umas lista e usá-los pra preencher outra lista:"
   ]
  },
  {
   "cell_type": "markdown",
   "metadata": {
    "id": "QL7rCsIPf6RL"
   },
   "source": [
    "É muito comum utilizarmos a função \"range()\" juntamente do for\n",
    "\n",
    "Essa função cria um **intervalo**, que é uma espécie de \"lista virtual\" de **números em sequência**. Sua sintaxe é:\n",
    "\n",
    "- range(primeiro_numero, último_numero - 1, passo)\n",
    "\n",
    "Se for dado apenas um argumento, o padrão é começar por zero, e ir de 1 em 1:\n",
    "\n",
    "- range(10) é equivalente a range(0, 10, 1), cria uma sequência de 0 a 9, de 1 em 1\n",
    "- range(-12, 12, 2): cria uma sequência de -12 a 11, de 2 em 2\n",
    "\n",
    "Ao fazermos list(range()), obtermos uma lista correspondente ao iterável.\n",
    "\n",
    "**OBS: só podemos fazer iteráveis de int!**"
   ]
  },
  {
   "cell_type": "code",
   "execution_count": 10,
   "metadata": {},
   "outputs": [
    {
     "data": {
      "text/plain": [
       "[0, 1, 2, 3]"
      ]
     },
     "execution_count": 10,
     "metadata": {},
     "output_type": "execute_result"
    }
   ],
   "source": [
    "list(range(4))"
   ]
  },
  {
   "cell_type": "code",
   "execution_count": 12,
   "metadata": {},
   "outputs": [
    {
     "data": {
      "text/plain": [
       "[2, 3, 4, 5, 6, 7, 8, 9]"
      ]
     },
     "execution_count": 12,
     "metadata": {},
     "output_type": "execute_result"
    }
   ],
   "source": [
    "list(range(2, 10))"
   ]
  },
  {
   "cell_type": "code",
   "execution_count": 17,
   "metadata": {},
   "outputs": [
    {
     "data": {
      "text/plain": [
       "[0, 1, 2, 3, 4, 5, 6, 7, 8, 9]"
      ]
     },
     "execution_count": 17,
     "metadata": {},
     "output_type": "execute_result"
    }
   ],
   "source": [
    "list(range(0, 10))"
   ]
  },
  {
   "cell_type": "code",
   "execution_count": 20,
   "metadata": {},
   "outputs": [
    {
     "data": {
      "text/plain": [
       "[0, 2, 4, 6, 8]"
      ]
     },
     "execution_count": 20,
     "metadata": {},
     "output_type": "execute_result"
    }
   ],
   "source": [
    "list(range(0, 10, 2))"
   ]
  },
  {
   "cell_type": "code",
   "execution_count": 21,
   "metadata": {},
   "outputs": [
    {
     "data": {
      "text/plain": [
       "[10, 9, 8, 7, 6, 5, 4, 3, 2, 1]"
      ]
     },
     "execution_count": 21,
     "metadata": {},
     "output_type": "execute_result"
    }
   ],
   "source": [
    "list(range(10, 0, -1))"
   ]
  },
  {
   "cell_type": "code",
   "execution_count": 22,
   "metadata": {},
   "outputs": [
    {
     "data": {
      "text/plain": [
       "[10, 7, 4, 1]"
      ]
     },
     "execution_count": 22,
     "metadata": {},
     "output_type": "execute_result"
    }
   ],
   "source": [
    "list(range(10, 0, -3))"
   ]
  },
  {
   "cell_type": "code",
   "execution_count": null,
   "metadata": {},
   "outputs": [],
   "source": []
  },
  {
   "cell_type": "code",
   "execution_count": null,
   "metadata": {},
   "outputs": [],
   "source": []
  },
  {
   "cell_type": "markdown",
   "metadata": {
    "id": "RJ9Kkl_Af6RM"
   },
   "source": [
    "É muito comum usar o for com o range para **percorrer os índices de uma lista**, e assim também **acessar os elementos da lista através do índice**.\n",
    "\n",
    "Isso é feito passando pro range o comprinento da lista como argumento!"
   ]
  },
  {
   "cell_type": "code",
   "execution_count": 30,
   "metadata": {
    "colab": {
     "base_uri": "https://localhost:8080/"
    },
    "executionInfo": {
     "elapsed": 217,
     "status": "ok",
     "timestamp": 1623973134161,
     "user": {
      "displayName": "Brian Andrade",
      "photoUrl": "https://lh3.googleusercontent.com/a-/AOh14GiNSR7YI9sePN7kuQ-5OtZ2svQze2xDu8pxxO5k=s64",
      "userId": "06923984435008780318"
     },
     "user_tz": 180
    },
    "id": "GlHpjvRXf6RO",
    "outputId": "46ce18d8-2b7f-4746-f8c0-6fba4daa3194"
   },
   "outputs": [
    {
     "name": "stdout",
     "output_type": "stream",
     "text": [
      "0 a\n",
      "1 b\n",
      "2 c\n",
      "3 d\n",
      "4 1\n",
      "5 2\n",
      "6 5\n",
      "7 3\n",
      "\n",
      "\n",
      "a\n",
      "b\n",
      "c\n",
      "d\n",
      "1\n",
      "2\n",
      "5\n",
      "3\n"
     ]
    }
   ],
   "source": [
    "#range lista\n",
    "lista = [\"a\", \"b\", \"c\", \"d\", 1, 2, 5, 3]\n",
    "\n",
    "for i in range(len(lista)):\n",
    "    print(i, lista[i])\n",
    "    \n",
    "print(\"\\n\")\n",
    "for elemento in lista:\n",
    "    print(elemento)"
   ]
  },
  {
   "cell_type": "code",
   "execution_count": 25,
   "metadata": {},
   "outputs": [
    {
     "data": {
      "text/plain": [
       "[0, 1, 2, 3, 4, 5, 6, 7]"
      ]
     },
     "execution_count": 25,
     "metadata": {},
     "output_type": "execute_result"
    }
   ],
   "source": [
    "list(range(len(lista)))"
   ]
  },
  {
   "cell_type": "code",
   "execution_count": 26,
   "metadata": {},
   "outputs": [
    {
     "data": {
      "text/plain": [
       "range(0, 8)"
      ]
     },
     "execution_count": 26,
     "metadata": {},
     "output_type": "execute_result"
    }
   ],
   "source": [
    "range(len(lista))"
   ]
  },
  {
   "cell_type": "code",
   "execution_count": 40,
   "metadata": {
    "colab": {
     "base_uri": "https://localhost:8080/"
    },
    "executionInfo": {
     "elapsed": 218,
     "status": "ok",
     "timestamp": 1623972932841,
     "user": {
      "displayName": "Brian Andrade",
      "photoUrl": "https://lh3.googleusercontent.com/a-/AOh14GiNSR7YI9sePN7kuQ-5OtZ2svQze2xDu8pxxO5k=s64",
      "userId": "06923984435008780318"
     },
     "user_tz": 180
    },
    "id": "D-A8oGn0U5PH",
    "outputId": "42e98a62-02a4-441e-c66a-3e8b07aed8b5"
   },
   "outputs": [
    {
     "name": "stdout",
     "output_type": "stream",
     "text": [
      "a\n",
      "b\n",
      "c\n",
      "d\n",
      "1\n",
      "2\n",
      "5\n",
      "3\n",
      "\n",
      "\n",
      "0 10 10\n",
      "1 8 18\n",
      "2 7 25\n"
     ]
    },
    {
     "data": {
      "text/plain": [
       "[10, 7]"
      ]
     },
     "execution_count": 40,
     "metadata": {},
     "output_type": "execute_result"
    }
   ],
   "source": [
    "#enumerate\n",
    "lista = [\"a\", \"b\", \"c\", \"d\", 1, 2, 5, 3]\n",
    "notas = [10, 8, 7]\n",
    "\n",
    "for elemento in lista:\n",
    "    print(elemento)\n",
    "print(\"\\n\")\n",
    "soma = 0\n",
    "lista2 = []\n",
    "\n",
    "for idx, elemento in enumerate(notas):\n",
    "    if idx % 2 == 0:\n",
    "        lista2.append(elemento)\n",
    "    soma += elemento\n",
    "    print(idx, elemento, soma)\n",
    "lista2"
   ]
  },
  {
   "cell_type": "code",
   "execution_count": 32,
   "metadata": {},
   "outputs": [
    {
     "data": {
      "text/plain": [
       "[(0, 'a'), (1, 'b'), (2, 'c'), (3, 'd'), (4, 1), (5, 2), (6, 5), (7, 3)]"
      ]
     },
     "execution_count": 32,
     "metadata": {},
     "output_type": "execute_result"
    }
   ],
   "source": [
    "list(enumerate(lista))"
   ]
  },
  {
   "cell_type": "markdown",
   "metadata": {
    "id": "yQrH5eV5f6RP"
   },
   "source": [
    "O range é muito interessante caso **queiramos repetir determinada instrução**\n",
    "\n",
    "Se vc quer repetir N vezes, basta fazer:\n",
    "\n",
    "```python\n",
    "for i in range(N):\n",
    "    operacao_repetida\n",
    "```\n",
    "\n",
    "É neste sentido que o `for` passa a ser explicitamente um laço de repetição!\n",
    "\n",
    "Mas note que este laço se diferencia do while no fato de **não precisar de uma condição explícita**\n",
    "\n",
    "Este laço determina que as operações sejam repetidas **para valores em uma lista** (que no caso é o `range`).\n",
    "\n",
    "Este laço é, portanto, bem mais controlado -- dificilmente ocorrerá loops infinitos!"
   ]
  },
  {
   "cell_type": "code",
   "execution_count": 177,
   "metadata": {
    "colab": {
     "base_uri": "https://localhost:8080/"
    },
    "executionInfo": {
     "elapsed": 243,
     "status": "ok",
     "timestamp": 1623973360405,
     "user": {
      "displayName": "Brian Andrade",
      "photoUrl": "https://lh3.googleusercontent.com/a-/AOh14GiNSR7YI9sePN7kuQ-5OtZ2svQze2xDu8pxxO5k=s64",
      "userId": "06923984435008780318"
     },
     "user_tz": 180
    },
    "id": "gC_iSHuQf6RP",
    "outputId": "95ecaeab-6c79-4063-fd08-ffbbb24ec737"
   },
   "outputs": [
    {
     "name": "stdout",
     "output_type": "stream",
     "text": [
      "Olá, mundo\n",
      "Olá, mundo\n",
      "Olá, mundo\n",
      "Olá, mundo\n",
      "Olá, mundo\n"
     ]
    }
   ],
   "source": [
    "for elemento in range(5):\n",
    "    print(\"Olá, mundo\")"
   ]
  },
  {
   "cell_type": "markdown",
   "metadata": {
    "id": "6wmPvySnf6RQ"
   },
   "source": [
    "Note que o código acima é equivalente a:"
   ]
  },
  {
   "cell_type": "code",
   "execution_count": null,
   "metadata": {
    "id": "vNsgzPxwf6RQ"
   },
   "outputs": [],
   "source": [
    "for i in [0, 1, 2, 3, 4]:\n",
    "    print(\"Olá, mundo\")"
   ]
  },
  {
   "cell_type": "markdown",
   "metadata": {
    "id": "3TwevQ-Mf6RQ"
   },
   "source": [
    "Exemplo de uso com o break"
   ]
  },
  {
   "cell_type": "markdown",
   "metadata": {
    "id": "mT92GzQxf6RR"
   },
   "source": [
    "# Exercício"
   ]
  },
  {
   "cell_type": "markdown",
   "metadata": {},
   "source": [
    "- Faça um programa que receba um texto que pode ser um CEP, CPF ou CNPJ válidos; limpe a informação mantendo apenas os números e devolve qual, dentre esses três tipos, a informação diz respeito, além do próprio número limpo como inteiro."
   ]
  },
  {
   "cell_type": "code",
   "execution_count": 41,
   "metadata": {},
   "outputs": [
    {
     "name": "stdout",
     "output_type": "stream",
     "text": [
      "CNPJ: 11111111000101\n"
     ]
    }
   ],
   "source": [
    "texto = \"11.111.111/0001-01\"#\"123.456.789-10\"\n",
    "letras = list(texto)\n",
    "numeros = list(range(10))\n",
    "identificador = \"\"\n",
    "\n",
    "for letra in letras:\n",
    "    if letra.isnumeric():\n",
    "        identificador += letra\n",
    "\n",
    "if len(list(identificador)) == 8:\n",
    "    print(f\"CEP: {int(identificador)}\")\n",
    "elif len(list(identificador)) == 11:\n",
    "    print(f\"CPF: {int(identificador)}\")\n",
    "else:\n",
    "    print(f\"CNPJ: {int(identificador)}\")"
   ]
  },
  {
   "cell_type": "markdown",
   "metadata": {},
   "source": [
    "- Faca um programa que receba um texto longo separe as palavras que contenham apenas texto, apenas número e texto com número. Conte quantos palavras tem em todo o texto passado e quantos caractéres."
   ]
  },
  {
   "cell_type": "code",
   "execution_count": 42,
   "metadata": {},
   "outputs": [],
   "source": [
    "texto = '''A empresa XPT042 abriu o chamado inc2021091910\n",
    "para o sr. Christopher, portador do cpf 12345678910 ,\n",
    "morador da tv. tres, n7 ap 41 bl 2 cep 06172000'''\n",
    "\n",
    "palavras = texto.split()\n",
    "letras = list(texto)\n",
    "qtd_palavras = len(palavras)\n",
    "qtd_letras = len(letras)\n",
    "\n",
    "apenas_texto = []\n",
    "apenas_num = []\n",
    "texto_num = []\n",
    "resto = []\n",
    "\n",
    "for palavra in palavras:\n",
    "    if palavra.isalpha():\n",
    "        apenas_texto.append(palavra)\n",
    "    elif palavra.isnumeric():\n",
    "        apenas_num.append(palavra)\n",
    "    elif palavra.isalnum():\n",
    "        texto_num.append(palavra)\n",
    "    else: \n",
    "        resto.append(palavra)"
   ]
  },
  {
   "cell_type": "code",
   "execution_count": 45,
   "metadata": {},
   "outputs": [
    {
     "data": {
      "text/plain": [
       "148"
      ]
     },
     "execution_count": 45,
     "metadata": {},
     "output_type": "execute_result"
    }
   ],
   "source": []
  },
  {
   "cell_type": "code",
   "execution_count": 31,
   "metadata": {},
   "outputs": [
    {
     "data": {
      "text/plain": [
       "['12345678910', '41', '2', '06172000']"
      ]
     },
     "execution_count": 31,
     "metadata": {},
     "output_type": "execute_result"
    }
   ],
   "source": [
    "apenas_num"
   ]
  },
  {
   "cell_type": "code",
   "execution_count": 32,
   "metadata": {},
   "outputs": [
    {
     "data": {
      "text/plain": [
       "['XPT042', 'inc2021091910', 'n7']"
      ]
     },
     "execution_count": 32,
     "metadata": {},
     "output_type": "execute_result"
    }
   ],
   "source": [
    "texto_num"
   ]
  },
  {
   "cell_type": "code",
   "execution_count": 33,
   "metadata": {},
   "outputs": [
    {
     "data": {
      "text/plain": [
       "['sr.', 'Christopher,', ',', 'tv.', 'tres,']"
      ]
     },
     "execution_count": 33,
     "metadata": {},
     "output_type": "execute_result"
    }
   ],
   "source": [
    "resto"
   ]
  },
  {
   "cell_type": "code",
   "execution_count": 34,
   "metadata": {},
   "outputs": [
    {
     "data": {
      "text/plain": [
       "['A',\n",
       " 'empresa',\n",
       " 'abriu',\n",
       " 'o',\n",
       " 'chamado',\n",
       " 'para',\n",
       " 'o',\n",
       " 'portador',\n",
       " 'do',\n",
       " 'cpf',\n",
       " 'morador',\n",
       " 'da',\n",
       " 'ap',\n",
       " 'bl',\n",
       " 'cep']"
      ]
     },
     "execution_count": 34,
     "metadata": {},
     "output_type": "execute_result"
    }
   ],
   "source": [
    "apenas_texto"
   ]
  },
  {
   "cell_type": "markdown",
   "metadata": {},
   "source": [
    "- Faça um programa que pergunte o seguinte ao paciênte:\n",
    "\n",
    "    a. Sente dor no corpo?\n",
    "    b. Você tem febre?\n",
    "    c. Você tem tosse?\n",
    "    d. Está com congestão nasal?\n",
    "    e. Tem manchas pelo corpo?\n",
    " \n",
    "De acordo com as resposta do paciênte verifique se ele tem dengue, gripe, se não está doente ou se precisa consultar um médico de forma que:\n",
    "    \n",
    "|Resultado|Respostas afirmativas|\n",
    "|:---:|:---:|\n",
    "|Dengue|(a, b, e)|\n",
    "|Gripe|(a, b, c, d) ou (a, b, e)|\n",
    "|Sem Doença|(a) ou (todas negativas)|\n",
    "|Auxílio Médico| Caso inclusivo|\n",
    "\n"
   ]
  },
  {
   "cell_type": "code",
   "execution_count": 8,
   "metadata": {
    "colab": {
     "base_uri": "https://localhost:8080/",
     "height": 527
    },
    "executionInfo": {
     "elapsed": 58453,
     "status": "error",
     "timestamp": 1623959240117,
     "user": {
      "displayName": "Brian Andrade",
      "photoUrl": "https://lh3.googleusercontent.com/a-/AOh14GiNSR7YI9sePN7kuQ-5OtZ2svQze2xDu8pxxO5k=s64",
      "userId": "06923984435008780318"
     },
     "user_tz": 180
    },
    "id": "yLVgSKj0f6RR",
    "outputId": "bd6f4071-b3c2-4b0f-d9fc-12055b3f627f"
   },
   "outputs": [
    {
     "name": "stdin",
     "output_type": "stream",
     "text": [
      "a. Sente dor no corpo? (Digite s ou n)  s\n",
      "b. Você tem febre? (Digite s ou n)  s\n",
      "c. Você tem tosse? (Digite s ou n)  s\n",
      "d. Está com congestão nasal? (Digite s ou n)  s\n",
      "e. Tem manchas pelo corpo? (Digite s ou n)  n\n"
     ]
    },
    {
     "name": "stdout",
     "output_type": "stream",
     "text": [
      "\n",
      "Paciente com gripe!\n"
     ]
    }
   ],
   "source": [
    "lista_de_perguntas = [\"a. Sente dor no corpo?\",\n",
    "                      \"b. Você tem febre?\",\n",
    "                      \"c. Você tem tosse?\",\n",
    "                      \"d. Está com congestão nasal?\",\n",
    "                      \"e. Tem manchas pelo corpo?\"]\n",
    "\n",
    "lista_de_respostas = []\n",
    "\n",
    "for pergunta in lista_de_perguntas:\n",
    "    \n",
    "    resposta = input(pergunta + \"\\n(Digite s ou n) \")\n",
    "    \n",
    "    while resposta not in [\"s\", \"n\"]: \n",
    "        \n",
    "        resposta = input(\"Não entendi!\\n\" + pergunta + \"\\n(Digite s ou n) \")\n",
    "        \n",
    "    lista_de_respostas.append(resposta)\n",
    "    \n",
    "# criando as listas de diagnostico\n",
    "dengue = list(\"ssnns\")\n",
    "gripe = [list(\"ssssn\"), list(\"ssnns\")]\n",
    "sem_doencas = [list(\"snnnn\"), list(\"nnnnn\")]\n",
    "\n",
    "if lista_de_respostas == dengue:\n",
    "    \n",
    "    print(\"\\nPaciente com dengue!\")\n",
    "     \n",
    "elif lista_de_respostas in gripe:\n",
    "\n",
    "    print(\"\\nPaciente com gripe!\")\n",
    "    \n",
    "elif lista_de_respostas in sem_doencas:\n",
    "    \n",
    "    print(\"\\nPaciente sem doença!\")\n",
    "\n",
    "else:\n",
    "    \n",
    "    print(\"\\nNão sei!\")\n",
    "\n"
   ]
  },
  {
   "cell_type": "markdown",
   "metadata": {},
   "source": [
    "- Utilizando listas faça um programa que faça 5 perguntas para uma pessoa sobre um crime. \n",
    "\n",
    "As perguntas são:    \n",
    "\"Telefonou para a vítima?\"    \n",
    "\"Esteve no local do crime?\"     \n",
    "\"Mora perto da vítima?\"    \n",
    "\"Devia para a vítima?\"    \n",
    "\"Já trabalhou com a vítima?\"    \n",
    "\n",
    "O programa deve no final emitir uma classificação sobre a participação da pessoa no crime. \n",
    "Se a pessoa responder positivamente a 2 questões ela deve ser classificada como \"Suspeita\", entre 3 e 4 como \"Cúmplice\" e 5 como \"Assassino\". Caso contrário, ele será classificado como \"Inocente\"."
   ]
  },
  {
   "cell_type": "code",
   "execution_count": 30,
   "metadata": {},
   "outputs": [
    {
     "name": "stdin",
     "output_type": "stream",
     "text": [
      "Telefonou para a vítima?\n",
      "Digite s ou n:  g\n",
      "Não entendi!\n",
      "Telefonou para a vítima?\n",
      "Digite s ou n:  s\n",
      "Esteve no local do crime?\n",
      "Digite s ou n:  s\n",
      "Mora perto da vítima?\n",
      "Digite s ou n:  s\n",
      "Devia para a vítima?\n",
      "Digite s ou n:  h\n",
      "Não entendi!\n",
      "Devia para a vítima?\n",
      "Digite s ou n:  n\n",
      "Já trabalhou com a vítima?\n",
      "Digite s ou n:  n\n"
     ]
    },
    {
     "name": "stdout",
     "output_type": "stream",
     "text": [
      "\n",
      "\n",
      "Cúmplice\n"
     ]
    }
   ],
   "source": [
    "respostas = []\n",
    "valores_validos = [\"s\",\"n\"]\n",
    "perguntas = [\"Telefonou para a vítima?\",\n",
    "                      \"Esteve no local do crime?\",\n",
    "                      \"Mora perto da vítima?\",\n",
    "                      \"Devia para a vítima?\",\n",
    "                      \"Já trabalhou com a vítima?\"]\n",
    "\n",
    "for pergunta in perguntas:\n",
    "    resposta = input(pergunta + \"\\nDigite s ou n: \")\n",
    "    \n",
    "    while resposta not in valores_validos:  \n",
    "        resposta = input(\"Não entendi!\\n\" + pergunta + \"\\nDigite s ou n: \")\n",
    "        \n",
    "    respostas.append(resposta)\n",
    "\n",
    "qtd_afirmativas = respostas.count(\"s\")\n",
    "\n",
    "print(\"\\n\")\n",
    "\n",
    "if qtd_afirmativas == 2:\n",
    "    print(\"Suspeita\")\n",
    "elif 3 <= qtd_afirmativas <= 4:\n",
    "    print(\"Cúmplice\")\n",
    "elif qtd_afirmativas == 5:\n",
    "    print(\"Assassino\")\n",
    "else:\n",
    "    print(\"Inocente\")"
   ]
  },
  {
   "cell_type": "markdown",
   "metadata": {},
   "source": [
    "- Faça um código que peça um CPF como login e valide se está correto. Para saber as regras de validação visite esse [link](https://www.calculadorafacil.com.br/computacao/validar-cpf)"
   ]
  },
  {
   "cell_type": "code",
   "execution_count": 55,
   "metadata": {},
   "outputs": [
    {
     "name": "stdout",
     "output_type": "stream",
     "text": [
      "['0', '1', '8', '8', '2', '1', '7', '6', '1', '4', '6']\n",
      "['0', '1', '8', '8', '2', '1', '7', '6', '1']\n",
      "[1, 2, 3, 4, 5, 6, 7, 8, 9]\n",
      "0 1 0 0\n",
      "1 2 1 2\n",
      "2 3 8 26\n",
      "3 4 8 58\n",
      "4 5 2 68\n",
      "5 6 1 74\n",
      "6 7 7 123\n",
      "7 8 6 171\n",
      "8 9 1 180\n",
      "================================\n",
      "4\n"
     ]
    }
   ],
   "source": [
    "cpf = \"01882176146\"\n",
    "\n",
    "lista_cpf = list(cpf)\n",
    "print(lista_cpf)\n",
    "\n",
    "base_cpf = lista_cpf[:9]\n",
    "print(base_cpf)\n",
    "\n",
    "#parte 1\n",
    "pesos = list(range(1,10))\n",
    "print(pesos)\n",
    "\n",
    "soma = 0\n",
    "for idx, digito in enumerate(base_cpf):\n",
    "    soma += pesos[idx]*int(digito)\n",
    "    print(idx, pesos[idx], digito, soma)\n",
    "    \n",
    "print(\"=\"*32)\n",
    "soma\n",
    "\n",
    "dig_verificador1 = soma % 11\n",
    "if dig_verificador1 == 10:\n",
    "    dig_verificador1 = 0\n",
    "print(dig_verificador1)"
   ]
  },
  {
   "cell_type": "code",
   "execution_count": 56,
   "metadata": {},
   "outputs": [
    {
     "name": "stdout",
     "output_type": "stream",
     "text": [
      "[0, 1, 2, 3, 4, 5, 6, 7, 8, 9]\n",
      "0 0 0 0\n",
      "1 1 1 1\n",
      "2 2 8 17\n",
      "3 3 8 41\n",
      "4 4 2 49\n",
      "5 5 1 54\n",
      "6 6 7 96\n",
      "7 7 6 138\n",
      "8 8 1 146\n",
      "9 9 4 182\n",
      "================================\n",
      "6\n",
      "['0', '1', '8', '8', '2', '1', '7', '6', '1', '4', '6']\n",
      "01882176146\n"
     ]
    }
   ],
   "source": [
    "# parte 2\n",
    "base_cpf.append(str(dig_verificador1))\n",
    "\n",
    "pesos = list(range(0,10))\n",
    "print(pesos)\n",
    "\n",
    "soma = 0\n",
    "for idx, digito in enumerate(base_cpf):\n",
    "    soma += pesos[idx]*int(digito)\n",
    "    print(idx, pesos[idx], digito, soma)\n",
    "    \n",
    "print(\"=\"*32)\n",
    "soma\n",
    "\n",
    "dig_verificador2 = soma % 11\n",
    "if dig_verificador2 == 10:\n",
    "    dig_verificador2 = 0\n",
    "print(dig_verificador2)\n",
    "\n",
    "base_cpf.append(str(dig_verificador2))\n",
    "print(base_cpf)\n",
    "print(cpf)"
   ]
  },
  {
   "cell_type": "code",
   "execution_count": 57,
   "metadata": {},
   "outputs": [
    {
     "name": "stdin",
     "output_type": "stream",
     "text": [
      "Digite o seu CPF: 000000000\n"
     ]
    },
    {
     "name": "stdout",
     "output_type": "stream",
     "text": [
      "CPF Incompleto ou Exedido! Digite os 11 números!\n"
     ]
    }
   ],
   "source": [
    "lista_cpf = []\n",
    "lista_cpf.append(input('Digite o seu CPF:')) \n",
    "\n",
    "for num_cpf in lista_cpf:\n",
    "    if len(num_cpf) < 11 or len(num_cpf) >= 12:\n",
    "        print(\"CPF Incompleto ou Exedido! Digite os 11 números!\")\n",
    "    \n",
    "    else:\n",
    "        num1 = int(num_cpf[0])\n",
    "        num2 = int(num_cpf[1])\n",
    "        num3 = int(num_cpf[2])\n",
    "        num4 = int(num_cpf[3])\n",
    "        num5 = int(num_cpf[4])\n",
    "        num6 = int(num_cpf[5])\n",
    "        num7 = int(num_cpf[6])\n",
    "        num8 = int(num_cpf[7])\n",
    "        num9 = int(num_cpf[8])\n",
    "        num10 = int(num_cpf[9])\n",
    "        num11 = int(num_cpf[10])\n",
    "\n",
    "        soma0 = num1 == num2 == num3 == num4 == num5 == num6 == num7 == num8 == num9 == num10 == num11\n",
    "        soma1 = num1 * 1 + num2 * 2 + num3 * 3 + num4 * 4 + num5 * 5 + num6 * 6 + num7 * 7 + num8 * 8 + num9 * 9 \n",
    "\n",
    "        dig1 = soma1 % 11\n",
    "\n",
    "        if dig1 == 10:\n",
    "            dig1 = 0\n",
    "            \n",
    "        soma2 = num1 * 0 + num2 * 1 + num3 * 2 + num4 * 3 + num5 * 4 + num6 * 5 + num7 * 6 + num8 * 7 + num9 * 8 + num10 * 9\n",
    "        dig2 = soma2 % 11\n",
    "\n",
    "        if dig2 == 10:\n",
    "            dig2 = 0\n",
    "\n",
    "        if (dig1 == num10 and dig2 == num11) and soma0 == False:\n",
    "            print('CPF Válido!')\n",
    "        else:\n",
    "            print('CPF inválido!')"
   ]
  },
  {
   "cell_type": "markdown",
   "metadata": {},
   "source": [
    "# Obrigado pela atenção de todes! 😄\n",
    "# Parabéns pelo empenho\n",
    "## Qualquer duvida não hesitem em me chamar. 👩‍💻\n",
    "### Programação é treino, teste e erro. Então façam as listas."
   ]
  }
 ],
 "metadata": {
  "colab": {
   "name": "Aula 3 - listas e loop for.ipynb",
   "provenance": []
  },
  "kernelspec": {
   "display_name": "Python 3",
   "language": "python",
   "name": "python3"
  },
  "language_info": {
   "codemirror_mode": {
    "name": "ipython",
    "version": 3
   },
   "file_extension": ".py",
   "mimetype": "text/x-python",
   "name": "python",
   "nbconvert_exporter": "python",
   "pygments_lexer": "ipython3",
   "version": "3.8.8"
  }
 },
 "nbformat": 4,
 "nbformat_minor": 4
}
