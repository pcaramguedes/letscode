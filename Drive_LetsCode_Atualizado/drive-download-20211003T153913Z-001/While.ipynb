{
 "cells": [
  {
   "cell_type": "markdown",
   "metadata": {
    "id": "46RKJ5bmh3g-"
   },
   "source": [
    "## Laços de repetição (while)\n",
    "\n",
    "Uma das utilidades de linguagens de programação é a de automatizar tarefas que são repetitivas.\n",
    "\n",
    "Mas, pra isso ser viável, seria bom se tivéssemos uma estrutura para **repetir comandos**, não é mesmo?\n",
    "\n",
    "Imagine que eu queira exibir na tela \"Olá, mundo!\" 5 vezes. Podemos fazer:"
   ]
  },
  {
   "cell_type": "code",
   "execution_count": null,
   "metadata": {
    "colab": {
     "base_uri": "https://localhost:8080/"
    },
    "id": "a1d8fznAh3g-",
    "outputId": "6a2e029a-de82-4ae2-9b71-bd09686422e1"
   },
   "outputs": [
    {
     "name": "stdout",
     "output_type": "stream",
     "text": [
      "Olá, mundo!\n",
      "Olá, mundo!\n",
      "Olá, mundo!\n",
      "Olá, mundo!\n",
      "Olá, mundo!\n"
     ]
    }
   ],
   "source": [
    "print(\"Olá, mundo!\")\n",
    "print(\"Olá, mundo!\")\n",
    "print(\"Olá, mundo!\")\n",
    "print(\"Olá, mundo!\")\n",
    "print(\"Olá, mundo!\")"
   ]
  },
  {
   "cell_type": "markdown",
   "metadata": {
    "id": "JEViwSbFh3g-"
   },
   "source": [
    "Mas, e se eu quiser exibir essa mensagem 1000 vezes? Ou 1 milhão de vezes? Não é ideal escrevermos o mesmo pedaço de código tantas vezes, né?\n",
    "\n",
    "Para isso, existem os **laços de repetição**, que permitem repetir pedaços de código quantas vezes desejarmos!\n",
    "\n",
    "O primeiro laço que vamos ver é o **while**. Este laço tem a seguinte estrutura:\n",
    "\n",
    "```python\n",
    "while (condicao é True):\n",
    "    operacao_repetida\n",
    "```\n",
    "\n",
    "Ou seja, o que tá no bloco do while é repetido **enquanto a condição for verdadeira**"
   ]
  },
  {
   "cell_type": "markdown",
   "metadata": {
    "id": "M8xLlekXh3g_"
   },
   "source": [
    "Isso pode levar a **loops infinitos**"
   ]
  },
  {
   "cell_type": "code",
   "execution_count": 1,
   "metadata": {
    "colab": {
     "base_uri": "https://localhost:8080/",
     "height": 1000
    },
    "id": "5BFAtI-Ah3g_",
    "outputId": "67a237e2-3cb7-4b7b-80cc-402f6b6830c4",
    "scrolled": true,
    "tags": []
   },
   "outputs": [],
   "source": [
    "#########\n",
    "# NAO RODAR\n",
    "#########\n",
    "\n",
    "#ex loop infinito\n",
    "\n",
    "qtd_repeticoes = 1\n",
    "while qtd_repeticoes <= 5:\n",
    "    print(\"ola\")\n",
    "    \n",
    "while True:\n",
    "    print(\"olá\")"
   ]
  },
  {
   "cell_type": "markdown",
   "metadata": {
    "id": "1BQCKyWRh3hf"
   },
   "source": [
    "Para que loops infinitos não aconteçam, temos que fazer uma **atualização da condição** a cada iteração do laço!\n",
    "\n",
    "Isso é, temos que **atualizar** a variavel que contabiliza as repetições no loop"
   ]
  },
  {
   "cell_type": "code",
   "execution_count": 1,
   "metadata": {
    "id": "cliwvdQDh3hg"
   },
   "outputs": [
    {
     "name": "stdout",
     "output_type": "stream",
     "text": [
      "2\n",
      "5\n"
     ]
    }
   ],
   "source": [
    "# vamos definir uma variável\n",
    "x = 2\n",
    "print(x)\n",
    "\n",
    "x = x + 3\n",
    "print(x)"
   ]
  },
  {
   "cell_type": "markdown",
   "metadata": {
    "id": "l8oOdjyWh3hg"
   },
   "source": [
    "Assim, o que fazemos é **definir a condição do while em termos de uma variável que tenha seu valor atualizado!**\n",
    "\n",
    "Para isso, é comum nos referirmos à variàvel da condição como **variável contadora**.\n",
    "\n",
    "Para atualizar a variável contadora dentro do while, em geral a atualizamos em +1"
   ]
  },
  {
   "cell_type": "code",
   "execution_count": 4,
   "metadata": {
    "colab": {
     "base_uri": "https://localhost:8080/"
    },
    "id": "QlqpawF9h3hg",
    "outputId": "0b8a2d23-f091-4f83-f872-fbe2000a8861"
   },
   "outputs": [
    {
     "name": "stdout",
     "output_type": "stream",
     "text": [
      "Olá\n",
      "Olá\n",
      "Olá\n",
      "Olá\n",
      "Olá\n",
      "teste\n"
     ]
    }
   ],
   "source": [
    "#exemplo hello world\n",
    "count = 0\n",
    "\n",
    "while count < 5:\n",
    "    print(\"Olá\")\n",
    "    count = count + 1\n",
    "\n",
    "print(\"teste\")\n"
   ]
  },
  {
   "cell_type": "markdown",
   "metadata": {
    "id": "T7u5URABh3hh"
   },
   "source": [
    "Vamos entender um pouco melhor como a variável contadora se comporta?\n",
    "\n",
    "Pra isso, basta exibi-la a cada iteração:"
   ]
  },
  {
   "cell_type": "code",
   "execution_count": 5,
   "metadata": {
    "colab": {
     "base_uri": "https://localhost:8080/"
    },
    "id": "jLU2panXh3hh",
    "outputId": "65850505-1bc2-497d-b02e-74baa66bf640"
   },
   "outputs": [
    {
     "name": "stdout",
     "output_type": "stream",
     "text": [
      "0\n",
      "1\n",
      "2\n",
      "3\n",
      "4\n",
      "teste\n"
     ]
    }
   ],
   "source": [
    "#while cont\n",
    "count = 0\n",
    "\n",
    "while count < 5:\n",
    "    print(count)\n",
    "    count = count + 0.1\n",
    "\n",
    "print(\"teste\")"
   ]
  },
  {
   "cell_type": "markdown",
   "metadata": {
    "id": "R4FwXpHkh3hh"
   },
   "source": [
    "O código acima equivale a:"
   ]
  },
  {
   "cell_type": "code",
   "execution_count": 14,
   "metadata": {
    "colab": {
     "base_uri": "https://localhost:8080/"
    },
    "id": "DVVAtU-nh3hh",
    "outputId": "33837608-b32b-4e93-d46c-f832bd0b51b2"
   },
   "outputs": [],
   "source": [
    "#ex manual\n",
    "count = 0\n",
    "\n",
    "0 < 5\n",
    "print(\"Olá\")\n",
    "count = count + 1 # count = 1\n",
    "\n",
    "1 < 5\n",
    "print(\"Olá\")\n",
    "count = count + 1 # count = 2\n",
    "\n",
    "...\n",
    "\n",
    "5 < 5\n",
    "#sai do laco\n"
   ]
  },
  {
   "cell_type": "code",
   "execution_count": 12,
   "metadata": {
    "colab": {
     "base_uri": "https://localhost:8080/"
    },
    "id": "JEhDv04cmOIw",
    "outputId": "b8b10d10-dd95-45ce-b03f-0b75736b6479"
   },
   "outputs": [
    {
     "name": "stdout",
     "output_type": "stream",
     "text": [
      "0\n",
      "Sai do if\n",
      "1\n",
      "Sai do if\n",
      "2\n",
      "Sai do if\n",
      "3\n",
      "Sai do if\n",
      "4\n",
      "Entrou no if\n",
      "5\n",
      "Fim\n"
     ]
    }
   ],
   "source": [
    "#permite estruturas já estudadas\n",
    "count = 0\n",
    "\n",
    "while count < 10:\n",
    "    print(count)\n",
    "    if 3 < count < 6: # 3 <count and count < 6\n",
    "        print(\"Entrou no if\")\n",
    "        count += 1 #count = count + 1\n",
    "        break\n",
    "    print(\"Sai do if\")\n",
    "    count += 1\n",
    "\n",
    "print (\"Fim\")"
   ]
  },
  {
   "cell_type": "code",
   "execution_count": null,
   "metadata": {},
   "outputs": [],
   "source": [
    "#while nao_clica_botao:\n",
    "#    espere\n",
    "#    if clicou:\n",
    "#        break"
   ]
  },
  {
   "cell_type": "markdown",
   "metadata": {
    "id": "tN1CxhrIh3hi"
   },
   "source": [
    "Usar a condição com < ao invés de != em geral garante maior segurança ao seu algoritmo, pois evita imprevistos caso você receba números do usuário!"
   ]
  },
  {
   "cell_type": "code",
   "execution_count": 17,
   "metadata": {},
   "outputs": [
    {
     "data": {
      "text/plain": [
       "True"
      ]
     },
     "execution_count": 17,
     "metadata": {},
     "output_type": "execute_result"
    }
   ],
   "source": [
    "#ex ponto flutuante e comportamentos inexperados\n",
    "9.99999999999999999999999999999 == 10"
   ]
  },
  {
   "cell_type": "code",
   "execution_count": 21,
   "metadata": {},
   "outputs": [
    {
     "data": {
      "text/plain": [
       "2.718281828459045"
      ]
     },
     "execution_count": 21,
     "metadata": {},
     "output_type": "execute_result"
    }
   ],
   "source": [
    "import math\n",
    "math.e"
   ]
  },
  {
   "cell_type": "code",
   "execution_count": null,
   "metadata": {},
   "outputs": [],
   "source": [
    "#exemplos completos e dupla condicao de parada\n",
    "import math\n",
    "\n",
    "n = 1\n",
    "fatorial = 1\n",
    "calc_e = 1\n",
    "\n",
    "while calc_e <= math.e and n <= 100:\n",
    "    fatorial *= n # fatorial = fatorial*n\n",
    "    calc_e += 1/fatorial\n",
    "    print(f\"n: {n}\\tFatorial: {fatorial}\\tCalc_e: {calc_e}\\tdif: {math.e - calc_e}\")\n",
    "    n += 1"
   ]
  },
  {
   "cell_type": "markdown",
   "metadata": {
    "id": "M37fltbzh3hi"
   },
   "source": [
    "Podemos também atualizar a condição de repetição segundo informado pelo usuário\n",
    "\n",
    "Esse uso é bem importante para **garantir que o usuário digitou corretamente o que foi solicitado**\n",
    "\n",
    "Por exemplo, vamos pedir pro usuário digitar um número menor que 10. **Enquanto ele não fizer o que queremos**, vamos continuar pedindo pra ele digitar um novo valor:"
   ]
  },
  {
   "cell_type": "code",
   "execution_count": 22,
   "metadata": {
    "id": "5aW4qKD4h3hi"
   },
   "outputs": [
    {
     "name": "stdin",
     "output_type": "stream",
     "text": [
      "Digite um número menor que 10: 12\n",
      "Digite um número menor que 10: 40\n",
      "Digite um número menor que 10: 9\n"
     ]
    }
   ],
   "source": [
    "while True:\n",
    "    num = float(input(\"Digite um número menor que 10:\"))\n",
    "    if num < 10:\n",
    "        break\n",
    "\n",
    "print(\"Saiu\")\n"
   ]
  },
  {
   "cell_type": "code",
   "execution_count": null,
   "metadata": {},
   "outputs": [],
   "source": [
    "num = float(input(\"Digite um número menor que 10:\"))\n",
    "\n",
    "while num >= 10:\n",
    "    num = float(input(\"Digite um número menor que 10:\"))\n",
    "\n",
    "print(\"saiu\")"
   ]
  },
  {
   "cell_type": "code",
   "execution_count": 23,
   "metadata": {},
   "outputs": [
    {
     "data": {
      "text/plain": [
       "True"
      ]
     },
     "execution_count": 23,
     "metadata": {},
     "output_type": "execute_result"
    }
   ],
   "source": [
    "num = 5\n",
    "isinstance(num, int)"
   ]
  },
  {
   "cell_type": "markdown",
   "metadata": {
    "id": "ZyWUtzgQh3hj"
   },
   "source": [
    "Outro exemplo..."
   ]
  },
  {
   "cell_type": "code",
   "execution_count": 33,
   "metadata": {
    "colab": {
     "base_uri": "https://localhost:8080/"
    },
    "id": "zs7h1toqP_6N",
    "outputId": "d90e273b-2e2a-46d2-bea8-b910d62bf5d0"
   },
   "outputs": [
    {
     "name": "stdin",
     "output_type": "stream",
     "text": [
      "Digite um valor inteiro:  19812938798398923848\n"
     ]
    },
    {
     "name": "stdout",
     "output_type": "stream",
     "text": [
      "Encontramos o divisor. Pode Parar\n",
      "2\n",
      "Nao é primo\n"
     ]
    }
   ],
   "source": [
    "#condicoes de saida\n",
    "#primeiro divisor\n",
    "\n",
    "n = int(input(\"Digite um valor inteiro: \"))\n",
    "\n",
    "divisor = 2\n",
    "\n",
    "while divisor < n:\n",
    "    if n % divisor == 0:\n",
    "        print(\"Encontramos o divisor. Pode Parar\")\n",
    "        break\n",
    "        \n",
    "    divisor += 1\n",
    "\n",
    "print(\"O divisor é:\", divisor, \"e portanto \")\n",
    "\n",
    "if divisor == n:\n",
    "    print(\"é Primo\")\n",
    "else:\n",
    "    print(\"Nao é primo\")"
   ]
  },
  {
   "cell_type": "code",
   "execution_count": null,
   "metadata": {},
   "outputs": [],
   "source": [
    "19812938798398923848"
   ]
  },
  {
   "cell_type": "code",
   "execution_count": null,
   "metadata": {},
   "outputs": [],
   "source": [
    "n = 4\n",
    "divisor = 2\n",
    "2 < 4 => True #entrou no while\n",
    "resto == 0? True #entrou no if\n",
    "2 == 3? False\n",
    "portanto nao é primo\n"
   ]
  },
  {
   "cell_type": "code",
   "execution_count": 38,
   "metadata": {},
   "outputs": [
    {
     "name": "stdout",
     "output_type": "stream",
     "text": [
      "0\n",
      "1\n"
     ]
    }
   ],
   "source": [
    "count = 0\n",
    "\n",
    "while count < 30:\n",
    "    if count == 3:\n",
    "        break\n",
    "    print(count)\n",
    "    count = count + 1"
   ]
  },
  {
   "cell_type": "markdown",
   "metadata": {},
   "source": [
    "<a name = \"ex\"></a>\n",
    "# Exercícios\n",
    "***"
   ]
  },
  {
   "cell_type": "markdown",
   "metadata": {},
   "source": [
    "**1)** Faça um programa que peça um numero inteiro positivo e em seguida mostre este numero invertido.\n",
    "\n",
    "    12376489 => 98467321"
   ]
  },
  {
   "cell_type": "code",
   "execution_count": 47,
   "metadata": {},
   "outputs": [
    {
     "name": "stdout",
     "output_type": "stream",
     "text": [
      "987654321\n"
     ]
    }
   ],
   "source": [
    "num = 123456789\n",
    "part_num = num\n",
    "num_inv = 0 \n",
    "count = 0\n",
    "\n",
    "while part_num >= 1 and count < 500:\n",
    "    num_inv = 10*num_inv + part_num%10\n",
    "    part_num = int(part_num/10)\n",
    "    count +=1\n",
    "    \n",
    "print(num_inv)"
   ]
  },
  {
   "cell_type": "code",
   "execution_count": null,
   "metadata": {},
   "outputs": [],
   "source": [
    "n = int(input(\"Digite um número: \"))\n",
    "\n",
    "inv = 0\n",
    "\n",
    "while n >= 1:\n",
    "    inv = (inv * 10) + n % 10\n",
    "    n = n // 10 #int(part_num/10)\n",
    "print(inv)"
   ]
  },
  {
   "cell_type": "code",
   "execution_count": null,
   "metadata": {},
   "outputs": [],
   "source": [
    "num = 1234\n",
    "part_num = 1234 -> /10 -> 123.4 -> 4\n",
    "num_inv = 0\n",
    "num_inv = 4\n",
    "part_num = 123\n",
    "-------\n",
    "part_num = 123 -> /10 -> 12.3 -> 3\n",
    "num_inv = 4 -> 40 +3 -> 43\n",
    "num_inv = 43\n",
    "part_num = 12\n",
    "\n",
    "4321"
   ]
  },
  {
   "cell_type": "markdown",
   "metadata": {},
   "source": [
    "**2)** Faça um programa que implemente uma caixa registradora rudimentar. \n",
    "\n",
    "O programa deverá receber um número desconhecido de valores referentes aos preços das mercadorias. \n",
    "\n",
    "Um valor zero deve ser informado pelo operador para indicar o final da compra. \n",
    "\n",
    "O programa deve então mostrar o total da compra e perguntar o valor em dinheiro que o cliente forneceu, para então calcular e mostrar o valor do troco. \n",
    "\n",
    "A saída deve ser conforme o exemplo abaixo:\n",
    "   \n",
    "    Produto 1: 2.20    \n",
    "    Produto 2: 5.80    \n",
    "    Produto 3: 0\n",
    "    Total de itens: 2\n",
    "    Total em reais: 9.00    \n",
    "    Dinheiro: 20.00   \n",
    "    Troco: 11.00     \n",
    "     "
   ]
  },
  {
   "cell_type": "code",
   "execution_count": 55,
   "metadata": {},
   "outputs": [
    {
     "name": "stdin",
     "output_type": "stream",
     "text": [
      "Digite o valor de um produto. Se 0 sai. 3\n"
     ]
    },
    {
     "name": "stdout",
     "output_type": "stream",
     "text": [
      "Produto 1: 3.0\n"
     ]
    },
    {
     "name": "stdin",
     "output_type": "stream",
     "text": [
      "Digite o valor de um produto. Se 0 sai. 2\n"
     ]
    },
    {
     "name": "stdout",
     "output_type": "stream",
     "text": [
      "Produto 2: 2.0\n"
     ]
    },
    {
     "name": "stdin",
     "output_type": "stream",
     "text": [
      "Digite o valor de um produto. Se 0 sai. 5\n"
     ]
    },
    {
     "name": "stdout",
     "output_type": "stream",
     "text": [
      "Produto 3: 5.0\n"
     ]
    },
    {
     "name": "stdin",
     "output_type": "stream",
     "text": [
      "Digite o valor de um produto. Se 0 sai. 0\n",
      "Digite o pagamento: 3\n",
      "Me dê o dinheiro se não chamo o segurança 4\n",
      "Me dê o dinheiro se não chamo o segurança 30\n"
     ]
    },
    {
     "name": "stdout",
     "output_type": "stream",
     "text": [
      "\n",
      "    Total de itens: 3\n",
      "    Vlr da compra: R$ 10.00\n",
      "    Dinheiro: R$ 30.00\n",
      "    Troco: R$ 20.00\n",
      "    \n"
     ]
    }
   ],
   "source": [
    "produto = float(input(\"Digite o valor de um produto. Se 0 sai.\"))\n",
    "if produto <= 0:\n",
    "    print(\"Cliente só tava dando uma olhadinha\")\n",
    "else:\n",
    "    qtd_itens = 0\n",
    "    total = 0\n",
    "\n",
    "    while produto > 0:\n",
    "        qtd_itens += 1\n",
    "        total += produto \n",
    "        print(f\"Produto {qtd_itens}: {produto}\")\n",
    "        produto = float(input(\"Digite o valor de um produto. Se 0 sai.\"))\n",
    "\n",
    "    dinheiro = float(input(\"Digite o pagamento:\"))\n",
    "    while dinheiro < total:\n",
    "        dinheiro = float(input(\"Me dê o dinheiro se não chamo o segurança\"))\n",
    "\n",
    "    troco = dinheiro - total\n",
    "\n",
    "    print(f'''\n",
    "    Total de itens: {qtd_itens}\n",
    "    Vlr da compra: R$ {total:.2f}\n",
    "    Dinheiro: R$ {dinheiro:.2f}\n",
    "    Troco: R$ {troco:.2f}\n",
    "    ''')\n",
    "    "
   ]
  },
  {
   "cell_type": "code",
   "execution_count": 56,
   "metadata": {},
   "outputs": [
    {
     "name": "stdin",
     "output_type": "stream",
     "text": [
      " rtdsf\n"
     ]
    }
   ],
   "source": [
    "a = input()"
   ]
  },
  {
   "cell_type": "markdown",
   "metadata": {},
   "source": [
    "# Obrigado pela atenção de todes! 😄\n",
    "# Parabéns pelo empenho\n",
    "## Qualquer duvida não hesitem em me chamar. 👩‍💻\n",
    "### Programação é treino, teste e erro. Então façam as listas."
   ]
  }
 ],
 "metadata": {
  "colab": {
   "collapsed_sections": [],
   "name": "Aula 4 - while.ipynb",
   "provenance": []
  },
  "kernelspec": {
   "display_name": "Python 3",
   "language": "python",
   "name": "python3"
  },
  "language_info": {
   "codemirror_mode": {
    "name": "ipython",
    "version": 3
   },
   "file_extension": ".py",
   "mimetype": "text/x-python",
   "name": "python",
   "nbconvert_exporter": "python",
   "pygments_lexer": "ipython3",
   "version": "3.8.8"
  }
 },
 "nbformat": 4,
 "nbformat_minor": 4
}
