{
 "cells": [
  {
   "cell_type": "markdown",
   "id": "f8bb8776-1467-43c3-abef-7f28c64a09fe",
   "metadata": {},
   "source": [
    "## O que veremos hoje\n",
    "***\n",
    "- [Scripts e Algoritmos](#script)\n",
    "- [Varíaveis: Conceito de Memória e Dados](#variaveis)\n",
    "- [Operadores Matemáticos e Comunicação com o Usuário](#operadores)\n",
    "- [Exercícios](#ex)"
   ]
  },
  {
   "cell_type": "markdown",
   "id": "67d8da1d-4f2f-4091-9fb1-780b56cd20b6",
   "metadata": {},
   "source": [
    "<a name = \"script\"></a>\n",
    "\n",
    "# 🍰 Scripts e Algoritmos\n",
    "\n",
    "**Algoritmos** são receitas, passos a serem executados para que se tenha um resultado.\n"
   ]
  },
  {
   "cell_type": "markdown",
   "id": "ed3a3b6f-384a-4d1b-b197-c0f3c27699ee",
   "metadata": {},
   "source": [
    "Algoritmo de aprovação dos alunos\n",
    "\n",
    "    1 - Contar quantos testes foram realizados\n",
    "    2 - Para cada nota dos testes realizados:\n",
    "            Somar todas elas\n",
    "    3 - Divida total das notas pela quantidade de testes realizados\n",
    "    4 - Se o valor resultante do passo 3 for maior ou igual a 7 então:\n",
    "            Aluno está aprovado\n",
    "        Caso contrário:\n",
    "            Aluna está reprovado\n"
   ]
  },
  {
   "cell_type": "markdown",
   "id": "6c828af9-6a00-433a-8ef7-a749da31c182",
   "metadata": {},
   "source": [
    "Algoritmo de rotina\n",
    "\n",
    "    1- Acordar 5h\n",
    "    2- Higiene pessoal\n",
    "    3- ir a academia\n",
    "    4- fazer o treino\n",
    "    5- voltar pra casa\n",
    "    6- banho\n",
    "    7- trabalho"
   ]
  },
  {
   "cell_type": "code",
   "execution_count": null,
   "id": "049dc096-0615-4b5b-abc4-156865bf7197",
   "metadata": {},
   "outputs": [],
   "source": []
  },
  {
   "cell_type": "markdown",
   "id": "66d0b16c-f2ba-467b-bac2-f052f2ddbc5e",
   "metadata": {},
   "source": [
    "**Scripts** são a forma de se executar um algoritmo."
   ]
  },
  {
   "cell_type": "code",
   "execution_count": 2,
   "id": "30a17725-bdcc-43a1-89fa-f56bdf93094b",
   "metadata": {},
   "outputs": [
    {
     "name": "stdout",
     "output_type": "stream",
     "text": [
      "7.333333333333333\n",
      "Aluno aprovado\n"
     ]
    }
   ],
   "source": [
    "notas = [10, 5, 7]\n",
    "\n",
    "#1\n",
    "qtd_testes = len(notas)\n",
    "\n",
    "#2\n",
    "total = 0\n",
    "for nota in notas:\n",
    "    total += nota\n",
    "\n",
    "#3\n",
    "media = total/qtd_testes\n",
    "print(media)\n",
    "\n",
    "#4\n",
    "if media >= 7:\n",
    "    print(\"Aluno aprovado\")\n",
    "else:\n",
    "    print(\"Aluno reprovado\")"
   ]
  },
  {
   "cell_type": "code",
   "execution_count": null,
   "id": "ffb750e8-acfd-41b6-bddf-546c74704672",
   "metadata": {},
   "outputs": [],
   "source": [
    "nota = [10, 5, 7]\n",
    "\n",
    "#1\n",
    "qtd_testes = len(notas)\n",
    "\n",
    "#2\n",
    "total = 0\n",
    "for idx in range(qtd_testes):\n",
    "    total += notas[idx]\n",
    "\n",
    "#3\n",
    "media = total/qtd_testes\n",
    "\n",
    "#4\n",
    "if media >= 7:\n",
    "    print(\"Aluno aprovado\")\n",
    "else:\n",
    "    print(\"Aluno reprovado\")"
   ]
  },
  {
   "cell_type": "code",
   "execution_count": 3,
   "id": "5510b9fe-2914-4a51-9dcc-72d5e84981f8",
   "metadata": {},
   "outputs": [
    {
     "name": "stdout",
     "output_type": "stream",
     "text": [
      "6\n"
     ]
    }
   ],
   "source": [
    "total = 2\n",
    "\n",
    "total = total + 4\n",
    "\n",
    "print(total)"
   ]
  },
  {
   "cell_type": "markdown",
   "id": "948e22a5-2cec-43c2-a503-a46d90cd209a",
   "metadata": {},
   "source": [
    "<a name = variavel></a>\n",
    "# 🗃 Varíaveis: Conceito de memória e dados\n",
    "\n",
    "Váriaveis como o próprio diz são \"coisas\" variáveis, e usaremos elas para armazenar nossos dados.\n",
    "\n",
    "Variáveis possuem tipos: \n",
    "- **int:** que armazena números inteiros\n",
    "- **float:** que armazena números decimais (separados por ponto!)\n",
    "- **string:** que armazena texto\n",
    "- **boolean** que armazenará valores lógicos (verdadeiro: _True_ ou falso: _False_)\n",
    "\n"
   ]
  },
  {
   "cell_type": "code",
   "execution_count": 4,
   "id": "f7d032e7-5f0f-4929-89dd-f64e8724ae5a",
   "metadata": {},
   "outputs": [
    {
     "data": {
      "text/plain": [
       "2"
      ]
     },
     "execution_count": 4,
     "metadata": {},
     "output_type": "execute_result"
    }
   ],
   "source": [
    "# exemplos de int\n",
    "cep = 12230017\n",
    "qtd_filhos = 0\n",
    "cpf = 12345678900\n",
    "\n",
    "# float\n",
    "saldo_refeicao = 235.29\n",
    "conta_luz = 112.36\n",
    "netflix = 59.99\n",
    "proporcao = 5.5/10.2\n",
    "\n",
    "# string\n",
    "nome = \"christopher\"\n",
    "cpf = \"123.456.789-00\"\n",
    "\n",
    "# boolean\n",
    "is_client = True\n",
    "has_children = False\n",
    "\n"
   ]
  },
  {
   "cell_type": "code",
   "execution_count": 16,
   "id": "38348bd0-0763-4212-885a-97dc31cce4eb",
   "metadata": {},
   "outputs": [
    {
     "name": "stdout",
     "output_type": "stream",
     "text": [
      "4\n"
     ]
    }
   ],
   "source": [
    "x = 2\n",
    "x = 4\n",
    "\n",
    "print(x)"
   ]
  },
  {
   "cell_type": "markdown",
   "id": "26b5c38b-563b-4987-8e79-20cd71ed3190",
   "metadata": {},
   "source": [
    "Python é case sensitive, ou seja, variaveis com letras maiusculas e minusculas são diferentes"
   ]
  },
  {
   "cell_type": "code",
   "execution_count": 21,
   "id": "d4e91a63-8d64-402b-a585-155fdb458850",
   "metadata": {},
   "outputs": [
    {
     "name": "stdout",
     "output_type": "stream",
     "text": [
      "123 456\n"
     ]
    }
   ],
   "source": [
    "cpf = 123\n",
    "CPF = 456\n",
    "\n",
    "print(cpf, CPF)"
   ]
  },
  {
   "cell_type": "code",
   "execution_count": 22,
   "id": "ea546294-90a1-4325-984e-2222ea64bb54",
   "metadata": {},
   "outputs": [
    {
     "ename": "NameError",
     "evalue": "name 'Cpf' is not defined",
     "output_type": "error",
     "traceback": [
      "\u001b[0;31m---------------------------------------------------------------------------\u001b[0m",
      "\u001b[0;31mNameError\u001b[0m                                 Traceback (most recent call last)",
      "\u001b[0;32m<ipython-input-22-dfafc557ab99>\u001b[0m in \u001b[0;36m<module>\u001b[0;34m\u001b[0m\n\u001b[0;32m----> 1\u001b[0;31m \u001b[0mprint\u001b[0m\u001b[0;34m(\u001b[0m\u001b[0mCpf\u001b[0m\u001b[0;34m)\u001b[0m\u001b[0;34m\u001b[0m\u001b[0;34m\u001b[0m\u001b[0m\n\u001b[0m",
      "\u001b[0;31mNameError\u001b[0m: name 'Cpf' is not defined"
     ]
    }
   ],
   "source": [
    "print(Cpf)"
   ]
  },
  {
   "cell_type": "markdown",
   "id": "238ef215-1d6f-4c1f-9ab7-085d21258e34",
   "metadata": {},
   "source": [
    "### Manual de boas praticas python\n",
    "\n",
    "[PEP8](https://www.python.org/dev/peps/pep-0008/)"
   ]
  },
  {
   "cell_type": "markdown",
   "id": "86c17b9b-cdee-4980-865a-32b68af53899",
   "metadata": {},
   "source": [
    "meu_nome -> snake format\n",
    "meuNome -> lower camel case\n",
    "MeuNome -> Upper camel case\n",
    "\n",
    "variavel\n",
    "snake\n",
    "\n",
    "funcoes\n",
    "snake\n",
    "\n",
    "Classes\n",
    "Upper camel case"
   ]
  },
  {
   "cell_type": "code",
   "execution_count": 68,
   "id": "0fb1dcd7-367e-4f48-ba96-923dcf275778",
   "metadata": {},
   "outputs": [],
   "source": [
    "# casting"
   ]
  },
  {
   "cell_type": "code",
   "execution_count": 14,
   "id": "ee189cdc-6775-4d0c-8ba7-c0e11edbfb78",
   "metadata": {},
   "outputs": [
    {
     "data": {
      "text/plain": [
       "'2'"
      ]
     },
     "execution_count": 14,
     "metadata": {},
     "output_type": "execute_result"
    }
   ],
   "source": [
    "x = 2\n",
    "\n",
    "type(float(x))\n",
    "type(str(x))\n",
    "\n",
    "y = str(x)\n",
    "\n",
    "y"
   ]
  },
  {
   "cell_type": "code",
   "execution_count": 15,
   "id": "4a4d4eb3-1390-406a-bdaf-8d0df8ff586a",
   "metadata": {},
   "outputs": [
    {
     "ename": "ValueError",
     "evalue": "invalid literal for int() with base 10: 'matriculado'",
     "output_type": "error",
     "traceback": [
      "\u001b[0;31m---------------------------------------------------------------------------\u001b[0m",
      "\u001b[0;31mValueError\u001b[0m                                Traceback (most recent call last)",
      "\u001b[0;32m<ipython-input-15-cb84a36975e4>\u001b[0m in \u001b[0;36m<module>\u001b[0;34m\u001b[0m\n\u001b[1;32m      1\u001b[0m \u001b[0mx\u001b[0m \u001b[0;34m=\u001b[0m \u001b[0;34m\"matriculado\"\u001b[0m\u001b[0;34m\u001b[0m\u001b[0;34m\u001b[0m\u001b[0m\n\u001b[1;32m      2\u001b[0m \u001b[0;34m\u001b[0m\u001b[0m\n\u001b[0;32m----> 3\u001b[0;31m \u001b[0mint\u001b[0m\u001b[0;34m(\u001b[0m\u001b[0mx\u001b[0m\u001b[0;34m)\u001b[0m\u001b[0;34m\u001b[0m\u001b[0;34m\u001b[0m\u001b[0m\n\u001b[0m",
      "\u001b[0;31mValueError\u001b[0m: invalid literal for int() with base 10: 'matriculado'"
     ]
    }
   ],
   "source": [
    "x = \"matriculado\"\n",
    "\n",
    "int(x)"
   ]
  },
  {
   "cell_type": "markdown",
   "id": "cd447630-095c-4a2e-9259-0f2517ebd81b",
   "metadata": {},
   "source": [
    "## Tipagem\n",
    "- **Estática:** Preciso definir o tipo da variável assim que for criar\n",
    "- **Dinâmica:** Não preciso declarar\n",
    "- **Fracamente:** Permite operações entre variáveis de diferentes tipos\n",
    "- **Fortemente:** Não permite operações entre variáveis de diferentes tipos\n",
    "\n",
    "Qual o tipo de tipagem do python???"
   ]
  },
  {
   "cell_type": "code",
   "execution_count": 6,
   "id": "ef834dbd-ea2c-4079-8999-adba34c8edb1",
   "metadata": {},
   "outputs": [
    {
     "ename": "TypeError",
     "evalue": "unsupported operand type(s) for +: 'int' and 'str'",
     "output_type": "error",
     "traceback": [
      "\u001b[0;31m---------------------------------------------------------------------------\u001b[0m",
      "\u001b[0;31mTypeError\u001b[0m                                 Traceback (most recent call last)",
      "\u001b[0;32m<ipython-input-6-07976d662951>\u001b[0m in \u001b[0;36m<module>\u001b[0;34m\u001b[0m\n\u001b[1;32m      2\u001b[0m \u001b[0my\u001b[0m \u001b[0;34m=\u001b[0m \u001b[0;34m\"10\"\u001b[0m\u001b[0;34m\u001b[0m\u001b[0;34m\u001b[0m\u001b[0m\n\u001b[1;32m      3\u001b[0m \u001b[0;34m\u001b[0m\u001b[0m\n\u001b[0;32m----> 4\u001b[0;31m \u001b[0mx\u001b[0m \u001b[0;34m+\u001b[0m \u001b[0my\u001b[0m\u001b[0;34m\u001b[0m\u001b[0;34m\u001b[0m\u001b[0m\n\u001b[0m",
      "\u001b[0;31mTypeError\u001b[0m: unsupported operand type(s) for +: 'int' and 'str'"
     ]
    }
   ],
   "source": [
    "x = 10\n",
    "y = \"10\"\n",
    "\n",
    "x + y"
   ]
  },
  {
   "cell_type": "markdown",
   "id": "dc1c6287-4c9d-4c26-ac31-17da12aa4d34",
   "metadata": {},
   "source": [
    "Os tipos podem ser explicitados usando :**tipoDado** depois do nome da variável, além disso podemos fazer o _cast_ (mudança de tipo) usando _tipoDado(dadoQueQuerConverter)_ entre variaveis de diferentes tipos, mas note que isso pode gerar problemas se feito deliberadamente:"
   ]
  },
  {
   "cell_type": "code",
   "execution_count": 23,
   "id": "79e5515c-ce7a-489b-a094-e8eda0a8534c",
   "metadata": {},
   "outputs": [
    {
     "name": "stdout",
     "output_type": "stream",
     "text": [
      "teste\n"
     ]
    }
   ],
   "source": [
    "a:int = 3\n",
    "b:float = 4.5\n",
    "\n",
    "a = \"teste\"\n",
    "print(a)"
   ]
  },
  {
   "cell_type": "markdown",
   "id": "7f3eff66-aa81-49d6-8546-e568549830a5",
   "metadata": {},
   "source": [
    "No Python podemos definir muitas variáveis numa mesma linha com valores diferentes ou o mesmo valor. (desacoplamento)"
   ]
  },
  {
   "cell_type": "code",
   "execution_count": 26,
   "id": "537a4a4d-f211-49b3-9824-6026307ba7a4",
   "metadata": {},
   "outputs": [
    {
     "name": "stdout",
     "output_type": "stream",
     "text": [
      "Chris 30 5\n"
     ]
    }
   ],
   "source": [
    "nome = \"Chris\"\n",
    "idade = 30\n",
    "media = 5\n",
    "\n",
    "print(nome, idade, media)"
   ]
  },
  {
   "cell_type": "code",
   "execution_count": 27,
   "id": "34efd150-9178-439d-9758-8901009d3799",
   "metadata": {},
   "outputs": [
    {
     "name": "stdout",
     "output_type": "stream",
     "text": [
      "Pedro 20 10\n"
     ]
    }
   ],
   "source": [
    "nome, idade, media = \"Pedro\", 20, 10\n",
    "\n",
    "print(nome, idade, media)"
   ]
  },
  {
   "cell_type": "markdown",
   "id": "c10f6c68-009f-4921-886c-c3b53eeb37cf",
   "metadata": {},
   "source": [
    "<a name = \"operadores\"> </a> \n",
    "## 🧮 Operadores Matemáticos e Comunicação com o Usuário 🧮\n",
    "\n",
    "<center><img src=\"fluxo_script.png\" width=\"150\"/></center>\n",
    "\n",
    "\n",
    "### Operadores Matemáticos\n",
    "\n",
    "O Python faz operações matemáticas entre variáveis e dados puros, a seguir temos uma tabela com os operadores e suas funções:\n",
    "\n",
    "| Operador | Função           |\n",
    "|----------|------------------|\n",
    "| +        | Adição           |\n",
    "| -        | Subtração        |\n",
    "| *        | Multiplicação    |\n",
    "| /        | Divisão          |\n",
    "| %        | Resto de divisão |\n",
    "| **       | Potênciação      |\n",
    "| //       | Divisão Inteira  |\n",
    "\n",
    "Além disso, fazemos uso de parênteses para definir ordem de contas assim como na matemática."
   ]
  },
  {
   "cell_type": "code",
   "execution_count": 1,
   "id": "8c883f6b-0a81-44d2-8219-02f94c329833",
   "metadata": {},
   "outputs": [
    {
     "name": "stdout",
     "output_type": "stream",
     "text": [
      "3.2\n"
     ]
    }
   ],
   "source": [
    "a = (((3+2) - 1)*8)/10\n",
    "print(a)"
   ]
  },
  {
   "cell_type": "code",
   "execution_count": 3,
   "id": "8c93339e-ed66-456b-979e-532e74140792",
   "metadata": {},
   "outputs": [
    {
     "name": "stdout",
     "output_type": "stream",
     "text": [
      "8\n"
     ]
    },
    {
     "data": {
      "text/plain": [
       "3.0"
      ]
     },
     "execution_count": 3,
     "metadata": {},
     "output_type": "execute_result"
    }
   ],
   "source": [
    "print(2**3)\n",
    "9**(0.5)"
   ]
  },
  {
   "cell_type": "code",
   "execution_count": 6,
   "id": "420cda4e-4731-40b5-a953-14580d9e29d8",
   "metadata": {},
   "outputs": [
    {
     "data": {
      "text/plain": [
       "2"
      ]
     },
     "execution_count": 6,
     "metadata": {},
     "output_type": "execute_result"
    }
   ],
   "source": [
    "11%3"
   ]
  },
  {
   "cell_type": "code",
   "execution_count": 8,
   "id": "b8529a66-2139-4ade-91f7-7259b8706ce2",
   "metadata": {},
   "outputs": [
    {
     "data": {
      "text/plain": [
       "19"
      ]
     },
     "execution_count": 8,
     "metadata": {},
     "output_type": "execute_result"
    }
   ],
   "source": [
    "# Python segue a prioridade matematica de operacoes. Usar parenteses por boas praticas.\n",
    "3+2*8"
   ]
  },
  {
   "cell_type": "code",
   "execution_count": 11,
   "id": "5276e362-f710-4c5e-af28-a301fd62afeb",
   "metadata": {},
   "outputs": [
    {
     "data": {
      "text/plain": [
       "3"
      ]
     },
     "execution_count": 11,
     "metadata": {},
     "output_type": "execute_result"
    }
   ],
   "source": [
    "11//3"
   ]
  },
  {
   "cell_type": "code",
   "execution_count": 12,
   "id": "81280e68-8f37-4361-93f7-2d1936bd1dc7",
   "metadata": {},
   "outputs": [],
   "source": [
    "nome = \"Chris\""
   ]
  },
  {
   "cell_type": "markdown",
   "id": "de3538fa-7268-4c16-af69-d93c3096636d",
   "metadata": {},
   "source": [
    "### input() e print()\n",
    "\n",
    "A funcão input() irá ler uma entrada de usuário em formato de _string_ (portanto se você espera outro tipo de dado deverá fazer o _cast_), e podemos colocar outra _string_ dentro dos parênteses que será a pergunta feita ao usuário.\n",
    "\n",
    "A funcão print() irá imprimir algo para o usuário, e receberá o que ela deve imprimir dentro dos parênteses, podendo ser variáveis, textos e a mistura dos dois."
   ]
  },
  {
   "cell_type": "code",
   "execution_count": 13,
   "id": "771945d9-44b2-4c12-81b2-7b327605d526",
   "metadata": {},
   "outputs": [
    {
     "name": "stdin",
     "output_type": "stream",
     "text": [
      " Chris\n"
     ]
    },
    {
     "name": "stdout",
     "output_type": "stream",
     "text": [
      "Chris\n"
     ]
    }
   ],
   "source": [
    "nome = input()\n",
    "print(nome)"
   ]
  },
  {
   "cell_type": "code",
   "execution_count": 14,
   "id": "6218cff8-8e09-4a7d-a1ee-7095751075e0",
   "metadata": {},
   "outputs": [
    {
     "name": "stdin",
     "output_type": "stream",
     "text": [
      "Qual seu nome?  Christopher\n"
     ]
    },
    {
     "name": "stdout",
     "output_type": "stream",
     "text": [
      "Bom dia, Christopher\n"
     ]
    }
   ],
   "source": [
    "nome = input(\"Qual seu nome? \")\n",
    "print(\"Bom dia,\", nome)"
   ]
  },
  {
   "cell_type": "code",
   "execution_count": 20,
   "id": "58451355-0a53-4781-9b6f-60edd84f0a80",
   "metadata": {},
   "outputs": [
    {
     "name": "stdin",
     "output_type": "stream",
     "text": [
      "Digite sua idade:  30\n"
     ]
    }
   ],
   "source": [
    "#input outros tipos\n",
    "#input sempre le uma string\n",
    "idade = input(\"Digite sua idade: \")"
   ]
  },
  {
   "cell_type": "code",
   "execution_count": 21,
   "id": "06c170b2-08fa-4a47-a12a-b3768a8faa63",
   "metadata": {},
   "outputs": [
    {
     "data": {
      "text/plain": [
       "str"
      ]
     },
     "execution_count": 21,
     "metadata": {},
     "output_type": "execute_result"
    }
   ],
   "source": [
    "type(idade)"
   ]
  },
  {
   "cell_type": "code",
   "execution_count": 22,
   "id": "d4884492-6c75-47cf-8d05-97ff0de2a210",
   "metadata": {},
   "outputs": [
    {
     "name": "stdin",
     "output_type": "stream",
     "text": [
      "Digite sua idade:  30\n",
      "Digite o seu saldo 243.2\n"
     ]
    },
    {
     "name": "stdout",
     "output_type": "stream",
     "text": [
      "<class 'int'>\n",
      "243.2\n"
     ]
    }
   ],
   "source": [
    "idade = int(input(\"Digite sua idade: \"))\n",
    "saldo = float(input(\"Digite o seu saldo\"))\n",
    "print(type(idade))\n",
    "print(saldo)"
   ]
  },
  {
   "cell_type": "code",
   "execution_count": 27,
   "id": "28730ea7-1bc9-4c0a-ae38-685ddcd19e0a",
   "metadata": {},
   "outputs": [
    {
     "name": "stdin",
     "output_type": "stream",
     "text": [
      "Digite sua idade:  234\n"
     ]
    },
    {
     "data": {
      "text/plain": [
       "234"
      ]
     },
     "execution_count": 27,
     "metadata": {},
     "output_type": "execute_result"
    }
   ],
   "source": [
    "int(input(\"Digite sua idade: \"))"
   ]
  },
  {
   "cell_type": "code",
   "execution_count": 26,
   "id": "c704dab8-0323-47ac-8b73-ac0449b4c824",
   "metadata": {},
   "outputs": [
    {
     "data": {
      "text/plain": [
       "234"
      ]
     },
     "execution_count": 26,
     "metadata": {},
     "output_type": "execute_result"
    }
   ],
   "source": [
    "int(float(\"234.5\"))\n",
    "#int(\"234.5\") nao"
   ]
  },
  {
   "cell_type": "markdown",
   "id": "1c12cfc3-45f5-4ccc-93f1-dbba39acb395",
   "metadata": {},
   "source": [
    "## 🎯 Exercícios 🎯 <a class=\"anchor\" id=\"cinco\"></a>\n",
    "\n",
    "**1)** Faça um Programa que mostre a mensagem \"Alo mundo\" na tela."
   ]
  },
  {
   "cell_type": "code",
   "execution_count": null,
   "id": "83aed157-6d1e-41f8-8f0a-622bab0dda59",
   "metadata": {},
   "outputs": [],
   "source": [
    "print(\"Alo mundo\")"
   ]
  },
  {
   "cell_type": "markdown",
   "id": "3e1b5ec5-64bd-4718-a2e5-27b69d0a04fc",
   "metadata": {},
   "source": [
    "**2)** Faça um Programa que peça as 4 notas bimestrais e mostre a média."
   ]
  },
  {
   "cell_type": "code",
   "execution_count": null,
   "id": "0e9fc514-b375-49bb-862f-51d06face5fc",
   "metadata": {},
   "outputs": [],
   "source": [
    "nota1 = float(input(\"Primeira nota:\"))\n",
    "nota2 = float(input(\"Segunda nota:\"))\n",
    "nota3 = float(input(\"Terceira nota:\"))\n",
    "nota4 = float(input(\"Quarta nota:\"))\n",
    "\n",
    "media = (nota1 + nota2 + nota3 + nota4)/4\n",
    "print(media)"
   ]
  },
  {
   "cell_type": "markdown",
   "id": "3f147cdc-7c1e-4de0-9234-ec9cd0a1e334",
   "metadata": {},
   "source": [
    "**3)** Faça um Programa que pergunte quanto você ganha por hora e o número de horas trabalhadas no mês. Calcule e mostre o total do seu salário no referido mês."
   ]
  },
  {
   "cell_type": "code",
   "execution_count": null,
   "id": "375d49c9-87f8-4c06-a1d3-f60290bfe7eb",
   "metadata": {},
   "outputs": [],
   "source": [
    "qtd_horas = float(input(\"Quantas horas trabalhou este mes? \"))\n",
    "salario_hora = float(input(\"Quanto você recebe por hora? \"))\n",
    "\n",
    "print(\"Seu ganho este mês foi de: R$\", qtd_horas*salario_hora)"
   ]
  },
  {
   "cell_type": "markdown",
   "id": "8e4e4b31-82a7-41e0-872f-2171883ebdb2",
   "metadata": {},
   "source": [
    "**4)** Faça um Programa que peça a temperatura em graus Fahrenheit, transforme e mostre a temperatura em graus Celsius.<br>\n",
    "$$ C = \\frac{5 * (F-32)}{9} $$"
   ]
  },
  {
   "cell_type": "code",
   "execution_count": null,
   "id": "6ce927bd-ca8b-4c7e-bcb9-fed67bd83413",
   "metadata": {},
   "outputs": [],
   "source": [
    "f = float(input(\"Digite a temperatua em graus Fahrenheit: \"))\n",
    "c = (5*(f-32))/9\n",
    "\n",
    "print(c)"
   ]
  },
  {
   "cell_type": "markdown",
   "id": "a1496442-dfa3-488d-9dad-81a2a921f954",
   "metadata": {},
   "source": [
    "**5)** Faça um Programa que pergunte quanto você ganha por hora e o número de horas trabalhadas no mês. Calcule e mostre o total do seu salário no referido mês, sabendo-se que são descontados 11% para o Imposto de Renda, 8% para o INSS e 5% para o sindicato, faça um programa que nos dê:\n",
    "- Salário bruto.\n",
    "- Quanto pagou ao INSS.\n",
    "- Quanto pagou ao sindicato.\n",
    "- O salário líquido."
   ]
  },
  {
   "cell_type": "code",
   "execution_count": 28,
   "id": "b7ad91c4-5903-4880-b030-05814a38f71b",
   "metadata": {},
   "outputs": [
    {
     "name": "stdin",
     "output_type": "stream",
     "text": [
      "Quantas horas trabalhou este mes?  5\n",
      "Quanto você recebe por hora?  25\n"
     ]
    },
    {
     "name": "stdout",
     "output_type": "stream",
     "text": [
      "\n",
      "O seu salário este mês foi de: 125.0\n",
      "sendo que o INSS ficou com 10.0,\n",
      "o sindicato com 6.25,\n",
      "e a receita com 13.75.\n",
      "Sobrando 95.0 pro happy hour.\n",
      "      \n"
     ]
    }
   ],
   "source": [
    "qtd_horas = float(input(\"Quantas horas trabalhou este mes? \"))\n",
    "salario_hora = float(input(\"Quanto você recebe por hora? \"))\n",
    "\n",
    "#a)\n",
    "salario_bruto = qtd_horas*salario_hora\n",
    "\n",
    "#b)\n",
    "desconto_inss = 8/100\n",
    "inss = salario_bruto*desconto_inss\n",
    "\n",
    "#c)\n",
    "desconto_sindicato = 5/100\n",
    "sindicato = salario_bruto*desconto_sindicato\n",
    "\n",
    "#d)\n",
    "desconto_irf = 11/100\n",
    "receita = salario_bruto*desconto_irf\n",
    "\n",
    "salarido_liquido = salario_bruto - inss - sindicato - receita\n",
    "\n",
    "print(f\"\"\"\n",
    "O seu salário este mês foi de: {salario_bruto}\n",
    "sendo que o INSS ficou com {inss},\n",
    "o sindicato com {sindicato},\n",
    "e a receita com {receita}.\n",
    "Sobrando {salarido_liquido} pro happy hour.\n",
    "      \"\"\")\n"
   ]
  },
  {
   "cell_type": "markdown",
   "id": "6a761647-35e8-4e12-8822-a8170e589be1",
   "metadata": {},
   "source": [
    "**6)** Faça um Programa para uma loja de tintas. O programa deverá pedir o tamanho em metros quadrados da área a ser pintada. Considere que a cobertura da tinta é de 1 litro para cada 6 metros quadrados e que a tinta é vendida em latas de 18 litros, que custam 80,00 reais ou em galões de 3,6 litros, que custam 25,00 reais.<br>\n",
    "&emsp; Informe ao usuário as quantidades de tinta a serem compradas e os respectivos preços em 3 situações:\n",
    "- Comprar apenas latas de 18 litros;\n",
    "- Comprar apenas galões de 3,6 litros;\n",
    "- Misturar latas e galões, de forma que o desperdício de tinta seja menor. Acrescente 10% de folga e sempre arredonde os valores para cima, isto é, considere latas cheias."
   ]
  },
  {
   "cell_type": "markdown",
   "id": "3897b8e8-3f59-43d7-9be5-f98c8ed72b08",
   "metadata": {},
   "source": [
    "    Receba o valor da área pintada;\n",
    "    Dada a cobertura da tinta,\n",
    "    Calcule a quantidade litros necessárias igual a:\n",
    "        litros = area/cobertura\n",
    "    Dado a capacidade da lata,\n",
    "    Calcule a quantidade de latas necessarias igual a:\n",
    "        qtd_latas = litros/capacidade\n",
    "    Arredonde a qtd de latas para cima;\n",
    "    Multiplique pelo valor unitário da lata dado;\n",
    "    Imprima o resultado;"
   ]
  },
  {
   "cell_type": "code",
   "execution_count": 36,
   "id": "ed0e405e-9618-49ca-9131-0856abb64545",
   "metadata": {},
   "outputs": [
    {
     "name": "stdin",
     "output_type": "stream",
     "text": [
      "Quantos metros irá pintar?  108\n"
     ]
    },
    {
     "name": "stdout",
     "output_type": "stream",
     "text": [
      "18.0\n",
      "1.0\n",
      "2\n",
      "O valor total para pintar 108.0 metros quadrados usando galoes de 18 L é de R$ 160 ou seja 2 latas\n"
     ]
    }
   ],
   "source": [
    "area_pintada = float(input(\"Quantos metros irá pintar? \"))\n",
    "\n",
    "cobertura = 6\n",
    "capacidade = 18\n",
    "vlr_unitario = 80\n",
    "\n",
    "litros_necessarios = area_pintada/cobertura\n",
    "print(litros_necessarios)\n",
    "\n",
    "qtd_latas = litros_necessarios/capacidade\n",
    "print(qtd_latas)\n",
    "\n",
    "qtd_latas = int(qtd_latas) + 1\n",
    "print(qtd_latas)\n",
    "\n",
    "print(\"O valor total para pintar\", area_pintada, \"metros quadrados usando galoes de\", capacidade, \"L é de R$\", qtd_latas*vlr_unitario, \"ou seja\", qtd_latas,\"latas\")"
   ]
  },
  {
   "cell_type": "code",
   "execution_count": 46,
   "id": "dde3cca5-f613-494b-966f-c3c2d53f8587",
   "metadata": {},
   "outputs": [
    {
     "name": "stdout",
     "output_type": "stream",
     "text": [
      "27.50\n",
      "1\n",
      "Qtd de Latas é 1.00 e a quantidade de galoes é 3\n"
     ]
    }
   ],
   "source": [
    "area_pintada = 150\n",
    "litros_lata = area_pintada/6\n",
    "litros_lata *= 1.1 # litros_lata = litros_lata*1.1\n",
    "print(f\"{litros_lata:.2f}\")\n",
    "qtd_lata = int(litros_lata/18)\n",
    "print(qtd_lata)\n",
    "sobra = litros_lata%18\n",
    "qtd_galoes = int(sobra/3.6)+1\n",
    "\n",
    "print(f\"Qtd de Latas é {qtd_lata:.2f} e a quantidade de galoes é {qtd_galoes}\")\n"
   ]
  },
  {
   "cell_type": "markdown",
   "id": "cee40d74-dad3-4f0a-b61d-12b2e87e289c",
   "metadata": {},
   "source": [
    "# VOLTAMOS 20:45"
   ]
  },
  {
   "cell_type": "markdown",
   "id": "3388cf12-42ca-47e7-93c9-0b04fff433ed",
   "metadata": {},
   "source": [
    "# Obrigado pela atenção de todes! 😄\n",
    "# Parabéns pelo empenho\n",
    "## Qualquer duvida não hesitem em me chamar. 👩‍💻\n",
    "### Programação é treino, teste e erro. Então façam as listas."
   ]
  }
 ],
 "metadata": {
  "kernelspec": {
   "display_name": "Python 3",
   "language": "python",
   "name": "python3"
  },
  "language_info": {
   "codemirror_mode": {
    "name": "ipython",
    "version": 3
   },
   "file_extension": ".py",
   "mimetype": "text/x-python",
   "name": "python",
   "nbconvert_exporter": "python",
   "pygments_lexer": "ipython3",
   "version": "3.8.8"
  }
 },
 "nbformat": 4,
 "nbformat_minor": 5
}
