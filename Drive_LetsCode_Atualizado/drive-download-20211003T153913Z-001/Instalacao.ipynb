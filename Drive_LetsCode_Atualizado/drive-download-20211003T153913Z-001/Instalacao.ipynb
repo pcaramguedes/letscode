{
 "cells": [
  {
   "cell_type": "markdown",
   "metadata": {},
   "source": [
    "##  Sobre Mim\n",
    "***\n",
    "\n",
    "#### Christopher Silva de Padua\n",
    "- Bacharel em Matemática Computacional - UNIFESP\n",
    "- Mestre em Estatística - ESALQ/USP\n",
    "- Professor na Let's Code\n",
    "- Coordenador de Ciência de Dados - ALELO\n",
    "- LinkedIn: https://www.linkedin.com/in/christopher-padua-data-science/\n",
    "- e-mail: christopher.silva.padua@gmail.com"
   ]
  },
  {
   "cell_type": "markdown",
   "metadata": {},
   "source": [
    "## O que veremos hoje\n",
    "***\n",
    "- [Apresentação do Curso](#apresentacao)\n",
    "- [Instalando Python](#instalacao)\n",
    "- [IDE - Ambiente de Desenvolvimento](#ide)"
   ]
  },
  {
   "cell_type": "markdown",
   "metadata": {},
   "source": [
    "<a name=\"apresentacao\"></a>\n",
    "    \n",
    "# Apresentação do Curso\n",
    "***\n",
    "- **Propósito:**\n",
    "    \n",
    "    Ajudar a nivelar pessoas que tem e não tem experiência alguma em programação para os próximos módulos.\n",
    "\n",
    "- **Conteúdo no Class**\n",
    "- **Duração:** 8 aulas -> 09/09/2021 - 5/10/2021\n",
    "- **Avaliação**\n",
    "    - Presença\n",
    "    - Lista de Exercícios\n",
    "    - Prova/Projeto"
   ]
  },
  {
   "cell_type": "markdown",
   "metadata": {},
   "source": [
    "<a name = instalacao></a>\n",
    "# 🐍 Primeiros passos: Seu computador entende Python?\n",
    "***\n",
    "## Usuários Linux e Mac\n",
    "Deram sorte. O seu computador já tem python nativo. Avance uma casa.\n",
    "\n",
    "## Usuários Windows\n",
    "**Pq???**\n",
    "\n",
    "Iremos instalar o Python, mas ele não é um programa normal que você abre e \"roda\", ele serve apenas para seu computador entender o que escrevermos na linguagem. Para isso vamos nesse link: <a href=\"https://www.python.org\">Instalador Python</a>, e na aba de *downloads* clicar na opçao mais a direita que aparecer.\n",
    "\n",
    "Basta iniciarmos o instalador baixado, mas <font color='red'> **cuidado, você deve marcar a opção de adicionar o Python no seu PATH do Windows para que funcione!** </font>\n",
    "\n",
    "<img src=\"https://phoenixnap.com/kb/wp-content/uploads/2021/04/python-setup.png\" width=\"500\"/><br>\n",
    "\n",
    "Em seguida podemos seguir sem grandes novidades e perigos.\n",
    "\n",
    "***\n",
    "**Solução alternativa:** Windows Store\n",
    "***\n",
    "\n",
    "## Verificação - Todos os usuários\n",
    "Para conferir a instalação devemos abrir o terminal do nosso computador. \n",
    "- **Em Windows:** devemos usar <b>Windows + R</b> escrever <b>\"cmd\"</b> e pressionar <b>Enter</b>\n",
    "- **No Linux:** usamos <b>Ctrl + Alt + T</b>\n",
    "- **No MacOS:** apertaremos <b>Command + Espaço</b> e procuraremos por <b>Terminal</b> na barra do <i>Spotlight</i>. \n",
    "    \n",
    "E dentro do terminal escreveremos \n",
    "\n",
    "***\n",
    "    python --version\n",
    "      ou\n",
    "    python3 --version\n",
    "***\n",
    "\n",
    "a saida esperada é algo como <b>\"Python 3.9.5\"</b>, ou seja, a linguagem seguida da versão que instalamos dela!\n"
   ]
  },
  {
   "cell_type": "markdown",
   "metadata": {},
   "source": [
    "<a name = ide></a>\n",
    "# 💻 Ambiente de desenvolvimento\n",
    "***\n",
    "Ambientes de Desenvolvimentos, ou IDEs, são nosso campo de batalha, é onde a criança chora e a mãe não vê! É aqui que vamos escrever nossos códigos, inclusive, se você está lendo isso no seu computador, é por quê já está em uma IDE: o _Jupyter Notebook_ (ou qualquer leitor de _notebooks_ de Python como o _Google Colab_).\n",
    "\n",
    "## Qual usar?\n",
    "Existem infinitas IDEs para os mais variádos gostos e linguages, por exemplo:\n",
    "\n",
    "- **Jupyter Notebook (Jupyter Lab):** \n",
    "    - Permite inserir e rodar não apenas códigos mas também texto, imagens e muito mais.\n",
    "    - Tem a capacidade de rodar pequenos trechos de códigos um por vez o que nos ajuda a entender o que está acontecendo e manter a organização e ter relatórios de análise de dados com muito facilidade\n",
    "- **Visual Studio Code:** Super robusta e utilizada por desenvolvedores, conta com ferramentas que facilitam nosso desenvolvimento (como o *debug* que veremos mais a frente!).\n",
    "- **Google Colab:** Interessante para quem tem problema com hardware ou instalação. Fácil acesso e uso. **Utilizar apenas em última instância para não criar vícios difíceis de remover mais tarde.**\n",
    "- **Menções honrosas:** PyCharm, Spyder, Eclipse, RStudio, Sublime...\n",
    "\n",
    "Qual IDE usar vai depender muito de suas necessidades, mas recomendo que todos usem um leitor de _notebooks_ no curso para que vocês possam acompanhar o material fornecido e também consiguirem rodar pequenos pedaços isolados de código sem ter que criar um arquivo novo para cada um.\n",
    "\n",
    "## Instalação do _Jupyter Notebook_\n",
    "Para instalar o _Jupyter Notebook_ devemos abrir nosso terminal e escrever\n",
    "***\n",
    "\n",
    "    pip install notebook\n",
    "    \n",
    "    pip3 install notebook\n",
    "***\n",
    "o **pip** é um amigo nosso que servirá para instalar complementos para o Python. Após a instalação ser completa basta escrever \n",
    "\n",
    "***\n",
    "    jupyter notebook\n",
    "*** \n",
    "\n",
    "e seu navegador padrão será aberto rodando o _Jupyter_, note que você não pode fechar o terminal que usou para abrir, se não sua IDE não irá funcionar.\n",
    "\n",
    "Na tela inicial do _Jupyter_ temos o **_new_** e o **_upload_**, no _new_ podemos iniciar um _notebook_ novo na opção Python3, e no _upload_ adicionar um que baixamos, por exemplo. Vamos tentar com este que estou usando?\n",
    "\n",
    "\n",
    "Agora dentro de um _notebook_ podemos brincar com os blocos de _markdown_ onde escrevemos textos (desde texto puro até o uso de HTML para estilizar nosso conteúdo, nesse link vocês podem consultar muitas funcionalidades: <a href=\"https://medium.com/analytics-vidhya/the-ultimate-markdown-guide-for-jupyter-notebook-d5e5abf728fd\">Tutorial de Markdown</a>), e os blocos de código onde programaremos e iremos rodar usando os botões estilo multimídia na barra superior. Não se preocupem com o resto, aprenderemos com o tempo.\n",
    "\n",
    "## Instalação do _Visual Studio Code_\n",
    "Para instalar o _Visual Studio Code_ basta baixarmos no site: <a href=\"https://code.visualstudio.com\">Visual Studio Code</a>, e seguir a instalação, apenas percebam que <font color=\"red\">**na última tela devemos marcar tudo como na foto abaixo**:</font>\n",
    "\n",
    "<img src=\"https://s3-sa-east-1.amazonaws.com/lcpi/627ae5e6-7486-400b-adcf-fe1f7fe71d0e.png\" width=\"500\"/>\n",
    "\n",
    "E para finalmente rodarmos Python precisaremos de algumas gracinhas que nos ajudarão muito: as extensões. Elas podem ser fácilmente baixadas clicando aqui:\n",
    "\n",
    "<img src=\"https://image.ibb.co/nqiKtd/Screenshot_32.png\" width=\"500\"/>\n",
    "\n",
    "Em seguida podemos clicar em _file_ criar um arquivo com terminação _\".py\"_ e ser feliz! 😁\n",
    "\n",
    "## Opcional: Anaconda\n",
    "Anaconda é uma caixa de ferramenta que instala diversos programas e módulos comumente utilizados em ciência de dados, dentre eles o próprio Jupyter Notebook e pacotes de Machine Learning.\n",
    "\n",
    "Para seguir com a instalação siga o tutorial [neste link](https://www.datacamp.com/community/tutorials/installing-anaconda-windows)"
   ]
  },
  {
   "cell_type": "markdown",
   "metadata": {},
   "source": [
    "## Atalhos do jupyter\n",
    "\n",
    "Para mais informações de como usar o jupyter olhe [este link](https://medium.com/edureka/jupyter-notebook-cheat-sheet-88f60d1aca7)\n",
    "\n",
    "<img src=\"https://miro.medium.com/max/700/1*totJoCc3l7BdeY-mEQ6HHQ.png\" width=\"500\"/>"
   ]
  },
  {
   "cell_type": "markdown",
   "metadata": {},
   "source": [
    "# Obrigado pela atenção de todos! 😄\n",
    "# Parabéns pelo empenho\n",
    "## Qualquer duvida não hesitem em me chamar. 👩‍💻\n",
    "### Programação é treino, teste e erro. Então façam as listas."
   ]
  }
 ],
 "metadata": {
  "kernelspec": {
   "display_name": "Python 3",
   "language": "python",
   "name": "python3"
  },
  "language_info": {
   "codemirror_mode": {
    "name": "ipython",
    "version": 3
   },
   "file_extension": ".py",
   "mimetype": "text/x-python",
   "name": "python",
   "nbconvert_exporter": "python",
   "pygments_lexer": "ipython3",
   "version": "3.8.8"
  }
 },
 "nbformat": 4,
 "nbformat_minor": 4
}
