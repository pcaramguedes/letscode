{
 "cells": [
  {
   "cell_type": "markdown",
   "metadata": {
    "id": "zPVsyTqqlePF"
   },
   "source": [
    "## Funções\n",
    "\n",
    "Até o momento, já vimos diversas funções em Python.\n",
    "\n",
    "- Na primeira aula, tivemos contato com a função `print()`, que exibe um texto na tela;\n",
    "\n",
    "- Depois, aprendemos sobre a função `input()`, que serve pra capturar algo que o usuário digita;\n",
    "\n",
    "- Em seguida, vimos algumas funções aplicada à listas, como a `sorted()`, para ordenar uma lista;\n"
   ]
  },
  {
   "cell_type": "code",
   "execution_count": null,
   "metadata": {
    "colab": {
     "base_uri": "https://localhost:8080/"
    },
    "id": "22COp3BhlePG",
    "outputId": "b125215a-3cf0-46c2-a60b-1a4968e8ee2f"
   },
   "outputs": [
    {
     "name": "stdout",
     "output_type": "stream",
     "text": [
      "Olá\n"
     ]
    }
   ],
   "source": [
    "print(\"Olá\")"
   ]
  },
  {
   "cell_type": "code",
   "execution_count": null,
   "metadata": {
    "colab": {
     "base_uri": "https://localhost:8080/",
     "height": 53
    },
    "id": "7w_2mkdxlePH",
    "outputId": "45400e0c-17ed-4162-fb03-574d5e2317c8"
   },
   "outputs": [
    {
     "name": "stdout",
     "output_type": "stream",
     "text": [
      "digite algo: 5\n"
     ]
    },
    {
     "data": {
      "application/vnd.google.colaboratory.intrinsic+json": {
       "type": "string"
      },
      "text/plain": [
       "'5'"
      ]
     },
     "execution_count": 3,
     "metadata": {
      "tags": []
     },
     "output_type": "execute_result"
    }
   ],
   "source": [
    "variavel = input(\"digite algo: \")\n",
    "variavel"
   ]
  },
  {
   "cell_type": "code",
   "execution_count": null,
   "metadata": {
    "colab": {
     "base_uri": "https://localhost:8080/"
    },
    "id": "DoS34fZElePI",
    "outputId": "f0128222-4449-4f9e-facd-1427c1128978"
   },
   "outputs": [
    {
     "data": {
      "text/plain": [
       "50"
      ]
     },
     "execution_count": 5,
     "metadata": {
      "tags": []
     },
     "output_type": "execute_result"
    }
   ],
   "source": [
    "max([1, 50, 3])"
   ]
  },
  {
   "cell_type": "code",
   "execution_count": null,
   "metadata": {
    "colab": {
     "base_uri": "https://localhost:8080/",
     "height": 35
    },
    "id": "T8-AyFU-lePI",
    "outputId": "104cdf36-a156-4712-ceee-9987f01fd158"
   },
   "outputs": [
    {
     "data": {
      "application/vnd.google.colaboratory.intrinsic+json": {
       "type": "string"
      },
      "text/plain": [
       "'PYTHON'"
      ]
     },
     "execution_count": 6,
     "metadata": {
      "tags": []
     },
     "output_type": "execute_result"
    }
   ],
   "source": [
    "\"python\".upper()"
   ]
  },
  {
   "cell_type": "markdown",
   "metadata": {
    "id": "jl3ob-R_lePI"
   },
   "source": [
    "\n",
    "A intuição sobre funções, então, já nos é familiar:\n",
    "\n",
    "Uma função é um objeto utilizado para **fazer determinadas ações**.\n",
    "\n",
    "Podemos ver uma função como uma \"caixinha\" que pega uma **entrada** (o argumento), faz algum **processamento**, e então **retorna uma saída** (o output)\n",
    "\n",
    "<img src=\"https://s3.amazonaws.com/illustrativemathematics/images/000/000/782/medium/Task_1_8c7a6a9a2e1421586c40f125bd783de3.jpg?1335065782\" width=300>\n",
    "\n",
    "\n",
    "<img src=\"https://1.bp.blogspot.com/_MhOt9n2UJbM/TC6emeqHdqI/AAAAAAAAAiQ/1brsWuWvOC0/s1600/function-machine.png\" width=300>\n"
   ]
  },
  {
   "cell_type": "markdown",
   "metadata": {
    "id": "uTCiPUxElePJ"
   },
   "source": [
    "Aprenderemos agora como criar **nossas próprias funções** em Python!"
   ]
  },
  {
   "cell_type": "markdown",
   "metadata": {
    "id": "xH1LnSwelePJ"
   },
   "source": [
    "A estrutura de **definição de uma função** é dada por:\n",
    "\n",
    "```python\n",
    "def nome_da_funcao(argumentos):\n",
    "    \n",
    "    instrucoes\n",
    "    \n",
    "    return saida\n",
    "```"
   ]
  },
  {
   "cell_type": "markdown",
   "metadata": {
    "id": "o9HlT1XFlePK"
   },
   "source": [
    "Há 5 elementos fundamentais para a criação de novas funções em Python:\n",
    "\n",
    "- Primeiramente, usamos \"def\" para deixar claro que estamos **definindo** uma função;\n",
    "- Depois, damos um **nome** para nossa função;\n",
    "- Em parênteses, falamos quais serão os **argumentos** da função -- esses são os inputs, e em python, esses elementos são opcionais!\n",
    "- Depois, explicitamos qual é o **processamento** feito pela função;\n",
    "- Ao fim, dizemos o que a função irá **retornar** -- esses são os outputs, e em Python esse elemento é opcional!"
   ]
  },
  {
   "cell_type": "markdown",
   "metadata": {
    "id": "Hlio750KlePK"
   },
   "source": [
    "Sempre que quisermos **executar** uma função, basta **chamá-la**, dando os argumentos desejados!\n",
    "\n",
    "```python\n",
    "nome_da_funcao(argumentos)\n",
    "```"
   ]
  },
  {
   "cell_type": "markdown",
   "metadata": {
    "id": "vpkfQWkwlePL"
   },
   "source": [
    "__Uma função sem argumentos e sem return__\n",
    "\n",
    "Apenas imprime algo na tela, mas sempre A MESMA COISA\n"
   ]
  },
  {
   "cell_type": "code",
   "execution_count": 1,
   "metadata": {
    "id": "h1XMziO0lePL"
   },
   "outputs": [],
   "source": [
    "def cumprimenta():\n",
    "    print(\"Olá\")"
   ]
  },
  {
   "cell_type": "markdown",
   "metadata": {
    "id": "bTpXLkH6lePL"
   },
   "source": [
    "__Chamando a função__"
   ]
  },
  {
   "cell_type": "code",
   "execution_count": 5,
   "metadata": {
    "colab": {
     "base_uri": "https://localhost:8080/"
    },
    "id": "gOoXGkFflePL",
    "outputId": "59abd334-4ac0-44aa-f0cd-03022aa64cfb"
   },
   "outputs": [
    {
     "name": "stdout",
     "output_type": "stream",
     "text": [
      "Olá\n",
      "Olá\n",
      "Olá\n",
      "Olá\n"
     ]
    }
   ],
   "source": [
    "for i in range(4):\n",
    "    cumprimenta()"
   ]
  },
  {
   "cell_type": "code",
   "execution_count": 4,
   "metadata": {},
   "outputs": [
    {
     "name": "stdout",
     "output_type": "stream",
     "text": [
      "2\n"
     ]
    }
   ],
   "source": [
    "x = 2\n",
    "print(x)"
   ]
  },
  {
   "cell_type": "markdown",
   "metadata": {
    "id": "FbSh1x0PlePM"
   },
   "source": [
    "__Uma função com argumento, mas sem return__\n",
    "\n",
    "Imprime o que eu mandar na tela, como argumento!"
   ]
  },
  {
   "cell_type": "code",
   "execution_count": 6,
   "metadata": {
    "colab": {
     "base_uri": "https://localhost:8080/"
    },
    "id": "Uvn_dW3olePM",
    "outputId": "1738d064-5704-4cc2-b0aa-123762369314"
   },
   "outputs": [],
   "source": [
    "def cumprimenta(nome):\n",
    "    print(f\"Olá, {nome}\")"
   ]
  },
  {
   "cell_type": "code",
   "execution_count": 9,
   "metadata": {
    "colab": {
     "base_uri": "https://localhost:8080/"
    },
    "id": "dr5UyC--lePM",
    "outputId": "443b3709-0dcb-4b4e-a360-f7059716f5ba"
   },
   "outputs": [
    {
     "name": "stdout",
     "output_type": "stream",
     "text": [
      "Olá, Chris\n",
      "Olá, Yuri\n",
      "Olá, Brian\n"
     ]
    }
   ],
   "source": [
    "cumprimenta(\"Chris\")\n",
    "cumprimenta(\"Yuri\")\n",
    "\n",
    "nome_do_aluno = \"Brian\"\n",
    "cumprimenta(nome_do_aluno)"
   ]
  },
  {
   "cell_type": "markdown",
   "metadata": {
    "id": "4twaKq8VlePM"
   },
   "source": [
    "__Uma função com dois argumentos, mas ainda sem return__\n",
    "\n",
    "Imprime algo na tela, mas dependendo do segundo argumento que eu passar"
   ]
  },
  {
   "cell_type": "code",
   "execution_count": 10,
   "metadata": {
    "id": "vlgU6FQ9lePN"
   },
   "outputs": [],
   "source": [
    "def cumprimenta_horario(nome, hora):\n",
    "    if hora < 12:\n",
    "        print(\"Bom dia,\", nome)\n",
    "    elif hora < 18:\n",
    "        print(\"Boa tarde,\", nome)\n",
    "    else:\n",
    "        print(\"Boa noite,\", nome)\n"
   ]
  },
  {
   "cell_type": "code",
   "execution_count": 12,
   "metadata": {
    "colab": {
     "base_uri": "https://localhost:8080/"
    },
    "id": "QeYkdR1klePN",
    "outputId": "d4953147-325f-4e28-c8e0-4cfeb6de8be4"
   },
   "outputs": [
    {
     "name": "stdout",
     "output_type": "stream",
     "text": [
      "Bom dia, Chris\n",
      "Boa tarde, Yuri\n",
      "Boa noite, Yuri\n"
     ]
    },
    {
     "name": "stdin",
     "output_type": "stream",
     "text": [
      "Digite o nome Brian\n"
     ]
    },
    {
     "name": "stdout",
     "output_type": "stream",
     "text": [
      "Boa noite, Brian\n"
     ]
    }
   ],
   "source": [
    "cumprimenta_horario(\"Chris\", 11)\n",
    "cumprimenta_horario(\"Yuri\", 17)\n",
    "cumprimenta_horario(\"Yuri\", 22)\n",
    "cumprimenta_horario(input(\"Digite o nome\"), 22)"
   ]
  },
  {
   "cell_type": "code",
   "execution_count": 13,
   "metadata": {},
   "outputs": [
    {
     "ename": "TypeError",
     "evalue": "'<' not supported between instances of 'str' and 'int'",
     "output_type": "error",
     "traceback": [
      "\u001b[0;31m---------------------------------------------------------------------------\u001b[0m",
      "\u001b[0;31mTypeError\u001b[0m                                 Traceback (most recent call last)",
      "\u001b[0;32m<ipython-input-13-c3d34ea6e80c>\u001b[0m in \u001b[0;36m<module>\u001b[0;34m\u001b[0m\n\u001b[0;32m----> 1\u001b[0;31m \u001b[0mcumprimenta_horario\u001b[0m\u001b[0;34m(\u001b[0m\u001b[0;36m11\u001b[0m\u001b[0;34m,\u001b[0m \u001b[0;34m\"Chris\"\u001b[0m\u001b[0;34m)\u001b[0m\u001b[0;34m\u001b[0m\u001b[0;34m\u001b[0m\u001b[0m\n\u001b[0m",
      "\u001b[0;32m<ipython-input-10-8b38b2bd43fc>\u001b[0m in \u001b[0;36mcumprimenta_horario\u001b[0;34m(nome, hora)\u001b[0m\n\u001b[1;32m      1\u001b[0m \u001b[0;32mdef\u001b[0m \u001b[0mcumprimenta_horario\u001b[0m\u001b[0;34m(\u001b[0m\u001b[0mnome\u001b[0m\u001b[0;34m,\u001b[0m \u001b[0mhora\u001b[0m\u001b[0;34m)\u001b[0m\u001b[0;34m:\u001b[0m\u001b[0;34m\u001b[0m\u001b[0;34m\u001b[0m\u001b[0m\n\u001b[0;32m----> 2\u001b[0;31m     \u001b[0;32mif\u001b[0m \u001b[0mhora\u001b[0m \u001b[0;34m<\u001b[0m \u001b[0;36m12\u001b[0m\u001b[0;34m:\u001b[0m\u001b[0;34m\u001b[0m\u001b[0;34m\u001b[0m\u001b[0m\n\u001b[0m\u001b[1;32m      3\u001b[0m         \u001b[0mprint\u001b[0m\u001b[0;34m(\u001b[0m\u001b[0;34m\"Bom dia,\"\u001b[0m\u001b[0;34m,\u001b[0m \u001b[0mnome\u001b[0m\u001b[0;34m)\u001b[0m\u001b[0;34m\u001b[0m\u001b[0;34m\u001b[0m\u001b[0m\n\u001b[1;32m      4\u001b[0m     \u001b[0;32melif\u001b[0m \u001b[0mhora\u001b[0m \u001b[0;34m<\u001b[0m \u001b[0;36m18\u001b[0m\u001b[0;34m:\u001b[0m\u001b[0;34m\u001b[0m\u001b[0;34m\u001b[0m\u001b[0m\n\u001b[1;32m      5\u001b[0m         \u001b[0mprint\u001b[0m\u001b[0;34m(\u001b[0m\u001b[0;34m\"Boa tarde,\"\u001b[0m\u001b[0;34m,\u001b[0m \u001b[0mnome\u001b[0m\u001b[0;34m)\u001b[0m\u001b[0;34m\u001b[0m\u001b[0;34m\u001b[0m\u001b[0m\n",
      "\u001b[0;31mTypeError\u001b[0m: '<' not supported between instances of 'str' and 'int'"
     ]
    }
   ],
   "source": [
    "cumprimenta_horario(11, \"Chris\")"
   ]
  },
  {
   "cell_type": "markdown",
   "metadata": {
    "id": "MhCh9jlLlePN"
   },
   "source": [
    "Posso mudar a ordem dos argumentos, mas pra isso devo explicitar exatamente quais são os valores que estou passando para quais argumentos!"
   ]
  },
  {
   "cell_type": "code",
   "execution_count": 17,
   "metadata": {
    "colab": {
     "base_uri": "https://localhost:8080/"
    },
    "id": "8kVPCR6xlePO",
    "outputId": "9ac157ef-7769-4d76-de35-4979b38cf1dd"
   },
   "outputs": [
    {
     "name": "stdout",
     "output_type": "stream",
     "text": [
      "Bom dia, Chris\n",
      "Bom dia, Joao\n"
     ]
    }
   ],
   "source": [
    "nome = \"Chris\"\n",
    "nome_do_aluno = \"Joao\"\n",
    "\n",
    "cumprimenta_horario(hora = 11, nome = nome)\n",
    "cumprimenta_horario(hora = 11, nome = nome_do_aluno)"
   ]
  },
  {
   "cell_type": "markdown",
   "metadata": {
    "id": "tITmMwIulePP"
   },
   "source": [
    "__Mas e o return?__\n",
    "\n",
    "\n",
    "Todas as funções acima de fato fazem alguma operação, mas nós não conseguimos **acessar** o resultado das operações! Veja um exemplo mais claro: uma função que calcula a soma de dois números:"
   ]
  },
  {
   "cell_type": "code",
   "execution_count": 43,
   "metadata": {
    "id": "3OMpu3nAlePP"
   },
   "outputs": [],
   "source": [
    "def calc_soma(x, y):\n",
    "    soma = x + y"
   ]
  },
  {
   "cell_type": "code",
   "execution_count": 22,
   "metadata": {
    "colab": {
     "base_uri": "https://localhost:8080/"
    },
    "id": "lpwb0Xa2lePP",
    "outputId": "4c1192b8-9250-436f-f0d6-0c69ce655f67"
   },
   "outputs": [
    {
     "name": "stdout",
     "output_type": "stream",
     "text": [
      "None\n"
     ]
    }
   ],
   "source": []
  },
  {
   "cell_type": "markdown",
   "metadata": {
    "id": "08c4bpXOlePQ"
   },
   "source": [
    "Note que a função calcula a soma dos números, mas apenas exibe este resultado com o print! \n",
    "\n",
    "**A variável \"soma\" é uma variável que existe apenas no interior da função!!**"
   ]
  },
  {
   "cell_type": "code",
   "execution_count": null,
   "metadata": {
    "colab": {
     "base_uri": "https://localhost:8080/",
     "height": 166
    },
    "id": "ms7-IRAvlePQ",
    "outputId": "0ff0a4b4-301f-4e2a-cfdb-f4b740180218"
   },
   "outputs": [],
   "source": [
    "vlr_soma = calc_soma(10, 5)\n",
    "print(vlr_soma)"
   ]
  },
  {
   "cell_type": "code",
   "execution_count": 44,
   "metadata": {},
   "outputs": [],
   "source": [
    "calc_soma(10, 5)"
   ]
  },
  {
   "cell_type": "code",
   "execution_count": 45,
   "metadata": {},
   "outputs": [
    {
     "name": "stdout",
     "output_type": "stream",
     "text": [
      "None\n"
     ]
    }
   ],
   "source": [
    "vlr = calc_soma(10, 5)\n",
    "print(vlr)"
   ]
  },
  {
   "cell_type": "markdown",
   "metadata": {
    "id": "cjTCSTtclePR"
   },
   "source": [
    "Se quisermos armazenar o valor da soma, podemos **retornar** o valor desta variável!\n",
    "\n",
    "**OBS.:** apenas o **valor** da variável é retornado, não o nome dela!!\n",
    "\n",
    "Fora da função, o nome de variável \"soma\" ainda continua não existindo!!"
   ]
  },
  {
   "cell_type": "code",
   "execution_count": 50,
   "metadata": {
    "id": "n6NUm_rIlePR"
   },
   "outputs": [],
   "source": [
    "def calc_soma_return(x, y):\n",
    "    z = x + y\n",
    "    return z"
   ]
  },
  {
   "cell_type": "code",
   "execution_count": 52,
   "metadata": {},
   "outputs": [
    {
     "data": {
      "text/plain": [
       "15"
      ]
     },
     "execution_count": 52,
     "metadata": {},
     "output_type": "execute_result"
    }
   ],
   "source": [
    "z = calc_soma_return(10, 5)\n",
    "z"
   ]
  },
  {
   "cell_type": "code",
   "execution_count": 47,
   "metadata": {},
   "outputs": [
    {
     "data": {
      "text/plain": [
       "15"
      ]
     },
     "execution_count": 47,
     "metadata": {},
     "output_type": "execute_result"
    }
   ],
   "source": [
    "calc_soma_return(10, 5)"
   ]
  },
  {
   "cell_type": "code",
   "execution_count": 26,
   "metadata": {
    "colab": {
     "base_uri": "https://localhost:8080/"
    },
    "id": "UAeayd60lePR",
    "outputId": "da005c84-02a8-4541-8705-d63a7b43be52"
   },
   "outputs": [
    {
     "name": "stdout",
     "output_type": "stream",
     "text": [
      "25\n"
     ]
    }
   ],
   "source": [
    "vlr_soma = calc_soma_return(10, 5)\n",
    "print(vlr_soma + 10)"
   ]
  },
  {
   "cell_type": "code",
   "execution_count": 53,
   "metadata": {},
   "outputs": [
    {
     "ename": "NameError",
     "evalue": "name 'cumprimento' is not defined",
     "output_type": "error",
     "traceback": [
      "\u001b[0;31m---------------------------------------------------------------------------\u001b[0m",
      "\u001b[0;31mNameError\u001b[0m                                 Traceback (most recent call last)",
      "\u001b[0;32m<ipython-input-53-db13cc0f0516>\u001b[0m in \u001b[0;36m<module>\u001b[0;34m\u001b[0m\n\u001b[1;32m      3\u001b[0m     \u001b[0mcumprimento\u001b[0m \u001b[0;34m=\u001b[0m \u001b[0;34m\"Boa Tarde\"\u001b[0m\u001b[0;34m\u001b[0m\u001b[0;34m\u001b[0m\u001b[0m\n\u001b[1;32m      4\u001b[0m \u001b[0;34m\u001b[0m\u001b[0m\n\u001b[0;32m----> 5\u001b[0;31m \u001b[0mprint\u001b[0m\u001b[0;34m(\u001b[0m\u001b[0mcumprimento\u001b[0m\u001b[0;34m)\u001b[0m\u001b[0;34m\u001b[0m\u001b[0;34m\u001b[0m\u001b[0m\n\u001b[0m",
      "\u001b[0;31mNameError\u001b[0m: name 'cumprimento' is not defined"
     ]
    }
   ],
   "source": [
    "hora = 12\n",
    "if hora >= 13:\n",
    "    cumprimento = \"Boa Tarde\"\n",
    "\n",
    "print(cumprimento)"
   ]
  },
  {
   "cell_type": "code",
   "execution_count": 94,
   "metadata": {},
   "outputs": [
    {
     "name": "stdout",
     "output_type": "stream",
     "text": [
      "0\n",
      "1\n",
      "2\n",
      "3\n",
      "3\n"
     ]
    }
   ],
   "source": [
    "def imprime_numero(n):\n",
    "    for i in range(n):\n",
    "        print(i)\n",
    "        if i == 3:\n",
    "            return i\n",
    "vlr = imprime_numero(10)\n",
    "\n",
    "print(vlr)"
   ]
  },
  {
   "cell_type": "markdown",
   "metadata": {
    "id": "DgdyiifolePT"
   },
   "source": [
    "Daí, basta armazenar o resultado retornado em uma variável, **como fazíamos com o input()!**"
   ]
  },
  {
   "cell_type": "markdown",
   "metadata": {
    "id": "M_nBChe1lePU"
   },
   "source": [
    "Vamos elaborar um pouco mais?\n",
    "\n",
    "Que tal fazermos uma função calculadora?"
   ]
  },
  {
   "cell_type": "code",
   "execution_count": 57,
   "metadata": {
    "id": "aKyIikgVlePU"
   },
   "outputs": [],
   "source": [
    "def cumprimenta_horario(nome, hora):\n",
    "    if hora < 12:\n",
    "        cumprimento = f\"Bom dia, {nome}\"\n",
    "    elif hora < 18:\n",
    "        cumprimento = f\"Boa tarde, {nome}\"\n",
    "    else:\n",
    "        cumprimento = f\"Boa noite, {nome}\"\n",
    "    return cumprimento"
   ]
  },
  {
   "cell_type": "code",
   "execution_count": 59,
   "metadata": {
    "colab": {
     "base_uri": "https://localhost:8080/"
    },
    "id": "mdhuzWuvlePU",
    "outputId": "431645ac-50ba-43d9-a470-426869ebd176"
   },
   "outputs": [
    {
     "name": "stdout",
     "output_type": "stream",
     "text": [
      "Bom dia, Chris\n",
      "Boa tarde, Yuri\n",
      "Boa noite, Chris\n"
     ]
    }
   ],
   "source": [
    "cumprimento_matutino = cumprimenta_horario(\"Chris\", 10)\n",
    "cumprimento_tarde = cumprimenta_horario(\"Yuri\", 13)\n",
    "cumprimento_noite = cumprimenta_horario(\"Chris\", 20)\n",
    "\n",
    "print(cumprimento_matutino)\n",
    "print(cumprimento_tarde)\n",
    "print(cumprimento_noite)\n"
   ]
  },
  {
   "cell_type": "markdown",
   "metadata": {
    "id": "3DdmrHbklePV"
   },
   "source": [
    "\n",
    "Podemos chamar uma função dentro de outra função? Sim!\n",
    "\n",
    "Podemos fazer uma função que calcula a média entre dois números, utilizando a função que calcula a soma entre dois números"
   ]
  },
  {
   "cell_type": "code",
   "execution_count": 60,
   "metadata": {
    "id": "trFIr0V3lePV"
   },
   "outputs": [],
   "source": [
    "def calculadora(x, y):\n",
    "    operacao = input(\"Digite a operacao (+,-,*,/): \")\n",
    "    if operacao == \"+\":\n",
    "        resultado = x + y\n",
    "        \n",
    "    elif operacao == \"-\":\n",
    "        resultado = x - y\n",
    "        \n",
    "    elif operacao == \"*\":\n",
    "        resultado = x * y\n",
    "        \n",
    "    else:\n",
    "        resultado = x / y\n",
    "\n",
    "    return resultado\n",
    "\n",
    "     "
   ]
  },
  {
   "cell_type": "code",
   "execution_count": 65,
   "metadata": {
    "id": "Loj2zbuKlePV"
   },
   "outputs": [
    {
     "name": "stdin",
     "output_type": "stream",
     "text": [
      "Digite a operacao (+,-,*,/):  /\n"
     ]
    },
    {
     "data": {
      "text/plain": [
       "2.2"
      ]
     },
     "execution_count": 65,
     "metadata": {},
     "output_type": "execute_result"
    }
   ],
   "source": [
    "calculadora(11, 5)"
   ]
  },
  {
   "cell_type": "code",
   "execution_count": null,
   "metadata": {
    "id": "w8IbodbylePW"
   },
   "outputs": [],
   "source": []
  },
  {
   "cell_type": "code",
   "execution_count": null,
   "metadata": {
    "id": "dxPuMt8ZlePW"
   },
   "outputs": [],
   "source": []
  },
  {
   "cell_type": "markdown",
   "metadata": {
    "id": "OH8_-jLhlePX"
   },
   "source": [
    "Também é possível utilizar a função calculadora para definir uma função que calcula a média entre dois números:"
   ]
  },
  {
   "cell_type": "code",
   "execution_count": 74,
   "metadata": {},
   "outputs": [],
   "source": [
    "def soma_numeros(x, y):\n",
    "    soma = x + y\n",
    "    return soma"
   ]
  },
  {
   "cell_type": "code",
   "execution_count": 70,
   "metadata": {
    "id": "7vT1zzHflePX"
   },
   "outputs": [],
   "source": [
    "def media(x, y):\n",
    "    media = soma_numeros(x, y)/2 #(x+y)/2\n",
    "    return media"
   ]
  },
  {
   "cell_type": "code",
   "execution_count": null,
   "metadata": {},
   "outputs": [],
   "source": []
  },
  {
   "cell_type": "code",
   "execution_count": 75,
   "metadata": {
    "id": "dVIW1ks6lePX"
   },
   "outputs": [
    {
     "data": {
      "text/plain": [
       "5.0"
      ]
     },
     "execution_count": 75,
     "metadata": {},
     "output_type": "execute_result"
    }
   ],
   "source": [
    "media(6, 4)"
   ]
  },
  {
   "cell_type": "code",
   "execution_count": 76,
   "metadata": {},
   "outputs": [],
   "source": [
    "def media(x, y):\n",
    "    media = soma_numeros(float(input(\"Digite vlr:\")), y)/2 #(x+y)/2\n",
    "    return media"
   ]
  },
  {
   "cell_type": "code",
   "execution_count": 77,
   "metadata": {},
   "outputs": [
    {
     "name": "stdin",
     "output_type": "stream",
     "text": [
      "Digite vlr: 10\n"
     ]
    },
    {
     "data": {
      "text/plain": [
       "7.0"
      ]
     },
     "execution_count": 77,
     "metadata": {},
     "output_type": "execute_result"
    }
   ],
   "source": [
    "media(6, 4)"
   ]
  },
  {
   "cell_type": "markdown",
   "metadata": {},
   "source": [
    "media(6, 4) -> x = 6, y = 4\n",
    "media = soma_numeros(input, y)/2 -> media = soma_numeros(input, 4)/2"
   ]
  },
  {
   "cell_type": "code",
   "execution_count": 89,
   "metadata": {},
   "outputs": [],
   "source": [
    "def soma(x, y):\n",
    "    return x + y\n",
    "\n",
    "def subtrai(x, y):\n",
    "    return x - y\n",
    "\n",
    "def divide(x, y):\n",
    "    return x / y + 1\n",
    "\n",
    "def multiplica(x, y):\n",
    "    return x * y"
   ]
  },
  {
   "cell_type": "code",
   "execution_count": 90,
   "metadata": {},
   "outputs": [],
   "source": [
    "def calculadora(x, y, operacao):\n",
    "    if operacao == \"+\":\n",
    "        resultado = soma(x, y)\n",
    "        \n",
    "    elif operacao == \"-\":\n",
    "        resultado = subtrai(x, y)\n",
    "        \n",
    "    elif operacao == \"*\":\n",
    "        resultado = multiplica(x, y)\n",
    "        \n",
    "    else:\n",
    "        resultado = divide(x, y)\n",
    "\n",
    "    return resultado"
   ]
  },
  {
   "cell_type": "code",
   "execution_count": 91,
   "metadata": {},
   "outputs": [
    {
     "name": "stdout",
     "output_type": "stream",
     "text": [
      "15\n",
      "5\n",
      "50\n",
      "3.0\n"
     ]
    }
   ],
   "source": [
    "print(calculadora(10, 5, \"+\"))\n",
    "print(calculadora(10, 5, \"-\"))\n",
    "print(calculadora(10, 5, \"*\"))\n",
    "print(calculadora(10, 5, \"/\"))"
   ]
  },
  {
   "cell_type": "markdown",
   "metadata": {
    "id": "xhUTkSbqlePX"
   },
   "source": [
    "---\n",
    "# Funções recursivas\n",
    "\n",
    "Mas podemos ir além: **chamar a mesma função dentro dela mesma!**"
   ]
  },
  {
   "cell_type": "markdown",
   "metadata": {
    "id": "Iy8tkIfjlePY"
   },
   "source": [
    "Existem problemas que são naturalmente recursivos, como, por exemplo, fatorial:\n",
    "\n",
    "5! = 5\\*4\\*3\\*2\\*1\n",
    "\n",
    "5\\*4! = 5\\*4\\*3! = 5\\*4\\*3\\*2! = 5\\*4\\*3\\*2\\*1! = 5\\*4\\*3\\*2\\*1"
   ]
  },
  {
   "cell_type": "markdown",
   "metadata": {
    "id": "wX3bT2vxlePY"
   },
   "source": [
    "n*(n-1)*(n-2)*(n-3)...(1)"
   ]
  },
  {
   "cell_type": "markdown",
   "metadata": {
    "colab": {
     "base_uri": "https://localhost:8080/"
    },
    "id": "ktPf1JEylePZ",
    "outputId": "aa4cee2d-c027-4a09-dd8a-ba039d4af164"
   },
   "source": [
    "fatorial(5)\n",
    "5*fatorial(4)\n",
    "5*(4*fatorial(3))\n",
    "5*(4*(3*fatorial(2)))\n",
    "5*(4*(3*(2*fatorial(1))))\n",
    "5*(4*(3*(2*1)))"
   ]
  },
  {
   "cell_type": "code",
   "execution_count": 95,
   "metadata": {},
   "outputs": [],
   "source": [
    "def fatorial(n):\n",
    "    print(\"n: \", n)\n",
    "    if n == 1:\n",
    "        print(f\"fatorial({n}): 1\")\n",
    "        return 1\n",
    "    else:\n",
    "        resultado = n*fatorial(n-1)\n",
    "        print(f\"fatorial({n}): {resultado}\")\n",
    "        return resultado"
   ]
  },
  {
   "cell_type": "code",
   "execution_count": 96,
   "metadata": {},
   "outputs": [
    {
     "name": "stdout",
     "output_type": "stream",
     "text": [
      "n:  5\n",
      "n:  4\n",
      "n:  3\n",
      "n:  2\n",
      "n:  1\n",
      "fatorial(1): 1\n",
      "fatorial(2): 2\n",
      "fatorial(3): 6\n",
      "fatorial(4): 24\n",
      "fatorial(5): 120\n"
     ]
    },
    {
     "data": {
      "text/plain": [
       "120"
      ]
     },
     "execution_count": 96,
     "metadata": {},
     "output_type": "execute_result"
    }
   ],
   "source": [
    "fatorial(5)"
   ]
  },
  {
   "cell_type": "markdown",
   "metadata": {
    "id": "xZqFvm4VlePZ"
   },
   "source": [
    "Podemos entender a recursividade ao analisar o que que a função retorna a cada vez que ela é chamada:\n",
    "\n",
    "- fatorial(4)\n",
    "- 4 * fatorial(3)\n",
    "- 4 * (3 * fatorial(2))\n",
    "- 4 * (3 * (2 * fatorial(1)))\n",
    "- 4 * (3 * (2 * 1))\n",
    "\n",
    "Assim, o resultado final é:\n",
    "\n",
    "4 * 3 * 2 * 1"
   ]
  },
  {
   "cell_type": "markdown",
   "metadata": {
    "id": "yk4S1w0MlePY"
   },
   "source": [
    "Visualizando o return de cada execução da função:\n",
    "\n",
    "- potencia(2, 3)\n",
    "- 2 * potencia(2, 2)\n",
    "- 2 * (2 * potencia(2, 1))\n",
    "- 2 * (2 * (2 * potencia(2, 0)))\n",
    "- 2 * (2 * (2 * 1))\n",
    "\n",
    "Assim, o resultado final é:\n",
    "\n",
    "2 * 2 * 2 * 1 = 8"
   ]
  },
  {
   "cell_type": "code",
   "execution_count": 98,
   "metadata": {},
   "outputs": [
    {
     "data": {
      "text/plain": [
       "8"
      ]
     },
     "execution_count": 98,
     "metadata": {},
     "output_type": "execute_result"
    }
   ],
   "source": [
    "def potencia(base, expoente):\n",
    "    if expoente == 0:\n",
    "        return 1\n",
    "    else:\n",
    "        return base*potencia(base, expoente - 1)\n",
    "\n",
    "potencia(2, 3)"
   ]
  },
  {
   "cell_type": "code",
   "execution_count": null,
   "metadata": {},
   "outputs": [],
   "source": []
  },
  {
   "cell_type": "code",
   "execution_count": null,
   "metadata": {},
   "outputs": [],
   "source": []
  },
  {
   "cell_type": "markdown",
   "metadata": {
    "id": "nefbyhmnlePZ"
   },
   "source": [
    "Apesar de **elegantes**, funções recursivas são **pouco eficientes** (pois demandam mais memória), e de leitura mais difícil"
   ]
  },
  {
   "cell_type": "markdown",
   "metadata": {},
   "source": [
    "# Exercício"
   ]
  },
  {
   "cell_type": "markdown",
   "metadata": {},
   "source": [
    "- Escreva uma função que recebe como entrada uma lista de números e retorna True se um número passado como parâmetro está presente na lista."
   ]
  },
  {
   "cell_type": "code",
   "execution_count": null,
   "metadata": {},
   "outputs": [],
   "source": []
  },
  {
   "cell_type": "markdown",
   "metadata": {},
   "source": [
    "- Escreva uma função que recebe como entrada uma lista ordenada de números e retorna o índice do primeiro elemento maior que um elemento limite. Se nenhum elemento da lista for maior que o limite desejado, retorne o valor -1."
   ]
  },
  {
   "cell_type": "code",
   "execution_count": null,
   "metadata": {},
   "outputs": [],
   "source": []
  },
  {
   "cell_type": "markdown",
   "metadata": {},
   "source": [
    "- Faça um programa que converta da notação de 24 horas para a notação de 12 horas. Por exemplo, o programa deve converter 14:25 em 2:25 P.M."
   ]
  },
  {
   "cell_type": "code",
   "execution_count": 105,
   "metadata": {},
   "outputs": [
    {
     "name": "stdout",
     "output_type": "stream",
     "text": [
      "2:25 P.M\n",
      "11:25 A.M\n",
      "12:25 P.M\n",
      "12:00 P.M\n"
     ]
    }
   ],
   "source": [
    "\n",
    "def converte_hora(hora):\n",
    "    split_hora = hora.split(\":\")\n",
    "    hora = int(split_hora[0])\n",
    "    minuto = int(split_hora[1])\n",
    "\n",
    "    sufixo = \"A.M\"\n",
    "    if hora >= 12:\n",
    "        sufixo = \"P.M\"\n",
    "        if hora >= 13:\n",
    "            hora = hora - 12\n",
    "    return f\"{hora}:{minuto:02d} {sufixo}\"\n",
    "\n",
    "print(converte_hora(\"14:25\"))\n",
    "print(converte_hora(\"11:25\"))\n",
    "print(converte_hora(\"12:25\"))\n",
    "print(converte_hora(\"24:00\"))"
   ]
  },
  {
   "cell_type": "markdown",
   "metadata": {},
   "source": [
    "- Construa uma função que receba uma data no formato DD/MM/AAAA e devolva uma string no formato DD de MesPorExtenso de AAAA. "
   ]
  },
  {
   "cell_type": "code",
   "execution_count": 109,
   "metadata": {},
   "outputs": [
    {
     "name": "stdout",
     "output_type": "stream",
     "text": [
      "28 de Setembro de 1991\n"
     ]
    }
   ],
   "source": [
    "def converte_data(data):\n",
    "    split_data = data.split(\"/\")\n",
    "    dia = int(split_data[0])\n",
    "    mes = int(split_data[1])\n",
    "    ano = int(split_data[2])\n",
    "    \n",
    "    meses = [\"Janeiro\", \"Fevereiro\", \"Março\", \"Abril\", \"Maio\", \"Junho\",\n",
    "             \"Julho\", \"Agosto\", \"Setembro\", \"Outubro\", \"Novembro\", \"Dezembro\"]\n",
    "    return f\"{dia:02d} de {meses[mes - 1]} de {ano}\"\n",
    "\n",
    "print(converte_data(\"28/09/1991\"))"
   ]
  },
  {
   "cell_type": "markdown",
   "metadata": {},
   "source": [
    "- Faça uma função que retorna True se um CPF é válido e False caso contrário"
   ]
  },
  {
   "cell_type": "code",
   "execution_count": 113,
   "metadata": {},
   "outputs": [
    {
     "name": "stdout",
     "output_type": "stream",
     "text": [
      "Texto abc\n",
      "quebra de\n",
      "linha1\n",
      "sdfesdf\n",
      "\n"
     ]
    }
   ],
   "source": [
    "print(f'''Texto abc\n",
    "quebra de\n",
    "linha1\n",
    "sdfesdf\n",
    "''')"
   ]
  },
  {
   "cell_type": "code",
   "execution_count": 114,
   "metadata": {},
   "outputs": [
    {
     "data": {
      "text/plain": [
       "False"
      ]
     },
     "execution_count": 114,
     "metadata": {},
     "output_type": "execute_result"
    }
   ],
   "source": [
    "num = \"a\"\n",
    "\n",
    "while not str(num).isnumeric():\n",
    "    input()"
   ]
  },
  {
   "cell_type": "code",
   "execution_count": 121,
   "metadata": {},
   "outputs": [
    {
     "data": {
      "text/plain": [
       "True"
      ]
     },
     "execution_count": 121,
     "metadata": {},
     "output_type": "execute_result"
    }
   ],
   "source": [
    "isinstance(5, int)"
   ]
  },
  {
   "cell_type": "markdown",
   "metadata": {},
   "source": [
    "# Obrigado pela atenção de todes! 😄\n",
    "# Parabéns pelo empenho\n",
    "## Qualquer duvida não hesitem em me chamar. 👩‍💻\n",
    "### Programação é treino, teste e erro. Então façam as listas."
   ]
  }
 ],
 "metadata": {
  "colab": {
   "name": "Aula 6 - funções.ipynb",
   "provenance": []
  },
  "kernelspec": {
   "display_name": "Python 3",
   "language": "python",
   "name": "python3"
  },
  "language_info": {
   "codemirror_mode": {
    "name": "ipython",
    "version": 3
   },
   "file_extension": ".py",
   "mimetype": "text/x-python",
   "name": "python",
   "nbconvert_exporter": "python",
   "pygments_lexer": "ipython3",
   "version": "3.8.8"
  },
  "varInspector": {
   "cols": {
    "lenName": 16,
    "lenType": 16,
    "lenVar": 40
   },
   "kernels_config": {
    "python": {
     "delete_cmd_postfix": "",
     "delete_cmd_prefix": "del ",
     "library": "var_list.py",
     "varRefreshCmd": "print(var_dic_list())"
    },
    "r": {
     "delete_cmd_postfix": ") ",
     "delete_cmd_prefix": "rm(",
     "library": "var_list.r",
     "varRefreshCmd": "cat(var_dic_list()) "
    }
   },
   "types_to_exclude": [
    "module",
    "function",
    "builtin_function_or_method",
    "instance",
    "_Feature"
   ],
   "window_display": false
  }
 },
 "nbformat": 4,
 "nbformat_minor": 4
}
