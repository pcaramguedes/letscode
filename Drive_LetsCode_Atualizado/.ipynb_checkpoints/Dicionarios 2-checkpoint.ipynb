{
 "cells": [
  {
   "cell_type": "markdown",
   "id": "742ccf33-7f65-470f-a35e-b8a8f08fafbb",
   "metadata": {},
   "source": [
    "# Estrutura de Dados\n",
    "Vocês já conhecem as variáveis e as listas, mas no Python vamos além disso!<br>\n",
    "Hoje aprenderemos novas maneiras de armazenar e esturar nossos dados.<br><br>\n",
    "<div>\n",
    "<img src=\"https://www.phylos.net/wp-content/uploads/2021/03/EstruturaDado.jpg\" width=\"500\"/>\n",
    "</div>"
   ]
  },
  {
   "cell_type": "markdown",
   "id": "3b412aa7-6850-4905-85a1-03770be992a6",
   "metadata": {},
   "source": [
    "## Tópicos de Hoje\n",
    "[Dicionários](#dicio)\n",
    "\n",
    "[Tuplas](#tuplas)\n",
    "\n",
    "[Estrutura de Dados Aplicadas às Funções](#funcoes)\n",
    "    \n",
    "[Exercícios](#exercicios)"
   ]
  },
  {
   "cell_type": "markdown",
   "id": "3fb90812-446b-4338-811b-d255c619e016",
   "metadata": {},
   "source": [
    "## Dicionários <a class=\"anchor\" id=\"dicio\"></a>\n",
    "<br>\n",
    "<div align=\"justify\">\n",
    "&emsp; Dicionários também podem ser pensados analogamente a listas, mas não pensaremos mais no conceito de <i>index</i> e sim em palavras-chave. Assim como um dicionário real possui palavras e suas definições, um dicionário em Python também! Entretanto devemos nos atentar que um dicionário não pode ter duas definições para uma mesma palavra (mas pode ter uma definição única definida por uma lista!)<br>\n",
    "&emsp; Dicionarios são declarados entre chaves, e acessados com colchetes (usando as palavras-chave e não as <i>indexes</i>) ou com a função get() usando a palavra-chave como parâmetro. Além disso com a função keys() podemos listar todas as palavras-chave de um dado dicionário.\n",
    "</div>"
   ]
  },
  {
   "cell_type": "code",
   "execution_count": 13,
   "id": "5ecaacfb-bdb6-4d49-b9e9-8a803ff97a40",
   "metadata": {},
   "outputs": [
    {
     "data": {
      "text/plain": [
       "32"
      ]
     },
     "execution_count": 13,
     "metadata": {},
     "output_type": "execute_result"
    }
   ],
   "source": [
    "lista = [\"Lucas\", 32, \"Empresario\", False]\n",
    "lista[1]"
   ]
  },
  {
   "cell_type": "code",
   "execution_count": 52,
   "id": "2db09bbb-47a1-4f6f-a260-d24df97c0c88",
   "metadata": {},
   "outputs": [
    {
     "name": "stdout",
     "output_type": "stream",
     "text": [
      "Dicionario:  {'nome': ['Lucas', 'Chris'], 'idade': [32, 30], 'profissao': ['Empresario', 'Professor'], 'ehSocio': [True, False]} \n",
      "\n",
      "Chaves:  dict_keys(['nome', 'idade', 'profissao', 'ehSocio']) \n",
      "\n",
      "Valores:  dict_values([['Lucas', 'Chris'], [32, 30], ['Empresario', 'Professor'], [True, False]]) \n",
      "\n",
      "Items:  dict_items([('nome', ['Lucas', 'Chris']), ('idade', [32, 30]), ('profissao', ['Empresario', 'Professor']), ('ehSocio', [True, False])])\n",
      "['nome', 'idade', 'profissao', 'ehSocio']\n"
     ]
    }
   ],
   "source": [
    "pessoas = {\n",
    "    \"nome\": [\"Lucas\", \"Chris\"],\n",
    "    \"idade\": [32, 30],\n",
    "    \"profissao\": [\"Empresario\",\"Professor\"],\n",
    "    \"ehSocio\": [True, False]\n",
    "}\n",
    "\n",
    "#prints de elementos\n",
    "print(\"Dicionario: \", pessoas,\"\\n\")\n",
    "print(\"Chaves: \", pessoas.keys(),\"\\n\")\n",
    "print(\"Valores: \", pessoas.values(),\"\\n\")\n",
    "print(\"Items: \", pessoas.items())\n",
    "\n",
    "print(list(pessoas.keys()))"
   ]
  },
  {
   "cell_type": "code",
   "execution_count": 30,
   "id": "6ad11620-c184-46ad-be54-9bc63725be7b",
   "metadata": {},
   "outputs": [
    {
     "name": "stdout",
     "output_type": "stream",
     "text": [
      "['Empresario', 'Professor']\n",
      "['Empresario', 'Professor']\n",
      "Nao achei a chave\n"
     ]
    }
   ],
   "source": [
    "#get\n",
    "\n",
    "print(pessoas[\"profissao\"])\n",
    "\n",
    "print(pessoas.get(\"profissao\"))\n",
    "\n",
    "print(pessoas.get(\"ehCliente\", \"Nao achei a chave\")) #get(chave, vlr default de retorno caso nao ache)"
   ]
  },
  {
   "cell_type": "code",
   "execution_count": 32,
   "id": "09be0169-e3a1-48e2-a50e-3b0bc713c647",
   "metadata": {},
   "outputs": [
    {
     "data": {
      "text/plain": [
       "62"
      ]
     },
     "execution_count": 32,
     "metadata": {},
     "output_type": "execute_result"
    }
   ],
   "source": [
    "sum(pessoas[\"idade\"])"
   ]
  },
  {
   "cell_type": "markdown",
   "id": "b2a28a1d-3418-4be9-a2f2-9aa5e3705a69",
   "metadata": {},
   "source": [
    "\n",
    "<div align=\"justify\">\n",
    "&emsp; Podemos adicionar itens de um dicionário usando <b>nomeDic[\"novaPalavraChave\"] = valor</b>, podemos atualizar da mesma maneira mas usando uma palavra-chave já existente, ou mesmo usar o método update() com o parâmetro <b>{\"palavraChave\": novoValor}</b>. Já para apagar itens temos várias maneiras: podemos usar o método pop() com a palavra-chave a ser deletada como parâmetro, ou o método popitem() para deletar o último item, por fim temos o método clear() que limpa o dicionário todo.<br>\n",
    "</div>"
   ]
  },
  {
   "cell_type": "code",
   "execution_count": 46,
   "id": "48cdf1cd-adaf-4a8a-bfc3-fdcd644ea016",
   "metadata": {},
   "outputs": [
    {
     "name": "stdout",
     "output_type": "stream",
     "text": [
      "Dicionario inicial: {'nome': 'Lucas', 'idade': [32, 20], 'profissao': 'Empresario'}\n",
      "Dicionario nova chave: {'nome': 'Lucas', 'idade': [32, 20], 'profissao': 'Empresario', 'nacionalidade': 'Brasileiro'}\n",
      "Dicionario nova chave: {'nome': 'Lucas', 'idade': [32, 20], 'profissao': 'Empresario', 'nacionalidade': 'Americana'}\n",
      "Dicionario update: {'nome': 'Lucas', 'idade': 35, 'profissao': 'Empresario', 'nacionalidade': 'Americana'}\n",
      "Dicionario update salario: {'nome': 'Lucas', 'idade': 35, 'profissao': 'Empresario', 'nacionalidade': 'Americana', 'salario': 8000}\n",
      "Dicionario update salario e idade: {'nome': 'Lucas', 'idade': 30, 'profissao': 'Empresario', 'nacionalidade': 'Americana', 'salario': 8500}\n",
      "Dicionario sem idade: {'nome': 'Lucas', 'profissao': 'Empresario', 'nacionalidade': 'Americana', 'salario': 8500}\n",
      "Item removiso: 30\n",
      "Dicionario sem ultima entrada: {'nome': 'Lucas', 'profissao': 'Empresario', 'nacionalidade': 'Americana'}\n",
      "Dicionario vazio: {}\n"
     ]
    }
   ],
   "source": [
    "# funcoes de alteraçao\n",
    "pessoa = {\n",
    "    \"nome\": \"Lucas\",\n",
    "    \"idade\": [32, 20] ,\n",
    "    \"profissao\": \"Empresario\"\n",
    "}\n",
    "\n",
    "print(\"Dicionario inicial:\", pessoa)\n",
    "\n",
    "pessoa[\"nacionalidade\"] = \"Brasileiro\"\n",
    "print(\"Dicionario nova chave:\", pessoa)\n",
    "\n",
    "pessoa[\"nacionalidade\"] = \"Americana\"\n",
    "print(\"Dicionario nova chave:\", pessoa)\n",
    "\n",
    "pessoa.update({\"idade\":35})\n",
    "print(\"Dicionario update:\", pessoa)\n",
    "\n",
    "pessoa.update({\"salario\":8000})\n",
    "print(\"Dicionario update salario:\", pessoa)\n",
    "\n",
    "pessoa.update({\"salario\":8500, \"idade\":30})\n",
    "print(\"Dicionario update salario e idade:\", pessoa)\n",
    "\n",
    "item_removido = pessoa.pop(\"idade\")\n",
    "print(\"Dicionario sem idade:\", pessoa)\n",
    "print(\"Item removiso:\", item_removido)\n",
    "\n",
    "pessoa.popitem()\n",
    "print(\"Dicionario sem ultima entrada:\", pessoa)\n",
    "\n",
    "pessoa.clear()\n",
    "print(\"Dicionario vazio:\", pessoa)"
   ]
  },
  {
   "cell_type": "markdown",
   "id": "c6ab6de2-1821-452b-a6a9-eb4218aea5b3",
   "metadata": {},
   "source": [
    "---\n",
    "<div align=\"justify\">\n",
    "&emsp; Dicionário podem ser usados em <i>loops</i> normalmente também, apenas uma atenção ao uso juntamente do  método items() que pode ser interessante.<br>\n",
    "</div>"
   ]
  },
  {
   "cell_type": "code",
   "execution_count": 51,
   "id": "255e0c00-83b2-4044-b04d-bc379f85391f",
   "metadata": {},
   "outputs": [
    {
     "name": "stdout",
     "output_type": "stream",
     "text": [
      "nome Lucas\n",
      "idade 32\n",
      "profissao Empresario\n",
      "\n",
      "\n",
      "A chave nome possui o valor Lucas\n",
      "A chave idade possui o valor 32\n",
      "A chave profissao possui o valor Empresario\n",
      "Lucas\n",
      "32\n",
      "Empresario\n"
     ]
    }
   ],
   "source": [
    "pessoa = {\n",
    "    \"nome\": \"Lucas\",\n",
    "    \"idade\": 32,\n",
    "    \"profissao\": \"Empresario\"\n",
    "}\n",
    "\n",
    "#loops\n",
    "\n",
    "for chave in pessoa:\n",
    "    print(chave, pessoa[chave])\n",
    "    \n",
    "print(\"\\n\")\n",
    "\n",
    "for chave, valor in pessoa.items():\n",
    "    print(f\"A chave {chave} possui o valor {valor}\")\n",
    "    \n",
    "for valor in pessoa.values():\n",
    "    print(valor)"
   ]
  },
  {
   "cell_type": "markdown",
   "id": "67b01ea0-d29d-4f65-9eff-21e69093f9c5",
   "metadata": {},
   "source": [
    "---\n",
    "<div align=\"justify\">\n",
    "&emsp; No contexto de dicionários o comando <b>in</b> tem muita força. Imagine que você quer adicionar valores em uma chave mas não sabe sequer se ela existe naquele contexto, como poderiamos fazer?<br>\n",
    "</div>"
   ]
  },
  {
   "cell_type": "code",
   "execution_count": 59,
   "id": "80317cda-7679-48d1-b629-8d9d4616658e",
   "metadata": {},
   "outputs": [
    {
     "name": "stdout",
     "output_type": "stream",
     "text": [
      "{'nome': 'Rodrigo', 'curso': ['Java', 'Banco da Dados', 'Data Science', 'Python for Finance']}\n"
     ]
    }
   ],
   "source": [
    "professor = {\n",
    "    \"nome\": \"Rodrigo\",\n",
    "    \"curso\": [\"Python Pro\"]\n",
    "}\n",
    "\n",
    "cursos = [\"Java\", \"Banco da Dados\", \"Data Science\", \"Python for Finance\"]\n",
    "\n",
    "for curso in cursos:\n",
    "    if \"curso\" in professor:\n",
    "        professor[\"curso\"].append(curso)\n",
    "    else:\n",
    "        professor[\"curso\"] = [curso]\n",
    "\n",
    "print(professor)        "
   ]
  },
  {
   "cell_type": "code",
   "execution_count": 56,
   "id": "3ae4397e-5b0b-42b1-ad4d-7ce6ccacb9ae",
   "metadata": {},
   "outputs": [
    {
     "ename": "KeyError",
     "evalue": "'curso'",
     "output_type": "error",
     "traceback": [
      "\u001b[0;31m---------------------------------------------------------------------------\u001b[0m",
      "\u001b[0;31mKeyError\u001b[0m                                  Traceback (most recent call last)",
      "\u001b[0;32m<ipython-input-56-7c05e3461b2c>\u001b[0m in \u001b[0;36m<module>\u001b[0;34m\u001b[0m\n\u001b[1;32m      6\u001b[0m \u001b[0;34m\u001b[0m\u001b[0m\n\u001b[1;32m      7\u001b[0m \u001b[0;32mfor\u001b[0m \u001b[0mcurso\u001b[0m \u001b[0;32min\u001b[0m \u001b[0mcursos\u001b[0m\u001b[0;34m:\u001b[0m\u001b[0;34m\u001b[0m\u001b[0;34m\u001b[0m\u001b[0m\n\u001b[0;32m----> 8\u001b[0;31m     \u001b[0mprofessor\u001b[0m\u001b[0;34m[\u001b[0m\u001b[0;34m\"curso\"\u001b[0m\u001b[0;34m]\u001b[0m\u001b[0;34m.\u001b[0m\u001b[0mappend\u001b[0m\u001b[0;34m(\u001b[0m\u001b[0mcurso\u001b[0m\u001b[0;34m)\u001b[0m\u001b[0;34m\u001b[0m\u001b[0;34m\u001b[0m\u001b[0m\n\u001b[0m\u001b[1;32m      9\u001b[0m \u001b[0;34m\u001b[0m\u001b[0m\n\u001b[1;32m     10\u001b[0m \u001b[0mprint\u001b[0m\u001b[0;34m(\u001b[0m\u001b[0mprofessor\u001b[0m\u001b[0;34m)\u001b[0m\u001b[0;34m\u001b[0m\u001b[0;34m\u001b[0m\u001b[0m\n",
      "\u001b[0;31mKeyError\u001b[0m: 'curso'"
     ]
    }
   ],
   "source": [
    "professor = {\n",
    "    \"nome\": \"Rodrigo\"\n",
    "}\n",
    "\n",
    "cursos = [\"Java\", \"Banco da Dados\", \"Data Science\", \"Python for Finance\"]\n",
    "\n",
    "for curso in cursos:\n",
    "    professor[\"curso\"].append(curso)\n",
    "\n",
    "print(professor)        "
   ]
  },
  {
   "cell_type": "code",
   "execution_count": 60,
   "id": "c571e512-3768-4cba-bc8f-6e91cc36ed5c",
   "metadata": {},
   "outputs": [
    {
     "name": "stdout",
     "output_type": "stream",
     "text": [
      "{'nome': 'Rodrigo', 'curso': ['Java', 'Banco da Dados', 'Data Science', 'Python for Finance']}\n"
     ]
    }
   ],
   "source": [
    "professor = {\n",
    "    \"nome\": \"Rodrigo\"\n",
    "}\n",
    "\n",
    "cursos = [\"Java\", \"Banco da Dados\", \"Data Science\", \"Python for Finance\"]\n",
    "\n",
    "for curso in cursos:\n",
    "    if \"curso\" in professor:\n",
    "        professor[\"curso\"].append(curso)\n",
    "    else:\n",
    "        professor[\"curso\"] = [curso]\n",
    "\n",
    "print(professor)"
   ]
  },
  {
   "cell_type": "markdown",
   "id": "85ee5e44-d00a-457a-a85f-1f6534a3f949",
   "metadata": {},
   "source": [
    "---\n",
    "# Tuplas <a class=\"anchor\" id=\"tuplas\"></a>\n",
    "<br>\n",
    "\n",
    "<div align=\"justify\">\n",
    "&emsp; Tuplas podem ser pensadas como listas mas com algumas restrições: não podemos alterar uma tupla nem em ordem, nem conteúdo. Por que deveriamos usa-las então? Velocidade e organização de código. Um programador ao ver uma tupla sabe que seu conteúdo não pode ser alterado indiscriminadamente, além disso, a capacidade de alteração numa lista exige algoritmos mais complexos e lentos, então trabalhar com tuplas nos permite maior desempenho.<br>\n",
    "&emsp; As tuplas são declaradas entre parênteses, possuem algumas funções nativas semelhantes as listas, como len() e type(), e também são consultadas da mesma maneira com os colchetes. Além disso é importante notar que tuplas aceitam dados mistos dentro de sí.\n",
    "</div>\n"
   ]
  },
  {
   "cell_type": "code",
   "execution_count": 64,
   "id": "5e2c6bbc-fa68-4d6e-9510-a5c62ced6c63",
   "metadata": {},
   "outputs": [
    {
     "name": "stdout",
     "output_type": "stream",
     "text": [
      "('Manga', 34, True, 0.34)\n",
      "True\n",
      "4\n"
     ]
    }
   ],
   "source": [
    "#definicao\n",
    "tupla = (\"Manga\", 34, True, 0.34)\n",
    "print(tupla)\n",
    "print(tupla[2])\n",
    "print(len(tupla))"
   ]
  },
  {
   "cell_type": "markdown",
   "id": "8a15749b-f064-438c-8ee3-3fc57533ae98",
   "metadata": {},
   "source": [
    "\n",
    "<div align=\"justify\">\n",
    "&emsp; Para alterarmos uma tupla precisamos fazer um <i>cast</i> para listas, alterar a lista, e retornar para uma tupla.\n",
    "</div>"
   ]
  },
  {
   "cell_type": "code",
   "execution_count": 65,
   "id": "26880b16-9796-44e8-affa-04a112385fca",
   "metadata": {},
   "outputs": [
    {
     "name": "stdout",
     "output_type": "stream",
     "text": [
      "('Manga', 34, True, 0.34, 'novo_elemento')\n"
     ]
    }
   ],
   "source": [
    "#gambiarra\n",
    "\n",
    "lista = list(tupla)\n",
    "lista.append(\"novo_elemento\")\n",
    "tupla = tuple(lista)\n",
    "print(tupla)"
   ]
  },
  {
   "cell_type": "code",
   "execution_count": 66,
   "id": "6fb3c667-4afa-4ff1-9381-c725e2d09673",
   "metadata": {},
   "outputs": [
    {
     "ename": "TypeError",
     "evalue": "'tuple' object does not support item assignment",
     "output_type": "error",
     "traceback": [
      "\u001b[0;31m---------------------------------------------------------------------------\u001b[0m",
      "\u001b[0;31mTypeError\u001b[0m                                 Traceback (most recent call last)",
      "\u001b[0;32m<ipython-input-66-fe7a2d014a56>\u001b[0m in \u001b[0;36m<module>\u001b[0;34m\u001b[0m\n\u001b[0;32m----> 1\u001b[0;31m \u001b[0mtupla\u001b[0m\u001b[0;34m[\u001b[0m\u001b[0;36m0\u001b[0m\u001b[0;34m]\u001b[0m \u001b[0;34m=\u001b[0m \u001b[0;34m\"banana\"\u001b[0m\u001b[0;34m\u001b[0m\u001b[0;34m\u001b[0m\u001b[0m\n\u001b[0m",
      "\u001b[0;31mTypeError\u001b[0m: 'tuple' object does not support item assignment"
     ]
    }
   ],
   "source": [
    "tupla[0] = \"banana\""
   ]
  },
  {
   "cell_type": "markdown",
   "id": "e8243680-3173-4c1e-aacf-85cd450fcb05",
   "metadata": {},
   "source": [
    "\n",
    "<div align=\"justify\">\n",
    "&emsp; Tuplas podem ser percorridas em loop igualmente as listas, além disso podemos concatenar tuplas com o + e multiplicar elas por inteiros usando *.\n",
    "</div>"
   ]
  },
  {
   "cell_type": "code",
   "execution_count": 70,
   "id": "ae394e1c-7eeb-496b-be5d-2ce9c6c7b2e2",
   "metadata": {},
   "outputs": [
    {
     "name": "stdout",
     "output_type": "stream",
     "text": [
      "(1, 2, 3, 4, 5, 6)\n",
      "(1, 2, 3, 1, 2, 3, 1, 2, 3)\n"
     ]
    }
   ],
   "source": [
    "#ex\n",
    "tupla1 = (1,2,3)\n",
    "tupla2 = (4,5,6)\n",
    "print(tupla1 + tupla2)\n",
    "print(tupla1*3)"
   ]
  },
  {
   "cell_type": "code",
   "execution_count": 71,
   "id": "a234daf2-42ad-4f3a-b9a8-6ec13fc284c5",
   "metadata": {},
   "outputs": [
    {
     "name": "stdout",
     "output_type": "stream",
     "text": [
      "Manga\n",
      "34\n",
      "True\n",
      "0.34\n",
      "novo_elemento\n"
     ]
    }
   ],
   "source": [
    "for item in tupla:\n",
    "    print(item)\n"
   ]
  },
  {
   "cell_type": "markdown",
   "id": "1c6a20aa-fd16-420a-8025-f7a8077044e8",
   "metadata": {},
   "source": [
    "\n",
    "<div align=\"justify\">\n",
    "&emsp; Por fim tuplas também possuem os métodos count() e index() que, respectivamente, contam quantos dados iguais ao que passarmos a tupla possui, e em qual <i>index</i> está o primeiro dado igual ao que passamos.\n",
    "</div>"
   ]
  },
  {
   "cell_type": "code",
   "execution_count": 78,
   "id": "02917b01-d9e5-4de2-bff3-e7154ec3ac11",
   "metadata": {},
   "outputs": [
    {
     "name": "stdout",
     "output_type": "stream",
     "text": [
      "('Manga', 34, True, 0.34, 'novo_elemento', 'Manga', 2, 'Manga', 2)\n",
      "3\n",
      "1\n"
     ]
    }
   ],
   "source": [
    "print(tupla)\n",
    "print(tupla.count(\"Manga\"))\n",
    "print(tupla.index(34))"
   ]
  },
  {
   "cell_type": "markdown",
   "id": "c881a97f-6afd-4317-b464-6da07cfa59a3",
   "metadata": {},
   "source": [
    "# Estrutura de Dados Aplicadas as Funções <a class=\"anchor\" id=\"funcoes\"></a>\n",
    "Funções podem ser mais flexíveis do que o que vimos até agora. Ao usar o conceito de desempacotamento, por exemplo, podemos retornar duas ou mais variáveis na mesma função:"
   ]
  },
  {
   "cell_type": "code",
   "execution_count": 79,
   "id": "fbb737ca-f3cc-4f4f-a2fc-c173e4615b0f",
   "metadata": {},
   "outputs": [
    {
     "data": {
      "text/plain": [
       "(1, 2, 3)"
      ]
     },
     "execution_count": 79,
     "metadata": {},
     "output_type": "execute_result"
    }
   ],
   "source": [
    "tupla1 = (1,2,3)\n",
    "tupla2 = 1, 2, 3\n",
    "tupla2"
   ]
  },
  {
   "cell_type": "code",
   "execution_count": 90,
   "id": "5a0f7bb2-66a7-4f2a-b139-191e68ec02f0",
   "metadata": {},
   "outputs": [
    {
     "name": "stdout",
     "output_type": "stream",
     "text": [
      "(23, -5, 4)\n",
      "================================\n",
      "(23, -5, 4)\n",
      "23 -5 4\n"
     ]
    }
   ],
   "source": [
    "#maior menor\n",
    "def maior_menor(lista_de_notas):\n",
    "    maior = max(lista_de_notas)\n",
    "    menor = min(lista_de_notas)\n",
    "    tamanho = len(lista_de_notas)\n",
    "    return maior, menor, tamanho\n",
    "\n",
    "meus_numeros = [-5, 10, 2, 23]\n",
    "\n",
    "print(maior_menor(meus_numeros))\n",
    "\n",
    "print(\"=\"*32)\n",
    "tupla_retorno = maior_menor(meus_numeros)\n",
    "print(tupla_retorno)\n",
    "\n",
    "maior = tupla_retorno[0]\n",
    "menor = tupla_retorno[1]\n",
    "tamanho = tupla_retorno[2]\n",
    "\n",
    "x, y, z = maior_menor(meus_numeros)\n",
    "print(x, y, z)\n",
    "\n",
    "\n"
   ]
  },
  {
   "cell_type": "code",
   "execution_count": 88,
   "id": "cece0c68-de83-4ff7-a8c4-420295f6c56a",
   "metadata": {},
   "outputs": [
    {
     "name": "stdout",
     "output_type": "stream",
     "text": [
      "10\n",
      "5\n",
      "5\n"
     ]
    }
   ],
   "source": [
    "def soma_numeros(x, y):\n",
    "    return x + y\n",
    "\n",
    "print(soma_numeros(5, 5))\n",
    "\n",
    "vlr1 = 2\n",
    "vlr2 = 3\n",
    "\n",
    "print(soma_numeros(vlr1, vlr2))\n",
    "\n",
    "salario = 2\n",
    "nome = 3\n",
    "\n",
    "print(soma_numeros(salario, nome))"
   ]
  },
  {
   "cell_type": "markdown",
   "id": "093cb6a2-fcd0-4fd1-a4b0-88cca7cf359b",
   "metadata": {},
   "source": [
    "\n",
    "<div align=\"justify\">\n",
    "&emsp; Agora com o conceito de tuplas podemos, também, passar parâmetros de maneira variável para dentro de uma função, para isso basta colocar um asterisco antes do nome do parâmetro, e dentro da função ele será trabalhado como uma tupla!<br>\n",
    "</div>"
   ]
  },
  {
   "cell_type": "code",
   "execution_count": 96,
   "id": "3464e399-6b29-4bb2-896b-147bfc0d7f8a",
   "metadata": {},
   "outputs": [
    {
     "name": "stdout",
     "output_type": "stream",
     "text": [
      "Adicionando:  Queijo ...\n",
      "Adicionando:  Pepperone ...\n",
      "Adicionando:  Bacon ...\n",
      "Pizza montada\n",
      "\n",
      "\n",
      "Adicionando:  Queijo ...\n",
      "Adicionando:  Pepperone ...\n",
      "Pizza montada\n",
      "\n",
      "\n",
      "Adicionando:  ('Queijo', 'Pepperone') ...\n",
      "Adicionando:  banana ...\n",
      "Pizza montada\n"
     ]
    }
   ],
   "source": [
    "#args\n",
    "def monta_pizza(*ingredientes):\n",
    "    for ingrediente in ingredientes:\n",
    "        print(\"Adicionando: \", ingrediente,\"...\")\n",
    "    print(\"Pizza montada\")\n",
    "\n",
    "monta_pizza(\"Queijo\", \"Pepperone\", \"Bacon\")\n",
    "print(\"\\n\")\n",
    "monta_pizza(\"Queijo\", \"Pepperone\")\n",
    "print(\"\\n\")\n",
    "monta_pizza((\"Queijo\", \"Pepperone\"), \"banana\")"
   ]
  },
  {
   "cell_type": "markdown",
   "id": "0cedad10-3059-423f-9c7d-032d70952d5c",
   "metadata": {},
   "source": [
    "---\n",
    "<div align=\"justify\">\n",
    "&emsp; Note, entretanto, que este método não é eficiente se quisermos ter maior controle daquilo que nos foi passado pelos parâmetros uma vez que recebemos os dados sem ordem controlada, ou mesmo identificadores, e para isso podemos usar dicionários! Basta marcarmos o nome do parâmetro com dois asteriscos antes dele. <br>\n",
    "</div>"
   ]
  },
  {
   "cell_type": "code",
   "execution_count": 108,
   "id": "0ab75d6a-eb6c-4a58-88a1-c288d6e726e9",
   "metadata": {},
   "outputs": [
    {
     "name": "stdout",
     "output_type": "stream",
     "text": [
      "Chris 32\n",
      "Chris 32\n",
      "Chris 32\n"
     ]
    }
   ],
   "source": [
    "def ola(nome, idade):\n",
    "    print(nome, int(idade))\n",
    "\n",
    "ola(\"Chris\", 32)\n",
    "\n",
    "ola(nome = \"Chris\", idade = 32)\n",
    "\n",
    "ola(idade = 32, nome = \"Chris\")\n",
    "\n",
    "#ola(32, \"Chris\") da erro"
   ]
  },
  {
   "cell_type": "code",
   "execution_count": 101,
   "id": "1b9800ad-0dba-43a6-ac7c-4c8c9f09cb7f",
   "metadata": {},
   "outputs": [
    {
     "name": "stdout",
     "output_type": "stream",
     "text": [
      "Nome: Chris\n",
      "CPF: 123\n",
      "profissao: Cientista\n",
      "================================\n"
     ]
    }
   ],
   "source": [
    "#kwargs\n",
    "\n",
    "def imprime_usuario(**usuario):\n",
    "    if \"nome\" in usuario:\n",
    "        print(f\"Nome: {usuario['nome']}\")\n",
    "    if \"cpf\" in usuario:\n",
    "        print(f\"CPF: {usuario['cpf']}\")\n",
    "    if \"profissao\" in usuario:\n",
    "        print(f\"profissao: {usuario['profissao']}\")\n",
    "    print(\"=\"*32)\n",
    "\n",
    "imprime_usuario(nome = \"Chris\", cpf = \"123\", profissao = \"Cientista\")"
   ]
  },
  {
   "cell_type": "markdown",
   "id": "964538dd-c63b-426d-9236-c475d91749ca",
   "metadata": {},
   "source": [
    "---\n",
    "<div align=\"justify\">\n",
    "&emsp; Caso você já esteja trabalhando com um dicionário e queira passar ele como parâmetro na função basta usar dois asteriscos antes do nome dele na chamada e ele já virá desmenbradinho para ser usado! 😃<br>\n",
    "</div>"
   ]
  },
  {
   "cell_type": "code",
   "execution_count": 103,
   "id": "0d23d4ed-3221-47ad-bc15-781123575091",
   "metadata": {},
   "outputs": [
    {
     "name": "stdout",
     "output_type": "stream",
     "text": [
      "Nome: Chris\n",
      "CPF: 123\n",
      "profissao: Cientista\n",
      "================================\n"
     ]
    }
   ],
   "source": [
    "#dict as kwargs\n",
    "usuario = {\n",
    "    \"cpf\":\"123\", \n",
    "    \"profissao\":\"Cientista\", \n",
    "    \"nome\":\"Chris\"\n",
    "}\n",
    "\n",
    "imprime_usuario(**usuario)"
   ]
  },
  {
   "cell_type": "markdown",
   "id": "a51acb20-e6c2-4c6f-beea-86e25a23693a",
   "metadata": {},
   "source": [
    "# Exercícios <a class=\"anchor\" id=\"exercicios\"></a>\n",
    "\n",
    "- Escreva uma função que conta a quantidade de vogais em um texto e armazena tal quantidade em um dicionário, onde a chave é a vogal considerada."
   ]
  },
  {
   "cell_type": "code",
   "execution_count": 112,
   "id": "5bd8f535-13c5-4a64-bb44-905241f90869",
   "metadata": {},
   "outputs": [
    {
     "name": "stdout",
     "output_type": "stream",
     "text": [
      "{'a': 0, 'e': 10, 'i': 0, 'o': 2, 'u': 1}\n"
     ]
    }
   ],
   "source": [
    "def contar_vogais(texto):\n",
    "    vogais = {\"a\":0,\"e\":0,\"i\":0,\"o\":0,\"u\":0}\n",
    "    \n",
    "    for letras in texto.lower():\n",
    "        if letras in [\"a\",\"A\"]:\n",
    "            vogais[\"a\"] += 1\n",
    "        elif letras in [\"e\",\"é\"]:\n",
    "            vogais[\"e\"] += 1\n",
    "        elif letras == \"i\":\n",
    "            vogais[\"i\"] += 1\n",
    "        elif letras == \"o\":\n",
    "            vogais[\"o\"] += 1\n",
    "        elif letras == \"u\":\n",
    "            vogais[\"u\"] += 1\n",
    "    return vogais\n",
    "        \n",
    "teste = \"este é o texto que serve de teste.\"\n",
    "\n",
    "print(contar_vogais(teste))"
   ]
  },
  {
   "cell_type": "markdown",
   "id": "d7a55c7d-d265-4684-ad0a-24ac5684966e",
   "metadata": {},
   "source": [
    "- Escreva um programa que lê duas notas de vários alunos e armazena tais notas em um dicionário, onde a chave é o nome\n",
    "do aluno. A entrada de dados deve terminar quando for lida uma string vazia como nome. Escreva uma função que retorna a média do aluno, dado seu nome. "
   ]
  },
  {
   "cell_type": "code",
   "execution_count": null,
   "id": "a24982b9-7456-4aac-b6fe-203678563e56",
   "metadata": {},
   "outputs": [],
   "source": [
    "2 -> 200\n",
    "90, 90, 20"
   ]
  },
  {
   "cell_type": "markdown",
   "id": "9dac43ad-4027-4bb9-9b69-5f9622595037",
   "metadata": {},
   "source": [
    "- Uma pista de Kart permite 10 voltas para cada um de 6 corredores. Escreva um programa que leia todos os tempos\n",
    "em segundos e os guarde em um dicionário, onde a chave é o nome do corredor. Ao final diga de quem foi a melhor volta da\n",
    "prova e em que volta; e ainda a classificação final em ordem. O campeão é o que tem a menor média de\n",
    "tempos. (Para facilitar use listas no código e não trabalhe com _input_)."
   ]
  },
  {
   "cell_type": "code",
   "execution_count": null,
   "id": "d844f684-77e4-45d7-9aef-da5265bf7235",
   "metadata": {},
   "outputs": [],
   "source": []
  },
  {
   "cell_type": "code",
   "execution_count": null,
   "id": "525cde38-4a6f-4171-ace2-7bbdfaea0b3d",
   "metadata": {},
   "outputs": [],
   "source": []
  }
 ],
 "metadata": {
  "kernelspec": {
   "display_name": "Python 3 (ipykernel)",
   "language": "python",
   "name": "python3"
  },
  "language_info": {
   "codemirror_mode": {
    "name": "ipython",
    "version": 3
   },
   "file_extension": ".py",
   "mimetype": "text/x-python",
   "name": "python",
   "nbconvert_exporter": "python",
   "pygments_lexer": "ipython3",
   "version": "3.9.7"
  }
 },
 "nbformat": 4,
 "nbformat_minor": 5
}
