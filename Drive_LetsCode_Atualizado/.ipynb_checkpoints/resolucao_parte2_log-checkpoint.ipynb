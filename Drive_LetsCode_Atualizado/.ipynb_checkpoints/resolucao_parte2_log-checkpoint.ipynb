{
 "cells": [
  {
   "cell_type": "markdown",
   "id": "7d3dffdb-ca73-48c9-a61e-4a18f87ed60a",
   "metadata": {},
   "source": [
    "    Receba um valor de k\n",
    "    Receba a lista de caixas\n",
    "    Ordene a lista de caixas de forma decrescente para tentar alocar sempre a maior quantidade de caixas possível por caminhao\n",
    "    Para cada caminhao:\n",
    "        Enquanto nao atingir a capacidade maxima e tiver caixas para checar:\n",
    "            Se: \n",
    "                O total no caminhao mais a caixa verificada estourar a capacidade maxima\n",
    "            Entao:\n",
    "                Verifique a próxima caixa\n",
    "            Caso Contrário:\n",
    "                Adicione a caixa ao caminhao\n",
    "                Adicione o peso da caixa ao total transportado pelo caminhao\n",
    "                Atualize o total de caixas faltantes\n",
    "                Volte a verificar TODAS AS CAIXAS DO INICIO\n",
    "    Se:\n",
    "        restou alguma caixa no galpao\n",
    "    Entao:\n",
    "        O numero de caminhoes nao foi o suficiente\n",
    "        Imprima a lista que restou\n",
    "    Caso Contrario:\n",
    "        O numero de caminhoes foi o suficiente\n",
    "        Imprima a lista de carregamento\n",
    "    Fim\n",
    "         "
   ]
  },
  {
   "cell_type": "markdown",
   "id": "d552bbd7-16fa-4e3d-b264-11fdf88ace19",
   "metadata": {},
   "source": [
    "k=2 -> 200\n",
    "i=0\n",
    "[90,19,90] < 200 -> 90\n",
    "i=0\n",
    "[19,90] -> "
   ]
  },
  {
   "cell_type": "code",
   "execution_count": 2,
   "id": "5b408db9-ebef-45db-932d-85dabf8694a6",
   "metadata": {},
   "outputs": [
    {
     "name": "stdout",
     "output_type": "stream",
     "text": [
      "Deu sorte, tem caminhoes\n",
      "[[90, 10], [60, 40], [50, 30, 20], [30, 20, 20, 10, 10], [], []]\n"
     ]
    }
   ],
   "source": [
    "\n",
    "def otimiza_transporte(k, caixas, capacidade = 100):\n",
    "    caixas.sort(reverse = True)\n",
    "    nao_usado = caixas\n",
    "    lista_organizada = []\n",
    "\n",
    "    #vou iterar para todos os k caminhoes\n",
    "    for caminhao in range(k):\n",
    "        soma = 0\n",
    "        tamanho = len(nao_usado)\n",
    "        i = 0\n",
    "        usado = []\n",
    "        # checa se o peso total do caminhao com a nova caixa estoura o limite\n",
    "        while soma < capacidade and i < tamanho:\n",
    "            if soma + nao_usado[i] <= capacidade:\n",
    "                vlr = nao_usado.pop(i)\n",
    "                #adiciona caixa ao caminhao\n",
    "                usado.append(vlr)\n",
    "                soma += vlr\n",
    "                tamanho = len(nao_usado)\n",
    "                i = 0\n",
    "            else:\n",
    "                i += 1\n",
    "        lista_organizada.append(usado)\n",
    "    #Faz a verificaçao final e imprime a resposta pedido\n",
    "    if len(nao_usado) > 0:\n",
    "        print(\"Nao tem caminhao o suficiente.\\nSobraram estes itens\")\n",
    "        print(nao_usado)\n",
    "        print(lista_organizada)\n",
    "    else:\n",
    "        print(\"Deu sorte, tem caminhoes\")\n",
    "        print(lista_organizada)\n",
    "\n",
    "k = 6\n",
    "caixas = [90,19,90]\n",
    "otimiza_transporte(k = k, caixas = [20, 10, 20, 50, 40, 30, 60, 10, 10, 90, 30, 20])"
   ]
  },
  {
   "cell_type": "code",
   "execution_count": 6,
   "id": "c33e44aa-7bee-4f4a-9e0f-97843da88ac1",
   "metadata": {},
   "outputs": [
    {
     "name": "stdout",
     "output_type": "stream",
     "text": [
      "Nao tem caminhao o suficiente.\n",
      "Sobraram estes itens\n",
      "[20]\n",
      "[[90, 10], [60, 40], [50, 40, 10], [30, 30, 20, 20]]\n"
     ]
    }
   ],
   "source": [
    "otimiza_transporte(k = k, caixas = [20, 10, 20, 50, 40, 30, 60, 10, 40, 90, 30, 20])"
   ]
  }
 ],
 "metadata": {
  "kernelspec": {
   "display_name": "Python 3 (ipykernel)",
   "language": "python",
   "name": "python3"
  },
  "language_info": {
   "codemirror_mode": {
    "name": "ipython",
    "version": 3
   },
   "file_extension": ".py",
   "mimetype": "text/x-python",
   "name": "python",
   "nbconvert_exporter": "python",
   "pygments_lexer": "ipython3",
   "version": "3.9.7"
  }
 },
 "nbformat": 4,
 "nbformat_minor": 5
}
