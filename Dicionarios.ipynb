{
 "cells": [
  {
   "cell_type": "markdown",
   "id": "742ccf33-7f65-470f-a35e-b8a8f08fafbb",
   "metadata": {},
   "source": [
    "# Estrutura de Dados\n",
    "Vocês já conhecem as variáveis e as listas, mas no Python vamos além disso!<br>\n",
    "Hoje aprenderemos novas maneiras de armazenar e esturar nossos dados.<br><br>\n",
    "<div>\n",
    "<img src=\"https://www.phylos.net/wp-content/uploads/2021/03/EstruturaDado.jpg\" width=\"500\"/>\n",
    "</div>"
   ]
  },
  {
   "cell_type": "markdown",
   "id": "3b412aa7-6850-4905-85a1-03770be992a6",
   "metadata": {},
   "source": [
    "## Tópicos de Hoje\n",
    "[Dicionários](#dicio)\n",
    "\n",
    "[Tuplas](#tuplas)\n",
    "\n",
    "[Estrutura de Dados Aplicadas às Funções](#funcoes)\n",
    "    \n",
    "[Exercícios](#exercicios)"
   ]
  },
  {
   "cell_type": "markdown",
   "id": "3fb90812-446b-4338-811b-d255c619e016",
   "metadata": {},
   "source": [
    "## Dicionários <a class=\"anchor\" id=\"dicio\"></a>\n",
    "<br>\n",
    "<div align=\"justify\">\n",
    "&emsp; Dicionários também podem ser pensados analogamente a listas, mas não pensaremos mais no conceito de <i>index</i> e sim em palavras-chave. Assim como um dicionário real possui palavras e suas definições, um dicionário em Python também! Entretanto devemos nos atentar que um dicionário não pode ter duas definições para uma mesma palavra (mas pode ter uma definição única definida por uma lista!)<br>\n",
    "&emsp; Dicionarios são declarados entre chaves, e acessados com colchetes (usando as palavras-chave e não as <i>indexes</i>) ou com a função get() usando a palavra-chave como parâmetro. Além disso com a função keys() podemos listar todas as palavras-chave de um dado dicionário.\n",
    "</div>"
   ]
  },
  {
   "cell_type": "code",
   "execution_count": 1,
   "id": "2db09bbb-47a1-4f6f-a260-d24df97c0c88",
   "metadata": {},
   "outputs": [],
   "source": [
    "pessoa = {\n",
    "    \"nome\": \"Lucas\",\n",
    "    \"idade\": 32,\n",
    "    \"profissao\": \"Empresario\",\n",
    "    \"ehSocio\": False\n",
    "}\n",
    "\n",
    "#prints de elementos"
   ]
  },
  {
   "cell_type": "code",
   "execution_count": 2,
   "id": "6ad11620-c184-46ad-be54-9bc63725be7b",
   "metadata": {},
   "outputs": [],
   "source": [
    "#get"
   ]
  },
  {
   "cell_type": "markdown",
   "id": "b2a28a1d-3418-4be9-a2f2-9aa5e3705a69",
   "metadata": {},
   "source": [
    "\n",
    "<div align=\"justify\">\n",
    "&emsp; Podemos adicionar itens de um dicionário usando <b>nomeDic[\"novaPalavraChave\"] = valor</b>, podemos atualizar da mesma maneira mas usando uma palavra-chave já existente, ou mesmo usar o método update() com o parâmetro <b>{\"palavraChave\": novoValor}</b>. Já para apagar itens temos várias maneiras: podemos usar o método pop() com a palavra-chave a ser deletada como parâmetro, ou o método popitem() para deletar o último item, por fim temos o método clear() que limpa o dicionário todo.<br>\n",
    "</div>"
   ]
  },
  {
   "cell_type": "code",
   "execution_count": 3,
   "id": "48cdf1cd-adaf-4a8a-bfc3-fdcd644ea016",
   "metadata": {},
   "outputs": [],
   "source": [
    "# funcoes de alteraçao\n"
   ]
  },
  {
   "cell_type": "markdown",
   "id": "c6ab6de2-1821-452b-a6a9-eb4218aea5b3",
   "metadata": {},
   "source": [
    "---\n",
    "<div align=\"justify\">\n",
    "&emsp; Dicionário podem ser usados em <i>loops</i> normalmente também, apenas uma atenção ao uso juntamente do  método items() que pode ser interessante.<br>\n",
    "</div>"
   ]
  },
  {
   "cell_type": "code",
   "execution_count": 4,
   "id": "255e0c00-83b2-4044-b04d-bc379f85391f",
   "metadata": {},
   "outputs": [],
   "source": [
    "pessoa = {\n",
    "    \"nome\": \"Lucas\",\n",
    "    \"idade\": 32,\n",
    "    \"profissao\": \"Empresario\"\n",
    "}\n",
    "\n",
    "#loops"
   ]
  },
  {
   "cell_type": "markdown",
   "id": "67b01ea0-d29d-4f65-9eff-21e69093f9c5",
   "metadata": {},
   "source": [
    "---\n",
    "<div align=\"justify\">\n",
    "&emsp; No contexto de dicionários o comando <b>in</b> tem muita força. Imagine que você quer adicionar valores em uma chave mas não sabe sequer se ela existe naquele contexto, como poderiamos fazer?<br>\n",
    "</div>"
   ]
  },
  {
   "cell_type": "code",
   "execution_count": 5,
   "id": "80317cda-7679-48d1-b629-8d9d4616658e",
   "metadata": {},
   "outputs": [],
   "source": [
    "professor = {\n",
    "    \"nome\": \"Rodrigo\",\n",
    "    \"curso\": [\"Python Pro\"]\n",
    "}\n",
    "\n",
    "cursos = [\"Java\", \"Banco da Dados\", \"Data Science\", \"Python for Finance\"]\n",
    "\n"
   ]
  },
  {
   "cell_type": "code",
   "execution_count": null,
   "id": "3ae4397e-5b0b-42b1-ad4d-7ce6ccacb9ae",
   "metadata": {},
   "outputs": [],
   "source": []
  },
  {
   "cell_type": "markdown",
   "id": "85ee5e44-d00a-457a-a85f-1f6534a3f949",
   "metadata": {},
   "source": [
    "---\n",
    "# Tuplas <a class=\"anchor\" id=\"tuplas\"></a>\n",
    "<br>\n",
    "\n",
    "<div align=\"justify\">\n",
    "&emsp; Tuplas podem ser pensadas como listas mas com algumas restrições: não podemos alterar uma tupla nem em ordem, nem conteúdo. Por que deveriamos usa-las então? Velocidade e organização de código. Um programador ao ver uma tupla sabe que seu conteúdo não pode ser alterado indiscriminadamente, além disso, a capacidade de alteração numa lista exige algoritmos mais complexos e lentos, então trabalhar com tuplas nos permite maior desempenho.<br>\n",
    "&emsp; As tuplas são declaradas entre parênteses, possuem algumas funções nativas semelhantes as listas, como len() e type(), e também são consultadas da mesma maneira com os colchetes. Além disso é importante notar que tuplas aceitam dados mistos dentro de sí.\n",
    "</div>\n"
   ]
  },
  {
   "cell_type": "code",
   "execution_count": null,
   "id": "5e2c6bbc-fa68-4d6e-9510-a5c62ced6c63",
   "metadata": {},
   "outputs": [],
   "source": [
    "#definicao\n"
   ]
  },
  {
   "cell_type": "markdown",
   "id": "8a15749b-f064-438c-8ee3-3fc57533ae98",
   "metadata": {},
   "source": [
    "\n",
    "<div align=\"justify\">\n",
    "&emsp; Para alterarmos uma tupla precisamos fazer um <i>cast</i> para listas, alterar a lista, e retornar para uma tupla.\n",
    "</div>"
   ]
  },
  {
   "cell_type": "code",
   "execution_count": 6,
   "id": "26880b16-9796-44e8-affa-04a112385fca",
   "metadata": {},
   "outputs": [],
   "source": [
    "#gambiarra\n"
   ]
  },
  {
   "cell_type": "markdown",
   "id": "e8243680-3173-4c1e-aacf-85cd450fcb05",
   "metadata": {},
   "source": [
    "\n",
    "<div align=\"justify\">\n",
    "&emsp; Tuplas podem ser percorridas em loop igualmente as listas, além disso podemos concatenar tuplas com o + e multiplicar elas por inteiros usando *.\n",
    "</div>"
   ]
  },
  {
   "cell_type": "code",
   "execution_count": 7,
   "id": "ae394e1c-7eeb-496b-be5d-2ce9c6c7b2e2",
   "metadata": {},
   "outputs": [],
   "source": [
    "#ex\n"
   ]
  },
  {
   "cell_type": "markdown",
   "id": "1c6a20aa-fd16-420a-8025-f7a8077044e8",
   "metadata": {},
   "source": [
    "\n",
    "<div align=\"justify\">\n",
    "&emsp; Por fim tuplas também possuem os métodos count() e index() que, respectivamente, contam quantos dados iguais ao que passarmos a tupla possui, e em qual <i>index</i> está o primeiro dado igual ao que passamos.\n",
    "</div>"
   ]
  },
  {
   "cell_type": "code",
   "execution_count": null,
   "id": "02917b01-d9e5-4de2-bff3-e7154ec3ac11",
   "metadata": {},
   "outputs": [],
   "source": []
  },
  {
   "cell_type": "markdown",
   "id": "c881a97f-6afd-4317-b464-6da07cfa59a3",
   "metadata": {},
   "source": [
    "# Estrutura de Dados Aplicadas as Funções <a class=\"anchor\" id=\"funcoes\"></a>\n",
    "Funções podem ser mais flexíveis do que o que vimos até agora. Ao usar o conceito de desempacotamento, por exemplo, podemos retornar duas ou mais variáveis na mesma função:"
   ]
  },
  {
   "cell_type": "code",
   "execution_count": 8,
   "id": "5a0f7bb2-66a7-4f2a-b139-191e68ec02f0",
   "metadata": {},
   "outputs": [],
   "source": [
    "#maior menor"
   ]
  },
  {
   "cell_type": "markdown",
   "id": "093cb6a2-fcd0-4fd1-a4b0-88cca7cf359b",
   "metadata": {},
   "source": [
    "\n",
    "<div align=\"justify\">\n",
    "&emsp; Agora com o conceito de tuplas podemos, também, passar parâmetros de maneira variável para dentro de uma função, para isso basta colocar um asterisco antes do nome do parâmetro, e dentro da função ele será trabalhado como uma tupla!<br>\n",
    "</div>"
   ]
  },
  {
   "cell_type": "code",
   "execution_count": 10,
   "id": "3464e399-6b29-4bb2-896b-147bfc0d7f8a",
   "metadata": {},
   "outputs": [],
   "source": [
    "#args\n",
    "\n"
   ]
  },
  {
   "cell_type": "markdown",
   "id": "0cedad10-3059-423f-9c7d-032d70952d5c",
   "metadata": {},
   "source": [
    "---\n",
    "<div align=\"justify\">\n",
    "&emsp; Note, entretanto, que este método não é eficiente se quisermos ter maior controle daquilo que nos foi passado pelos parâmetros uma vez que recebemos os dados sem ordem controlada, ou mesmo identificadores, e para isso podemos usar dicionários! Basta marcarmos o nome do parâmetro com dois asteriscos antes dele. <br>\n",
    "</div>"
   ]
  },
  {
   "cell_type": "code",
   "execution_count": 11,
   "id": "0ab75d6a-eb6c-4a58-88a1-c288d6e726e9",
   "metadata": {},
   "outputs": [],
   "source": [
    "#kwargs\n"
   ]
  },
  {
   "cell_type": "markdown",
   "id": "964538dd-c63b-426d-9236-c475d91749ca",
   "metadata": {},
   "source": [
    "---\n",
    "<div align=\"justify\">\n",
    "&emsp; Caso você já esteja trabalhando com um dicionário e queira passar ele como parâmetro na função basta usar dois asteriscos antes do nome dele na chamada e ele já virá desmenbradinho para ser usado! 😃<br>\n",
    "</div>"
   ]
  },
  {
   "cell_type": "code",
   "execution_count": 12,
   "id": "0d23d4ed-3221-47ad-bc15-781123575091",
   "metadata": {},
   "outputs": [],
   "source": [
    "#dict as kwargs\n"
   ]
  },
  {
   "cell_type": "markdown",
   "id": "a51acb20-e6c2-4c6f-beea-86e25a23693a",
   "metadata": {},
   "source": [
    "# Exercícios <a class=\"anchor\" id=\"exercicios\"></a>\n",
    "\n",
    "- Escreva uma função que conta a quantidade de vogais em um texto e armazena tal quantidade em um dicionário, onde a chave é a vogal considerada."
   ]
  },
  {
   "cell_type": "code",
   "execution_count": 11,
   "id": "5bd8f535-13c5-4a64-bb44-905241f90869",
   "metadata": {},
   "outputs": [
    {
     "name": "stdout",
     "output_type": "stream",
     "text": [
      "Total de vogais: 32 \n",
      "A: 11\n",
      "E: 6\n",
      "I: 3\n",
      "O: 5\n",
      "U: 7\n",
      "\n"
     ]
    }
   ],
   "source": [
    "def vogais(texto):\n",
    "    vogal = 'aeiou'\n",
    "    \n",
    "    dicio = {\n",
    "        'a':0,\n",
    "        'e':0,\n",
    "        'i':0,\n",
    "        'o':0,\n",
    "        'u':0\n",
    "    }\n",
    "    count = 0\n",
    "\n",
    "    \n",
    "    for letra in texto:\n",
    "        \n",
    "        if letra.lower() in vogal:\n",
    "            count += 1\n",
    "            \n",
    "            if letra.lower() == 'a':\n",
    "                \n",
    "                dicio['a'] += 1\n",
    "            elif letra.lower() == 'e':\n",
    "  \n",
    "                dicio['e'] += 1\n",
    "            elif letra.lower() == 'i':\n",
    "                dicio['i'] += 1 \n",
    "            elif letra.lower() == 'o':\n",
    "\n",
    "                dicio['o'] += 1\n",
    "            elif letra.lower() == 'u':\n",
    "\n",
    "                dicio['u'] += 1\n",
    "            \n",
    "    print(f\"Total de vogais: {count} \\n\" \\\n",
    "          f'A: {dicio[\"a\"]}\\n' \\\n",
    "          f'E: {dicio[\"e\"]}\\n' \\\n",
    "          f'I: {dicio[\"i\"]}\\n' \\\n",
    "          f'O: {dicio[\"o\"]}\\n' \\\n",
    "          f'U: {dicio[\"u\"]}\\n')\n",
    "    \n",
    "    \n",
    "    \n",
    "    \n",
    "texto = \"\"\"\n",
    "  Paulo Eduardo Caram Guedes\n",
    "  Técnico precisando estudar muito para chegar algum lugar\n",
    "  \n",
    "\"\"\"\n",
    "\n",
    "vogais(texto)"
   ]
  },
  {
   "cell_type": "markdown",
   "id": "d7a55c7d-d265-4684-ad0a-24ac5684966e",
   "metadata": {},
   "source": [
    "- Escreva um programa que lê duas notas de vários alunos e armazena tais notas em um dicionário, onde a chave é o nome\n",
    "do aluno. A entrada de dados deve terminar quando for lida uma string vazia como nome. Escreva uma função que retorna a média do aluno, dado seu nome. "
   ]
  },
  {
   "cell_type": "code",
   "execution_count": null,
   "id": "a24982b9-7456-4aac-b6fe-203678563e56",
   "metadata": {},
   "outputs": [],
   "source": []
  },
  {
   "cell_type": "markdown",
   "id": "9dac43ad-4027-4bb9-9b69-5f9622595037",
   "metadata": {},
   "source": [
    "- Uma pista de Kart permite 10 voltas para cada um de 6 corredores. Escreva um programa que leia todos os tempos\n",
    "em segundos e os guarde em um dicionário, onde a chave é o nome do corredor. Ao final diga de quem foi a melhor volta da\n",
    "prova e em que volta; e ainda a classificação final em ordem. O campeão é o que tem a menor média de\n",
    "tempos. (Para facilitar use listas no código e não trabalhe com _input_)."
   ]
  },
  {
   "cell_type": "code",
   "execution_count": null,
   "id": "d844f684-77e4-45d7-9aef-da5265bf7235",
   "metadata": {},
   "outputs": [],
   "source": []
  },
  {
   "cell_type": "code",
   "execution_count": null,
   "id": "525cde38-4a6f-4171-ace2-7bbdfaea0b3d",
   "metadata": {},
   "outputs": [],
   "source": []
  }
 ],
 "metadata": {
  "kernelspec": {
   "display_name": "Python 3 (ipykernel)",
   "language": "python",
   "name": "python3"
  },
  "language_info": {
   "codemirror_mode": {
    "name": "ipython",
    "version": 3
   },
   "file_extension": ".py",
   "mimetype": "text/x-python",
   "name": "python",
   "nbconvert_exporter": "python",
   "pygments_lexer": "ipython3",
   "version": "3.9.2"
  }
 },
 "nbformat": 4,
 "nbformat_minor": 5
}
