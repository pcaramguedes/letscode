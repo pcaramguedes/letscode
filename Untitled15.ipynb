{
 "cells": [
  {
   "cell_type": "code",
   "execution_count": 1,
   "id": "1ac4cca7",
   "metadata": {},
   "outputs": [
    {
     "name": "stdout",
     "output_type": "stream",
     "text": [
      "\u001b[H\u001b[2JDigite a quantidade de caminhoes (0-Sai): 5\n",
      "10\n",
      "60\n",
      "150\n",
      "90 90\n",
      "[[10, 50], [90]]\n",
      "Qtd caminhoes suficiente: True - Sobra: 0 - Caminhoes: 2\n",
      "\u001b[H\u001b[2JDigite a quantidade de caminhoes (0-Sai): 0\n"
     ]
    }
   ],
   "source": [
    "\"\"\"\n",
    "    Parte 2 - Logística\n",
    "\n",
    "Uma unidade de aplicação precisa receber mais ampolas de vacinas dado o seu estoque baixo, porém ela só\n",
    "tem K caminhões para buscar o produto com o fornecedor. Considere que cada caminhão consegue carregar até \n",
    "100 ampolas mas o galpão do fornecedor é uma bagunça e eles embalaram caixas que podem conter\n",
    "de 1 até 100 ampolas.\n",
    "\n",
    "Crie uma função que receba a quantidade K de caminhões disponíveis e a lista de caixas que o fornecedor \n",
    "tem para serem carregadas, ou seja, a quantidade de ampolas por caixa, e retorne se os caminhões conseguirão trazer todas as ampolas ou não. Caso não seja possível retorne a lista das unidades que não serão transportadas. Caso seja possível retorne como estão organizadas as caixas por caminhão, isto é, a lista de caixas que cada um está levando.\n",
    "\n",
    "\"\"\"\n",
    "from os import system, name\n",
    "from time import sleep\n",
    "\n",
    "def limpa():\n",
    "    \n",
    "    if name == 'nt':\n",
    "        system('cls')\n",
    "    else:\n",
    "        system('clear')\n",
    "\n",
    "\n",
    "\n",
    "def logistica(qtdCaminhoes, listaCaixas):\n",
    "    listaTrucks = [] # Guarda as caixas no caminhao (Guardar Lista, cada lista é um caminhão)\n",
    "    qtdCaixasTrucks = [] # Lista que guarda a quantidade de ampolas\n",
    "    sobra_ampolas = 0 # Quantidade ampolas que sobraram\n",
    "    retornoTrucks = True # Retorna se a quantidade suporte ou nao carregar as ampolas\n",
    "    trucks = 0\n",
    "    total_ampolas = sum(listaCaixas) # Total de ampolas em todas as caixas\n",
    "    soma = 0 # Soma as ampolas\n",
    "    \n",
    "    if (int(total_ampolas)) > (qtdCaminhoes*100):\n",
    "        retornoTrucks = False\n",
    "        sobra_ampolas = total_ampolas%(qtdCaminhoes*100)\n",
    "        trucks = int(total_ampolas/100)\n",
    "    else:\n",
    "        retornoTrucks = True\n",
    "        \n",
    "        for item in range(len(listaCaixas)):\n",
    "\n",
    "\n",
    "            soma += listaCaixas[item]\n",
    "            print(soma)\n",
    "            if soma <=100:\n",
    "                qtdCaixasTrucks.append(listaCaixas[item])\n",
    "\n",
    "\n",
    "            else:\n",
    "                listaTrucks.append(qtdCaixasTrucks)\n",
    "                qtdCaixasTrucks = []\n",
    "                qtdCaixasTrucks.append(listaCaixas[item])\n",
    "                soma = listaCaixas[item]\n",
    "                print(soma,listaCaixas[item])\n",
    "                if retornoTrucks:\n",
    "                    trucks += 1\n",
    "                    qtdCaminhoes -= 1\n",
    "    \n",
    "\n",
    "        if len(qtdCaixasTrucks) !=0:\n",
    "            listaTrucks.append(qtdCaixasTrucks)\n",
    "            trucks += 1\n",
    "            qtdCaminhoes -= 1\n",
    "\n",
    "    print(listaTrucks)\n",
    "            \n",
    "\n",
    "        \n",
    "    return f'Qtd caminhoes suficiente: {retornoTrucks} - Sobra: {sobra_ampolas} - Caminhoes: {trucks}'\n",
    "    \n",
    "\n",
    "caixas = [10,50,90]\n",
    "\n",
    "while True:\n",
    "    limpa()\n",
    "    \n",
    "    try:\n",
    "        qtd_trucks = int(input('Digite a quantidade de caminhoes (0-Sai): '))\n",
    "        \n",
    "    except ValueError:\n",
    "        print('Somente números !!!')\n",
    "        sleep(1)\n",
    "    else:\n",
    "        if qtd_trucks == 0:\n",
    "            break\n",
    "            \n",
    "        print(logistica(qtd_trucks, caixas)) # Chama a função que coloca as caixas nos caminhoes\n",
    "        "
   ]
  },
  {
   "cell_type": "code",
   "execution_count": 4,
   "id": "4e9bfb07",
   "metadata": {},
   "outputs": [
    {
     "data": {
      "text/plain": [
       "2"
      ]
     },
     "execution_count": 4,
     "metadata": {},
     "output_type": "execute_result"
    }
   ],
   "source": [
    "lista = [[10,50],[90]]\n",
    "len(lista)"
   ]
  }
 ],
 "metadata": {
  "kernelspec": {
   "display_name": "Python 3 (ipykernel)",
   "language": "python",
   "name": "python3"
  },
  "language_info": {
   "codemirror_mode": {
    "name": "ipython",
    "version": 3
   },
   "file_extension": ".py",
   "mimetype": "text/x-python",
   "name": "python",
   "nbconvert_exporter": "python",
   "pygments_lexer": "ipython3",
   "version": "3.9.2"
  }
 },
 "nbformat": 4,
 "nbformat_minor": 5
}
