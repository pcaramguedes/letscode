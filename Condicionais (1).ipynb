{
 "cells": [
  {
   "cell_type": "markdown",
   "id": "2cd40289-d113-4e44-a1ee-e956666d459b",
   "metadata": {},
   "source": [
    "# O que veremos\n",
    "***\n",
    "- [Lógica Booleana](#bool)\n",
    "- [Condicionais](#condicionais)\n",
    "- [Exercícios](#ex)"
   ]
  },
  {
   "cell_type": "markdown",
   "id": "acf9c583-ab66-4419-afe5-6e140304bdfb",
   "metadata": {},
   "source": [
    "<a name = \"bool\"></a>\n",
    "# Lógica e Operadores Booleanos\n",
    "\n",
    "Em muitos problemas de programação, há necessidade de se fazer **comparações** entre variáveis.\n",
    "\n",
    "Por exemplo:\n",
    "\n",
    "- checar se um número é maior que outro;\n",
    "- checar se uma variável é igual a outra;\n",
    "- checar se há números diferentes; etc.\n",
    "\n",
    "Para fazer essas comparações, utilizamos os **operadores lógicos de comparação**. Em Python, há 6 desses operadores:\n",
    "\n",
    "- Maior que: >\n",
    "- Maior ou igual: >=\n",
    "- Menor que: <\n",
    "- Menor ou igual: <=\n",
    "- Igual: ==\n",
    "- Diferente: !=\n",
    "\n",
    "O resultado de uma comparação sempre vai ser um booleano, isto é, **True** ou **False**!\n",
    "\n",
    "Dica: sempre leia as comparações como uma **pergunta**\n",
    "\n",
    "- Ex: \"numero < 100\", leia: \"o valor na variável numero é menor que 100?\"\n",
    "\n"
   ]
  },
  {
   "cell_type": "code",
   "execution_count": 92,
   "id": "d34837b7-f953-4e24-bb2a-e27267c4ef1d",
   "metadata": {},
   "outputs": [
    {
     "name": "stdout",
     "output_type": "stream",
     "text": [
      "O aluno foi aprovado? False\n",
      "O cliente tem filhos? False\n"
     ]
    },
    {
     "name": "stdin",
     "output_type": "stream",
     "text": [
      "Digite o Login:  Christophersp\n"
     ]
    },
    {
     "name": "stdout",
     "output_type": "stream",
     "text": [
      "Seu usuario esta correto?  False\n"
     ]
    }
   ],
   "source": [
    "#Exemplos\n",
    "numero = 105\n",
    "numero < 100\n",
    "\n",
    "media = 7\n",
    "print(\"O aluno foi aprovado?\", media > 7)\n",
    "3 == 2\n",
    "\n",
    "qtd_filhos = 0\n",
    "tem_filhos = qtd_filhos > 0\n",
    "print(\"O cliente tem filhos?\", tem_filhos)\n",
    "\n",
    "usuario_registrado = \"christophersp\"\n",
    "usuario = input(\"Digite o Login: \")\n",
    "print(\"Seu usuario esta correto? \", usuario == usuario_registrado)\n",
    "\n"
   ]
  },
  {
   "cell_type": "code",
   "execution_count": 95,
   "id": "0f08f196-1784-4194-a678-aade07ab6499",
   "metadata": {},
   "outputs": [
    {
     "name": "stdout",
     "output_type": "stream",
     "text": [
      "O aluno foi aprovado? False\n",
      "O aluno foi reprovado? False\n"
     ]
    }
   ],
   "source": [
    "#negativa\n",
    "\n",
    "media = 7\n",
    "print(\"O aluno foi aprovado?\", media > 7)\n",
    "print(\"O aluno foi reprovado?\", media <= 7)"
   ]
  },
  {
   "cell_type": "markdown",
   "id": "14039dc4-aaff-473a-b3f7-e2a1ee228d8d",
   "metadata": {},
   "source": [
    "## Tabela Verdade\n",
    "### Not (~, !, ¬)\n",
    "Sempre o oposto do valor original\n",
    "\n",
    "|P| ~P|\n",
    "|:---:|:---:|\n",
    "|T|F|\n",
    "|F|T|\n"
   ]
  },
  {
   "cell_type": "code",
   "execution_count": 101,
   "id": "4ed1446e-3f22-4320-924e-ce817eceae25",
   "metadata": {},
   "outputs": [
    {
     "data": {
      "text/plain": [
       "True"
      ]
     },
     "execution_count": 101,
     "metadata": {},
     "output_type": "execute_result"
    }
   ],
   "source": [
    "media >= 7"
   ]
  },
  {
   "cell_type": "code",
   "execution_count": 102,
   "id": "3e132895-4053-43e9-af5b-7c19178bb33b",
   "metadata": {},
   "outputs": [
    {
     "name": "stdout",
     "output_type": "stream",
     "text": [
      "Aprovado True\n",
      "Reprovado False\n",
      "Reprovado2 False\n",
      "Nao aprovado False\n"
     ]
    }
   ],
   "source": [
    "media = 7\n",
    "aprovado = media >= 7\n",
    "reprovado = media < 7\n",
    "reprovado2 = not aprovado\n",
    "\n",
    "print(\"Aprovado\", aprovado)\n",
    "print(\"Reprovado\", reprovado)\n",
    "print(\"Reprovado2\", reprovado2)\n",
    "print(\"Nao aprovado\", not aprovado)"
   ]
  },
  {
   "cell_type": "markdown",
   "id": "799f9c19-7fc9-455b-af28-f4747069f1e4",
   "metadata": {},
   "source": [
    "### AND\n",
    "Comparação é verdadeira apenas se as duas condições são satisfeitas\n",
    "\n",
    "|P|Q|P ^ Q|\n",
    "|:---:|:---:|:---:|\n",
    "|T|T|T|\n",
    "|T|F|F|\n",
    "|F|T|F|\n",
    "|F|F|F|"
   ]
  },
  {
   "cell_type": "code",
   "execution_count": 105,
   "id": "655049f3-6cdc-4e59-8b1e-be51a26a5365",
   "metadata": {},
   "outputs": [
    {
     "name": "stdout",
     "output_type": "stream",
     "text": [
      "True\n",
      "True\n"
     ]
    },
    {
     "data": {
      "text/plain": [
       "True"
      ]
     },
     "execution_count": 105,
     "metadata": {},
     "output_type": "execute_result"
    }
   ],
   "source": [
    "#Login\n",
    "usuario = \"chris\"\n",
    "usuario_registrado = \"christophersp\"\n",
    "\n",
    "senha = \"12345\"\n",
    "senha_registrada = \"12345\"\n",
    "\n",
    "print(usuario == usuario_registrado)\n",
    "print(senha == senha_registrada)\n",
    "(usuario == usuario_registrado) and (senha == senha_registrada)"
   ]
  },
  {
   "cell_type": "markdown",
   "id": "81a4b076-4629-4ce7-966c-a9fb7fd37fdd",
   "metadata": {},
   "source": [
    "### OR\n",
    "Comparação é falsa apenas se as duas condições falham\n",
    "\n",
    "|P|Q|P v Q|\n",
    "|:---:|:---:|:---:|\n",
    "|T|T|T|\n",
    "|T|F|T|\n",
    "|F|T|T|\n",
    "|F|F|F|"
   ]
  },
  {
   "cell_type": "code",
   "execution_count": 106,
   "id": "2ccd1ba8-27ee-48fd-99dc-b1814b70b647",
   "metadata": {},
   "outputs": [
    {
     "data": {
      "text/plain": [
       "True"
      ]
     },
     "execution_count": 106,
     "metadata": {},
     "output_type": "execute_result"
    }
   ],
   "source": [
    "#Nota progressiva\n",
    "nota1 = 3\n",
    "nota2 = 8.5\n",
    "\n",
    "(nota1 >= 7) or (nota2 >= 7)"
   ]
  },
  {
   "cell_type": "code",
   "execution_count": 108,
   "id": "91950ff9-bf98-45d0-8f9d-15985c393810",
   "metadata": {},
   "outputs": [
    {
     "data": {
      "text/plain": [
       "False"
      ]
     },
     "execution_count": 108,
     "metadata": {},
     "output_type": "execute_result"
    }
   ],
   "source": [
    "usou_natal = False\n",
    "usou_alimentacao = False\n",
    "\n",
    "usou_natal or usou_alimentacao"
   ]
  },
  {
   "cell_type": "markdown",
   "id": "b0acfb6c-2440-4bff-aacb-16ecaf952106",
   "metadata": {},
   "source": [
    "Ordem de precedência: ~, ^, v, ->, <->"
   ]
  },
  {
   "cell_type": "markdown",
   "id": "743f9706-1cf7-4d6a-84a7-a3497e0eb3d8",
   "metadata": {},
   "source": [
    "<a name = \"condicionais\"></a>\n",
    "# Condicionais\n"
   ]
  },
  {
   "cell_type": "markdown",
   "id": "9e38f738-245e-4d9f-8088-e04701a18a38",
   "metadata": {},
   "source": [
    "\n",
    "O principal uso dos operadores lógicos é em **estruturas condicionais**\n",
    "\n",
    "Esse tipo de estrutura é utilizada para tratar casos diferentes dentro do código\n",
    "\n",
    "Os **operadores condicionais** são: **if**, **elif** e **else**\n",
    "\n",
    "- **if**: Se uma condição for verdadeira, faça determinada operação.\n",
    "- **elif**: Se a condição acima for falsa, avalie uma próxima condição, e se essa for verdadeira, faça outra operação\n",
    "- **else**: Se nenhuma das condições acima for verdadeira, faça outra coisa\n",
    "\n",
    "O uso de elif e else **não** é obrigatório! (Mas é muitas vezes conveniente!)\n",
    "\n",
    "As estruturas de repetição aparecem em **blocos identados (com \"tab\") após dois pontos**, na seguinte estrutura:\n",
    "\n",
    "```python\n",
    "if (condicao é True):\n",
    "    operacoes\n",
    "elif (condicao é True):\n",
    "    operacoes\n",
    "else:\n",
    "    operacoes\n",
    "```\n",
    "\n",
    "- Se alguma condição no if ou elif for verdadeira, todo o resto é ignorado!\n",
    "- Por isso, as condições no if e os diferentes elifs sempre são **excludentes**"
   ]
  },
  {
   "cell_type": "code",
   "execution_count": 127,
   "id": "accff025-828f-4f5c-b0a8-fd2cda18f25d",
   "metadata": {},
   "outputs": [
    {
     "name": "stdout",
     "output_type": "stream",
     "text": [
      "False\n",
      "Ou usuario ou senha errado!\n",
      "Tente de novo\n",
      "============================================================\n"
     ]
    },
    {
     "ename": "NameError",
     "evalue": "name 'nota11' is not defined",
     "output_type": "error",
     "traceback": [
      "\u001b[0;31m---------------------------------------------------------------------------\u001b[0m",
      "\u001b[0;31mNameError\u001b[0m                                 Traceback (most recent call last)",
      "\u001b[0;32m<ipython-input-127-df09d20a953b>\u001b[0m in \u001b[0;36m<module>\u001b[0;34m\u001b[0m\n\u001b[1;32m     22\u001b[0m \u001b[0;31m#nota1 = 5\u001b[0m\u001b[0;34m\u001b[0m\u001b[0;34m\u001b[0m\u001b[0;34m\u001b[0m\u001b[0m\n\u001b[1;32m     23\u001b[0m \u001b[0;31m#nota2 = 10\u001b[0m\u001b[0;34m\u001b[0m\u001b[0;34m\u001b[0m\u001b[0;34m\u001b[0m\u001b[0m\n\u001b[0;32m---> 24\u001b[0;31m \u001b[0mmedia2\u001b[0m \u001b[0;34m=\u001b[0m \u001b[0;34m(\u001b[0m\u001b[0mnota11\u001b[0m \u001b[0;34m+\u001b[0m \u001b[0mnota22\u001b[0m\u001b[0;34m)\u001b[0m\u001b[0;34m/\u001b[0m\u001b[0;36m2\u001b[0m\u001b[0;34m\u001b[0m\u001b[0;34m\u001b[0m\u001b[0m\n\u001b[0m\u001b[1;32m     25\u001b[0m \u001b[0mprint\u001b[0m\u001b[0;34m(\u001b[0m\u001b[0;34m\"media: \"\u001b[0m\u001b[0;34m,\u001b[0m \u001b[0mmedia2\u001b[0m\u001b[0;34m)\u001b[0m\u001b[0;34m\u001b[0m\u001b[0;34m\u001b[0m\u001b[0m\n\u001b[1;32m     26\u001b[0m \u001b[0;34m\u001b[0m\u001b[0m\n",
      "\u001b[0;31mNameError\u001b[0m: name 'nota11' is not defined"
     ]
    }
   ],
   "source": [
    "#Login Pagina\n",
    "usuario_registrado = \"christophersp\"\n",
    "senha_registrada = \"12345\"\n",
    "\n",
    "senha = \"1234\" #input(\"Digite a sua senha\")\n",
    "usuario = \"christophersp\" #input(\"Digite o seu usuario: \")\n",
    "\n",
    "login_correto = (usuario == usuario_registrado) and (senha == senha_registrada)\n",
    "print(login_correto)\n",
    "if (usuario == usuario_registrado) and (senha == senha_registrada):\n",
    "    print(\"Entrou na pagina\")\n",
    "    print(\"Mostre o saldo\")\n",
    "    print(\"Ofereca novo produto\")\n",
    "    nota11 = 10\n",
    "    nota22 = 10\n",
    "else:\n",
    "    print(\"Ou usuario ou senha errado!\\nTente de novo\")\n",
    "    nota11 = 0\n",
    "    nota22 = 0\n",
    "         \n",
    "print(\"===\"*20)\n",
    "#nota1 = 5\n",
    "#nota2 = 10\n",
    "media2 = (nota11 + nota22)/2\n",
    "print(\"media: \", media2)\n",
    "\n",
    "\n",
    "print(\"\\tteste\")\n",
    "print(\"    teste\")\n"
   ]
  },
  {
   "cell_type": "code",
   "execution_count": 130,
   "id": "02c575b7-4ac6-4c7d-bb7e-e9334a25167d",
   "metadata": {},
   "outputs": [
    {
     "name": "stdout",
     "output_type": "stream",
     "text": [
      "Primeira nota: Reprovado\n"
     ]
    }
   ],
   "source": [
    "#Nota progressiva\n",
    "nota1 = 5\n",
    "nota2 = 8\n",
    "nota3 = 6\n",
    "\n",
    "if nota1 < 7:\n",
    "    print(\"Primeira nota: Reprovado\")\n",
    "    if(aluno_muito_empenhado):\n",
    "        print(\"Dou uma chance\")\n",
    "elif nota2 < 7:\n",
    "    print(\"Segunda nota: Reprovado\")\n",
    "    if(aluno_muito_empenhado):\n",
    "        print(\"Dou uma prova substituta\")\n",
    "elif nota3 < 7:\n",
    "    print(\"Terceira nota: Reprovado\")\n",
    "    if(aluno_muito_empenhado):\n",
    "        print(\"Mando pra rec\")\n",
    "else:\n",
    "    print(\"Aprovado\")\n",
    "    "
   ]
  },
  {
   "cell_type": "code",
   "execution_count": 131,
   "id": "930ddc41-6ef8-4bcb-bd8c-327c09ada118",
   "metadata": {},
   "outputs": [
    {
     "name": "stdout",
     "output_type": "stream",
     "text": [
      "Primeira nota: Reprovado\n",
      "Terceira nota: Reprovado\n"
     ]
    }
   ],
   "source": [
    "nota1 = 5\n",
    "nota2 = 8\n",
    "nota3 = 6\n",
    "\n",
    "if nota1 < 7:\n",
    "    print(\"Primeira nota: Reprovado\")\n",
    "if nota2 < 7:\n",
    "    print(\"Segunda nota: Reprovado\")\n",
    "if nota3 < 7:\n",
    "    print(\"Terceira nota: Reprovado\")\n",
    "else:\n",
    "    print(\"Aprovado\")\n",
    "\n"
   ]
  },
  {
   "cell_type": "code",
   "execution_count": null,
   "id": "88cc35a8-8494-4fb0-b486-801260eba435",
   "metadata": {},
   "outputs": [],
   "source": [
    "nota1 = 5\n",
    "nota2 = 8\n",
    "nota3 = 6\n",
    "\n",
    "if nota1 < 7:\n",
    "    print(\"Primeira nota: Reprovado\")\n",
    "    if nota2 < 7:\n",
    "        print(\"Segunda nota: Reprovado\")\n",
    "        if nota3 < 7:\n",
    "            print(\"Terceira nota: Reprovado\")\n",
    "else:\n",
    "    print(\"Aprovado\")\n",
    "\n",
    " "
   ]
  },
  {
   "cell_type": "markdown",
   "id": "23320661-da09-45f6-abd4-8ee639bb6e10",
   "metadata": {},
   "source": [
    "<a name = \"ex\"></a>\n",
    "# Exercícios\n",
    "***\n",
    "\n",
    "**1)** Faça um Programa que verifique se uma letra digitada é \"F\", \"M\", ou \"I\". \n",
    "Conforme a letra escrever:    \n",
    "    \n",
    "    F - Feminino   \n",
    "    M - Masculino   \n",
    "    I - Intersexo   \n",
    "    Sexo Inválido   "
   ]
  },
  {
   "cell_type": "code",
   "execution_count": null,
   "id": "8682b78a-4425-4e8e-b7c2-7199efa397f6",
   "metadata": {},
   "outputs": [],
   "source": [
    "letra = input('Digite uma letra: ')\n",
    "\n",
    "if letra.upper() == 'F':\n",
    "    print('F - Feminino')\n",
    "elif letra.upper() == 'M':\n",
    "    print('M - Masculuno')\n",
    "elif letra.upper() == 'I':\n",
    "    print('I - Intersexo')\n",
    "else:\n",
    "    print('Sexo inválido')"
   ]
  },
  {
   "cell_type": "markdown",
   "id": "3032c2ed-d59f-4c30-848d-eb4372b0cb69",
   "metadata": {},
   "source": [
    "**2)** Faça um programa que lê as duas notas parciais obtidas por um aluno numa disciplina ao longo de um semestre, e calcule a sua média. O algoritmo deve mostrar na tela as notas, a média, o conceito correspondente e a mensagem “APROVADO” se o conceito for A, B ou C ou “REPROVADO” se o conceito for D ou E.\n",
    "\n",
    "A atribuição de conceitos obedece à tabela abaixo:\n",
    "\n",
    "|Média de Aproveitamento|Conceito|\n",
    "|:---:|:---:|\n",
    "  |Entre 9.0 e 10.0|        A|\n",
    "  |Entre 7.5 e 9.0|         B|\n",
    "  |Entre 6.0 e 7.5|         C|\n",
    "  |Entre 4.0 e 6.0|         D|\n",
    "  |Entre 4.0 e 0.0|        E|"
   ]
  },
  {
   "cell_type": "code",
   "execution_count": null,
   "id": "31f03f8b-a04d-45ca-8eda-b3901936dfec",
   "metadata": {},
   "outputs": [],
   "source": [
    "notas=[]\n",
    "\n",
    "for num in range(0,2):\n",
    "    n = float(input('Digite uma nota: '))\n",
    "    notas.append(n)\n",
    "\n",
    "soma = 0\n",
    "for num in notas:\n",
    "    soma += num\n",
    "\n",
    "media = soma / len(notas)\n",
    "\n",
    "if media >= 9:\n",
    "    print(f'Nota tirada: {media} - APROVADO - Conceito A')\n",
    "elif media >= 7.5:\n",
    "    print(f'Nota tirada: {media} APROVADO - Conceito B')\n",
    "elif media >= 6.0:\n",
    "    print(f'Nota tirada: {media} APROVADO - Conceito C')\n",
    "elif media >= 4.0:\n",
    "    print(f'Nota tirada: {media} REPROVADO - Conceito D')\n",
    "else:\n",
    "    print(f'Nota tirada: {media} REPROVADO - Conceito E')"
   ]
  },
  {
   "cell_type": "markdown",
   "id": "68a30605-c90f-49eb-b65c-3c2224b634ef",
   "metadata": {},
   "source": [
    "**3)** Uma fruteira está vendendo frutas com a seguinte tabela de preços:\n",
    "\n",
    "||Até 5 Kg|           Acima de 5 Kg   |\n",
    "|-|-|-|\n",
    "|**Morango**|         R\\$ 2,50 por Kg |         R\\$ 2,20 por Kg|\n",
    "|**Maçã**|            R\\$ 1,80 por Kg |         R\\$ 1,50 por Kg|\n",
    "\n",
    "Se o cliente comprar mais de 8 Kg em frutas ou o valor total da compra ultrapassar R\\$ 25,00, receberá ainda um desconto de 10% sobre este total.\n",
    "\n",
    "Escreva um algoritmo para ler a quantidade (em Kg) de morangos e a quantidade (em Kg) de maças adquiridas e escreva o valor a ser pago pelo cliente."
   ]
  },
  {
   "cell_type": "code",
   "execution_count": null,
   "id": "218e14f1-8dd0-405d-bab2-4bfc9f0140e5",
   "metadata": {},
   "outputs": [],
   "source": [
    "morango = float(input('Quantidade de KG de morangos comprados: '))\n",
    "macas = float(input('Quantide de KG de macas compradas: '))\n",
    "\n",
    "total_morangos=0\n",
    "total_macas=0\n",
    "\n",
    "if macas <=5.00:\n",
    "    total_macas = macas * 1.80\n",
    "elif macas >5.00:\n",
    "    total_macas = macas * 1.50\n",
    "    \n",
    "if morango <=5.00:\n",
    "    total_morangos = morango * 2.50\n",
    "elif morango >5.00:\n",
    "    total_morangos = morango * 2.20\n",
    "\n",
    "\n",
    "total_pagar = total_morangos + total_macas\n",
    "total_frutas = morango + macas\n",
    "if total_frutas > 8.00 or total_pagar > 25.00:\n",
    "    total_pagar *= 0.90\n",
    "    print(f'Valor a ser pago pelo cliente: R$ {total_pagar:.2f}')\n",
    "else:   \n",
    "    print(f'Valor a ser pago pelo cliente: R$ {total_pagar:.2f}')"
   ]
  },
  {
   "cell_type": "markdown",
   "id": "b8734a48-5e5d-4eb4-ae2f-30ddac6f3a42",
   "metadata": {},
   "source": [
    "**4)** Crie um programa que encontre as raízes reais de uma equação de segundo grau, sabendo que as raízes de $ax^2 + bx + c = 0$ é dado por:      \n",
    "\n",
    "\n",
    "$$\\Large x = \\dfrac{-b \\pm \\sqrt{\\triangle}}{2a}$$        \n",
    "\n",
    "$$\\Large \\triangle = b^2 - 4ac$$\n"
   ]
  },
  {
   "cell_type": "code",
   "execution_count": 6,
   "id": "932df1d5-c15f-41dd-8be7-74e308ee76f1",
   "metadata": {},
   "outputs": [
    {
     "name": "stdout",
     "output_type": "stream",
     "text": [
      "Entre com A: 1\n",
      "Entre com B: 0\n",
      "Entre com C: -9\n",
      "Valor do Delta.: 36.00\n",
      "Valor da raiz 1: 3.00\n",
      "Valor da raiz 2: -3.00\n"
     ]
    }
   ],
   "source": [
    "a = float(input('Entre com A: '))\n",
    "b = float(input('Entre com B: '))\n",
    "c = float(input('Entre com C: '))\n",
    "\n",
    "\n",
    "if a != 0:\n",
    "    \n",
    "    delta = (b**2) - (4*a*c)\n",
    "    x1 = 0\n",
    "    x2 = 0\n",
    "\n",
    "    if delta < 0:\n",
    "        print(f'Delta {delta:.2f} < 0 -  Não possui raizes reais')\n",
    "        \n",
    "    elif delta > 0:\n",
    "        x1 = ((-1*b) + (delta**0.5)) / (2 * a)\n",
    "        x2 = ((-1*b) - (delta**0.5)) / (2 * a)\n",
    "        print(f'Valor do Delta.: {delta:.2f}')\n",
    "        print(f'Valor da raiz 1: {x1:.2f}')\n",
    "        print(f'Valor da raiz 2: {x2:.2f}')\n",
    "        \n",
    "    elif delta == 0:\n",
    "        x1 = ((-1*b) + (delta**0.5))/ (2 * a)\n",
    "else:\n",
    "    print(f'A Variável {a} não pode ser igual a 0, não tem solução nos conjuntos reais!!')\n",
    "    \n"
   ]
  },
  {
   "cell_type": "markdown",
   "id": "dcef01d0-fd3b-40ba-9f38-2889918af05c",
   "metadata": {},
   "source": [
    "# Obrigado pela atenção de todes! 😄\n",
    "# Parabéns pelo empenho\n",
    "## Qualquer duvida não hesitem em me chamar. 👩‍💻\n",
    "### Programação é treino, teste e erro. Então façam as listas."
   ]
  }
 ],
 "metadata": {
  "kernelspec": {
   "display_name": "Python 3 (ipykernel)",
   "language": "python",
   "name": "python3"
  },
  "language_info": {
   "codemirror_mode": {
    "name": "ipython",
    "version": 3
   },
   "file_extension": ".py",
   "mimetype": "text/x-python",
   "name": "python",
   "nbconvert_exporter": "python",
   "pygments_lexer": "ipython3",
   "version": "3.9.2"
  }
 },
 "nbformat": 4,
 "nbformat_minor": 5
}
