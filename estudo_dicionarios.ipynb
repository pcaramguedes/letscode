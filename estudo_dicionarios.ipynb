{
 "cells": [
  {
   "cell_type": "code",
   "execution_count": 92,
   "id": "a3b10096",
   "metadata": {},
   "outputs": [
    {
     "name": "stdout",
     "output_type": "stream",
     "text": [
      "Entre com o seu nome: p\n",
      "Entre com o seu e-mail: p\n",
      "0\n",
      "Entre com o seu nome: a\n",
      "Entre com o seu e-mail: a\n",
      "1\n",
      "nome : p\temail : p\t\n",
      "\n",
      "nome : a\temail : a\t\n",
      "\n"
     ]
    }
   ],
   "source": [
    "#### lista = []\n",
    "\n",
    "lista = []\n",
    "for num in range(0,2):\n",
    "    \n",
    "    nome = input('Entre com o seu nome: ')\n",
    "    email = input('Entre com o seu e-mail: ')\n",
    "    dicio = {}.fromkeys(['nome','email'], '')\n",
    "    dicio['nome'] = nome\n",
    "    dicio['email'] = email\n",
    "    lista.append(dicio)\n",
    "        \n",
    "    print(num)\n",
    "\n",
    "    \n",
    "for chave, valor in enumerate(lista):\n",
    "    \n",
    "    for col in dicio.keys():\n",
    "        print(f'{col} : {lista[chave][col]}', end='\\t')\n",
    "    \n",
    "    print('\\n')"
   ]
  },
  {
   "cell_type": "code",
   "execution_count": 57,
   "id": "57c8bbce",
   "metadata": {},
   "outputs": [
    {
     "name": "stdout",
     "output_type": "stream",
     "text": [
      "{'nome': 'desconhecido', 'telefone': 'desconhecido', 'email': 'desconhecido'}\n",
      "{'nome': 'desconhecido', 'telefone': 982218102, 'email': 'desconhecido'}\n",
      "{'nome': 'desconhecido', 'telefone': 31982218102, 'email': 'desconhecido'}\n",
      "<class 'dict_keys'> dict_keys(['nome', 'telefone', 'email'])\n",
      "<class 'dict_values'> dict_values(['desconhecido', 31982218102, 'desconhecido'])\n"
     ]
    }
   ],
   "source": [
    "dicio = {}.fromkeys(['nome','telefone','email'],'desconhecido')\n",
    "print(dicio)\n",
    "\n",
    "dicio.update({'telefone': 982218102})\n",
    "\n",
    "print(dicio)\n",
    "dicio.update(telefone=31982218102)\n",
    "print(dicio)\n",
    "dicio\n",
    "\n",
    "chaves = dicio.keys()\n",
    "valores = dicio.values()\n",
    "print(type(chaves), chaves)\n",
    "print(type(valores), valores)"
   ]
  }
 ],
 "metadata": {
  "kernelspec": {
   "display_name": "Python 3 (ipykernel)",
   "language": "python",
   "name": "python3"
  },
  "language_info": {
   "codemirror_mode": {
    "name": "ipython",
    "version": 3
   },
   "file_extension": ".py",
   "mimetype": "text/x-python",
   "name": "python",
   "nbconvert_exporter": "python",
   "pygments_lexer": "ipython3",
   "version": "3.9.2"
  }
 },
 "nbformat": 4,
 "nbformat_minor": 5
}
