{
 "cells": [
  {
   "cell_type": "code",
   "execution_count": 6,
   "id": "9a60f280",
   "metadata": {},
   "outputs": [
    {
     "name": "stdout",
     "output_type": "stream",
     "text": [
      "Brasil\n"
     ]
    }
   ],
   "source": [
    "\"\"\"\n",
    " # Criacao de dicionarios\n",
    "# forma 1 (Mais comum)\n",
    "paises = {'br':'Brasil', 'eua':'Estados Unidos'}\n",
    "print(paises)\n",
    "\n",
    "\n",
    "# forma 02 (Menos em comum)\n",
    "\n",
    "paises = dict(br='Brasil', eua='Estados Unidos', py='Paraguai')\n",
    "print(paises)\n",
    "\n",
    "\n",
    "Caso tentamos fazer um acesso, utilizando chave que não existe, teremos KeyError\n",
    "\"\"\"\n",
    "paises = {'br':'Brasil', 'eua':'Estados Unidos'}\n",
    "# Acessando elementos\n",
    "# Forma 01 - Acessando via chav,da mesma forma que lista/tupla\n",
    "\n",
    "print(paises['br'])\n",
    "\n",
    "# Forma 02 - Acessando via get\n",
    "print(paises.get)"
   ]
  }
 ],
 "metadata": {
  "kernelspec": {
   "display_name": "Python 3",
   "language": "python",
   "name": "python3"
  },
  "language_info": {
   "codemirror_mode": {
    "name": "ipython",
    "version": 3
   },
   "file_extension": ".py",
   "mimetype": "text/x-python",
   "name": "python",
   "nbconvert_exporter": "python",
   "pygments_lexer": "ipython3",
   "version": "3.6.3"
  }
 },
 "nbformat": 4,
 "nbformat_minor": 5
}
