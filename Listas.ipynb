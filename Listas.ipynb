{
 "cells": [
  {
   "cell_type": "markdown",
   "metadata": {
    "id": "D8k-qsCYf6Qv"
   },
   "source": [
    "# Listas\n",
    "\n",
    "Imagine que você quer armazenar várias variáveis relacionadas, como, por exemplo, todas suas notas em provas.\n",
    "\n",
    "Se houver muitas notas, não é muito prático criar uma variável para cada uma. Seria muito mais conveniente armazenar todas as notas em uma **lista**, não é mesmo? \n",
    "\n",
    "Em python, temos uma estrutura de dados que é exatamente isso: uma lista! Listas são indicadas por colchete []\n",
    "\n",
    "Uma lista nada mais é que um **conjunto de objetos**, que podem ser de diversos tipos:"
   ]
  },
  {
   "cell_type": "markdown",
   "metadata": {
    "id": "yfDmlaMSf6Qw"
   },
   "source": [
    "Lista de números (int e float)"
   ]
  },
  {
   "cell_type": "code",
   "execution_count": null,
   "metadata": {
    "colab": {
     "base_uri": "https://localhost:8080/"
    },
    "executionInfo": {
     "elapsed": 234,
     "status": "ok",
     "timestamp": 1623967631795,
     "user": {
      "displayName": "Brian Andrade",
      "photoUrl": "https://lh3.googleusercontent.com/a-/AOh14GiNSR7YI9sePN7kuQ-5OtZ2svQze2xDu8pxxO5k=s64",
      "userId": "06923984435008780318"
     },
     "user_tz": 180
    },
    "id": "HxBjpAoWf6Qx",
    "outputId": "f3d8c49b-2eda-4d62-beac-fa4a91511456"
   },
   "outputs": [],
   "source": []
  },
  {
   "cell_type": "markdown",
   "metadata": {
    "id": "_56JUPVDf6Qy"
   },
   "source": [
    "Lista de strings"
   ]
  },
  {
   "cell_type": "code",
   "execution_count": null,
   "metadata": {
    "colab": {
     "base_uri": "https://localhost:8080/"
    },
    "executionInfo": {
     "elapsed": 226,
     "status": "ok",
     "timestamp": 1623967727277,
     "user": {
      "displayName": "Brian Andrade",
      "photoUrl": "https://lh3.googleusercontent.com/a-/AOh14GiNSR7YI9sePN7kuQ-5OtZ2svQze2xDu8pxxO5k=s64",
      "userId": "06923984435008780318"
     },
     "user_tz": 180
    },
    "id": "HUNNtSlDf6Qz",
    "outputId": "6519ad37-aac8-4967-fb1e-60abb4db85f6"
   },
   "outputs": [],
   "source": []
  },
  {
   "cell_type": "markdown",
   "metadata": {
    "id": "ODiqc8NEf6Qz"
   },
   "source": [
    "Lista de números e strings"
   ]
  },
  {
   "cell_type": "code",
   "execution_count": null,
   "metadata": {
    "colab": {
     "base_uri": "https://localhost:8080/"
    },
    "executionInfo": {
     "elapsed": 230,
     "status": "ok",
     "timestamp": 1623967753454,
     "user": {
      "displayName": "Brian Andrade",
      "photoUrl": "https://lh3.googleusercontent.com/a-/AOh14GiNSR7YI9sePN7kuQ-5OtZ2svQze2xDu8pxxO5k=s64",
      "userId": "06923984435008780318"
     },
     "user_tz": 180
    },
    "id": "g7C6_Or1f6Qz",
    "outputId": "acbbf041-2016-44c8-e5b3-e9a022396608"
   },
   "outputs": [],
   "source": []
  },
  {
   "cell_type": "markdown",
   "metadata": {
    "id": "FB2NFycsf6Q1"
   },
   "source": [
    "Tudo junto"
   ]
  },
  {
   "cell_type": "code",
   "execution_count": null,
   "metadata": {
    "colab": {
     "base_uri": "https://localhost:8080/"
    },
    "executionInfo": {
     "elapsed": 232,
     "status": "ok",
     "timestamp": 1623967819922,
     "user": {
      "displayName": "Brian Andrade",
      "photoUrl": "https://lh3.googleusercontent.com/a-/AOh14GiNSR7YI9sePN7kuQ-5OtZ2svQze2xDu8pxxO5k=s64",
      "userId": "06923984435008780318"
     },
     "user_tz": 180
    },
    "id": "xi9cu3Jsf6Q1",
    "outputId": "18efc1a1-ffa8-45ce-f14b-60cfde5d016e"
   },
   "outputs": [],
   "source": []
  },
  {
   "cell_type": "markdown",
   "metadata": {
    "id": "OjfUeo3bf6Q1"
   },
   "source": [
    "Muitas vezes, queremos **acessar elementos individuais** da lista. \n",
    "\n",
    "Para fazer isso, devemos indicar qual é o **índice** respectivo ao elemento, isto é, qual é a **posição** do elemento dentro da lista\n",
    "\n",
    "Para acessar o elemento na **posição i** da lista \"minha_lista\", fazemos:\n",
    "\n",
    "```python\n",
    "minha_lista[i]\n",
    "```\n",
    "\n",
    "__MUITO IMPORTANTE: a numeração de índice começa em zero!__\n",
    "\n",
    "Ou seja:\n",
    "\n",
    "- O primeiro elemento tem índice 0: ```minha_lista[0]``` ,\n",
    "- O segundo tem índice 1: ```minha_lista[1]```,\n",
    "\n",
    "E assim por diante!\n",
    "\n",
    "Também podemos acessar os últimos elementos, usando índices negativos:\n",
    "\n",
    "- O último elemento tem índice -1: ```minha_lista[-1]```,\n",
    "- O penúltimo tem índice -2: ```minha_lista[-2]```,\n",
    "\n",
    "E assim por diante!"
   ]
  },
  {
   "cell_type": "code",
   "execution_count": null,
   "metadata": {
    "colab": {
     "base_uri": "https://localhost:8080/"
    },
    "executionInfo": {
     "elapsed": 228,
     "status": "ok",
     "timestamp": 1623968072986,
     "user": {
      "displayName": "Brian Andrade",
      "photoUrl": "https://lh3.googleusercontent.com/a-/AOh14GiNSR7YI9sePN7kuQ-5OtZ2svQze2xDu8pxxO5k=s64",
      "userId": "06923984435008780318"
     },
     "user_tz": 180
    },
    "id": "o2l-1b4Zf6Q3",
    "outputId": "b8cf54dc-12d6-41a4-fb7e-e8cf3289c130"
   },
   "outputs": [],
   "source": []
  },
  {
   "cell_type": "code",
   "execution_count": null,
   "metadata": {},
   "outputs": [],
   "source": []
  },
  {
   "cell_type": "code",
   "execution_count": null,
   "metadata": {},
   "outputs": [],
   "source": []
  },
  {
   "cell_type": "markdown",
   "metadata": {
    "id": "6qWX_bogf6Q3"
   },
   "source": [
    "Também podemos **acessar pedaços da lista**, indicando o intervalo de índices que queremos, separados por \":\",  **com intervalo superior aberto**:\n",
    "\n",
    "- ```minha_lista[1:3]```: seleciona os elementos de indice 1 até indice 2\n",
    "- ```minha_lista[:4]```: seleciona do primeiro elemento até o de índice 3\n",
    "- ```minha_lista[3:]```: seleciona do elemento de índice 3 até o final\n",
    "- ```minha_lista[:]```: seleciona a lista inteira\n",
    "- ```minha_lista[1:5:2]```: seleciona do indice 1 ao 4 pulando a cada 2 elementos\n",
    "\n",
    "Este conceito é chamado de \"slicing\" em Python, pois você está pegando \"fatias\" da lista!"
   ]
  },
  {
   "cell_type": "code",
   "execution_count": null,
   "metadata": {},
   "outputs": [],
   "source": []
  },
  {
   "cell_type": "code",
   "execution_count": null,
   "metadata": {},
   "outputs": [],
   "source": []
  },
  {
   "cell_type": "code",
   "execution_count": null,
   "metadata": {},
   "outputs": [],
   "source": []
  },
  {
   "cell_type": "markdown",
   "metadata": {
    "id": "NmAM3lC5f6Q5"
   },
   "source": [
    "Podemos também fazer algumas **operações com listas**"
   ]
  },
  {
   "cell_type": "markdown",
   "metadata": {
    "id": "gwkUXoJbf6Q5"
   },
   "source": [
    "Soma de listas: ao **somar listas**, os elementos são **concatenados**, na ordem dada, para formar uma lista maior:"
   ]
  },
  {
   "cell_type": "code",
   "execution_count": null,
   "metadata": {
    "colab": {
     "base_uri": "https://localhost:8080/"
    },
    "executionInfo": {
     "elapsed": 225,
     "status": "ok",
     "timestamp": 1623968786312,
     "user": {
      "displayName": "Brian Andrade",
      "photoUrl": "https://lh3.googleusercontent.com/a-/AOh14GiNSR7YI9sePN7kuQ-5OtZ2svQze2xDu8pxxO5k=s64",
      "userId": "06923984435008780318"
     },
     "user_tz": 180
    },
    "id": "IJqOp08Kf6Q6",
    "outputId": "ccfe9edb-5c0e-45da-9199-431ea8610385"
   },
   "outputs": [],
   "source": []
  },
  {
   "cell_type": "markdown",
   "metadata": {
    "id": "rtIVx8fMf6Q6"
   },
   "source": [
    "Ao **multiplicar listas por um inteiro**, os elementos são repetidos, na ordem que aparecem:"
   ]
  },
  {
   "cell_type": "code",
   "execution_count": null,
   "metadata": {
    "colab": {
     "base_uri": "https://localhost:8080/"
    },
    "executionInfo": {
     "elapsed": 225,
     "status": "ok",
     "timestamp": 1623969055153,
     "user": {
      "displayName": "Brian Andrade",
      "photoUrl": "https://lh3.googleusercontent.com/a-/AOh14GiNSR7YI9sePN7kuQ-5OtZ2svQze2xDu8pxxO5k=s64",
      "userId": "06923984435008780318"
     },
     "user_tz": 180
    },
    "id": "ES8dddM9f6Q6",
    "outputId": "8d151d3a-8016-4243-b9cd-9803782d5802"
   },
   "outputs": [],
   "source": []
  },
  {
   "cell_type": "markdown",
   "metadata": {
    "id": "dddisK2Yf6Q7"
   },
   "source": [
    "É possível transformar strings em uma **lista de caracteres**:"
   ]
  },
  {
   "cell_type": "code",
   "execution_count": null,
   "metadata": {},
   "outputs": [],
   "source": [
    "#index"
   ]
  },
  {
   "cell_type": "code",
   "execution_count": null,
   "metadata": {
    "colab": {
     "base_uri": "https://localhost:8080/"
    },
    "executionInfo": {
     "elapsed": 221,
     "status": "ok",
     "timestamp": 1623969323144,
     "user": {
      "displayName": "Brian Andrade",
      "photoUrl": "https://lh3.googleusercontent.com/a-/AOh14GiNSR7YI9sePN7kuQ-5OtZ2svQze2xDu8pxxO5k=s64",
      "userId": "06923984435008780318"
     },
     "user_tz": 180
    },
    "id": "61bgxF0qf6Q7",
    "outputId": "acd37211-ef4a-427a-c0c7-268f486de001"
   },
   "outputs": [],
   "source": [
    "#list"
   ]
  },
  {
   "cell_type": "markdown",
   "metadata": {
    "id": "HB1ogPXYf6Q7"
   },
   "source": [
    "__________\n",
    "__________\n",
    "__________"
   ]
  },
  {
   "cell_type": "markdown",
   "metadata": {
    "id": "S2t7Bc79f6Q7"
   },
   "source": [
    "## 2) Funções de listas"
   ]
  },
  {
   "cell_type": "markdown",
   "metadata": {
    "id": "8Er6ECWJf6Q8"
   },
   "source": [
    "Podemos começar com uma lista vazia, e preenchê-la aos poucos.\n",
    "\n",
    "Para **criar uma lista vazia**, fazemos:"
   ]
  },
  {
   "cell_type": "code",
   "execution_count": null,
   "metadata": {},
   "outputs": [],
   "source": []
  },
  {
   "cell_type": "markdown",
   "metadata": {
    "id": "Y7AWOdVsf6Q8"
   },
   "source": [
    "Para adicionar um elemento **ao fim da lista**, usamos a função \"append()\".\n",
    "\n",
    "**OBS.: só podemos apendar um único elemento por vez!**"
   ]
  },
  {
   "cell_type": "code",
   "execution_count": null,
   "metadata": {
    "colab": {
     "base_uri": "https://localhost:8080/"
    },
    "executionInfo": {
     "elapsed": 224,
     "status": "ok",
     "timestamp": 1623969376024,
     "user": {
      "displayName": "Brian Andrade",
      "photoUrl": "https://lh3.googleusercontent.com/a-/AOh14GiNSR7YI9sePN7kuQ-5OtZ2svQze2xDu8pxxO5k=s64",
      "userId": "06923984435008780318"
     },
     "user_tz": 180
    },
    "id": "mdQqOC2af6Q8",
    "outputId": "838ee667-41c3-4df6-f74b-621a6a96b5e8"
   },
   "outputs": [],
   "source": []
  },
  {
   "cell_type": "markdown",
   "metadata": {
    "id": "PDsHL8Ocf6Q9"
   },
   "source": [
    "Se você quiser adicionar um elemento numa **posição específica**, use a função \"insert()\", onde o primeiro argumento é a posição, e o segundo é o elemento:\n",
    "\n",
    "**OBS.: só podemos inserir um único elemento por vez!**"
   ]
  },
  {
   "cell_type": "code",
   "execution_count": null,
   "metadata": {
    "colab": {
     "base_uri": "https://localhost:8080/"
    },
    "executionInfo": {
     "elapsed": 230,
     "status": "ok",
     "timestamp": 1623969702123,
     "user": {
      "displayName": "Brian Andrade",
      "photoUrl": "https://lh3.googleusercontent.com/a-/AOh14GiNSR7YI9sePN7kuQ-5OtZ2svQze2xDu8pxxO5k=s64",
      "userId": "06923984435008780318"
     },
     "user_tz": 180
    },
    "id": "AJtrXOwLf6Q9",
    "outputId": "3168ef21-061e-43bb-89e2-2238aee7078b"
   },
   "outputs": [],
   "source": []
  },
  {
   "cell_type": "markdown",
   "metadata": {
    "id": "k6W_cDdUf6Q9"
   },
   "source": [
    "Podemos, também, **redefinir um elemento da lista individualmente**. Para isso, basta selecionarmos este elemento, e redefiní-lo:"
   ]
  },
  {
   "cell_type": "code",
   "execution_count": 16,
   "metadata": {
    "executionInfo": {
     "elapsed": 240,
     "status": "ok",
     "timestamp": 1623969514390,
     "user": {
      "displayName": "Brian Andrade",
      "photoUrl": "https://lh3.googleusercontent.com/a-/AOh14GiNSR7YI9sePN7kuQ-5OtZ2svQze2xDu8pxxO5k=s64",
      "userId": "06923984435008780318"
     },
     "user_tz": 180
    },
    "id": "EHch7QQYf6Q9"
   },
   "outputs": [],
   "source": [
    "# redefinindo um elemento pela posicao"
   ]
  },
  {
   "cell_type": "code",
   "execution_count": null,
   "metadata": {},
   "outputs": [],
   "source": []
  },
  {
   "cell_type": "markdown",
   "metadata": {
    "id": "UocOxMYJf6Q-"
   },
   "source": [
    "Para **remover um elemento da lista**, use a função \"remove()\". \n",
    "\n",
    "**OBS.: Essa função remove apenas a primeira aparição do elemento**"
   ]
  },
  {
   "cell_type": "code",
   "execution_count": 1,
   "metadata": {
    "executionInfo": {
     "elapsed": 221,
     "status": "ok",
     "timestamp": 1623970346832,
     "user": {
      "displayName": "Brian Andrade",
      "photoUrl": "https://lh3.googleusercontent.com/a-/AOh14GiNSR7YI9sePN7kuQ-5OtZ2svQze2xDu8pxxO5k=s64",
      "userId": "06923984435008780318"
     },
     "user_tz": 180
    },
    "id": "FrKOOboOf6Q-"
   },
   "outputs": [],
   "source": [
    "# removendo um elemento pelo valor\n"
   ]
  },
  {
   "cell_type": "markdown",
   "metadata": {
    "id": "JJ1x3FvBf6Q-"
   },
   "source": [
    "Se você quiser remover um elemento de determinado índice, use a função \"pop()\":"
   ]
  },
  {
   "cell_type": "code",
   "execution_count": 2,
   "metadata": {
    "colab": {
     "base_uri": "https://localhost:8080/"
    },
    "executionInfo": {
     "elapsed": 223,
     "status": "ok",
     "timestamp": 1623969725832,
     "user": {
      "displayName": "Brian Andrade",
      "photoUrl": "https://lh3.googleusercontent.com/a-/AOh14GiNSR7YI9sePN7kuQ-5OtZ2svQze2xDu8pxxO5k=s64",
      "userId": "06923984435008780318"
     },
     "user_tz": 180
    },
    "id": "6M6BYX0yf6Q_",
    "outputId": "6d713dbf-8f44-4612-cf7d-03d9de99ea61"
   },
   "outputs": [],
   "source": [
    "# removendo elemento pelo indice\n"
   ]
  },
  {
   "cell_type": "markdown",
   "metadata": {
    "id": "fMQy1M-Nf6Q_"
   },
   "source": [
    "Muitas vezes é interessante **ordenar a lista**. Pra fazer isso, usamos a função \"sorted\".\n",
    "\n",
    "**OBS: essa função só funciona para listas com o mesmo tipo de dado!**"
   ]
  },
  {
   "cell_type": "code",
   "execution_count": null,
   "metadata": {
    "colab": {
     "base_uri": "https://localhost:8080/"
    },
    "executionInfo": {
     "elapsed": 227,
     "status": "ok",
     "timestamp": 1623971023549,
     "user": {
      "displayName": "Brian Andrade",
      "photoUrl": "https://lh3.googleusercontent.com/a-/AOh14GiNSR7YI9sePN7kuQ-5OtZ2svQze2xDu8pxxO5k=s64",
      "userId": "06923984435008780318"
     },
     "user_tz": 180
    },
    "id": "b1gjM8g9f6RB",
    "outputId": "2c68469b-93c9-4641-986a-3abbad3de40b"
   },
   "outputs": [],
   "source": []
  },
  {
   "cell_type": "markdown",
   "metadata": {
    "id": "DQ4NrOkuf6RB"
   },
   "source": [
    "Para **inverter a ordem dos elementos**, adicione ao final da lista [::-1]:"
   ]
  },
  {
   "cell_type": "code",
   "execution_count": null,
   "metadata": {
    "colab": {
     "base_uri": "https://localhost:8080/"
    },
    "executionInfo": {
     "elapsed": 222,
     "status": "ok",
     "timestamp": 1623971045024,
     "user": {
      "displayName": "Brian Andrade",
      "photoUrl": "https://lh3.googleusercontent.com/a-/AOh14GiNSR7YI9sePN7kuQ-5OtZ2svQze2xDu8pxxO5k=s64",
      "userId": "06923984435008780318"
     },
     "user_tz": 180
    },
    "id": "fkz-jVJEf6RB",
    "outputId": "a6c9c699-a871-4f2e-cd87-79187fc456ad"
   },
   "outputs": [],
   "source": []
  },
  {
   "cell_type": "markdown",
   "metadata": {
    "id": "4UzaH5Hmf6RC"
   },
   "source": [
    "Isso pode ser usado para ordenar uma lista na ordem inversa (maior pro menor):"
   ]
  },
  {
   "cell_type": "code",
   "execution_count": null,
   "metadata": {
    "colab": {
     "base_uri": "https://localhost:8080/"
    },
    "executionInfo": {
     "elapsed": 225,
     "status": "ok",
     "timestamp": 1623971107193,
     "user": {
      "displayName": "Brian Andrade",
      "photoUrl": "https://lh3.googleusercontent.com/a-/AOh14GiNSR7YI9sePN7kuQ-5OtZ2svQze2xDu8pxxO5k=s64",
      "userId": "06923984435008780318"
     },
     "user_tz": 180
    },
    "id": "-JZHRhpSf6RC",
    "outputId": "4cabd7d5-f512-4a7a-830e-f1612bc706fd"
   },
   "outputs": [],
   "source": []
  },
  {
   "cell_type": "markdown",
   "metadata": {
    "id": "5b-ptKd0f6RC"
   },
   "source": [
    "Se quisermos saber **qual é a posição (índice) de determinado elemento**, usamos o método \".index()\".\n",
    "\n",
    "Este método retorna apenas a **primeira aparição** do elemento:"
   ]
  },
  {
   "cell_type": "code",
   "execution_count": null,
   "metadata": {
    "colab": {
     "base_uri": "https://localhost:8080/"
    },
    "executionInfo": {
     "elapsed": 223,
     "status": "ok",
     "timestamp": 1623971250699,
     "user": {
      "displayName": "Brian Andrade",
      "photoUrl": "https://lh3.googleusercontent.com/a-/AOh14GiNSR7YI9sePN7kuQ-5OtZ2svQze2xDu8pxxO5k=s64",
      "userId": "06923984435008780318"
     },
     "user_tz": 180
    },
    "id": "9bntBim6f6RC",
    "outputId": "c8a8a7c5-aa83-4b3b-e5f5-a80d6b8a6b90"
   },
   "outputs": [],
   "source": []
  },
  {
   "cell_type": "markdown",
   "metadata": {
    "id": "TLiCVjlUf6RD"
   },
   "source": [
    "Por fim, podemos encontrar algumas **propriedades dos elementos da lista:**"
   ]
  },
  {
   "cell_type": "code",
   "execution_count": null,
   "metadata": {
    "colab": {
     "base_uri": "https://localhost:8080/"
    },
    "executionInfo": {
     "elapsed": 239,
     "status": "ok",
     "timestamp": 1623971838059,
     "user": {
      "displayName": "Brian Andrade",
      "photoUrl": "https://lh3.googleusercontent.com/a-/AOh14GiNSR7YI9sePN7kuQ-5OtZ2svQze2xDu8pxxO5k=s64",
      "userId": "06923984435008780318"
     },
     "user_tz": 180
    },
    "id": "F12ZAbaUf6RD",
    "outputId": "014499e3-6e70-4b3c-cae4-6c500968cdbb"
   },
   "outputs": [],
   "source": []
  },
  {
   "cell_type": "markdown",
   "metadata": {
    "id": "14SHSiZzf6RD"
   },
   "source": [
    "Para encontrar o maior elemento, use \"max()\":"
   ]
  },
  {
   "cell_type": "code",
   "execution_count": null,
   "metadata": {
    "colab": {
     "base_uri": "https://localhost:8080/"
    },
    "executionInfo": {
     "elapsed": 222,
     "status": "ok",
     "timestamp": 1623971357111,
     "user": {
      "displayName": "Brian Andrade",
      "photoUrl": "https://lh3.googleusercontent.com/a-/AOh14GiNSR7YI9sePN7kuQ-5OtZ2svQze2xDu8pxxO5k=s64",
      "userId": "06923984435008780318"
     },
     "user_tz": 180
    },
    "id": "zKmuL3taf6RD",
    "outputId": "37506c6b-e47d-40fe-9d29-c27b16d14b00"
   },
   "outputs": [],
   "source": []
  },
  {
   "cell_type": "markdown",
   "metadata": {
    "id": "Gh4jdgxlf6RD"
   },
   "source": [
    "Para encontrar o menor elemento, use \"min()\":"
   ]
  },
  {
   "cell_type": "code",
   "execution_count": null,
   "metadata": {
    "colab": {
     "base_uri": "https://localhost:8080/"
    },
    "executionInfo": {
     "elapsed": 232,
     "status": "ok",
     "timestamp": 1623971360890,
     "user": {
      "displayName": "Brian Andrade",
      "photoUrl": "https://lh3.googleusercontent.com/a-/AOh14GiNSR7YI9sePN7kuQ-5OtZ2svQze2xDu8pxxO5k=s64",
      "userId": "06923984435008780318"
     },
     "user_tz": 180
    },
    "id": "BlbGdrdDf6RE",
    "outputId": "df616368-32de-4788-e6af-afe3dc3cd30c"
   },
   "outputs": [],
   "source": []
  },
  {
   "cell_type": "markdown",
   "metadata": {
    "id": "dBAZ6fgmf6RE"
   },
   "source": [
    "Para encontrar o número de elementos (ou seja, qual é o \"tamanho\" da lista), use \"len()\":"
   ]
  },
  {
   "cell_type": "code",
   "execution_count": null,
   "metadata": {
    "colab": {
     "base_uri": "https://localhost:8080/"
    },
    "executionInfo": {
     "elapsed": 220,
     "status": "ok",
     "timestamp": 1623971373951,
     "user": {
      "displayName": "Brian Andrade",
      "photoUrl": "https://lh3.googleusercontent.com/a-/AOh14GiNSR7YI9sePN7kuQ-5OtZ2svQze2xDu8pxxO5k=s64",
      "userId": "06923984435008780318"
     },
     "user_tz": 180
    },
    "id": "cT-PkQauf6RE",
    "outputId": "48550c9c-5073-4dcf-eb05-1aebb6d51be9"
   },
   "outputs": [],
   "source": []
  },
  {
   "cell_type": "markdown",
   "metadata": {
    "id": "qeO426_qf6RE"
   },
   "source": [
    "Para somar os elementos da lista, use \"sum()\":"
   ]
  },
  {
   "cell_type": "code",
   "execution_count": null,
   "metadata": {
    "colab": {
     "base_uri": "https://localhost:8080/"
    },
    "executionInfo": {
     "elapsed": 225,
     "status": "ok",
     "timestamp": 1623971800850,
     "user": {
      "displayName": "Brian Andrade",
      "photoUrl": "https://lh3.googleusercontent.com/a-/AOh14GiNSR7YI9sePN7kuQ-5OtZ2svQze2xDu8pxxO5k=s64",
      "userId": "06923984435008780318"
     },
     "user_tz": 180
    },
    "id": "whWs6Mj9f6RF",
    "outputId": "9701b908-b718-47ec-9525-01f10fedca90"
   },
   "outputs": [],
   "source": []
  },
  {
   "cell_type": "markdown",
   "metadata": {
    "id": "sdeNKQ6Vf6RF"
   },
   "source": [
    "Agora fica bem fácil encontrar a média dos números em uma lista:"
   ]
  },
  {
   "cell_type": "code",
   "execution_count": null,
   "metadata": {
    "colab": {
     "base_uri": "https://localhost:8080/"
    },
    "executionInfo": {
     "elapsed": 230,
     "status": "ok",
     "timestamp": 1623971558108,
     "user": {
      "displayName": "Brian Andrade",
      "photoUrl": "https://lh3.googleusercontent.com/a-/AOh14GiNSR7YI9sePN7kuQ-5OtZ2svQze2xDu8pxxO5k=s64",
      "userId": "06923984435008780318"
     },
     "user_tz": 180
    },
    "id": "NaUOOh4xf6RF",
    "outputId": "64975bb2-5545-4512-d9eb-c3dc9f501d72"
   },
   "outputs": [],
   "source": []
  },
  {
   "cell_type": "markdown",
   "metadata": {},
   "source": [
    "<a name = \"ex\"></a>\n",
    "# Exercícios\n",
    "***"
   ]
  },
  {
   "cell_type": "markdown",
   "metadata": {},
   "source": [
    "**1)** Utilizando listas faça um programa que faça 5 perguntas para uma pessoa sobre um crime. \n",
    "\n",
    "As perguntas são:    \n",
    "\"Telefonou para a vítima?\"    \n",
    "\"Esteve no local do crime?\"     \n",
    "\"Mora perto da vítima?\"    \n",
    "\"Devia para a vítima?\"    \n",
    "\"Já trabalhou com a vítima?\"    \n",
    "\n",
    "O programa deve no final emitir uma classificação sobre a participação da pessoa no crime. \n",
    "Se a pessoa responder positivamente a 2 questões ela deve ser classificada como \"Suspeita\", entre 3 e 4 como \"Cúmplice\" e 5 como \"Assassino\". Caso contrário, ele será classificado como \"Inocente\"."
   ]
  },
  {
   "cell_type": "code",
   "execution_count": null,
   "metadata": {},
   "outputs": [],
   "source": []
  },
  {
   "cell_type": "markdown",
   "metadata": {},
   "source": [
    "**2)** Faça um programa que carregue uma lista com os modelos de cinco carros (exemplo de modelos: FUSCA, GOL, VECTRA etc). Carregue uma outra lista com o consumo desses carros, isto é, quantos quilômetros cada um desses carros faz com um litro de combustível. Calcule e mostre o modelo do carro mais econômico."
   ]
  },
  {
   "cell_type": "code",
   "execution_count": null,
   "metadata": {},
   "outputs": [],
   "source": []
  },
  {
   "cell_type": "markdown",
   "metadata": {},
   "source": [
    "**3)** Faça um código que peça um CPF como login e valide se está correto. Para saber as regras de validação visite esse [link](https://www.calculadorafacil.com.br/computacao/validar-cpf)"
   ]
  },
  {
   "cell_type": "code",
   "execution_count": null,
   "metadata": {},
   "outputs": [],
   "source": [
    "def calcula_cpf(calcula, verificador):\n",
    "    soma_cpf = 0\n",
    "    multiplica_cpf = []\n",
    "    for indice in range(0,len(calcula)):\n",
    "        if verificador == 1:\n",
    "            multiplica_cpf.append(int(calcula[indice])*(indice+1))\n",
    "        else:\n",
    "            multiplica_cpf.append(int(calcula[indice])*indice)\n",
    "            \n",
    "        soma_cpf += multiplica_cpf[indice]\n",
    "    \n",
    "    return soma_cpf\n",
    "\n",
    "digito_verificador = '0'\n",
    "digito_calculado = '1'\n",
    "cpf = '1'\n",
    "while digito_verificador != digito_calculado:\n",
    "    \n",
    "    cpf = input('Digite o seu CPF ou (0-sai): ')\n",
    "    \n",
    "    if cpf == '0':\n",
    "        break\n",
    "        \n",
    "    cpf_nove = cpf[:9]\n",
    "\n",
    "    retorno_soma = calcula_cpf(cpf_nove,1)\n",
    "\n",
    "    if retorno_soma % 11 == 10:\n",
    "        primeiro_digito = 0\n",
    "    else:\n",
    "        primeiro_digito = (retorno_soma%11)\n",
    "\n",
    "    cpf_dez = cpf_nove + str(primeiro_digito)\n",
    "    retorno_soma = calcula_cpf(cpf_dez,2)\n",
    "\n",
    "    if retorno_soma % 11 == 10:\n",
    "        segundo_digito = 0\n",
    "    else:\n",
    "        segundo_digito = (retorno_soma%11)\n",
    "\n",
    "    digito_calculado = str(primeiro_digito)+str(segundo_digito)\n",
    "    digito_verificador = cpf[-2] + cpf[-1]\n",
    "\n",
    "    print(primeiro_digito, segundo_digito)\n",
    "    \n",
    "    if digito_verificador != digito_calculado:\n",
    "        print('CPF INVÁLIDO !!')\n",
    "else:\n",
    "    \n",
    "    print('\\nCPF Válido !!')"
   ]
  },
  {
   "cell_type": "markdown",
   "metadata": {},
   "source": [
    "# Obrigado pela atenção de todes! 😄\n",
    "# Parabéns pelo empenho\n",
    "## Qualquer duvida não hesitem em me chamar. 👩‍💻\n",
    "### Programação é treino, teste e erro. Então façam as listas."
   ]
  }
 ],
 "metadata": {
  "colab": {
   "name": "Aula 3 - listas e loop for.ipynb",
   "provenance": []
  },
  "kernelspec": {
   "display_name": "Python 3 (ipykernel)",
   "language": "python",
   "name": "python3"
  },
  "language_info": {
   "codemirror_mode": {
    "name": "ipython",
    "version": 3
   },
   "file_extension": ".py",
   "mimetype": "text/x-python",
   "name": "python",
   "nbconvert_exporter": "python",
   "pygments_lexer": "ipython3",
   "version": "3.9.2"
  }
 },
 "nbformat": 4,
 "nbformat_minor": 4
}
