{
 "cells": [
  {
   "cell_type": "code",
   "execution_count": 25,
   "id": "70f4d2c8",
   "metadata": {},
   "outputs": [
    {
     "name": "stdout",
     "output_type": "stream",
     "text": [
      "Entre com data no formato (DD/MM/AAAA) - (X-Sai): 31/01/2021\n",
      "\n",
      "31 de Janeiro de 2021\n",
      "Entre com data no formato (DD/MM/AAAA) - (X-Sai): 13/-1/2000\n",
      "-1 inválido - mês 1 até 12\n",
      "Entre com data no formato (DD/MM/AAAA) - (X-Sai): 01/01/2021\n",
      "\n",
      "01 de Janeiro de 2021\n",
      "Entre com data no formato (DD/MM/AAAA) - (X-Sai): x\n"
     ]
    }
   ],
   "source": [
    "\"\"\"\n",
    "    Construa uma função que receba três aqrgumentios (dia, mes e ano em inteiros) e \n",
    "    devolva uma string no formato Dia de mesPorExtenso de AAAA.\n",
    "\"\"\"\n",
    "\n",
    "\n",
    "def extenso(dia, mes, ano):\n",
    "    meses = {\n",
    "        '01': 'Janeiro',\n",
    "        '02': 'Fevereiro',\n",
    "        '03': 'Março',\n",
    "        '04': 'Abril',\n",
    "        '05': 'Maio',\n",
    "        '06': 'Junho',\n",
    "        '07': 'Julho',\n",
    "        '08': 'Agosto',\n",
    "        '09': 'Setembro',\n",
    "        '10': 'Outubro',\n",
    "        '11': 'Novembro',\n",
    "        '12': 'Dezembro' \n",
    "        }\n",
    "    \n",
    "    return f'\\n{dia} de {meses.get(mes)} de {ano}'\n",
    "    \n",
    "    \n",
    "\n",
    "while True:\n",
    "\n",
    "    data = input('Entre com data no formato (DD/MM/AAAA) - (X-Sai): ')\n",
    "\n",
    "    if data[0] == '-':\n",
    "        print('Dia nao pode ser negativo... ')\n",
    "        continue\n",
    "        \n",
    "    elif data[0].upper() == 'X':\n",
    "        break\n",
    "    \n",
    "\n",
    "    if (10 < len(data) < 10):\n",
    "        print('Data invalidade, favor digitar no formato (DD/MM/AAAA) !!!!')\n",
    "        continue\n",
    "    else:\n",
    "        data_lista= data.split('/')\n",
    "        \n",
    "        dia = data_lista[0]\n",
    "        mes = data_lista[1]\n",
    "        ano = data_lista[2]\n",
    "        \n",
    "\n",
    "        if data[0] == '-' or int(data_lista[0]) < 1 or int(data_lista[0])>31:\n",
    "            print(f'{data_lista[0]} inválido - dia 1 até 31')\n",
    "            continue\n",
    "\n",
    "        elif data[3] == '-' or int(data_lista[1]) <1 or int(data_lista[1]) >12:\n",
    "            print(f'{data_lista[1]} inválido - mês 1 até 12')\n",
    "            continue\n",
    "        elif data[6] == '-' or len(data_lista[2]) > 4:\n",
    "            print(f'Ano {data_lista[2]} digitado errado !!!')\n",
    "            continue\n",
    "\n",
    "        print(extenso(dia,mes,ano))\n",
    "        \n",
    "                \n",
    "    \n"
   ]
  },
  {
   "cell_type": "code",
   "execution_count": null,
   "id": "5a78a576",
   "metadata": {},
   "outputs": [],
   "source": []
  },
  {
   "cell_type": "code",
   "execution_count": null,
   "id": "83a39c2b",
   "metadata": {},
   "outputs": [],
   "source": []
  }
 ],
 "metadata": {
  "kernelspec": {
   "display_name": "Python 3",
   "language": "python",
   "name": "python3"
  },
  "language_info": {
   "codemirror_mode": {
    "name": "ipython",
    "version": 3
   },
   "file_extension": ".py",
   "mimetype": "text/x-python",
   "name": "python",
   "nbconvert_exporter": "python",
   "pygments_lexer": "ipython3",
   "version": "3.6.3"
  }
 },
 "nbformat": 4,
 "nbformat_minor": 5
}
