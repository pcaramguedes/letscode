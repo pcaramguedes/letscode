{
 "cells": [
  {
   "cell_type": "code",
   "execution_count": null,
   "id": "46ab38ed",
   "metadata": {},
   "outputs": [
    {
     "name": "stdout",
     "output_type": "stream",
     "text": [
      "Digite o N1: 10.33\n",
      "Digite o N2: 22.44\n",
      "1 - Soma \n",
      "2 - Subtrai \n",
      "3 - Multiplica \n",
      "4 - Divisao \n",
      "5 - Sai\n",
      "5\n",
      "None\n",
      "Digite o N1: 10.44\n",
      "Digite o N2: 22333\n",
      "1 - Soma \n",
      "2 - Subtrai \n",
      "3 - Multiplica \n",
      "4 - Divisao \n",
      "5 - Sai\n",
      "3\n",
      "233156.52\n",
      "Digite o N1: 44\n",
      "Digite o N2: 4\n",
      "1 - Soma \n",
      "2 - Subtrai \n",
      "3 - Multiplica \n",
      "4 - Divisao \n",
      "5 - Sai\n",
      "5\n",
      "None\n"
     ]
    }
   ],
   "source": [
    "dicios = {\n",
    "    '1':lambda x,y: x+y,\n",
    "    '2':lambda x,y: x-y,\n",
    "    '3':lambda x,y: x*y,\n",
    "    '4':lambda x,y: x/y,\n",
    "    '5':lambda x,y: exit()\n",
    "}\n",
    "\n",
    "while True:\n",
    "    \n",
    "    try:\n",
    "        n1 = float(input('Digite o N1: '))\n",
    "        n2 = float(input('Digite o N2: '))\n",
    "    except ValueError:\n",
    "        print('Somente Números')\n",
    "    else:\n",
    "        op = input(f'1 - Soma \\n' \\\n",
    "                    f'2 - Subtrai \\n' \\\n",
    "                    f'3 - Multiplica \\n'\\\n",
    "                    f'4 - Divisao \\n' \\\n",
    "                    f'5 - Sai\\n')\n",
    "\n",
    "        res =dicios[op](n1,n2)\n",
    "        print(res)\n"
   ]
  },
  {
   "cell_type": "code",
   "execution_count": null,
   "id": "aea59b50",
   "metadata": {},
   "outputs": [],
   "source": []
  }
 ],
 "metadata": {
  "kernelspec": {
   "display_name": "Python 3 (ipykernel)",
   "language": "python",
   "name": "python3"
  },
  "language_info": {
   "codemirror_mode": {
    "name": "ipython",
    "version": 3
   },
   "file_extension": ".py",
   "mimetype": "text/x-python",
   "name": "python",
   "nbconvert_exporter": "python",
   "pygments_lexer": "ipython3",
   "version": "3.9.2"
  }
 },
 "nbformat": 4,
 "nbformat_minor": 5
}
