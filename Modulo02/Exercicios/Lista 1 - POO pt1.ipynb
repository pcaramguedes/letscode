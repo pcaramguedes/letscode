{
 "cells": [
  {
   "cell_type": "markdown",
   "metadata": {},
   "source": [
    "# Lista 1 - POO parte 1\n",
    "\n",
    "__________\n",
    "\n",
    "### Fundamentos\n",
    "\n",
    "__________"
   ]
  },
  {
   "cell_type": "markdown",
   "metadata": {},
   "source": [
    "___________"
   ]
  },
  {
   "cell_type": "markdown",
   "metadata": {},
   "source": [
    "1. Crie uma classe `Bola` cujos atributos são cor e raio. \n",
    "\n",
    "Crie um método para calcular a área dessa bola (obs.: a área de uma esfera é $\\frac{4}{3}\\pi r^3$). \n",
    "\n",
    "Crie um método que imprime a cor da bola. \n",
    "\n",
    "Crie um método para calcular o volume da bola (obs.: o volume de uma esfera é $4 \\pi r^2$). \n",
    "\n",
    "Crie um objeto dessa classe e calcule a área e o volume, imprimindo ambos em seguida."
   ]
  },
  {
   "cell_type": "code",
   "execution_count": null,
   "metadata": {},
   "outputs": [],
   "source": []
  },
  {
   "cell_type": "markdown",
   "metadata": {},
   "source": [
    "___________"
   ]
  },
  {
   "cell_type": "markdown",
   "metadata": {},
   "source": [
    "2. Crie uma classe `Retangulo` cujos atributos são `lado_a` e `lado_b`. \n",
    "\n",
    "Crie um método para calcular a área desse retângulo. \n",
    "\n",
    "Crie um objeto dessa classe e calcule a área e a imprima em seguida.\n"
   ]
  },
  {
   "cell_type": "code",
   "execution_count": null,
   "metadata": {},
   "outputs": [],
   "source": []
  },
  {
   "cell_type": "markdown",
   "metadata": {},
   "source": [
    "___________"
   ]
  },
  {
   "cell_type": "markdown",
   "metadata": {},
   "source": [
    "3. Crie uma classe `Cliente` cujos atributos são nome, idade e e-mail. Construa um método que imprima as informações tal como abaixo:\n",
    "\n",
    "```\n",
    "Nome: Fulano de Tal\n",
    "Idade: 40\n",
    "E-mail: fulano@mail.com\n",
    "```"
   ]
  },
  {
   "cell_type": "code",
   "execution_count": null,
   "metadata": {},
   "outputs": [],
   "source": []
  },
  {
   "cell_type": "markdown",
   "metadata": {},
   "source": [
    "___________"
   ]
  },
  {
   "cell_type": "markdown",
   "metadata": {},
   "source": [
    "4. Com base no exercício anterior, crie um sistema de cadastro com dicionários e a classe `Cliente`; cada cliente deve ter como chave o seu CPF. Seu programa deve perguntar se o usuário quer cadastrar um novo cliente, alterar um cadastro ou sair. \n",
    "\n",
    "Obs.: tente fazer esse exercício pode criando uma classe `Sistema`, que irá controlar o sistema de cadastros. Essa classe deve ter o atributo cadastro e os métodos para imprimir os cadastrados, cadastrar um novo, alterar um cadastro ou sair."
   ]
  },
  {
   "cell_type": "code",
   "execution_count": null,
   "metadata": {},
   "outputs": [],
   "source": []
  },
  {
   "cell_type": "markdown",
   "metadata": {},
   "source": [
    "___________"
   ]
  },
  {
   "cell_type": "markdown",
   "metadata": {},
   "source": [
    "5. Crie uma classe `Funcionario` cujos atributos são nome e e-mail. \n",
    "\n",
    "Guarde as horas trabalhadas em um dicionário cujas chaves são o mês em questão e, em outro dicionário, guarde o salário por hora relativo ao mês em questão. \n",
    "\n",
    "Crie um método que retorna o salário mensal do funcionário.\n"
   ]
  },
  {
   "cell_type": "code",
   "execution_count": null,
   "metadata": {},
   "outputs": [],
   "source": []
  },
  {
   "cell_type": "markdown",
   "metadata": {},
   "source": [
    "___________"
   ]
  },
  {
   "cell_type": "markdown",
   "metadata": {},
   "source": [
    "6. Crie uma classe `ContaCorrente` com os atributos cliente (que deve ser um objeto da classe Cliente) e saldo. \n",
    "\n",
    "Crie métodos para depósito, saque e transferência. Os métodos de saque e transferência devem verificar se é possível realizar a transação."
   ]
  },
  {
   "cell_type": "code",
   "execution_count": null,
   "metadata": {},
   "outputs": [],
   "source": []
  },
  {
   "cell_type": "markdown",
   "metadata": {},
   "source": [
    "___________"
   ]
  },
  {
   "cell_type": "markdown",
   "metadata": {},
   "source": [
    "7. Crie uma classe `Televisor`cujos atributos são: fabricante; modelo; canal atual; lista de canais; volume.\n",
    "\n",
    "Faça métodos aumentar/diminuir volume, trocar o canal e sintonizar um novo canal, que adiciona um novo canal à lista de canais (somente se esse canal não estiver nessa lista). No atributo lista de canais, devem estar armazenados todos os canais já sintonizados dessa TV. \n",
    "\n",
    "Obs.: o volume não pode ser menor que zero e maior que cem; só se pode trocar para um canal que já esteja na lista de canais."
   ]
  },
  {
   "cell_type": "code",
   "execution_count": null,
   "metadata": {},
   "outputs": [],
   "source": []
  },
  {
   "cell_type": "markdown",
   "metadata": {},
   "source": [
    "___________"
   ]
  },
  {
   "cell_type": "markdown",
   "metadata": {},
   "source": [
    "8. Crie uma classe `ControleRemoto` cujo atributo é televisão (isso é, recebe um objeto da classe do exercício 7). Crie métodos para aumentar/diminuir volume, trocar o canal e sintonizar um novo canal, que adiciona um novo canal à lista de canais (somente se esse canal não estiver nessa lista).\n"
   ]
  },
  {
   "cell_type": "code",
   "execution_count": null,
   "metadata": {},
   "outputs": [],
   "source": []
  },
  {
   "cell_type": "markdown",
   "metadata": {},
   "source": [
    "___________"
   ]
  },
  {
   "cell_type": "markdown",
   "metadata": {},
   "source": [
    "9. O módulo (biblioteca) `time` possui a função `time.sleep(x)`, que faz seu programa “dormir” por x segundos. Utilizando essa função, crie uma classe `Cronômetro` e faça um programa que cronometre o tempo.\n"
   ]
  },
  {
   "cell_type": "code",
   "execution_count": null,
   "metadata": {},
   "outputs": [],
   "source": []
  },
  {
   "cell_type": "markdown",
   "metadata": {},
   "source": [
    "___________"
   ]
  },
  {
   "cell_type": "markdown",
   "metadata": {},
   "source": [
    "10. Crie uma modelagem orientada a objetos para uma agenda capaz de armazenar contatos. Através dessa agenda é possível incluir, remover, buscar e listar contatos já cadastrados. \n",
    "\n",
    "Dica: siga o modelo do exercício 4.\n"
   ]
  },
  {
   "cell_type": "code",
   "execution_count": null,
   "metadata": {},
   "outputs": [],
   "source": []
  }
 ],
 "metadata": {
  "kernelspec": {
   "display_name": "Python 3",
   "language": "python",
   "name": "python3"
  },
  "language_info": {
   "codemirror_mode": {
    "name": "ipython",
    "version": 3
   },
   "file_extension": ".py",
   "mimetype": "text/x-python",
   "name": "python",
   "nbconvert_exporter": "python",
   "pygments_lexer": "ipython3",
   "version": "3.8.3"
  }
 },
 "nbformat": 4,
 "nbformat_minor": 4
}
