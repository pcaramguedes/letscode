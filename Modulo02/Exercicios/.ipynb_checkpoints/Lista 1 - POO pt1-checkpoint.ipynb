{
 "cells": [
  {
   "cell_type": "markdown",
   "metadata": {},
   "source": [
    "# Lista 1 - POO parte 1\n",
    "\n",
    "__________\n",
    "\n",
    "### Fundamentos\n",
    "\n",
    "__________"
   ]
  },
  {
   "cell_type": "markdown",
   "metadata": {},
   "source": [
    "___________"
   ]
  },
  {
   "cell_type": "markdown",
   "metadata": {},
   "source": [
    "1. Crie uma classe `Bola` cujos atributos são cor e raio. \n",
    "\n",
    "Crie um método para calcular a área dessa bola (obs.: a área de uma esfera é $\\frac{4}{3}\\pi r^3$). \n",
    "\n",
    "Crie um método que imprime a cor da bola. \n",
    "\n",
    "Crie um método para calcular o volume da bola (obs.: o volume de uma esfera é $4 \\pi r^2$). \n",
    "\n",
    "Crie um objeto dessa classe e calcule a área e o volume, imprimindo ambos em seguida."
   ]
  },
  {
   "cell_type": "code",
   "execution_count": null,
   "metadata": {},
   "outputs": [],
   "source": [
    "class Bola:\n",
    "    \n",
    "    def __init__(self, cor, raio):\n",
    "        \n",
    "        if type(cor) != str:\n",
    "            print(\"Tipo de dado errado, aceita somente string\")\n",
    "        else:\n",
    "            self.cor = cor\n",
    "        \n",
    "        if type(raio) != float:\n",
    "            print('Tipo de dado errado para raio')\n",
    "        else:\n",
    "            self.raio = raio\n",
    "        \n",
    "    def area(self):\n",
    "        \"\"\"\n",
    "        Calcula area de uma esfera 4/3* pi * raio**3\n",
    "        \n",
    "        \"\"\"\n",
    "        print(f'Aréa da esfera de raio {self.raio} é : {(4/3) * 3.14 * self.raio**3:.2f}')\n",
    "        \n",
    "    \n",
    "    def imprime_cor(self):\n",
    "        print(f'A cor da bola é {self.cor}')\n",
    "        \n",
    "    def volume_area(self):\n",
    "        \n",
    "        \"\"\"\n",
    "        Calculo do volume - segue formula: 4*pi*r**2\n",
    "        \"\"\"\n",
    "        print(f'O Volume da esfera de raio: {self.raio} é {4*3.14*(self.raio**2):.2f}')\n",
    "        \n",
    "\n",
    "\n",
    "\n",
    "        \n",
    "        \n",
    "    "
   ]
  },
  {
   "cell_type": "code",
   "execution_count": null,
   "metadata": {},
   "outputs": [],
   "source": [
    "bola1 = Bola('vermelho',1.00)\n",
    "\n",
    "bola1.imprime_cor()"
   ]
  },
  {
   "cell_type": "code",
   "execution_count": null,
   "metadata": {},
   "outputs": [],
   "source": [
    "bola2 = Bola('Cinza',6.00)\n",
    "bola2.imprime_cor()"
   ]
  },
  {
   "cell_type": "code",
   "execution_count": null,
   "metadata": {},
   "outputs": [],
   "source": [
    "bola3 = Bola('Azul',7.00)\n",
    "bola3.area()"
   ]
  },
  {
   "cell_type": "markdown",
   "metadata": {},
   "source": [
    "___________"
   ]
  },
  {
   "cell_type": "markdown",
   "metadata": {},
   "source": [
    "2. Crie uma classe `Retangulo` cujos atributos são `lado_a` e `lado_b`. \n",
    "\n",
    "Crie um método para calcular a área desse retângulo. \n",
    "\n",
    "Crie um objeto dessa classe e calcule a área e a imprima em seguida.\n"
   ]
  },
  {
   "cell_type": "code",
   "execution_count": null,
   "metadata": {},
   "outputs": [],
   "source": [
    "class Retangulo:\n",
    "    \n",
    "    def __init__(self, lado_a=0, lado_b=0):\n",
    "        self.lado_a = lado_a\n",
    "        self.lado_b = lado_b\n",
    "        \n",
    "    def area(self):\n",
    "        print(f'A área do retangulo de lado: {self.lado_a} * {self.lado_b}' \\\n",
    "              f' é: {self.lado_a * self.lado_b}')\n",
    "        \n",
    "\n",
    "        \n",
    "        "
   ]
  },
  {
   "cell_type": "code",
   "execution_count": null,
   "metadata": {},
   "outputs": [],
   "source": [
    "retangulo1 = Retangulo(2,2)\n",
    "\n",
    "retangulo1.area()"
   ]
  },
  {
   "cell_type": "code",
   "execution_count": null,
   "metadata": {},
   "outputs": [],
   "source": [
    "retangulo2 = Retangulo()\n",
    "\n",
    "retangulo2.area(3,"
   ]
  },
  {
   "cell_type": "code",
   "execution_count": null,
   "metadata": {},
   "outputs": [],
   "source": [
    "retangulo3 = Retangulo(4,4)"
   ]
  },
  {
   "cell_type": "code",
   "execution_count": null,
   "metadata": {},
   "outputs": [],
   "source": [
    "retangulo3.area()"
   ]
  },
  {
   "cell_type": "markdown",
   "metadata": {},
   "source": [
    "___________"
   ]
  },
  {
   "cell_type": "markdown",
   "metadata": {},
   "source": [
    "3. Crie uma classe `Cliente` cujos atributos são nome, idade e e-mail. Construa um método que imprima as informações tal como abaixo:\n",
    "\n",
    "```\n",
    "Nome: Fulano de Tal\n",
    "Idade: 40\n",
    "E-mail: fulano@mail.com\n",
    "```"
   ]
  },
  {
   "cell_type": "code",
   "execution_count": null,
   "metadata": {},
   "outputs": [],
   "source": [
    "class Cliente:\n",
    "    \n",
    "    def __init__(self, nome=None, idade=0, email=None):\n",
    "        \n",
    "        self.nome = nome\n",
    "        self.idade = idade\n",
    "        self.email = email\n",
    "        \n",
    "    def imprima(self):\n",
    "        \n",
    "        print(f'Nome.: {self.nome} \\n' \\\n",
    "              f'Idade: {self.idade} \\n'\\\n",
    "              f'Email: {self.email} \\n')\n"
   ]
  },
  {
   "cell_type": "code",
   "execution_count": null,
   "metadata": {},
   "outputs": [],
   "source": [
    "paulo = Cliente()"
   ]
  },
  {
   "cell_type": "code",
   "execution_count": null,
   "metadata": {},
   "outputs": [],
   "source": [
    "paulo.imprima()"
   ]
  },
  {
   "cell_type": "code",
   "execution_count": null,
   "metadata": {},
   "outputs": [],
   "source": [
    "paulo.idade = 52\n",
    "paulo.nome = 'Paulo Eduardo'\n",
    "paulo.email = 'pcaramguedes@gmail.com'\n",
    "\n",
    "paulo.imprima()"
   ]
  },
  {
   "cell_type": "code",
   "execution_count": null,
   "metadata": {},
   "outputs": [],
   "source": [
    "paulo.imprima()"
   ]
  },
  {
   "cell_type": "markdown",
   "metadata": {},
   "source": [
    "___________"
   ]
  },
  {
   "cell_type": "markdown",
   "metadata": {},
   "source": [
    "4. Com base no exercício anterior, crie um sistema de cadastro com dicionários e a classe `Cliente`; cada cliente deve ter como chave o seu CPF. Seu programa deve perguntar se o usuário quer cadastrar um novo cliente, alterar um cadastro ou sair. \n",
    "\n",
    "Obs.: tente fazer esse exercício pode criando uma classe `Sistema`, que irá controlar o sistema de cadastros. Essa classe deve ter o atributo cadastro e os métodos para imprimir os cadastrados, cadastrar um novo, alterar um cadastro ou sair."
   ]
  },
  {
   "cell_type": "code",
   "execution_count": 7,
   "metadata": {},
   "outputs": [
    {
     "name": "stdout",
     "output_type": "stream",
     "text": [
      "--------------------------------\n",
      "1-Cadastrar \n",
      "2-Deletar \n",
      "3-Inserir \n",
      "4-Listar \n",
      "5-Sair \n",
      "\n"
     ]
    },
    {
     "name": "stdin",
     "output_type": "stream",
     "text": [
      "Faz a sua escolha:  1\n",
      "Digite o seu cpf:  777\n",
      "Digite o seu nome:  paulo\n"
     ]
    },
    {
     "name": "stdout",
     "output_type": "stream",
     "text": [
      "--------------------------------\n",
      "1-Cadastrar \n",
      "2-Deletar \n",
      "3-Inserir \n",
      "4-Listar \n",
      "5-Sair \n",
      "\n"
     ]
    },
    {
     "name": "stdin",
     "output_type": "stream",
     "text": [
      "Faz a sua escolha:  1\n",
      "Digite o seu cpf:  888\n",
      "Digite o seu nome:  joao\n"
     ]
    },
    {
     "name": "stdout",
     "output_type": "stream",
     "text": [
      "--------------------------------\n",
      "1-Cadastrar \n",
      "2-Deletar \n",
      "3-Inserir \n",
      "4-Listar \n",
      "5-Sair \n",
      "\n"
     ]
    },
    {
     "name": "stdin",
     "output_type": "stream",
     "text": [
      "Faz a sua escolha:  4\n"
     ]
    },
    {
     "name": "stdout",
     "output_type": "stream",
     "text": [
      "{'cpf': ['777', '888'], 'nome': ['paulo', 'joao']}\n",
      "--------------------------------\n",
      "1-Cadastrar \n",
      "2-Deletar \n",
      "3-Inserir \n",
      "4-Listar \n",
      "5-Sair \n",
      "\n"
     ]
    },
    {
     "name": "stdin",
     "output_type": "stream",
     "text": [
      "Faz a sua escolha:  1\n",
      "Digite o seu cpf:  999\n",
      "Digite o seu nome:  galo\n"
     ]
    },
    {
     "name": "stdout",
     "output_type": "stream",
     "text": [
      "--------------------------------\n",
      "1-Cadastrar \n",
      "2-Deletar \n",
      "3-Inserir \n",
      "4-Listar \n",
      "5-Sair \n",
      "\n"
     ]
    },
    {
     "name": "stdin",
     "output_type": "stream",
     "text": [
      "Faz a sua escolha:  4\n"
     ]
    },
    {
     "name": "stdout",
     "output_type": "stream",
     "text": [
      "{'cpf': ['777', '888', '999'], 'nome': ['paulo', 'joao', 'galo']}\n",
      "--------------------------------\n",
      "1-Cadastrar \n",
      "2-Deletar \n",
      "3-Inserir \n",
      "4-Listar \n",
      "5-Sair \n",
      "\n"
     ]
    },
    {
     "name": "stdin",
     "output_type": "stream",
     "text": [
      "Faz a sua escolha:  5\n"
     ]
    }
   ],
   "source": [
    "class Sistema:\n",
    "    \n",
    "    \n",
    "    def __init__(self, cpf=None, nome=None, dicionario = {}, lista_nome=[], lista_cpf=[]):\n",
    "        self.cpf = cpf\n",
    "        self.nome= nome\n",
    "        self.dicio = dicionario\n",
    "        self.lista_nome = lista_nome\n",
    "        self.lista_cpf = lista_cpf\n",
    "        \n",
    "    def cadastrar(self):\n",
    "        \n",
    "        self.lista_cpf.append(self.cpf)\n",
    "        self.lista_nome.append(self.nome)\n",
    "        self.dicio['cpf'] = self.lista_cpf\n",
    "        self.dicio['nome'] = self.lista_nome\n",
    "        \n",
    "\n",
    "    def deletar(self):\n",
    "        pass\n",
    "    \n",
    "    def listar(self):\n",
    "        print(self.dicio)\n",
    "    \n",
    "    def inserir(self):\n",
    "        pass\n",
    "    \n",
    "\n",
    "def menu():\n",
    "    opcao = 0\n",
    "    \n",
    "    while opcao != 5:\n",
    "        print('-'*32)\n",
    "        print(f'1-Cadastrar \\n'\\\n",
    "              f'2-Deletar \\n' \\\n",
    "              f'3-Inserir \\n' \\\n",
    "              f'4-Listar \\n' \\\n",
    "              f'5-Sair \\n')\n",
    "\n",
    "        opcao = int(input('Faz a sua escolha: '))\n",
    "    \n",
    "        if opcao == 1:\n",
    "            cpf = input('Digite o seu cpf: ')\n",
    "            nome = input('Digite o seu nome: ')\n",
    "            cliente1 = Sistema(cpf,nome)\n",
    "            cliente1.cadastrar()\n",
    "        elif opcao == 4:\n",
    "            cliente2 = Sistema()\n",
    "            cliente2.listar()\n",
    "            \n",
    "if __name__ == \"__main__\":\n",
    "    menu()\n"
   ]
  },
  {
   "cell_type": "code",
   "execution_count": 2,
   "metadata": {},
   "outputs": [
    {
     "ename": "NameError",
     "evalue": "name 'dicio' is not defined",
     "output_type": "error",
     "traceback": [
      "\u001b[0;31m---------------------------------------------------------------------------\u001b[0m",
      "\u001b[0;31mNameError\u001b[0m                                 Traceback (most recent call last)",
      "\u001b[0;32m/tmp/ipykernel_22044/1995203354.py\u001b[0m in \u001b[0;36m<module>\u001b[0;34m\u001b[0m\n\u001b[0;32m----> 1\u001b[0;31m \u001b[0mdicio\u001b[0m\u001b[0;34m\u001b[0m\u001b[0;34m\u001b[0m\u001b[0m\n\u001b[0m",
      "\u001b[0;31mNameError\u001b[0m: name 'dicio' is not defined"
     ]
    }
   ],
   "source": []
  },
  {
   "cell_type": "code",
   "execution_count": null,
   "metadata": {},
   "outputs": [],
   "source": [
    "dicio\n"
   ]
  },
  {
   "cell_type": "code",
   "execution_count": null,
   "metadata": {},
   "outputs": [],
   "source": [
    "cliente1.nome"
   ]
  },
  {
   "cell_type": "code",
   "execution_count": null,
   "metadata": {},
   "outputs": [],
   "source": []
  },
  {
   "cell_type": "markdown",
   "metadata": {},
   "source": [
    "___________"
   ]
  },
  {
   "cell_type": "markdown",
   "metadata": {},
   "source": [
    "5. Crie uma classe `Funcionario` cujos atributos são nome e e-mail. \n",
    "\n",
    "Guarde as horas trabalhadas em um dicionário cujas chaves são o mês em questão e, em outro dicionário, guarde o salário por hora relativo ao mês em questão. \n",
    "\n",
    "Crie um método que retorna o salário mensal do funcionário.\n"
   ]
  },
  {
   "cell_type": "code",
   "execution_count": null,
   "metadata": {},
   "outputs": [],
   "source": []
  },
  {
   "cell_type": "markdown",
   "metadata": {},
   "source": [
    "___________"
   ]
  },
  {
   "cell_type": "markdown",
   "metadata": {},
   "source": [
    "6. Crie uma classe `ContaCorrente` com os atributos cliente (que deve ser um objeto da classe Cliente) e saldo. \n",
    "\n",
    "Crie métodos para depósito, saque e transferência. Os métodos de saque e transferência devem verificar se é possível realizar a transação."
   ]
  },
  {
   "cell_type": "code",
   "execution_count": null,
   "metadata": {},
   "outputs": [],
   "source": []
  },
  {
   "cell_type": "markdown",
   "metadata": {},
   "source": [
    "___________"
   ]
  },
  {
   "cell_type": "markdown",
   "metadata": {},
   "source": [
    "7. Crie uma classe `Televisor`cujos atributos são: fabricante; modelo; canal atual; lista de canais; volume.\n",
    "\n",
    "Faça métodos aumentar/diminuir volume, trocar o canal e sintonizar um novo canal, que adiciona um novo canal à lista de canais (somente se esse canal não estiver nessa lista). No atributo lista de canais, devem estar armazenados todos os canais já sintonizados dessa TV. \n",
    "\n",
    "Obs.: o volume não pode ser menor que zero e maior que cem; só se pode trocar para um canal que já esteja na lista de canais."
   ]
  },
  {
   "cell_type": "code",
   "execution_count": null,
   "metadata": {},
   "outputs": [],
   "source": []
  },
  {
   "cell_type": "markdown",
   "metadata": {},
   "source": [
    "___________"
   ]
  },
  {
   "cell_type": "markdown",
   "metadata": {},
   "source": [
    "8. Crie uma classe `ControleRemoto` cujo atributo é televisão (isso é, recebe um objeto da classe do exercício 7). Crie métodos para aumentar/diminuir volume, trocar o canal e sintonizar um novo canal, que adiciona um novo canal à lista de canais (somente se esse canal não estiver nessa lista).\n"
   ]
  },
  {
   "cell_type": "code",
   "execution_count": null,
   "metadata": {},
   "outputs": [],
   "source": []
  },
  {
   "cell_type": "markdown",
   "metadata": {},
   "source": [
    "___________"
   ]
  },
  {
   "cell_type": "markdown",
   "metadata": {},
   "source": [
    "9. O módulo (biblioteca) `time` possui a função `time.sleep(x)`, que faz seu programa “dormir” por x segundos. Utilizando essa função, crie uma classe `Cronômetro` e faça um programa que cronometre o tempo.\n"
   ]
  },
  {
   "cell_type": "code",
   "execution_count": null,
   "metadata": {},
   "outputs": [],
   "source": []
  },
  {
   "cell_type": "markdown",
   "metadata": {},
   "source": [
    "___________"
   ]
  },
  {
   "cell_type": "markdown",
   "metadata": {},
   "source": [
    "10. Crie uma modelagem orientada a objetos para uma agenda capaz de armazenar contatos. Através dessa agenda é possível incluir, remover, buscar e listar contatos já cadastrados. \n",
    "\n",
    "Dica: siga o modelo do exercício 4.\n"
   ]
  },
  {
   "cell_type": "code",
   "execution_count": null,
   "metadata": {},
   "outputs": [],
   "source": []
  }
 ],
 "metadata": {
  "kernelspec": {
   "display_name": "Python 3 (ipykernel)",
   "language": "python",
   "name": "python3"
  },
  "language_info": {
   "codemirror_mode": {
    "name": "ipython",
    "version": 3
   },
   "file_extension": ".py",
   "mimetype": "text/x-python",
   "name": "python",
   "nbconvert_exporter": "python",
   "pygments_lexer": "ipython3",
   "version": "3.8.10"
  }
 },
 "nbformat": 4,
 "nbformat_minor": 4
}
