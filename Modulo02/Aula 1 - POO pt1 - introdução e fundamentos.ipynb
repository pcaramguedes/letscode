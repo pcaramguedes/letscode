{
 "cells": [
  {
   "cell_type": "markdown",
   "metadata": {
    "tags": []
   },
   "source": [
    "# Programação Orientada a Objetos\n",
    "\n",
    "## Parte 1 - Introdução e fundamentos\n",
    "\n",
    "__________\n",
    "\n",
    "Na aula de hoje, vamos explorar os seguintes tópicos em Python:\n",
    "\n",
    "- 1) Programação Orientada a Objetos;\n",
    "- 2) Classes, Atributos, Objetos e Métodos;\n",
    "- 3) Atributos e métodos estáticos;\n",
    "__________"
   ]
  },
  {
   "cell_type": "code",
   "execution_count": 1,
   "metadata": {},
   "outputs": [
    {
     "data": {
      "text/plain": [
       "\"LET'S CODE\""
      ]
     },
     "execution_count": 1,
     "metadata": {},
     "output_type": "execute_result"
    }
   ],
   "source": [
    "string = \"Let's code\"\n",
    "string.upper()"
   ]
  },
  {
   "cell_type": "code",
   "execution_count": 2,
   "metadata": {},
   "outputs": [
    {
     "data": {
      "text/plain": [
       "7"
      ]
     },
     "execution_count": 2,
     "metadata": {},
     "output_type": "execute_result"
    }
   ],
   "source": [
    "lista = [1, 2,4]\n",
    "sum(lista)"
   ]
  },
  {
   "cell_type": "markdown",
   "metadata": {},
   "source": [
    "____\n",
    "____\n",
    "____"
   ]
  },
  {
   "cell_type": "markdown",
   "metadata": {},
   "source": [
    "## 1) Programação Orientada a Objetos\n",
    "\n",
    "O Python, como outras linguagens, é classificada como uma **linguagem de programação orientada a objetos (POO)** (outros exemplos: Java, C++, etc). \n",
    "\n",
    "Esta classificação é uma dos chamados \"paradigmas de programação\". Isso porque uma linguagem de POO é fundamentalmente diferente de linguagens de outros paradigmas.\n",
    "\n",
    "O grande objetivo da POO é a **reutilização de código**.\n",
    "\n",
    "Os programas devem ser **modularizados**, de modo que diferentes pessoas possam implementar módulos diferentes e juntá-los ao final, e reaproveitar modulos diferentes.\n",
    "\n",
    "Dentro de POO, tudo isso é feito de acordo com as seguintes **entidades**:\n",
    "\n",
    "- Classes\n",
    "\n",
    "> As classes são os \"moldes\" dos objetos, as entidades abstratas. Elas contêm as informações e os comportamentos que os objetos terão. Todos os objetos pertencentes a uma mesma classe terão características em comum. **Ex: Pessoa**\n",
    "\n",
    "- Objetos\n",
    "\n",
    "> Os objetos são as instâncias concretas das classes, que são abstratas. Os objetos contêm as características comuns à classe, mas cada um tem suas particularidades. **Ex: você!**\n",
    "\n",
    "\n",
    "- Atributos\n",
    "\n",
    "> Cada objeto particular de uma mesma classe tem valores diferentes para as variáveis internas da classe. Essas \"variáveis do objeto\" chamamos de atributos. **Ex: a cor do seu cabelo**\n",
    "\n",
    "- Métodos\n",
    "\n",
    "> Métodos são funções dentro da classe, que não podem ser executadas arbitrariamente, mas deverão ser chamadas necessariamente pelos objetos. Os métodos podem utilizar os atributos e até mesmo alterá-los. **Ex: você pintar seu cabelo para mudar a cor** \n",
    "\n",
    "\n",
    "Em POO, há **4 princípios de boas práticas** para a criação das entidades:\n",
    "\n",
    "- **Encapsulamento**: cada classe deve conter todas as informações necessárias para seu funcionamento bem como todos os métodos necessários para alterar essas informações.\n",
    "\n",
    "- **Abstração**: as classes devem apresentar interfaces simples para o uso por outros desenvolvedores e para a interação com outras classes. Todos os detalhes complicados de seu funcionamento devem estar \"escondidos\" dentro de métodos simples de usar, com parâmetros e retornos bem definidos. \n",
    "\n",
    "- **Herança**: se várias classes terão atributos e métodos em comum, não devemos ter que redigitá-los várias vezes. Ao invés disso, criamos uma classe com esses atributos comuns e as outras classes irão herdá-los.\n",
    "        \n",
    "- **Polimorfismo**: objetos de diferentes classes herdeiras de uma mesma classe mãe podem ser tratados genericamente como objetos pertencentes à classe mãe.\n",
    "\n",
    "Vamos agora a exemplos específicos para ilustrar e concretizar todos os conceitos discutidos acima!"
   ]
  },
  {
   "cell_type": "code",
   "execution_count": 14,
   "metadata": {},
   "outputs": [],
   "source": [
    "class Quadrado:\n",
    "    \n",
    "    def __init__(self, size, color):\n",
    "        \n",
    "        self.lado = size\n",
    "        \n",
    "        self.cor = color\n",
    "        \n",
    "    def fala_cor(self):\n",
    "        print(f'Eu sou um quadrado de cor {self.cor}')\n",
    "        \n",
    "    def calcula_area(self):\n",
    "        \n",
    "        return self.lado**2\n",
    "        \n",
    "        "
   ]
  },
  {
   "cell_type": "code",
   "execution_count": 15,
   "metadata": {},
   "outputs": [],
   "source": [
    "meu_quadrado = Quadrado(4, 'verde')"
   ]
  },
  {
   "cell_type": "code",
   "execution_count": 11,
   "metadata": {},
   "outputs": [
    {
     "name": "stdout",
     "output_type": "stream",
     "text": [
      "Eu sou um quadrado de cor verde\n"
     ]
    }
   ],
   "source": [
    "meu_quadrado.lado\n",
    "meu_quadrado.cor\n",
    "meu_quadrado.fala_cor()"
   ]
  },
  {
   "cell_type": "code",
   "execution_count": 16,
   "metadata": {},
   "outputs": [
    {
     "data": {
      "text/plain": [
       "16"
      ]
     },
     "execution_count": 16,
     "metadata": {},
     "output_type": "execute_result"
    }
   ],
   "source": [
    "meu_quadrado.calcula_area()\n"
   ]
  },
  {
   "cell_type": "markdown",
   "metadata": {},
   "source": [
    "_____\n",
    "_____\n",
    "_____"
   ]
  },
  {
   "cell_type": "markdown",
   "metadata": {},
   "source": [
    "## 2) Classes, Atributos, Objetos e Métodos\n",
    "\n",
    "\n",
    "### Criando uma classe\n",
    "\n",
    "A criação de classes é feita segundo a seguinte estrutura:\n",
    "\n",
    "```python\n",
    "class nome_da_classe:\n",
    "    \n",
    "    # método construtor\n",
    "    def __init__(self, atributos)\n",
    "        \n",
    "        # definição dos atributos\n",
    "        self.atributos = atributos\n",
    "        \n",
    "    # definição de outros métodos\n",
    "    def metodo(self, parametros):\n",
    "        operacoes\n",
    "```\n",
    "\n",
    "O **método construtor** é onde inicializamos alguns atributos que os objetos da classe terão!\n",
    "\n",
    "Os argumentos deste método são **obrigatórios** para a definição do objeto!\n",
    "\n",
    "- Esse método é opcional, mas é uma boa prática sempre defini-lo!\n",
    "- Sempre que um objeto é criado, este método é chamado, automaticamente"
   ]
  },
  {
   "cell_type": "markdown",
   "metadata": {},
   "source": [
    "O **\"self\"** sempre será o primeiro parâmetro dos métodos de uma classe, e ele é necessário para **fazer referência à classe**\n",
    "\n",
    "Assim, em geral, sempre usaremos dentro dos métodos alguma operação que **faça uso dos atributos da classe**, que é referenciada através do `self`."
   ]
  },
  {
   "cell_type": "code",
   "execution_count": null,
   "metadata": {},
   "outputs": [],
   "source": []
  },
  {
   "cell_type": "markdown",
   "metadata": {},
   "source": [
    "### Criação de objeto: instanciando uma classe\n",
    "\n",
    "Para criarmos um objeto (instância concreta da classe abstrata), nós fazemos o processo de **instanciação**, que nada mais é do que **chamar a classe**, com os argumentos definidos no método construtor"
   ]
  },
  {
   "cell_type": "code",
   "execution_count": null,
   "metadata": {},
   "outputs": [],
   "source": []
  },
  {
   "cell_type": "markdown",
   "metadata": {},
   "source": [
    "Se chamarmos a variável com o objeto, aparece apenas o endereço respectivo ao objeto:"
   ]
  },
  {
   "cell_type": "code",
   "execution_count": null,
   "metadata": {},
   "outputs": [],
   "source": []
  },
  {
   "cell_type": "markdown",
   "metadata": {},
   "source": [
    "Mas podemos acessar cada um dos atributos deste objeto, que são aqueles definidos na classe. \n",
    "\n",
    "Para isso, seguimos a sintaxe\n",
    "\n",
    "```python\n",
    "nome_do_objeto.nome_do_atributo\n",
    "```"
   ]
  },
  {
   "cell_type": "code",
   "execution_count": null,
   "metadata": {},
   "outputs": [],
   "source": []
  },
  {
   "cell_type": "markdown",
   "metadata": {},
   "source": [
    "Os atributos são mutáveis! Para mudá-los, basta redefinir novos valores:"
   ]
  },
  {
   "cell_type": "code",
   "execution_count": null,
   "metadata": {},
   "outputs": [],
   "source": []
  },
  {
   "cell_type": "markdown",
   "metadata": {},
   "source": [
    "Podemos, também, adicionar novos atributos que não sejam **obrigatoriamente definidos na instanciação da classe**. Para isso, os inicializamos na classe como vazios:"
   ]
  },
  {
   "cell_type": "code",
   "execution_count": null,
   "metadata": {},
   "outputs": [],
   "source": []
  },
  {
   "cell_type": "markdown",
   "metadata": {},
   "source": [
    "### Métodos da classe: definindo e chamando\n",
    "\n",
    "Os métodos são **funções específicas de uma classe**, que só podem ser usadas após a criação de um objeto instância da classe.\n",
    "\n",
    "Assim, definimos os métodos dentro da classe, fazendo sempre referência à classe e seus atributos através do parâmetro self:"
   ]
  },
  {
   "cell_type": "code",
   "execution_count": null,
   "metadata": {},
   "outputs": [],
   "source": []
  },
  {
   "cell_type": "markdown",
   "metadata": {},
   "source": [
    "Chamando o método, após instanciar a classe.\n",
    "\n",
    "Note, que o primeiro argumento do método, o \"self\", **é ignorado**! Ele é apenas usado para referenciair os atributos da classe!"
   ]
  },
  {
   "cell_type": "code",
   "execution_count": null,
   "metadata": {},
   "outputs": [],
   "source": []
  },
  {
   "cell_type": "markdown",
   "metadata": {},
   "source": [
    "Vamos criar um método que \n",
    "altera diretamente um atributo:"
   ]
  },
  {
   "cell_type": "code",
   "execution_count": null,
   "metadata": {},
   "outputs": [],
   "source": []
  },
  {
   "cell_type": "markdown",
   "metadata": {},
   "source": [
    "A este ponto, conseguimos reconhecer que já fizemos muito o uso de métodos e objetos sem termos nos dado conta de sua existência!\n",
    "\n",
    "Por exemplo, para strings, usamos métodos como `.upper()`, `.lower()`, `.replace()`, etc.\n",
    "\n",
    "Para séries do pandas, usamos `.mean()`, `.value_counts()`, etc.\n",
    "\n",
    "Isso mostra que `str`, `list` e `pd.Series` são estruturas de classe! E, realmente, eles são! Nos bastidores do Python, muita coisa é feita com classes, sem que ao menos percebamos! E esse é uma das grandes vantagens desses métodos!"
   ]
  },
  {
   "cell_type": "code",
   "execution_count": null,
   "metadata": {},
   "outputs": [],
   "source": []
  },
  {
   "cell_type": "markdown",
   "metadata": {},
   "source": [
    "_____\n",
    "_____\n",
    "_____"
   ]
  },
  {
   "cell_type": "markdown",
   "metadata": {},
   "source": [
    "## 3) Atributos e métodos estáticos\n",
    "\n",
    "Se quisermos criar atributos e métodos que pertençam **à classe**, e não exatamente a um objeto instanciado desta, usamos suas versões **estáticas**\n",
    "\n",
    "- Para criar um atributo estático, basta **criar uma variável (atribuindo um valor inicial a ela) dentro da classe**, mas **fora de qualquer um de seus métodos**;\n",
    "- Para criar um método estático, use antes de sua criação **@staticmethod**"
   ]
  },
  {
   "cell_type": "code",
   "execution_count": null,
   "metadata": {},
   "outputs": [],
   "source": []
  },
  {
   "cell_type": "markdown",
   "metadata": {},
   "source": [
    "__Formas diferentes de construir strings formatadas__"
   ]
  },
  {
   "cell_type": "code",
   "execution_count": null,
   "metadata": {},
   "outputs": [],
   "source": []
  },
  {
   "cell_type": "markdown",
   "metadata": {},
   "source": [
    "__Atributos estáticos podem ser acessados tanto pela classe quanto por algum objeto da classe__"
   ]
  },
  {
   "cell_type": "code",
   "execution_count": null,
   "metadata": {},
   "outputs": [],
   "source": []
  },
  {
   "cell_type": "markdown",
   "metadata": {},
   "source": [
    "___\n",
    "___\n",
    "___"
   ]
  }
 ],
 "metadata": {
  "kernelspec": {
   "display_name": "Python 3 (ipykernel)",
   "language": "python",
   "name": "python3"
  },
  "language_info": {
   "codemirror_mode": {
    "name": "ipython",
    "version": 3
   },
   "file_extension": ".py",
   "mimetype": "text/x-python",
   "name": "python",
   "nbconvert_exporter": "python",
   "pygments_lexer": "ipython3",
   "version": "3.8.10"
  }
 },
 "nbformat": 4,
 "nbformat_minor": 4
}
