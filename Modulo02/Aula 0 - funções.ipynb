{
 "cells": [
  {
   "cell_type": "markdown",
   "metadata": {},
   "source": [
    "# Aula 0 - funções\n",
    "\n",
    "Na aula de hoje, vamos explorar o seguinte tópico em Python:\n",
    "\n",
    "- 1) Funções"
   ]
  },
  {
   "cell_type": "markdown",
   "metadata": {},
   "source": [
    "___\n",
    "___\n",
    "___\n"
   ]
  },
  {
   "cell_type": "markdown",
   "metadata": {},
   "source": [
    "## 1) Funções\n",
    "\n",
    "Até o momento, já vimos diversas funções em Python.\n",
    "\n",
    "- Na primeira aula, tivemos contato com a função `print()`, que exibe um texto na tela;\n",
    "\n",
    "- Depois, aprendemos sobre a função `input()`, que serve pra capturar algo que o usuário digita;\n",
    "\n",
    "- Em seguida, vimos algumas funções aplicada à listas, como a `sorted()`, para ordenar uma lista;\n"
   ]
  },
  {
   "cell_type": "code",
   "execution_count": 1,
   "metadata": {},
   "outputs": [
    {
     "name": "stdout",
     "output_type": "stream",
     "text": [
      "Olá\n"
     ]
    }
   ],
   "source": [
    "print(\"Olá\")"
   ]
  },
  {
   "cell_type": "code",
   "execution_count": null,
   "metadata": {},
   "outputs": [],
   "source": [
    "variavel = input(\"digite algo: \")"
   ]
  },
  {
   "cell_type": "code",
   "execution_count": null,
   "metadata": {},
   "outputs": [],
   "source": [
    "max([1, 2, 3])"
   ]
  },
  {
   "cell_type": "code",
   "execution_count": null,
   "metadata": {},
   "outputs": [],
   "source": [
    "\"python\".upper()"
   ]
  },
  {
   "cell_type": "markdown",
   "metadata": {},
   "source": [
    "\n",
    "A intuição sobre funções, então, já nos é familiar:\n",
    "\n",
    "Uma função é um objeto utilizado para **fazer determinadas ações**.\n",
    "\n",
    "Podemos ver uma função como uma \"caixinha\" que pega uma **entrada** (o argumento), faz algum **processamento**, e então **retorna uma saída** (o output)\n",
    "\n",
    "<img src=\"https://s3.amazonaws.com/illustrativemathematics/images/000/000/782/medium/Task_1_8c7a6a9a2e1421586c40f125bd783de3.jpg?1335065782\" width=300>\n",
    "\n",
    "\n",
    "<img src=\"https://1.bp.blogspot.com/_MhOt9n2UJbM/TC6emeqHdqI/AAAAAAAAAiQ/1brsWuWvOC0/s1600/function-machine.png\" width=300>\n"
   ]
  },
  {
   "cell_type": "markdown",
   "metadata": {},
   "source": [
    "Aprenderemos agora como criar **nossas próprias funções** em Python!"
   ]
  },
  {
   "cell_type": "markdown",
   "metadata": {},
   "source": [
    "A estrutura de **definição de uma função** é dada por:\n",
    "\n",
    "```python\n",
    "def nome_da_funcao(argumentos):\n",
    "    \n",
    "    instrucoes\n",
    "    \n",
    "    return saida\n",
    "```"
   ]
  },
  {
   "cell_type": "markdown",
   "metadata": {},
   "source": [
    "Há 5 elementos fundamentais para a criação de novas funções em Python:\n",
    "\n",
    "- Primeiramente, usamos \"def\" para deixar claro que estamos **definindo** uma função;\n",
    "- Depois, damos um **nome** para nossa função;\n",
    "- Em parênteses, falamos quais serão os **argumentos** da função -- esses são os inputs, e em python, esses elementos são opcionais!\n",
    "- Depois, explicitamos qual é o **processamento** feito pela função;\n",
    "- Ao fim, dizemos o que a função irá **retornar** -- esses são os outputs, e em Python esse elemento é opcional!"
   ]
  },
  {
   "cell_type": "markdown",
   "metadata": {},
   "source": [
    "Sempre que quisermos **executar** uma função, basta **chamá-la**, dando os argumentos desejados!\n",
    "\n",
    "```python\n",
    "nome_da_funcao(argumentos)\n",
    "```"
   ]
  },
  {
   "cell_type": "markdown",
   "metadata": {},
   "source": [
    "__Uma função sem argumentos e sem return__\n",
    "\n",
    "Apenas imprime algo na tela, mas sempre A MESMA COISA\n"
   ]
  },
  {
   "cell_type": "code",
   "execution_count": null,
   "metadata": {},
   "outputs": [],
   "source": [
    "def cumprimenta():\n",
    "    \n",
    "    print(\"Olá!\")"
   ]
  },
  {
   "cell_type": "markdown",
   "metadata": {},
   "source": [
    "__Chamando a função__"
   ]
  },
  {
   "cell_type": "code",
   "execution_count": null,
   "metadata": {},
   "outputs": [],
   "source": [
    "cumprimenta()"
   ]
  },
  {
   "cell_type": "markdown",
   "metadata": {},
   "source": [
    "__Uma função com argumento, mas sem return__\n",
    "\n",
    "Imprime o que eu mandar na tela, como argumento!"
   ]
  },
  {
   "cell_type": "code",
   "execution_count": 2,
   "metadata": {},
   "outputs": [
    {
     "data": {
      "text/plain": [
       "21"
      ]
     },
     "execution_count": 2,
     "metadata": {},
     "output_type": "execute_result"
    }
   ],
   "source": [
    "def soma(a, b):\n",
    "    return a + b\n",
    "\n",
    "soma(1,20)"
   ]
  },
  {
   "cell_type": "code",
   "execution_count": null,
   "metadata": {},
   "outputs": [],
   "source": [
    "def cumprimenta(x):\n",
    "    \n",
    "    print(\"Olá,\", x)"
   ]
  },
  {
   "cell_type": "code",
   "execution_count": null,
   "metadata": {},
   "outputs": [],
   "source": [
    "cumprimenta(\"João\")"
   ]
  },
  {
   "cell_type": "markdown",
   "metadata": {},
   "source": [
    "__Uma função com dois argumentos, mas ainda sem return__\n",
    "\n",
    "Imprime algo na tela, mas dependendo do segundo argumento que eu passar"
   ]
  },
  {
   "cell_type": "code",
   "execution_count": null,
   "metadata": {},
   "outputs": [],
   "source": [
    "def cumprimenta_horario(nome, hora):\n",
    "    \n",
    "    if hora < 12:\n",
    "        print(\"Bom dia,\", nome)\n",
    "    \n",
    "    elif hora < 19:\n",
    "        print(\"Boa tarde,\", nome)\n",
    "    \n",
    "    else:\n",
    "        print(\"Boa noite,\", nome)"
   ]
  },
  {
   "cell_type": "code",
   "execution_count": null,
   "metadata": {},
   "outputs": [],
   "source": [
    "cumprimenta_horario(nome = \"André\", hora = 14)"
   ]
  },
  {
   "cell_type": "markdown",
   "metadata": {},
   "source": [
    "Posso mudar a ordem dos argumentos, mas pra isso devo explicitar exatamente quais são os valores que estou passando para quais argumentos!"
   ]
  },
  {
   "cell_type": "code",
   "execution_count": null,
   "metadata": {},
   "outputs": [],
   "source": [
    "cumprimenta_horario(hora = 14, nome = \"André\")"
   ]
  },
  {
   "cell_type": "markdown",
   "metadata": {},
   "source": [
    "__Mas e o return?__\n",
    "\n",
    "\n",
    "Todas as funções acima de fato fazem alguma operação, mas nõs não conseguimos **acessar** o resultado das operações! Veja um exemplo mais claro: uma função que calcula a soma de dois números:"
   ]
  },
  {
   "cell_type": "code",
   "execution_count": null,
   "metadata": {},
   "outputs": [],
   "source": [
    "def calc_soma(n1, n2):\n",
    "    \n",
    "    soma = n1 + n2\n",
    "    \n",
    "    print(soma)"
   ]
  },
  {
   "cell_type": "code",
   "execution_count": null,
   "metadata": {},
   "outputs": [],
   "source": [
    "calc_soma(10, 32)"
   ]
  },
  {
   "cell_type": "markdown",
   "metadata": {},
   "source": [
    "Note que a função calcula a soma dos números, mas apenas exibe este resultado com o print! \n",
    "\n",
    "**A variável \"soma\" é uma variável que existe apenas no interior da função!!**"
   ]
  },
  {
   "cell_type": "code",
   "execution_count": null,
   "metadata": {},
   "outputs": [],
   "source": [
    "soma"
   ]
  },
  {
   "cell_type": "markdown",
   "metadata": {},
   "source": [
    "Se quisermos armazenar o valor da soma, podemos **retornar** o valor desta variável!\n",
    "\n",
    "**OBS.:** apenas o **valor** da variável é retornado, não o nome dela!!\n",
    "\n",
    "Fora da função, o nome de variável \"soma\" ainda continua não existindo!!"
   ]
  },
  {
   "cell_type": "code",
   "execution_count": null,
   "metadata": {},
   "outputs": [],
   "source": [
    "def calc_soma(n1, n2):\n",
    "    \n",
    "    soma = n1 + n2\n",
    "    \n",
    "    return soma"
   ]
  },
  {
   "cell_type": "code",
   "execution_count": null,
   "metadata": {},
   "outputs": [],
   "source": [
    "calc_soma(2, 4)"
   ]
  },
  {
   "cell_type": "markdown",
   "metadata": {},
   "source": [
    "Daí, basta armazenar o resultado retornado em uma variável, **como fazíamos com o input()!**"
   ]
  },
  {
   "cell_type": "code",
   "execution_count": null,
   "metadata": {},
   "outputs": [],
   "source": [
    "resultado = calc_soma(2, 4)\n",
    "\n",
    "resultado"
   ]
  },
  {
   "cell_type": "code",
   "execution_count": 3,
   "metadata": {},
   "outputs": [
    {
     "name": "stdin",
     "output_type": "stream",
     "text": [
      "Teste dfsdf\n"
     ]
    }
   ],
   "source": [
    "nome = input('Teste')\n",
    "nome.upper()"
   ]
  },
  {
   "cell_type": "markdown",
   "metadata": {},
   "source": [
    "Um outro exemplo:"
   ]
  },
  {
   "cell_type": "code",
   "execution_count": null,
   "metadata": {},
   "outputs": [],
   "source": [
    "def cumprimenta_horario(nome, hora):\n",
    "    \n",
    "    if hora < 12:\n",
    "        out = \"Bom dia, \" + nome\n",
    "    \n",
    "    elif hora < 19:\n",
    "        out = \"Boa tarde, \" + nome\n",
    "    \n",
    "    else:\n",
    "        out = \"Boa noite, \" + nome\n",
    "    \n",
    "    return out"
   ]
  },
  {
   "cell_type": "code",
   "execution_count": null,
   "metadata": {},
   "outputs": [],
   "source": [
    "texto = cumprimenta_horario(nome = \"André\", hora = 6)\n",
    "\n",
    "texto"
   ]
  },
  {
   "cell_type": "markdown",
   "metadata": {},
   "source": [
    "Vamos elaborar um pouco mais?\n",
    "\n",
    "Que tal fazermos uma função calculadora?"
   ]
  },
  {
   "cell_type": "code",
   "execution_count": 7,
   "metadata": {},
   "outputs": [
    {
     "name": "stdout",
     "output_type": "stream",
     "text": [
      "42\n",
      "-22\n",
      "320\n",
      "0.3125\n"
     ]
    }
   ],
   "source": [
    "# tuple unpacking\n",
    "\n",
    "def calcula(x,y):\n",
    "    \n",
    "    return x+y, x-y, x*y, x/y\n",
    "\n",
    "resultado = calcula(10,32)\n",
    "\n",
    "resultado # sai como tupla, agora vc pode separar os itens em variaveis isso é desembalar\n",
    "\n",
    "soma, subtracao, multiplica, divisao = calcula(10,32)\n",
    "\n",
    "print(soma)\n",
    "print(subtracao)\n",
    "print(multiplica)\n",
    "print(divisao)"
   ]
  },
  {
   "cell_type": "code",
   "execution_count": null,
   "metadata": {},
   "outputs": [],
   "source": [
    "def calculadora(num1, num2):\n",
    "    \n",
    "    operacao = input(\"Digite a operação (+,-,*,/): \")\n",
    "    \n",
    "    if operacao == \"+\":\n",
    "\n",
    "        resultado = num1 + num2\n",
    "\n",
    "    elif operacao == \"-\":\n",
    "\n",
    "        resultado = num1 - num2\n",
    "\n",
    "    elif operacao == \"*\":\n",
    "\n",
    "        resultado = num1 * num2\n",
    "\n",
    "    elif operacao == \"/\":\n",
    "\n",
    "        resultado = num1 / num2\n",
    "\n",
    "    else: \n",
    "\n",
    "        resultado = \"NÃO ENTENDI!\"\n",
    "\n",
    "    return resultado"
   ]
  },
  {
   "cell_type": "code",
   "execution_count": null,
   "metadata": {},
   "outputs": [],
   "source": [
    "calculadora(2, 3)"
   ]
  },
  {
   "cell_type": "code",
   "execution_count": null,
   "metadata": {},
   "outputs": [],
   "source": [
    "calculadora(3, 5)"
   ]
  },
  {
   "cell_type": "markdown",
   "metadata": {},
   "source": [
    "_________\n",
    "\n",
    "__Funções recursivas__\n",
    "\n",
    "Um aspecto bem legal sobre funções é a **recursividade**\n",
    "\n",
    "Podemos chamar uma função dentro de outra função? Sim!\n",
    "\n",
    "Podemos fazer uma função que calcula a média entre dois números, utilizando a função que calcula a soma entre dois números"
   ]
  },
  {
   "cell_type": "code",
   "execution_count": null,
   "metadata": {},
   "outputs": [],
   "source": [
    "def soma_dois_numeros(x, y):\n",
    "    \n",
    "    soma = x + y\n",
    "    \n",
    "    return soma"
   ]
  },
  {
   "cell_type": "code",
   "execution_count": null,
   "metadata": {},
   "outputs": [],
   "source": [
    "def media(num1, num2):\n",
    "\n",
    "    media = soma_dois_numeros(num1, num2)/2\n",
    "    \n",
    "    return media\n",
    "\n",
    "media_notas = media(4, 7)\n",
    "\n",
    "print(media_notas)"
   ]
  },
  {
   "cell_type": "markdown",
   "metadata": {},
   "source": [
    "Podemos também redefinir a função de calculadora em termos de várias sub-funções pra cada operação:"
   ]
  },
  {
   "cell_type": "code",
   "execution_count": null,
   "metadata": {},
   "outputs": [],
   "source": [
    "def soma(n1, n2):\n",
    "    \n",
    "    return n1 + n2\n",
    "\n",
    "#############################################\n",
    "\n",
    "def subtracao(n1, n2):\n",
    "    \n",
    "    return n1 - n2\n",
    "\n",
    "#############################################\n",
    "\n",
    "def multiplicacao(n1, n2):\n",
    "    \n",
    "    return n1 * n2\n",
    "\n",
    "#############################################\n",
    "\n",
    "def divisao(n1, n2):\n",
    "    \n",
    "    return n1 / n2\n",
    "\n",
    "#############################################\n",
    "\n",
    "def calculadora(n1, n2, operacao):\n",
    "    \n",
    "    if operacao == \"+\":\n",
    "\n",
    "        return soma(n1, n2)\n",
    "\n",
    "    elif operacao == \"-\":\n",
    "\n",
    "        return subtracao(n1, n2)\n",
    "\n",
    "    elif operacao == \"*\":\n",
    "\n",
    "        return multiplicacao(n1, n2)\n",
    "\n",
    "    elif operacao == \"/\":\n",
    "\n",
    "        return divisao(n1, n2)\n",
    "\n",
    "    else: \n",
    "\n",
    "        return \"Não entendi!\""
   ]
  },
  {
   "cell_type": "code",
   "execution_count": null,
   "metadata": {},
   "outputs": [],
   "source": [
    "calculadora(2, 3, \"+\")"
   ]
  },
  {
   "cell_type": "code",
   "execution_count": null,
   "metadata": {},
   "outputs": [],
   "source": [
    "calculadora(3, 5, \"/\")"
   ]
  },
  {
   "cell_type": "markdown",
   "metadata": {},
   "source": [
    "Também é possível utilizar a função calculadora para definir uma função que calcula a média entre dois números:"
   ]
  },
  {
   "cell_type": "code",
   "execution_count": null,
   "metadata": {},
   "outputs": [],
   "source": [
    "def media(num1, num2):\n",
    "    \n",
    "    return calculadora(num1, num2, \"+\")/2"
   ]
  },
  {
   "cell_type": "code",
   "execution_count": null,
   "metadata": {},
   "outputs": [],
   "source": [
    "media(7, 10)"
   ]
  },
  {
   "cell_type": "markdown",
   "metadata": {},
   "source": [
    "Mas podemos ir além: **chamar a mesma função dentro dela mesma!**\n",
    "\n",
    "Por exemplo, pra calcular potências!"
   ]
  },
  {
   "cell_type": "code",
   "execution_count": 9,
   "metadata": {},
   "outputs": [],
   "source": [
    "def potencia(base, expoente):\n",
    "    \n",
    "    if expoente > 0:\n",
    "        \n",
    "        return base * potencia(base, expoente-1)\n",
    "    \n",
    "    elif expoente == 0:\n",
    "        \n",
    "        return 1"
   ]
  },
  {
   "cell_type": "code",
   "execution_count": 10,
   "metadata": {},
   "outputs": [
    {
     "data": {
      "text/plain": [
       "8"
      ]
     },
     "execution_count": 10,
     "metadata": {},
     "output_type": "execute_result"
    }
   ],
   "source": [
    "potencia(2, 3)"
   ]
  },
  {
   "cell_type": "markdown",
   "metadata": {},
   "source": [
    "Podemos entender a recursividade ao analisar o que que a função retorna a cada vez que ela é chamada:\n",
    "\n",
    "- potencia(2, 3)\n",
    "- 2 * potencia(2, 2)\n",
    "- 2 * (2 * potencia(2, 1))\n",
    "- 2 * (2 * (2 * potencia(2, 0)))\n",
    "- 2 * (2 * (2 * 1))\n",
    "\n",
    "Assim, o resultado final é:\n",
    "\n",
    "2 * 2 * 2 * 1 = 8"
   ]
  },
  {
   "cell_type": "markdown",
   "metadata": {},
   "source": [
    "Existem problemas que são naturalmente recursivos, como, por exemplo, fatorial:"
   ]
  },
  {
   "cell_type": "markdown",
   "metadata": {},
   "source": [
    "5! = 5\\*4! = 5\\*4\\*3! = 5\\*4\\*3\\*2! = 5\\*4\\*3\\*2\\*1!"
   ]
  },
  {
   "cell_type": "code",
   "execution_count": null,
   "metadata": {},
   "outputs": [],
   "source": [
    "def fatorial(n):\n",
    "    \n",
    "    if n > 1: \n",
    "        \n",
    "        return n*fatorial(n-1)\n",
    "    \n",
    "    elif n == 1:\n",
    "        \n",
    "        return 1"
   ]
  },
  {
   "cell_type": "code",
   "execution_count": null,
   "metadata": {},
   "outputs": [],
   "source": [
    "fatorial(4)"
   ]
  },
  {
   "cell_type": "markdown",
   "metadata": {},
   "source": [
    "Visualizando o return de cada execução da função:\n",
    "\n",
    "- fatorial(4)\n",
    "- 4 * fatorial(3)\n",
    "- 4 * (3 * fatorial(2))\n",
    "- 4 * (3 * (2 * fatorial(1)))\n",
    "- 4 * (3 * (2 * 1))\n",
    "\n",
    "Assim, o resultado final é:\n",
    "\n",
    "4 * 3 * 2 * 1"
   ]
  },
  {
   "cell_type": "markdown",
   "metadata": {},
   "source": [
    "Apesar de **elegantes**, funções recursivas são **pouco eficientes** (pois demandam mais memória), e de leitura mais difícil"
   ]
  },
  {
   "cell_type": "markdown",
   "metadata": {},
   "source": [
    "____\n",
    "____\n",
    "____"
   ]
  }
 ],
 "metadata": {
  "kernelspec": {
   "display_name": "Python 3 (ipykernel)",
   "language": "python",
   "name": "python3"
  },
  "language_info": {
   "codemirror_mode": {
    "name": "ipython",
    "version": 3
   },
   "file_extension": ".py",
   "mimetype": "text/x-python",
   "name": "python",
   "nbconvert_exporter": "python",
   "pygments_lexer": "ipython3",
   "version": "3.8.10"
  },
  "varInspector": {
   "cols": {
    "lenName": 16,
    "lenType": 16,
    "lenVar": 40
   },
   "kernels_config": {
    "python": {
     "delete_cmd_postfix": "",
     "delete_cmd_prefix": "del ",
     "library": "var_list.py",
     "varRefreshCmd": "print(var_dic_list())"
    },
    "r": {
     "delete_cmd_postfix": ") ",
     "delete_cmd_prefix": "rm(",
     "library": "var_list.r",
     "varRefreshCmd": "cat(var_dic_list()) "
    }
   },
   "types_to_exclude": [
    "module",
    "function",
    "builtin_function_or_method",
    "instance",
    "_Feature"
   ],
   "window_display": false
  }
 },
 "nbformat": 4,
 "nbformat_minor": 4
}
