{
 "cells": [
  {
   "cell_type": "markdown",
   "metadata": {
    "id": "46RKJ5bmh3g-"
   },
   "source": [
    "## Laços de repetição (while)\n",
    "\n",
    "Uma das utilidades de linguagens de programação é a de automatizar tarefas que são repetitivas.\n",
    "\n",
    "Mas, pra isso ser viável, seria bom se tivéssemos uma estrutura para **repetir comandos**, não é mesmo?\n",
    "\n",
    "Imagine que eu queira exibir na tela \"Olá, mundo!\" 5 vezes. Podemos fazer:"
   ]
  },
  {
   "cell_type": "code",
   "execution_count": null,
   "metadata": {
    "colab": {
     "base_uri": "https://localhost:8080/"
    },
    "id": "a1d8fznAh3g-",
    "outputId": "6a2e029a-de82-4ae2-9b71-bd09686422e1"
   },
   "outputs": [
    {
     "name": "stdout",
     "output_type": "stream",
     "text": [
      "Olá, mundo!\n",
      "Olá, mundo!\n",
      "Olá, mundo!\n",
      "Olá, mundo!\n",
      "Olá, mundo!\n"
     ]
    }
   ],
   "source": [
    "print(\"Olá, mundo!\")\n",
    "print(\"Olá, mundo!\")\n",
    "print(\"Olá, mundo!\")\n",
    "print(\"Olá, mundo!\")\n",
    "print(\"Olá, mundo!\")"
   ]
  },
  {
   "cell_type": "markdown",
   "metadata": {
    "id": "JEViwSbFh3g-"
   },
   "source": [
    "Mas, e se eu quiser exibir essa mensagem 1000 vezes? Ou 1 milhão de vezes? Não é ideal escrevermos o mesmo pedaço de código tantas vezes, né?\n",
    "\n",
    "Para isso, existem os **laços de repetição**, que permitem repetir pedaços de código quantas vezes desejarmos!\n",
    "\n",
    "O primeiro laço que vamos ver é o **while**. Este laço tem a seguinte estrutura:\n",
    "\n",
    "```python\n",
    "while (condicao é True):\n",
    "    operacao_repetida\n",
    "```\n",
    "\n",
    "Ou seja, o que tá no bloco do while é repetido **enquanto a condição for verdadeira**"
   ]
  },
  {
   "cell_type": "markdown",
   "metadata": {
    "id": "M8xLlekXh3g_"
   },
   "source": [
    "Isso pode levar a **loops infinitos**"
   ]
  },
  {
   "cell_type": "code",
   "execution_count": 1,
   "metadata": {
    "colab": {
     "base_uri": "https://localhost:8080/",
     "height": 1000
    },
    "id": "5BFAtI-Ah3g_",
    "outputId": "67a237e2-3cb7-4b7b-80cc-402f6b6830c4",
    "scrolled": true,
    "tags": []
   },
   "outputs": [],
   "source": [
    "#ex loop infinito"
   ]
  },
  {
   "cell_type": "markdown",
   "metadata": {
    "id": "1BQCKyWRh3hf"
   },
   "source": [
    "Para que loops infinitos não aconteçam, temos que fazer uma **atualização da condição** a cada iteração do laço!\n",
    "\n",
    "Isso é, temos que **atualizar** a variavel que contabiliza as repetições no loop"
   ]
  },
  {
   "cell_type": "code",
   "execution_count": null,
   "metadata": {
    "id": "cliwvdQDh3hg"
   },
   "outputs": [],
   "source": [
    "# vamos definir uma variável\n"
   ]
  },
  {
   "cell_type": "markdown",
   "metadata": {
    "id": "l8oOdjyWh3hg"
   },
   "source": [
    "Assim, o que fazemos é **definir a condição do while em termos de uma variável que tenha seu valor atualizado!**\n",
    "\n",
    "Para isso, é comum nos referirmos à variàvel da condição como **variável contadora**.\n",
    "\n",
    "Para atualizar a variável contadora dentro do while, em geral a atualizamos em +1"
   ]
  },
  {
   "cell_type": "code",
   "execution_count": 12,
   "metadata": {
    "colab": {
     "base_uri": "https://localhost:8080/"
    },
    "id": "QlqpawF9h3hg",
    "outputId": "0b8a2d23-f091-4f83-f872-fbe2000a8861"
   },
   "outputs": [],
   "source": [
    "#exemplo hello world"
   ]
  },
  {
   "cell_type": "markdown",
   "metadata": {
    "id": "T7u5URABh3hh"
   },
   "source": [
    "Vamos entender um pouco melhor como a variável contadora se comporta?\n",
    "\n",
    "Pra isso, basta exibi-la a cada iteração:"
   ]
  },
  {
   "cell_type": "code",
   "execution_count": 13,
   "metadata": {
    "colab": {
     "base_uri": "https://localhost:8080/"
    },
    "id": "jLU2panXh3hh",
    "outputId": "65850505-1bc2-497d-b02e-74baa66bf640"
   },
   "outputs": [],
   "source": [
    "#while cont"
   ]
  },
  {
   "cell_type": "markdown",
   "metadata": {
    "id": "R4FwXpHkh3hh"
   },
   "source": [
    "O código acima equivale a:"
   ]
  },
  {
   "cell_type": "code",
   "execution_count": 14,
   "metadata": {
    "colab": {
     "base_uri": "https://localhost:8080/"
    },
    "id": "DVVAtU-nh3hh",
    "outputId": "33837608-b32b-4e93-d46c-f832bd0b51b2"
   },
   "outputs": [],
   "source": [
    "#ex manual"
   ]
  },
  {
   "cell_type": "code",
   "execution_count": 15,
   "metadata": {
    "colab": {
     "base_uri": "https://localhost:8080/"
    },
    "id": "JEhDv04cmOIw",
    "outputId": "b8b10d10-dd95-45ce-b03f-0b75736b6479"
   },
   "outputs": [],
   "source": [
    "#permite estruturas já estudadas"
   ]
  },
  {
   "cell_type": "markdown",
   "metadata": {
    "id": "tN1CxhrIh3hi"
   },
   "source": [
    "Usar a condição com < ao invés de != em geral garante maior segurança ao seu algoritmo, pois evita imprevistos caso você receba números do usuário!"
   ]
  },
  {
   "cell_type": "code",
   "execution_count": 16,
   "metadata": {},
   "outputs": [
    {
     "data": {
      "text/plain": [
       "False"
      ]
     },
     "execution_count": 16,
     "metadata": {},
     "output_type": "execute_result"
    }
   ],
   "source": [
    "#ex ponto flutuante e comportamentos inexperados\n",
    "9.99 == 10"
   ]
  },
  {
   "cell_type": "code",
   "execution_count": null,
   "metadata": {},
   "outputs": [],
   "source": [
    "#exemplos completos e dupla condicao de parada"
   ]
  },
  {
   "cell_type": "markdown",
   "metadata": {
    "id": "M37fltbzh3hi"
   },
   "source": [
    "Podemos também atualizar a condição de repetição segundo informado pelo usuário\n",
    "\n",
    "Esse uso é bem importante para **garantir que o usuário digitou corretamente o que foi solicitado**\n",
    "\n",
    "Por exemplo, vamos pedir pro usuário digitar um número maior que 10. **Enquanto ele não fizer o que queremos**, vamos continuar pedindo pra ele digitar um novo valor:"
   ]
  },
  {
   "cell_type": "code",
   "execution_count": null,
   "metadata": {
    "id": "5aW4qKD4h3hi"
   },
   "outputs": [],
   "source": []
  },
  {
   "cell_type": "markdown",
   "metadata": {
    "id": "aFWh86mAh3hi"
   },
   "source": [
    "Outro exemplo, onde pedirmos pro usuário digitar sua nota (para ser um valor válido, tem que estar entre 0 e 10!)"
   ]
  },
  {
   "cell_type": "code",
   "execution_count": null,
   "metadata": {
    "colab": {
     "base_uri": "https://localhost:8080/"
    },
    "id": "qFTng6Rjh3hj",
    "outputId": "0af9f4f3-98eb-4ff6-a24c-afa97b9fe4cd"
   },
   "outputs": [],
   "source": []
  },
  {
   "cell_type": "markdown",
   "metadata": {
    "id": "ZyWUtzgQh3hj"
   },
   "source": [
    "Outro exemplo..."
   ]
  },
  {
   "cell_type": "code",
   "execution_count": 17,
   "metadata": {
    "colab": {
     "base_uri": "https://localhost:8080/"
    },
    "id": "zs7h1toqP_6N",
    "outputId": "d90e273b-2e2a-46d2-bea8-b910d62bf5d0"
   },
   "outputs": [],
   "source": [
    "#condicoes de saida\n",
    "#primeiro divisor"
   ]
  },
  {
   "cell_type": "markdown",
   "metadata": {},
   "source": [
    "<a name = \"ex\"></a>\n",
    "# Exercícios\n",
    "***"
   ]
  },
  {
   "cell_type": "markdown",
   "metadata": {},
   "source": [
    "**1)** Faça um programa que peça um numero inteiro positivo e em seguida mostre este numero invertido.\n",
    "\n",
    "    12376489 => 98467321"
   ]
  },
  {
   "cell_type": "code",
   "execution_count": 36,
   "metadata": {},
   "outputs": [
    {
     "name": "stdout",
     "output_type": "stream",
     "text": [
      "numero inverso 7\n",
      "parte do numero 123456\n",
      "numero inverso 76\n",
      "parte do numero 12345\n",
      "numero inverso 765\n",
      "parte do numero 1234\n",
      "numero inverso 7654\n",
      "parte do numero 123\n",
      "numero inverso 76543\n",
      "parte do numero 12\n",
      "numero inverso 765432\n",
      "parte do numero 1\n",
      "numero inverso 7654321\n",
      "parte do numero 0\n",
      "7654321\n"
     ]
    }
   ],
   "source": [
    "num =1234567\n",
    "part_num = num\n",
    "num_inv = 0\n",
    "count = 0\n",
    "\n",
    "while part_num >=1 and count <500:\n",
    "    num_inv = 10*num_inv + part_num%10\n",
    "    print('numero inverso', num_inv)\n",
    "    part_num = int(part_num/10)\n",
    "    print('parte do numero', part_num)\n",
    "    count += 1\n",
    "\n",
    "print(num_inv)\n",
    "\n",
    "\n"
   ]
  },
  {
   "cell_type": "markdown",
   "metadata": {},
   "source": [
    "**2)** Faça um programa que implemente uma caixa registradora rudimentar. \n",
    "\n",
    "O programa deverá receber um número desconhecido de valores referentes aos preços das mercadorias. \n",
    "\n",
    "Um valor zero deve ser informado pelo operador para indicar o final da compra. \n",
    "\n",
    "O programa deve então mostrar o total da compra e perguntar o valor em dinheiro que o cliente forneceu, para então calcular e mostrar o valor do troco. \n",
    "\n",
    "A saída deve ser conforme o exemplo abaixo:\n",
    "   \n",
    "    Produto 1: 2.20    \n",
    "    Produto 2: 5.80    \n",
    "    Produto 3: 0\n",
    "    Total de itens: 2\n",
    "    Total em reais: 9.00    \n",
    "    Dinheiro: 20.00   \n",
    "    Troco: 11.00     \n",
    "     "
   ]
  },
  {
   "cell_type": "code",
   "execution_count": 33,
   "metadata": {},
   "outputs": [
    {
     "name": "stdout",
     "output_type": "stream",
     "text": [
      "Valor do Produto ou (0-Sai): 12.34\n",
      "Valor do Produto ou (0-Sai): 13\n",
      "Valor do Produto ou (0-Sai): 11\n",
      "Valor do Produto ou (0-Sai): 10\n",
      "Valor do Produto ou (0-Sai): 0\n",
      "Produto 0: R$ 12.34\n",
      "Produto 1: R$ 13.00\n",
      "Produto 2: R$ 11.00\n",
      "Produto 3: R$ 10.00\n",
      "Total de Itens: 4\n",
      "Total da compra: R$ 46.34\n",
      "Recebimento - Dinheiro: 40\n",
      "Valor incorreto !!\n",
      "Recebimento - Dinheiro: 44\n",
      "Valor incorreto !!\n",
      "Recebimento - Dinheiro: 47\n",
      "Troco: R$ 0.66\n"
     ]
    }
   ],
   "source": [
    "produto = []\n",
    "\n",
    "soma = 0.0\n",
    "contador = 0\n",
    "while True:\n",
    "    valor = float(input('Valor do Produto ou (0-Sai): '))\n",
    "    \n",
    "    if valor == 0.00:\n",
    "        break\n",
    "    \n",
    "    produto.append(valor)\n",
    "    soma += produto[contador]\n",
    "    contador += 1\n",
    "\n",
    "\n",
    "if valor == 0.0 and len(produto) > 0:\n",
    "    \n",
    "    num = 0\n",
    "    \n",
    "    while num <len(produto):\n",
    "        print(f'Produto {num}: R$ {produto[num]:.2f}')\n",
    "        num += 1\n",
    "\n",
    "    print(f'Total de Itens: {contador}')\n",
    "    print(f'Total da compra: R$ {soma:.2f}')\n",
    "    dinheiro = float(input('Recebimento - Dinheiro: '))\n",
    "    \n",
    "    while dinheiro < soma:\n",
    "        print('Valor incorreto !!')\n",
    "        dinheiro = float(input('Recebimento - Dinheiro: '))\n",
    "    \n",
    "        \n",
    "    troco = dinheiro - soma\n",
    "    print(f'Troco: R$ {troco:.2f}')\n",
    "    "
   ]
  },
  {
   "cell_type": "markdown",
   "metadata": {},
   "source": [
    "# Obrigado pela atenção de todes! 😄\n",
    "# Parabéns pelo empenho\n",
    "## Qualquer duvida não hesitem em me chamar. 👩‍💻\n",
    "### Programação é treino, teste e erro. Então façam as listas."
   ]
  }
 ],
 "metadata": {
  "colab": {
   "collapsed_sections": [],
   "name": "Aula 4 - while.ipynb",
   "provenance": []
  },
  "kernelspec": {
   "display_name": "Python 3 (ipykernel)",
   "language": "python",
   "name": "python3"
  },
  "language_info": {
   "codemirror_mode": {
    "name": "ipython",
    "version": 3
   },
   "file_extension": ".py",
   "mimetype": "text/x-python",
   "name": "python",
   "nbconvert_exporter": "python",
   "pygments_lexer": "ipython3",
   "version": "3.9.2"
  }
 },
 "nbformat": 4,
 "nbformat_minor": 4
}
