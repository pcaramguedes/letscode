{
 "cells": [
  {
   "cell_type": "markdown",
   "id": "c86431d2",
   "metadata": {},
   "source": [
    "### Parte 2 - Logística\n",
    "\n",
    "Uma unidade de aplicação precisa receber mais ampolas de vacinas dado o seu estoque baixo, porém ela só tem K caminhões para buscar o produto com o fornecedor. Considere que cada caminhão consegue carregar até 100 ampolas mas o galpão do fornecedor é uma bagunça e eles embalaram caixas que podem conter de 1 até 100 ampolas.\n",
    "\n",
    "Crie uma função que receba a quantidade K de caminhões disponíveis e a lista de caixas que o fornecedor tem para serem carregadas, ou seja, a quantidade de ampolas por caixa, e retorne se os caminhões conseguirão trazer todas as ampolas ou não. Caso não seja possível retorne a lista das unidades que não serão transportadas. Caso seja possível retorne como estão organizadas as caixas por caminhão, isto é, a lista de caixas que cada um está levando.\n",
    "\n",
    "### Avaliação\n",
    "\n",
    "A nota final do projeto terá **70% do peso dado pela Parte 1 e 30% pela Parte 2**\n",
    "\n",
    "Dentre outros itens será avaliado:\n",
    "\n",
    "        1. A legibilidade do código\n",
    "        2. O uso correto das variáveis\n",
    "        3. A corretude da lógica para resolver os desafio\n",
    "        3. Se o código vai rodar corretamente em cima da nossa bateria de testes\n",
    "        \n",
    "O desafio deve ser resolvido de forma individual e portanto em caso de plágio a nota de todos os envolvidos será zerada.\n",
    "\n",
    "    Para conseguir corrigir o prazo máximo de entrega é até o final do dia 01/10/2021\n",
    "    Usem apenas o conteúdo visto em aula, nenhum outro módulo é necessário para a resolução do desafio.\n"
   ]
  },
  {
   "cell_type": "code",
   "execution_count": null,
   "id": "d64fdf2f",
   "metadata": {},
   "outputs": [],
   "source": []
  }
 ],
 "metadata": {
  "kernelspec": {
   "display_name": "Python 3 (ipykernel)",
   "language": "python",
   "name": "python3"
  },
  "language_info": {
   "codemirror_mode": {
    "name": "ipython",
    "version": 3
   },
   "file_extension": ".py",
   "mimetype": "text/x-python",
   "name": "python",
   "nbconvert_exporter": "python",
   "pygments_lexer": "ipython3",
   "version": "3.9.2"
  }
 },
 "nbformat": 4,
 "nbformat_minor": 5
}
