{
 "cells": [
  {
   "cell_type": "code",
   "execution_count": 14,
   "id": "c03e6bcf",
   "metadata": {},
   "outputs": [
    {
     "name": "stdout",
     "output_type": "stream",
     "text": [
      "375\n",
      "3\n",
      "75\n"
     ]
    }
   ],
   "source": [
    "lista = [10,90,20,40,100,40,55,20]\n",
    "qtd = 3 * 100\n",
    "flag = True\n",
    "print(sum(lista))\n",
    "if sum(lista)> qtd:\n",
    "    flag = False\n",
    "    print(int(sum(lista)/100))\n",
    "    print(sum(lista)%100)\n",
    "else:\n",
    "    flag = True\n",
    "    print(int(sum(lista)/100))\n",
    "    print(sum(lista)%100)\n",
    "    "
   ]
  }
 ],
 "metadata": {
  "kernelspec": {
   "display_name": "Python 3 (ipykernel)",
   "language": "python",
   "name": "python3"
  },
  "language_info": {
   "codemirror_mode": {
    "name": "ipython",
    "version": 3
   },
   "file_extension": ".py",
   "mimetype": "text/x-python",
   "name": "python",
   "nbconvert_exporter": "python",
   "pygments_lexer": "ipython3",
   "version": "3.9.2"
  }
 },
 "nbformat": 4,
 "nbformat_minor": 5
}
