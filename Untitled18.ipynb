{
 "cells": [
  {
   "cell_type": "code",
   "execution_count": 16,
   "id": "eaade551",
   "metadata": {},
   "outputs": [
    {
     "name": "stdout",
     "output_type": "stream",
     "text": [
      "Entre qtd de caminhoes: 8\n",
      "0 12\n",
      "1 100\n",
      "2 199\n",
      "3 100\n",
      "4 198\n",
      "5 100\n",
      "[[12, 88], [99, 1], [98, 2]] - Total caminhoes utilizados: 3\n"
     ]
    }
   ],
   "source": [
    "\n",
    "def logistica(caixa, kCaminhoes):\n",
    "    \n",
    "    qtd_ampolas = []\n",
    "    trucks = []\n",
    "    soma = 0\n",
    "    \n",
    "    for i in range(len(caixa)):\n",
    "    \n",
    "        soma += caixa[i]\n",
    "        print(i, soma)\n",
    "        \n",
    "        if soma <=100:\n",
    "            qtd_ampolas.append(caixa[i])\n",
    "        else:\n",
    "            trucks.append(qtd_ampolas)\n",
    "            qtd_ampolas = []\n",
    "            qtd_ampolas.append(caixa[i])\n",
    "            soma = caixa[i]\n",
    "            \n",
    "    if len(qtd_ampolas) != 0:\n",
    "        trucks.append(qtd_ampolas)\n",
    "      \n",
    "    \n",
    "    if len(trucks) > kCaminhoes:\n",
    "        resto = len(trucks) - kCaminhoes\n",
    "        return f'Falta {resto} de caminhoes para transportar o resto das ampolas'\n",
    "    else:\n",
    "        return f'{trucks} - Total caminhoes utilizados: {len(trucks)}'\n",
    "    \n",
    "    \n",
    "caixa = [12,88,99,1,98,2]\n",
    "kCaminhoes = int(input('Entre qtd de caminhoes: '))\n",
    "print(logistica(caixa, kCaminhoes))\n",
    "\n"
   ]
  },
  {
   "cell_type": "code",
   "execution_count": null,
   "id": "95802381",
   "metadata": {},
   "outputs": [],
   "source": []
  }
 ],
 "metadata": {
  "kernelspec": {
   "display_name": "Python 3",
   "language": "python",
   "name": "python3"
  },
  "language_info": {
   "codemirror_mode": {
    "name": "ipython",
    "version": 3
   },
   "file_extension": ".py",
   "mimetype": "text/x-python",
   "name": "python",
   "nbconvert_exporter": "python",
   "pygments_lexer": "ipython3",
   "version": "3.6.3"
  }
 },
 "nbformat": 4,
 "nbformat_minor": 5
}
