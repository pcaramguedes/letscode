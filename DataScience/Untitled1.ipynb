{
 "cells": [
  {
   "cell_type": "code",
   "execution_count": 9,
   "id": "ff161eca-2927-4112-906f-def5a723401a",
   "metadata": {},
   "outputs": [
    {
     "name": "stdout",
     "output_type": "stream",
     "text": [
      "1 2 \n",
      "\n",
      "3 4 \n",
      "\n",
      "5 6 \n",
      "\n"
     ]
    }
   ],
   "source": [
    "lista1 = [[1,2],[3,4],[5,6]]\n",
    "\n",
    "for i in range(len(lista1)):\n",
    "    for y in range(len(lista1[i])):\n",
    "        print(lista1[i][y], end=\" \")\n",
    "    print('\\n')"
   ]
  }
 ],
 "metadata": {
  "kernelspec": {
   "display_name": "Python 3 (ipykernel)",
   "language": "python",
   "name": "python3"
  },
  "language_info": {
   "codemirror_mode": {
    "name": "ipython",
    "version": 3
   },
   "file_extension": ".py",
   "mimetype": "text/x-python",
   "name": "python",
   "nbconvert_exporter": "python",
   "pygments_lexer": "ipython3",
   "version": "3.8.10"
  }
 },
 "nbformat": 4,
 "nbformat_minor": 5
}
