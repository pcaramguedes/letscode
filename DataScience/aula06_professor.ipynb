{
 "cells": [
  {
   "cell_type": "markdown",
   "id": "f04252e7-a7af-4600-a9b2-877d2a3aa1f1",
   "metadata": {},
   "source": [
    "# Arquivos em Python"
   ]
  },
  {
   "cell_type": "markdown",
   "id": "eb052c78-1347-471f-9a4f-d971bf01d7ed",
   "metadata": {},
   "source": [
    "No python temos uma função **open** que oferece a possibilidade manipular o conteúdo interno de um arquivo.\n",
    "```python \n",
    "arquivo = open('caminho_do_arquivo', 'modo', 'encoding')\n",
    "\n",
    "```\n",
    "o atríbuto **modo** permite a escolha de como será manipulado o arquivo:\n",
    "<!-- |Mode|Explicação|\n",
    "|----|----------|\n",
    "|r|Abre o arquivo somente para leitura|\n",
    "|r+|Abre o arquivo para leitura e escrita, o ponteiro é colocado no início do arquivo|\n",
    "|w|Abre o arquivo somete para escrita, o ponteiro é colocado no início do arquivo, qualquer informação contida no arquivo é removida e se o arquivo não existir, ele é criado|\n",
    "|w+|Abre o arquivo para escrita e leitura, o ponteiro é colocado no início do arquivo e qualquer informação contida no arquivo é removida, se o arquivo não existir ele é criado|\n",
    "|a|Abre o arquivo somente para escrita, o ponteiro é colocado no final do arquivo, por tanto é possível adicionar informações|\n",
    "|a+| Abre o arquivo para escrita e leitura, o ponteiro é colocado no final do arquivo, por tanto é possível adicionar informações| -->\n",
    "\n",
    "| Mode | Descrição |\n",
    "| ---- | --------- |\n",
    "| r  | arquivo somente leitura |\n",
    "| r+ | arquivo para leitura e escrita, o ponteiro é colocado no início do arquivo |\n",
    "| w  | abre o arquivo somete para escrita, o ponteiro é colocado no início do arquivo, qualquer informação contida no arquivo é removida e se o arquivo não existir, ele é criado |\n",
    "| w+ |Abre o arquivo para escrita e leitura, o ponteiro é colocado no início do arquivo e qualquer informação contida no arquivo é removida, se o arquivo não existir ele é criado |\n",
    "| a |Abre o arquivo somente para escrita, o ponteiro é colocado no final do arquivo, por tanto é possível adicionar informações |\n",
    "| a+ | Abre o arquivo para escrita e leitura, o ponteiro é colocado no final do arquivo, por tanto é possível adicionar informações |\n"
   ]
  },
  {
   "cell_type": "markdown",
   "id": "6751bceb-7b9d-4c59-b798-e649371da038",
   "metadata": {},
   "source": [
    "### Leitura de arquivos textos"
   ]
  },
  {
   "cell_type": "code",
   "execution_count": 16,
   "id": "edfe75fc-6d3a-4f22-bf7d-b58fee326513",
   "metadata": {},
   "outputs": [
    {
     "name": "stdout",
     "output_type": "stream",
     "text": [
      "<_io.TextIOWrapper name='temperature.csv' mode='r' encoding='UTF-8'>\n"
     ]
    }
   ],
   "source": [
    "file_csv = open('temperature.csv', mode='r', encoding='UTF-8')\n",
    "print(file_csv)\n",
    "\n",
    "# VER O CONTEUDO DO ARQUIVO TEXTO\n",
    "# print(file_csv.read()))\n",
    "\n",
    "# VER O CONTEUDO DO ARQUIVO JA SEPARADO EM LINHAS\n",
    "# print(file_csv.readlines())\n",
    "\n",
    "# for row in file_csv.readlines():\n",
    "#     print(row.replace('\\n',''))\n",
    "\n",
    "file_csv.close()"
   ]
  },
  {
   "cell_type": "markdown",
   "id": "085a8f90-6b07-4d08-b666-082a492e22da",
   "metadata": {},
   "source": [
    "A maneira **mais recomendada de usar o *open* é**."
   ]
  },
  {
   "cell_type": "code",
   "execution_count": 28,
   "id": "f9001eb0-1764-45ae-acc1-0e6a05513513",
   "metadata": {},
   "outputs": [
    {
     "name": "stdout",
     "output_type": "stream",
     "text": [
      "['\"record_id\"', '\"month\"', '\"day\"', '\"year\"', '\"AverageTemperatureFahr\"', '\"AverageTemperatureUncertaintyFahr\"', '\"City\"', '\"country_id\"', '\"Country\"', '\"Latitude\"', '\"Longitude\"']\n"
     ]
    }
   ],
   "source": [
    "rows = []\n",
    "with open('temperature.csv', mode='r') as file:\n",
    "    rows = file.readlines()\n",
    "\n",
    "row_1 = rows[0]\n",
    "print(row_1.replace('\\n','').split(','))"
   ]
  },
  {
   "cell_type": "markdown",
   "id": "642e4a61-a1a9-43cc-901b-13a25548b02c",
   "metadata": {},
   "source": [
    "## Escrever arquivos usando Python\n",
    "\n",
    "Para escrever um arquivo, é necessário abrir o novo arquivo com o **modo** sendo de escrita:\n",
    "```python\n",
    "arquivo = open('caminho_do_arquivo','w')\n",
    "```"
   ]
  },
  {
   "cell_type": "code",
   "execution_count": 42,
   "id": "7003bc07-cdf6-4153-934d-cef9408862d8",
   "metadata": {},
   "outputs": [
    {
     "name": "stdout",
     "output_type": "stream",
     "text": [
      "Lets Code Degree\n",
      "Lets Code Degree\n",
      "Lets Code Degree \t Data Science\n",
      "Linha alterada manualmenteLets Code Degree \t Data Science\n",
      "\n"
     ]
    }
   ],
   "source": [
    "with open('arquivo_texto.txt', 'a') as file_writer:\n",
    "    file_writer.write('Lets Code Degree \\t Data Science\\n')\n",
    "\n",
    "with open('arquivo_texto.txt', 'r') as file_reader:\n",
    "    print(file_reader.read())"
   ]
  },
  {
   "cell_type": "markdown",
   "id": "cc1db0a8-a31d-4df7-9565-a3ee485a943f",
   "metadata": {},
   "source": [
    "## Exercicio 01\n",
    "Faça um script python que lê as linhas do arquivo *temperature.csv* e grava em outro arquivo somente as linhas que contém a substring \"Kherson\"."
   ]
  },
  {
   "cell_type": "code",
   "execution_count": 52,
   "id": "9a5767ba-bcea-4512-939c-56d4c4cae8b8",
   "metadata": {},
   "outputs": [],
   "source": [
    "with open('temperature.csv','r') as file:\n",
    "    rows = file.readlines()\n",
    "\n",
    "header = rows.pop(0)\n",
    "# rows_kherson = [row for row in rows if 'Kherson' in row]\n",
    "rows_kherson = []\n",
    "for row in rows:\n",
    "    if 'Kherson' in row:\n",
    "        rows_kherson.append(row)\n",
    "\n",
    "rows_kherson.insert(0,header)\n",
    "\n",
    "with open('temperature_kherson.csv', mode='w') as file:\n",
    "    str_lines = ''.join(rows_kherson)\n",
    "    file.write(str_lines)"
   ]
  },
  {
   "cell_type": "markdown",
   "id": "41d6d413-370d-47c8-b803-101fbc086003",
   "metadata": {},
   "source": [
    "## Exercício 02\n",
    "\n",
    "Faça uma versão do código anterior de maneira que gere o arquivo agora para cidade \"Auckland\"."
   ]
  },
  {
   "cell_type": "code",
   "execution_count": 53,
   "id": "522f45d0-57c1-4be8-af44-dbb45e1fa99e",
   "metadata": {},
   "outputs": [],
   "source": [
    "with open('temperature.csv','r') as file:\n",
    "    rows = file.readlines()\n",
    "\n",
    "header = rows.pop(0)\n",
    "# rows_auckland = [row for row in rows if 'Auckland' in row]\n",
    "rows_auckland = []\n",
    "for row in rows:\n",
    "    if 'Auckland' in row:\n",
    "        rows_auckland.append(row)\n",
    "\n",
    "rows_auckland.insert(0,header)\n",
    "\n",
    "with open('temperature_auckland.csv', mode='w') as file:\n",
    "    str_lines = ''.join(rows_auckland)\n",
    "    file.write(str_lines)"
   ]
  },
  {
   "cell_type": "markdown",
   "id": "26f7c6cb-f989-4ae8-b169-6b9d1ae78ae4",
   "metadata": {},
   "source": [
    "## Exercicio 03\n",
    "\n",
    "Sabendo que temos a lista com a lista contendo dados das cidades \"Auckland\" e \"Kherson\". \n",
    "```python\n",
    "lista = [\"\"\"474544,\"01\",\"01\",\"1867\",68.5094,33.8522,\"Auckland\",\"NEW\",\"New Zealand\",\"36.17S\",\"175.03E\" \"\"\"\n",
    "\"\"\"474545,\"02\",\"01\",\"1867\",66.992,33.7244,\"Auckland\",\"NEW\",\"New Zealand\",\"36.17S\",\"175.03E\" \"\"\",\n",
    "        \"\"\"3778335,\"01\",\"01\",\"1753\",22.7066,42.2816,\"Kherson\",\"UKR\",\"Ukraine\",\"47.42N\",\"31.97E\" \"\"\",\n",
    "\"\"\"3778336,\"02\",\"01\",\"1753\",23.1476,37.1318,\"Kherson\",\"UKR\",\"Ukraine\",\"47.42N\",\"31.97E\" \"\"\"]\n",
    "```\n",
    "\n",
    "Adicione as listas nos arquivos de dados das cidades \"Auckland\" e \"Kherson\"."
   ]
  },
  {
   "cell_type": "code",
   "execution_count": 54,
   "id": "d47c5481-fd1e-46c3-8087-3d79674d527c",
   "metadata": {},
   "outputs": [],
   "source": [
    "lista = [\"\"\"474544,\"01\",\"01\",\"1867\",68.5094,33.8522,\"Auckland\",\"NEW\",\"New Zealand\",\"36.17S\",\"175.03E\" \"\"\",\n",
    "\"\"\"474545,\"02\",\"01\",\"1867\",66.992,33.7244,\"Auckland\",\"NEW\",\"New Zealand\",\"36.17S\",\"175.03E\" \"\"\",\n",
    "        \"\"\"3778335,\"01\",\"01\",\"1753\",22.7066,42.2816,\"Kherson\",\"UKR\",\"Ukraine\",\"47.42N\",\"31.97E\" \"\"\",\n",
    "\"\"\"3778336,\"02\",\"01\",\"1753\",23.1476,37.1318,\"Kherson\",\"UKR\",\"Ukraine\",\"47.42N\",\"31.97E\" \"\"\"]"
   ]
  },
  {
   "cell_type": "code",
   "execution_count": 57,
   "id": "4663e1aa-9e1d-4d98-b098-3d2e49b22dd5",
   "metadata": {},
   "outputs": [],
   "source": [
    "dict_cities = {}\n",
    "dict_cities['Kherson'] = [row for row in lista if 'Kherson' in row]\n",
    "dict_cities['Auckland'] = [row for row in lista if 'Auckland' in row]\n",
    "\n",
    "for key,rows_by_city in dict_cities.items():\n",
    "    with open(f'temperature_{key.lower()}.csv', 'a') as file:\n",
    "        str_to_write = '\\n'.join(rows_by_city)\n",
    "        file.write(str_to_write)\n"
   ]
  },
  {
   "cell_type": "markdown",
   "id": "328dc989-4919-4c94-8715-8f866be47e3c",
   "metadata": {},
   "source": [
    "## Exercício 04\n",
    "\n",
    "Faça a leitura do arquivo temperatura.csv e converta os dados para lista de dicionário que fique como no exemplo:\n",
    "\n",
    "parte do arquivo csv:\n",
    "\n",
    "| record_id | month | day | year | AverageTemperatureFahr | AverageTemperatureUncertaintyFahr | City         | country_id | Country      | Latitude | Longitude |\n",
    "|-------------|---------|-------|--------|--------------------------|-------------------------------------|----------------|--------------|----------------|------------|-------------|\n",
    "| 3502531     | 01    | 01  | 1937 | 66.9056                  | 32.6444                             | Johannesburg | SOU        | South Africa | 26.52S   | 28.66E    |\n",
    "| 3502532     | 02    | 01  | 1937 | 66.7274                  | 33.1538                             | Johannesburg | SOU        | South Africa | 26.52S   | 28.66E    |\n"
   ]
  },
  {
   "cell_type": "markdown",
   "id": "014b13c7-c155-497f-b7a6-18ee63b67da0",
   "metadata": {},
   "source": [
    "Como deve ficar a estrutura"
   ]
  },
  {
   "cell_type": "code",
   "execution_count": 13,
   "id": "f32bd287-58b6-45a3-abfa-656897ca85b3",
   "metadata": {},
   "outputs": [],
   "source": [
    "rows = [{'\"AverageTemperatureFahr\"': '42.0674',\n",
    "  '\"AverageTemperatureUncertaintyFahr\"': '33.1142',\n",
    "  '\"City\"': '\"Kherson\"',\n",
    "  '\"Country\"': '\"Ukraine\"',\n",
    "  '\"Latitude\"': '\"47.42N\"',\n",
    "  '\"Longitude\"': '\"31.97E\"',\n",
    "  '\"country_id\"': '\"UKR\"',\n",
    "  '\"day\"': '\"01\"',\n",
    "  '\"month\"': '\"04\"',\n",
    "  '\"record_id\"': '3779550',\n",
    "  '\"year\"': '\"1854\"'},\n",
    " {'\"AverageTemperatureFahr\"': '62.654',\n",
    "  '\"AverageTemperatureUncertaintyFahr\"': '33.2888',\n",
    "  '\"City\"': '\"Kherson\"',\n",
    "  '\"Country\"': '\"Ukraine\"',\n",
    "  '\"Latitude\"': '\"47.42N\"',\n",
    "  '\"Longitude\"': '\"31.97E\"',\n",
    "  '\"country_id\"': '\"UKR\"',\n",
    "  '\"day\"': '\"01\"',\n",
    "  '\"month\"': '\"05\"',\n",
    "  '\"record_id\"': '3779551',\n",
    "  '\"year\"': '\"1854\"'}]\n"
   ]
  },
  {
   "cell_type": "code",
   "execution_count": 60,
   "id": "52b92dca-db31-4c94-99fd-95c718d81c3e",
   "metadata": {},
   "outputs": [
    {
     "data": {
      "text/plain": [
       "[{'\"record_id\"': '3779550',\n",
       "  '\"month\"': '\"04\"',\n",
       "  '\"day\"': '\"01\"',\n",
       "  '\"year\"': '\"1854\"',\n",
       "  '\"AverageTemperatureFahr\"': '42.0674',\n",
       "  '\"AverageTemperatureUncertaintyFahr\"': '33.1142',\n",
       "  '\"City\"': '\"Kherson\"',\n",
       "  '\"country_id\"': '\"UKR\"',\n",
       "  '\"Country\"': '\"Ukraine\"',\n",
       "  '\"Latitude\"': '\"47.42N\"',\n",
       "  '\"Longitude\"': '\"31.97E\"'},\n",
       " {'\"record_id\"': '3779551',\n",
       "  '\"month\"': '\"05\"',\n",
       "  '\"day\"': '\"01\"',\n",
       "  '\"year\"': '\"1854\"',\n",
       "  '\"AverageTemperatureFahr\"': '62.654',\n",
       "  '\"AverageTemperatureUncertaintyFahr\"': '33.2888',\n",
       "  '\"City\"': '\"Kherson\"',\n",
       "  '\"country_id\"': '\"UKR\"',\n",
       "  '\"Country\"': '\"Ukraine\"',\n",
       "  '\"Latitude\"': '\"47.42N\"',\n",
       "  '\"Longitude\"': '\"31.97E\"'}]"
      ]
     },
     "metadata": {},
     "output_type": "display_data"
    }
   ],
   "source": [
    "data = []\n",
    "rows = []\n",
    "with open('temperature.csv', 'r') as file:\n",
    "    rows = file.readlines()\n",
    "\n",
    "if len(rows) > 0:\n",
    "    header = rows.pop(0).replace('\\n','').split(',')\n",
    "    for row in rows:\n",
    "        list_row = row.replace('\\n','').split(',')\n",
    "        dict_row = {header[i]:list_row[i] for i in range(len(header))}\n",
    "        data.append(dict_row)\n",
    "\n",
    "display(data[:2])"
   ]
  },
  {
   "cell_type": "markdown",
   "id": "81b1555a-4f13-4a4c-abdb-086b1b46b97a",
   "metadata": {},
   "source": [
    "# Funções\n",
    "\n",
    "Em Python, uma função é uma sequência de comandos que executa alguma tarefa e que tem um nome. A sua principal finalidade é nos ajudar a organizar programas em pedaços que correspondam a como imaginamos uma solução do problema.\n",
    "\n",
    "A sintaxe de uma definição de função é:\n",
    "\n",
    "```python\n",
    "def name( args ):\n",
    "    commands\n",
    "```"
   ]
  },
  {
   "cell_type": "markdown",
   "id": "4b2b0dde-ba7c-43a4-91ef-e0c7529c4a00",
   "metadata": {},
   "source": [
    "## Exercicio 01\n",
    "\n",
    "Faça uma função com o nome *read_csv* que recebe como argumento o caminho de um arquivo csv (com o nome), e retorna as linhas em forma de lista."
   ]
  },
  {
   "cell_type": "code",
   "execution_count": 64,
   "id": "6b32bd41-aa15-4f66-90dc-2a4a9f5b6b9d",
   "metadata": {},
   "outputs": [],
   "source": []
  },
  {
   "cell_type": "code",
   "execution_count": null,
   "id": "46476134-62d1-4261-a248-35cc9a90ada0",
   "metadata": {},
   "outputs": [],
   "source": []
  },
  {
   "cell_type": "code",
   "execution_count": null,
   "id": "ab9a2a87-722f-4c90-97d4-e335b6839319",
   "metadata": {},
   "outputs": [],
   "source": []
  },
  {
   "cell_type": "markdown",
   "id": "d83e54e4-4f7d-477f-9e35-44e1af2d522e",
   "metadata": {},
   "source": [
    "## Exercício 05\n",
    "\n",
    "Converta o exercício 04 usando funções:"
   ]
  },
  {
   "cell_type": "code",
   "execution_count": 66,
   "id": "bc5559e6-2352-4caa-9979-a4d11dd38100",
   "metadata": {},
   "outputs": [],
   "source": [
    "def read_csv(path_csv_file: str):\n",
    "    list_resp = []\n",
    "    with open(path_csv_file, 'r') as file:\n",
    "        list_resp = [row.replace('\\n','') for row in file.readlines()]\n",
    "\n",
    "    return list_resp\n",
    "\n",
    "\n",
    "def convert_row_to_dict(row: list, header: list):\n",
    "    return {header[i]:row[i] for i in range(len(header))}\n",
    "\n",
    "\n",
    "def convert_rows_to_dict(rows: list):\n",
    "    data = []\n",
    "    if len(rows) > 0:\n",
    "        header = rows.pop(0).replace('\\n','').split(',')\n",
    "        for row in rows:\n",
    "            list_row = row.replace('\\n','').split(',')\n",
    "            dict_row = convert_row_to_dict(list_row, header)\n",
    "            data.append(dict_row)\n",
    "    \n",
    "    return data\n",
    "\n",
    "rows = read_csv('temperature.csv')\n",
    "data = convert_rows_to_dict(rows)"
   ]
  },
  {
   "cell_type": "code",
   "execution_count": null,
   "id": "5603a296-c587-41ab-8656-ed45f3926bba",
   "metadata": {},
   "outputs": [],
   "source": []
  }
 ],
 "metadata": {
  "kernelspec": {
   "display_name": "Python 3",
   "language": "python",
   "name": "python3"
  },
  "language_info": {
   "codemirror_mode": {
    "name": "ipython",
    "version": 3
   },
   "file_extension": ".py",
   "mimetype": "text/x-python",
   "name": "python",
   "nbconvert_exporter": "python",
   "pygments_lexer": "ipython3",
   "version": "3.8.10"
  }
 },
 "nbformat": 4,
 "nbformat_minor": 5
}
