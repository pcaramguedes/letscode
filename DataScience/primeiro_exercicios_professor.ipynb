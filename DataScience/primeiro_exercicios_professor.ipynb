{
 "cells": [
  {
   "cell_type": "markdown",
   "metadata": {},
   "source": [
    "# Lista 1 - variáveis, input, output"
   ]
  },
  {
   "cell_type": "markdown",
   "metadata": {},
   "source": [
    "\n",
    "1. Faça um programa que mostre a mensagem \"Olá, mundo!\" na tela.\n"
   ]
  },
  {
   "cell_type": "code",
   "execution_count": 1,
   "metadata": {},
   "outputs": [
    {
     "name": "stdout",
     "output_type": "stream",
     "text": [
      "Olá Mundo !!\n"
     ]
    }
   ],
   "source": [
    "#Code\n",
    "print('Olá Mundo !!')"
   ]
  },
  {
   "cell_type": "markdown",
   "metadata": {},
   "source": [
    "2. Faça um programa que peça um número e mostre a mensagem \"O número informado foi [número]\".\n"
   ]
  },
  {
   "cell_type": "code",
   "execution_count": 2,
   "metadata": {},
   "outputs": [
    {
     "name": "stdin",
     "output_type": "stream",
     "text": [
      "Digite um numero qualquer:  12\n"
     ]
    },
    {
     "name": "stdout",
     "output_type": "stream",
     "text": [
      "O número informado foi 12.00\n"
     ]
    }
   ],
   "source": [
    "#Code\n",
    "numero = float(input('Digite um numero qualquer: '))\n",
    "\n",
    "print(f'O número informado foi {numero:.2f}')\n"
   ]
  },
  {
   "cell_type": "markdown",
   "metadata": {},
   "source": [
    "\n",
    "3. Faça um programa que peça um número para o usuário (string), converta-o para float e depois imprima-o na tela. Você consegue fazer a mesma coisa, porém convertendo para int?\n",
    "\n"
   ]
  },
  {
   "cell_type": "code",
   "execution_count": 5,
   "metadata": {},
   "outputs": [
    {
     "name": "stdin",
     "output_type": "stream",
     "text": [
      "Digite um numero qualquer:  12\n"
     ]
    },
    {
     "name": "stdout",
     "output_type": "stream",
     "text": [
      "Numero digitado 12.0\n"
     ]
    }
   ],
   "source": [
    "#Code\n",
    "\n",
    "num = input('Digite um numero qualquer: ')\n",
    "\n",
    "if not num.isalpha():\n",
    "    print(f'Numero digitado {float(num)}')\n"
   ]
  },
  {
   "cell_type": "code",
   "execution_count": 7,
   "metadata": {},
   "outputs": [
    {
     "name": "stdin",
     "output_type": "stream",
     "text": [
      "Digite um numero qualquer:  12\n"
     ]
    },
    {
     "name": "stdout",
     "output_type": "stream",
     "text": [
      "Numero digitado 12\n"
     ]
    }
   ],
   "source": [
    "#Code\n",
    "num = input('Digite um numero qualquer: ')\n",
    "\n",
    "if not num.isalpha():\n",
    "    print(f'Numero digitado {int(num)}')"
   ]
  },
  {
   "cell_type": "markdown",
   "metadata": {},
   "source": [
    "4. Faça um programa que peça dois números e imprima a soma deles.\n",
    "\n"
   ]
  },
  {
   "cell_type": "code",
   "execution_count": 11,
   "metadata": {},
   "outputs": [
    {
     "name": "stdin",
     "output_type": "stream",
     "text": [
      "Digite dois numeros no formato N1,N2:  29,45.50\n"
     ]
    },
    {
     "name": "stdout",
     "output_type": "stream",
     "text": [
      "74.5\n"
     ]
    }
   ],
   "source": [
    "#Code\n",
    "\n",
    "soma = lambda x,y: float(x)+float(y)\n",
    "\n",
    "n1, n2 = input('Digite dois numeros no formato N1,N2: ').split(',')\n",
    "\n",
    "print(soma(n1, n2))"
   ]
  },
  {
   "cell_type": "markdown",
   "metadata": {},
   "source": [
    "5. Faça um programa que peça as 4 notas bimestrais de um aluno e mostre a média aritmética delas.\n"
   ]
  },
  {
   "cell_type": "code",
   "execution_count": 20,
   "metadata": {},
   "outputs": [
    {
     "name": "stdin",
     "output_type": "stream",
     "text": [
      "Digite as 4 notas no seguinte formato N1,N2,N3,N4:  1,2,3,4\n"
     ]
    },
    {
     "name": "stdout",
     "output_type": "stream",
     "text": [
      "Média aritmética: 2.5 \n"
     ]
    }
   ],
   "source": [
    "#Code\n",
    "notas = input('Digite as 4 notas no seguinte formato N1,N2,N3,N4: ').split(',')\n",
    "\n",
    "soma = 0\n",
    "for x in notas:\n",
    "    soma += float(x)\n",
    "\n",
    "print(f'Média aritmética: {soma / len(notas)} ')\n",
    "\n",
    "\n",
    "\n"
   ]
  },
  {
   "cell_type": "code",
   "execution_count": 21,
   "metadata": {},
   "outputs": [
    {
     "name": "stdin",
     "output_type": "stream",
     "text": [
      "Digite as 4 notas no seguinte formato N1,N2,N3,N4:  1,2,3,4\n"
     ]
    },
    {
     "name": "stdout",
     "output_type": "stream",
     "text": [
      "Média aritmética: 2.50\n"
     ]
    }
   ],
   "source": [
    "n1,n2,n3,n4 = input('Digite as 4 notas no seguinte formato N1,N2,N3,N4: ').split(',')\n",
    "n1, n2, n3, n4 = float(n1), float(n2), float(n3), float(n4)\n",
    "\n",
    "media = (n1+n2+n3+n4) / 4\n",
    "print(f'Média aritmética: {media:.2f}')\n"
   ]
  },
  {
   "cell_type": "markdown",
   "metadata": {},
   "source": [
    "\n",
    "6. Faça um programa que converta um valor em metros para centímetros.\n",
    "\n"
   ]
  },
  {
   "cell_type": "code",
   "execution_count": 23,
   "metadata": {},
   "outputs": [
    {
     "name": "stdin",
     "output_type": "stream",
     "text": [
      "Digite um numero em metros:  5.42\n"
     ]
    },
    {
     "name": "stdout",
     "output_type": "stream",
     "text": [
      "Valor digitado 5.42 em Metros  é igual 542.0 centimentros \n"
     ]
    }
   ],
   "source": [
    "#Code\n",
    "\n",
    "metros = float(input('Digite um numero em metros: '))\n",
    "\n",
    "print(f'Valor digitado {metros} em Metros  é igual {metros*100} centimentros ')"
   ]
  },
  {
   "cell_type": "markdown",
   "metadata": {},
   "source": [
    "7. Faça um programa que peça o raio de um círculo, calcule e mostre sua área. Obs: Fórmula da área de um círculo: A = 3,14*r2, onde r é o raio.\n"
   ]
  },
  {
   "cell_type": "code",
   "execution_count": 26,
   "metadata": {},
   "outputs": [
    {
     "name": "stdin",
     "output_type": "stream",
     "text": [
      "Digite o raio de um circulo qualquer:  5\n"
     ]
    },
    {
     "name": "stdout",
     "output_type": "stream",
     "text": [
      "Área do raio de 5.0 é: 78.50\n"
     ]
    }
   ],
   "source": [
    "#Code\n",
    "\n",
    "raio = float(input('Digite o raio de um circulo qualquer: '))\n",
    "\n",
    "area = 3.14 * (raio **2)\n",
    "print(f'Área do raio de {raio} é: {area:.2f}')"
   ]
  },
  {
   "cell_type": "code",
   "execution_count": 9,
   "metadata": {},
   "outputs": [],
   "source": [
    "#Code"
   ]
  },
  {
   "cell_type": "markdown",
   "metadata": {},
   "source": [
    "\n",
    "8. Faça um programa que pergunte quanto você ganha por hora e o número de horas trabalhadas no mês e depois, calcule e mostre o total do seu salário no referido mês.\n",
    "\n"
   ]
  },
  {
   "cell_type": "code",
   "execution_count": 28,
   "metadata": {},
   "outputs": [
    {
     "name": "stdin",
     "output_type": "stream",
     "text": [
      "Digite o seu salário hora:  15\n",
      "Digite o número de horas trabalhadas:  192\n"
     ]
    },
    {
     "name": "stdout",
     "output_type": "stream",
     "text": [
      "O Seu salário mensal é: 2880.0\n"
     ]
    }
   ],
   "source": [
    "#Code\n",
    "salario_hora = float(input('Digite o seu salário hora: '))\n",
    "horas_trabalhadas = float(input('Digite o número de horas trabalhadas: '))\n",
    "\n",
    "print(f'O Seu salário mensal é: {salario_hora * horas_trabalhadas}')\n"
   ]
  },
  {
   "cell_type": "markdown",
   "metadata": {},
   "source": [
    "9. Faça um programa que peça a temperatura em graus Fahrenheit (F), transforme e mostre a temperatura em graus Celsius (°C). °C = (5 * (F-32) / 9) Obs: Tente também fazer um programa que faça o inverso: peça a temperatura em graus Celsius e a transforme em graus Fahrenheit.\n"
   ]
  },
  {
   "cell_type": "code",
   "execution_count": 32,
   "metadata": {},
   "outputs": [
    {
     "name": "stdin",
     "output_type": "stream",
     "text": [
      "Digite a temperatura e Fahreint:  64\n"
     ]
    },
    {
     "name": "stdout",
     "output_type": "stream",
     "text": [
      "A temperatura digitada: 64.0 em F em Celsius é 17.78 C\n"
     ]
    }
   ],
   "source": [
    "#Code \n",
    "fahrenheit = float(input('Digite a temperatura e Fahreint: '))\n",
    "graus = (5* (fahrenheit-32)/9)\n",
    "print(f'A temperatura digitada: {fahrenheit} em F em Celsius é {graus:.2f} C')"
   ]
  },
  {
   "cell_type": "code",
   "execution_count": 38,
   "metadata": {},
   "outputs": [
    {
     "name": "stdin",
     "output_type": "stream",
     "text": [
      "Digite a temperatura e Fahreint:  64\n"
     ]
    },
    {
     "name": "stdout",
     "output_type": "stream",
     "text": [
      "A temperatura digitada: 64.0 em C em Fahrenheit é 147.20 F\n"
     ]
    }
   ],
   "source": [
    "#Code\n",
    "graus = float(input('Digite a temperatura e Fahreint: '))\n",
    "fahrenheit = ((graus*9/5)+32)\n",
    "print(f'A temperatura digitada: {graus} em C em Fahrenheit é {fahrenheit:.2f} F')"
   ]
  },
  {
   "cell_type": "markdown",
   "metadata": {},
   "source": [
    "\n",
    "10. Faça um programa que peça o dia, o mês e o ano para o usuário e imprima a data completa no formato dd/mm/aaaa.\n",
    "\n"
   ]
  },
  {
   "cell_type": "code",
   "execution_count": 51,
   "metadata": {},
   "outputs": [
    {
     "name": "stdin",
     "output_type": "stream",
     "text": [
      "Digite o dia:  26\n",
      "Digite o mes:  10\n",
      "Digite o ano:  20A\n"
     ]
    },
    {
     "name": "stdout",
     "output_type": "stream",
     "text": [
      "Digite o ano corretamente (AAAA) !!\n"
     ]
    }
   ],
   "source": [
    "#Code\n",
    "from datetime import datetime\n",
    "\n",
    "data = datetime.now()\n",
    "data_formatada = data.strftime('%d/%m/%y')\n",
    "\n",
    "try:\n",
    "    dia = int(input('Digite o dia: '))\n",
    "    mes = int(input('Digite o mes: '))\n",
    "    ano = input('Digite o ano: ')\n",
    "    \n",
    "except ValueErro:\n",
    "    print('Digite apenas números !!!')\n",
    "else:\n",
    "    \n",
    "    if (dia <1 or dia >31) or (mes <1 or mes>12):\n",
    "        print('Dia ou mês inválido !!')\n",
    "    elif (len(ano) <4 or len(ano) >4) or (not ano.isdecimal()):\n",
    "        print('Digite o ano corretamente (AAAA) !!')\n",
    "    else:\n",
    "        print(f'{dia}/{mes}/{ano}')\n",
    "        \n",
    "    \n"
   ]
  },
  {
   "cell_type": "markdown",
   "metadata": {},
   "source": [
    "11. Faça um programa que peça 2 números inteiros e um número real, calcule e mostre:\n",
    "a) o produto do dobro do primeiro com metade do segundo.\n",
    "b) a soma do triplo do primeiro com o terceiro.\n",
    "c) o terceiro elevado ao cubo.\n",
    "\n"
   ]
  },
  {
   "cell_type": "code",
   "execution_count": 57,
   "metadata": {},
   "outputs": [
    {
     "name": "stdin",
     "output_type": "stream",
     "text": [
      "Digite um numero inteiro qualquer:  2\n",
      "Digite outro numero inteiro.:  44\n",
      "Digite um numero qualquer .:  100.43\n"
     ]
    },
    {
     "name": "stdout",
     "output_type": "stream",
     "text": [
      "o produto do dobro do primeiro com metade do segundo: 26.0\n",
      "a soma do triplo do primeiro com o terceiro: 106.43\n",
      "o terceiro elevado ao cubo: 1012955.55\n"
     ]
    }
   ],
   "source": [
    "#Code\n",
    "num1 = int(input('Digite um numero inteiro qualquer: '))\n",
    "num2 = int(input('Digite outro numero inteiro.: '))\n",
    "real = float(input('Digite um numero qualquer .: '))\n",
    "produto = ((num1*2)+(num2/2))\n",
    "triplo = ((num1*3)+real)\n",
    "cubo = real**3\n",
    "print(f'o produto do dobro do primeiro com metade do segundo: {produto}')\n",
    "print(f'a soma do triplo do primeiro com o terceiro: {triplo}')\n",
    "print(f'o terceiro elevado ao cubo: {cubo:.2f}')"
   ]
  },
  {
   "cell_type": "markdown",
   "metadata": {},
   "source": [
    "12. Faça um programa que peça o peso e altura de uma pessoa e calcule seu IMC (Índice de Massa Corporal).\n",
    "Obs: IMC = Peso/Altura2\n",
    "\n"
   ]
  },
  {
   "cell_type": "code",
   "execution_count": 59,
   "metadata": {},
   "outputs": [
    {
     "name": "stdin",
     "output_type": "stream",
     "text": [
      "Digite o peso:  109\n",
      "Digite a altura:  1.80\n"
     ]
    },
    {
     "name": "stdout",
     "output_type": "stream",
     "text": [
      "O seu IMC é: 33.64\n"
     ]
    }
   ],
   "source": [
    "#Code\n",
    "peso = float(input('Digite o peso: '))\n",
    "altura = float(input('Digite a altura: '))\n",
    "\n",
    "imc = peso / (altura**2)\n",
    "print(f'O seu IMC é: {imc:.2f}')\n"
   ]
  },
  {
   "cell_type": "markdown",
   "metadata": {},
   "source": [
    "13. Faça um programa que peça um valor monetário e aumente-o em\n",
    "15%. Seu programa deve imprimir a mensagem “O novo valor é\n",
    "R$[valor]”.\n"
   ]
  },
  {
   "cell_type": "code",
   "execution_count": 61,
   "metadata": {},
   "outputs": [
    {
     "name": "stdin",
     "output_type": "stream",
     "text": [
      "Digite um valor qualquer:  2880\n"
     ]
    },
    {
     "name": "stdout",
     "output_type": "stream",
     "text": [
      "O novo valor é R$ 3312.00\n"
     ]
    }
   ],
   "source": [
    "#Code\n",
    "valor_monetario = float(input('Digite um valor qualquer: '))\n",
    "\n",
    "print(f'O novo valor é R$ {(valor_monetario * 1.15):.2f}')\n"
   ]
  },
  {
   "cell_type": "markdown",
   "metadata": {},
   "source": [
    "\n",
    "14. Faça um programa que peça um valor monetário e diminua-o em 15%.\n",
    "Seu programa deve imprimir a mensagem “O novo valor é R$[valor]”.\n"
   ]
  },
  {
   "cell_type": "code",
   "execution_count": 62,
   "metadata": {},
   "outputs": [
    {
     "name": "stdin",
     "output_type": "stream",
     "text": [
      "Digite um valor qualquer:  3312\n"
     ]
    },
    {
     "name": "stdout",
     "output_type": "stream",
     "text": [
      "O novo valor é R$ 2815.20\n"
     ]
    }
   ],
   "source": [
    "#Code\n",
    "valor_monetario = float(input('Digite um valor qualquer: '))\n",
    "\n",
    "print(f'O novo valor é R$ {(valor_monetario * 0.85):.2f}')"
   ]
  },
  {
   "cell_type": "markdown",
   "metadata": {},
   "source": [
    "__________________\n",
    "__________________\n",
    "\n",
    "__________________\n",
    "__________________\n"
   ]
  },
  {
   "cell_type": "markdown",
   "metadata": {},
   "source": [
    "# DESAFIOS"
   ]
  },
  {
   "cell_type": "markdown",
   "metadata": {},
   "source": [
    "\n",
    "1. Peça para o usuário digitar uma velocidade inicial (em m/s), uma posição inicial (em m) e um instante de tempo (em s) e imprima a posição de um projétil nesse instante de tempo. Dica: use a fórmula matemática:\n",
    "yt = y0 + v0*t + (1/2)*gt^2\n",
    "Onde, g é a aceleração da gravidade (-10m/s²), y(t) é a posição\n",
    "final, y(0) é a posição inicial, v(0) é a velocidade inicial e t é o\n",
    "instante de tempo.\n"
   ]
  },
  {
   "cell_type": "code",
   "execution_count": 18,
   "metadata": {},
   "outputs": [],
   "source": [
    "#Code"
   ]
  },
  {
   "cell_type": "markdown",
   "metadata": {},
   "source": [
    "\n",
    "2. Faça um programa que informe a data e a hora para o usuário. Para\n",
    "isso use a função datetime.now() do módulo datetime"
   ]
  },
  {
   "cell_type": "code",
   "execution_count": 55,
   "metadata": {},
   "outputs": [
    {
     "name": "stdout",
     "output_type": "stream",
     "text": [
      "--------------------------------\n",
      "Data e hora atual: 26/10/21 12:22\n"
     ]
    }
   ],
   "source": [
    "#Code\n",
    "from datetime import datetime\n",
    "\n",
    "data = datetime.now()\n",
    "data_formatada = data.strftime('%d/%m/%y %H:%M')\n",
    "print('-'*32)\n",
    "print(f'Data e hora atual: {data_formatada}')"
   ]
  }
 ],
 "metadata": {
  "interpreter": {
   "hash": "916dbcbb3f70747c44a77c7bcd40155683ae19c65e1c03b4aa3499c5328201f1"
  },
  "kernelspec": {
   "display_name": "Python 3 (ipykernel)",
   "language": "python",
   "name": "python3"
  },
  "language_info": {
   "codemirror_mode": {
    "name": "ipython",
    "version": 3
   },
   "file_extension": ".py",
   "mimetype": "text/x-python",
   "name": "python",
   "nbconvert_exporter": "python",
   "pygments_lexer": "ipython3",
   "version": "3.8.10"
  }
 },
 "nbformat": 4,
 "nbformat_minor": 4
}
