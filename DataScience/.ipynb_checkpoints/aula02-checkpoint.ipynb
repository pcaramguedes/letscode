{
 "cells": [
  {
   "cell_type": "code",
   "execution_count": 4,
   "id": "2b6b52c3-3bea-4be4-afe0-3bb9d29d91a5",
   "metadata": {},
   "outputs": [
    {
     "name": "stdout",
     "output_type": "stream",
     "text": [
      "var_1 <class 'int'> \n",
      "var_2 <class 'float'>\n",
      "resultado:  <class 'float'>\n"
     ]
    }
   ],
   "source": [
    "# fazendo conversão do tipo implicita\n",
    "\n",
    "var_1 = 10\n",
    "var_2 = 3.3\n",
    "print('var_1', type(var_1), '\\nvar_2', type(var_2))\n",
    "\n",
    "print('resultado: ', type(var_1 + var_2))"
   ]
  },
  {
   "cell_type": "code",
   "execution_count": 21,
   "id": "145d94f4-d8af-41cd-9dc2-15938346700e",
   "metadata": {},
   "outputs": [
    {
     "name": "stdout",
     "output_type": "stream",
     "text": [
      "1   -5.0\n",
      "--------------------------------\n"
     ]
    },
    {
     "data": {
      "text/plain": [
       "24"
      ]
     },
     "execution_count": 21,
     "metadata": {},
     "output_type": "execute_result"
    }
   ],
   "source": [
    "import sys\n",
    "# fazendo conversão do tipo explicita\n",
    "\n",
    "var_1 = '1.9999999'\n",
    "var_2 = '-5'\n",
    "print(int(float(var_1)), ' ', float(var_2))\n",
    "\n",
    "print('-'*32)\n",
    "sys.getsizeof(float(1))"
   ]
  },
  {
   "cell_type": "code",
   "execution_count": 28,
   "id": "1e54efd6-1883-436c-8e28-9518e58b88a8",
   "metadata": {},
   "outputs": [
    {
     "name": "stdout",
     "output_type": "stream",
     "text": [
      "Resultado para conversao da base 2 para a base 10:\n",
      "52502\n",
      "40765\n"
     ]
    }
   ],
   "source": [
    "# conversão de bases de números\n",
    "s = '1100110100010110'\n",
    "c = int(s,2) # Ele já sabe que a string é na base dois.. eu informei a base e ele converte\n",
    "print('Resultado para conversao da base 2 para a base 10:')\n",
    "print(c)\n",
    "hexa_str_value = '9F3D'\n",
    "print(int(hexa_str_value,16))"
   ]
  },
  {
   "cell_type": "code",
   "execution_count": 29,
   "id": "59034744-b7bc-480b-bf02-67cf609ae65e",
   "metadata": {},
   "outputs": [
    {
     "name": "stdout",
     "output_type": "stream",
     "text": [
      "0xf\n"
     ]
    }
   ],
   "source": [
    "# conversão de números\n",
    "\n",
    "a = 15\n",
    "print(hex(a))\n"
   ]
  },
  {
   "cell_type": "code",
   "execution_count": 32,
   "id": "eb2c05d2-d411-49eb-86a6-2dfa037fffea",
   "metadata": {},
   "outputs": [
    {
     "name": "stdin",
     "output_type": "stream",
     "text": [
      "Entre com um numero:  9\n"
     ]
    },
    {
     "name": "stdout",
     "output_type": "stream",
     "text": [
      "3.0\n"
     ]
    }
   ],
   "source": [
    "# calcular a raiz quadrada\n",
    "\n",
    "\n",
    "try:\n",
    "    a = float(input('Entre com um numero: '))\n",
    "\n",
    "except ValueError:\n",
    "    print('Não pode digitar texto, apenas números')\n",
    "else:\n",
    "    if a <0:\n",
    "        print('Digite numeros positivos')\n",
    "    else:\n",
    "        print(a**0.5)\n",
    "    "
   ]
  },
  {
   "cell_type": "code",
   "execution_count": 35,
   "id": "54b1f601-03f1-4218-a48d-6ffe2928efb1",
   "metadata": {},
   "outputs": [
    {
     "name": "stdin",
     "output_type": "stream",
     "text": [
      "Digite a idade:  18\n"
     ]
    },
    {
     "name": "stdout",
     "output_type": "stream",
     "text": [
      "idade 18 pode  dirigir\n"
     ]
    }
   ],
   "source": [
    "try:\n",
    "    idade = int(input('Digite a idade: '))\n",
    "except ValueError:\n",
    "    print('nao pode')\n",
    "else:\n",
    "    if idade <18:\n",
    "        print(f'idade {idade} imprópria para dirigir')\n",
    "    else:\n",
    "        print(f'idade {idade} pode  dirigir')\n",
    "        \n"
   ]
  },
  {
   "cell_type": "code",
   "execution_count": 48,
   "id": "4ac1287c-1479-498d-bf04-7e0515dc7ca0",
   "metadata": {},
   "outputs": [
    {
     "name": "stdin",
     "output_type": "stream",
     "text": [
      "Lado A:  2\n",
      "Lado B:  3\n",
      "Lado C:  4\n"
     ]
    },
    {
     "name": "stdout",
     "output_type": "stream",
     "text": [
      "Triangulo\n"
     ]
    }
   ],
   "source": [
    "a = float(input('Lado A: '))\n",
    "b = float(input('Lado B: '))\n",
    "c = float(input('Lado C: '))\n",
    "\n",
    "if ((a < (b + c)) and (b < (a + c)) and (c < (a + b)) ) and ( a>0 and b>0 and c>0):\n",
    "    print('Triangulo')\n",
    "else:\n",
    "    print('nao eh triangulo')\n"
   ]
  },
  {
   "cell_type": "code",
   "execution_count": 49,
   "id": "61a92929-1d3c-4a27-b96a-49e942d87699",
   "metadata": {},
   "outputs": [
    {
     "name": "stdin",
     "output_type": "stream",
     "text": [
      "Digite os lados do triangulo no seguinte formato a,b,c:  1,2,3\n"
     ]
    },
    {
     "name": "stdout",
     "output_type": "stream",
     "text": [
      "1.0 2.0 3.0\n"
     ]
    }
   ],
   "source": [
    "a,b,c = input('Digite os lados do triangulo no seguinte formato a,b,c: ').split(',')\n",
    "a,b,c = float(a), float(b), float(c)\n",
    "\n",
    "print(a,b,c)"
   ]
  },
  {
   "cell_type": "code",
   "execution_count": 77,
   "id": "8c31f712-aa60-44b0-92b1-122720a4cfbd",
   "metadata": {},
   "outputs": [
    {
     "name": "stdout",
     "output_type": "stream",
     "text": [
      "é válido\n"
     ]
    }
   ],
   "source": [
    "texto= \"https://site.com.br?id=1930&nome=fulano\"\n",
    "\n",
    "codifica = texto[texto.index(\"id=\") + len(\"id=\"):texto.index('&')]\n",
    "\n",
    "\n",
    "nome = texto[texto.index(\"nome=\") + len(\"nome=\"):]\n",
    "\n",
    "if codifica.isdecimal() and nome.isalpha():\n",
    "    print('é válido')\n",
    "else:\n",
    "    print('não é válido')\n",
    "    \n",
    "\n",
    "\n",
    "\n"
   ]
  },
  {
   "cell_type": "code",
   "execution_count": null,
   "id": "80198015-db16-4291-8aca-cda84c80989b",
   "metadata": {},
   "outputs": [],
   "source": [
    "url = \"https://site.com.br?id=1930&nome=fulano\"\n",
    "\n",
    "id_ = url[url.index(\"id=\") + len(\"id=\"):url.index(\"&\")]\n",
    "nome = url[url.index(\"nome=\") + len(\"nome=\"):]\n",
    "\n",
    "message = \"Campos válidos\"\n",
    "if not id_.isdecimal() and not nome.isalpha():\n",
    "    message = \"Campos id e nome não são válidos\"\n",
    "elif not id_.isdecimal():\n",
    "    message = \"Campo id não é válido\"\n",
    "elif not nome.isalpha():\n",
    "    message = \"Campo nome não é válido\"\n",
    "    \n",
    "print(message)"
   ]
  }
 ],
 "metadata": {
  "kernelspec": {
   "display_name": "Python 3 (ipykernel)",
   "language": "python",
   "name": "python3"
  },
  "language_info": {
   "codemirror_mode": {
    "name": "ipython",
    "version": 3
   },
   "file_extension": ".py",
   "mimetype": "text/x-python",
   "name": "python",
   "nbconvert_exporter": "python",
   "pygments_lexer": "ipython3",
   "version": "3.8.10"
  }
 },
 "nbformat": 4,
 "nbformat_minor": 5
}
