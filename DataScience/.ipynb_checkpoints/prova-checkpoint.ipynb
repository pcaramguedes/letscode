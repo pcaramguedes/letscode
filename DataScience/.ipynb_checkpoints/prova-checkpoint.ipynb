{
 "cells": [
  {
   "cell_type": "code",
   "execution_count": 3,
   "id": "9ded3d5e-bd31-4285-ad15-be11cee9a18a",
   "metadata": {},
   "outputs": [
    {
     "name": "stdout",
     "output_type": "stream",
     "text": [
      "[1.0, 0.5, 0.3333333333333333]\n"
     ]
    }
   ],
   "source": [
    "r=[]\n",
    "\n",
    "for x in [1,2,3]:\n",
    "    r.append(x**-1)\n",
    "    \n",
    "print(r)"
   ]
  },
  {
   "cell_type": "code",
   "execution_count": 5,
   "id": "aa7b2be8-e00a-4606-ba76-5b459206f9ee",
   "metadata": {},
   "outputs": [
    {
     "name": "stdout",
     "output_type": "stream",
     "text": [
      "[1.0, 0.5, 0.3333333333333333]\n"
     ]
    }
   ],
   "source": [
    "r = [x**-1 for x in [1,2,3]]\n",
    "print(r)"
   ]
  },
  {
   "cell_type": "code",
   "execution_count": 7,
   "id": "a31ba299-b4ac-461b-95fb-4c8028c8303b",
   "metadata": {},
   "outputs": [
    {
     "name": "stdout",
     "output_type": "stream",
     "text": [
      "[0, 1, 2, 3, 4]\n",
      "[0, 2, 4]\n"
     ]
    }
   ],
   "source": [
    "data = [x for x in range(5)]\n",
    "print(data)\n",
    "temp = [x for x in range(7) if x in data and x%2==0]\n",
    "print(temp)"
   ]
  },
  {
   "cell_type": "code",
   "execution_count": 10,
   "id": "99762e68-c594-4f7a-b1ff-46ad5b93a7bf",
   "metadata": {},
   "outputs": [
    {
     "name": "stdout",
     "output_type": "stream",
     "text": [
      "{0: 0, 7: 0, 1: 1, 8: 1}\n"
     ]
    }
   ],
   "source": [
    "d = {}\n",
    "for x in enumerate(range(2)):\n",
    "  \n",
    "    d[x[0]] = x[1]\n",
    "    d[x[1]+7] = x[0]\n",
    "print(d)"
   ]
  },
  {
   "cell_type": "code",
   "execution_count": 14,
   "id": "ef1f30b9-4164-43f3-8ad3-8e96707152a8",
   "metadata": {},
   "outputs": [
    {
     "name": "stdout",
     "output_type": "stream",
     "text": [
      "dict_values([1, '2', 2, 3])\n",
      "3\n"
     ]
    }
   ],
   "source": [
    "d = {1 : 1, 2 : '2', '1' : 2, '2' : 3}\n",
    "\n",
    "d['1'] = 2\n",
    "print(d[d[d[str(d[1])]]])"
   ]
  },
  {
   "cell_type": "code",
   "execution_count": 28,
   "id": "25562732-d2e5-4f48-b10b-cf64cd2a8d09",
   "metadata": {},
   "outputs": [
    {
     "name": "stdout",
     "output_type": "stream",
     "text": [
      "L 76\n",
      "e 101\n",
      "t 116\n",
      "s 115\n",
      "  32\n",
      "c 99\n",
      "o 111\n",
      "d 100\n",
      "e 101\n",
      "Ohwv#frgh\n"
     ]
    }
   ],
   "source": [
    "line = \"Lets code\"\n",
    "value = \"\"\n",
    "for i in line:\n",
    "    print(i, ord(i))\n",
    "    value += chr(ord(i)+3)\n",
    "print(value)"
   ]
  },
  {
   "cell_type": "code",
   "execution_count": 39,
   "id": "be167ace-01cb-4816-a5ab-2dfc37f3aacd",
   "metadata": {},
   "outputs": [
    {
     "data": {
      "text/plain": [
       "'Ohwv#frgh'"
      ]
     },
     "execution_count": 39,
     "metadata": {},
     "output_type": "execute_result"
    }
   ],
   "source": [
    "79 + 104+119+118+35+102+114+103+101\n",
    "chr(79) + chr(104) + chr(119)+chr(118)+chr(35)+chr(102)+chr(114)+chr(103) +chr(104)"
   ]
  },
  {
   "cell_type": "code",
   "execution_count": 16,
   "id": "505b0aab-9626-47c8-9842-aef00db908f0",
   "metadata": {},
   "outputs": [
    {
     "name": "stdout",
     "output_type": "stream",
     "text": [
      "2.33 abcno\n"
     ]
    }
   ],
   "source": [
    "L1 = [1, 1.33, 'abc', 0, 'no', None, 'j', True]\n",
    "val1, val2 = 0, ''\n",
    "for x in L1:\n",
    "    if(type(x) == int or type(x) == float):\n",
    "        val1 += x\n",
    "    elif(type(x) == str):\n",
    "        val2 += x\n",
    "    else:\n",
    "        break\n",
    "print(val1, val2)"
   ]
  },
  {
   "cell_type": "code",
   "execution_count": 41,
   "id": "37152d62-308e-43e7-9b2c-4de1f4ba29d8",
   "metadata": {},
   "outputs": [
    {
     "name": "stdout",
     "output_type": "stream",
     "text": [
      "140180893307072\n",
      "True\n",
      "Help on built-in function id in module builtins:\n",
      "\n",
      "id(obj, /)\n",
      "    Return the identity of an object.\n",
      "    \n",
      "    This is guaranteed to be unique among simultaneously existing objects.\n",
      "    (CPython uses the object's memory address.)\n",
      "\n"
     ]
    }
   ],
   "source": [
    "def foo(x):\n",
    "    x[0] = ['lets']\n",
    "    x[1] = ['code']\n",
    "    return id(x)\n",
    "q = ['lets', 'code']\n",
    "print(id(q))\n",
    "print(id(q) == foo(q))\n",
    "help(id)"
   ]
  },
  {
   "cell_type": "code",
   "execution_count": 20,
   "id": "346bda3d-7875-464f-b713-a5d280664dd5",
   "metadata": {},
   "outputs": [
    {
     "name": "stdout",
     "output_type": "stream",
     "text": [
      "a 1\n",
      "a 2\n",
      "a 3\n",
      "b 1\n",
      "b 2\n",
      "b 3\n",
      "c 1\n",
      "c 2\n",
      "c 3\n"
     ]
    }
   ],
   "source": [
    "def print_alpha_nums(abc_list, num_list):\n",
    "    for char in abc_list:\n",
    "        for num in num_list:\n",
    "            print(char, num)\n",
    "    return\n",
    "\n",
    "print_alpha_nums(['a', 'b', 'c'], [1, 2, 3])"
   ]
  },
  {
   "cell_type": "code",
   "execution_count": 25,
   "id": "6f1e2959-3200-4830-b7a3-aa23343319eb",
   "metadata": {},
   "outputs": [
    {
     "name": "stdout",
     "output_type": "stream",
     "text": [
      "['Apple', 'Orange', 'Bananas']\n"
     ]
    }
   ],
   "source": [
    "fruta = {'Apple':5, 'Orange':3,'Bananas':4}\n",
    "fruta_nomes = [x for x in fruta.keys()]\n",
    "print(fruta_nomes)"
   ]
  },
  {
   "cell_type": "code",
   "execution_count": 22,
   "id": "0b74f23e-d4e3-4426-bec6-0569f043851f",
   "metadata": {},
   "outputs": [
    {
     "ename": "SyntaxError",
     "evalue": "invalid syntax (1172013723.py, line 1)",
     "output_type": "error",
     "traceback": [
      "\u001b[0;36m  File \u001b[0;32m\"/tmp/ipykernel_22442/1172013723.py\"\u001b[0;36m, line \u001b[0;32m1\u001b[0m\n\u001b[0;31m    fruta = ('fruit':'apple','count':2).dict()\u001b[0m\n\u001b[0m                    ^\u001b[0m\n\u001b[0;31mSyntaxError\u001b[0m\u001b[0;31m:\u001b[0m invalid syntax\n"
     ]
    }
   ],
   "source": [
    "\n"
   ]
  }
 ],
 "metadata": {
  "kernelspec": {
   "display_name": "Python 3 (ipykernel)",
   "language": "python",
   "name": "python3"
  },
  "language_info": {
   "codemirror_mode": {
    "name": "ipython",
    "version": 3
   },
   "file_extension": ".py",
   "mimetype": "text/x-python",
   "name": "python",
   "nbconvert_exporter": "python",
   "pygments_lexer": "ipython3",
   "version": "3.8.10"
  }
 },
 "nbformat": 4,
 "nbformat_minor": 5
}
