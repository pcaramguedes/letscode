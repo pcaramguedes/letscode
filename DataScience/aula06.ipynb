{
 "cells": [
  {
   "cell_type": "markdown",
   "id": "f04252e7-a7af-4600-a9b2-877d2a3aa1f1",
   "metadata": {},
   "source": [
    "# Arquivos em Python"
   ]
  },
  {
   "cell_type": "markdown",
   "id": "eb052c78-1347-471f-9a4f-d971bf01d7ed",
   "metadata": {},
   "source": [
    "No python temos uma função **open** que oferece a possibilidade manipular o conteúdo interno de um arquivo.\n",
    "```python \n",
    "arquivo = open('caminho_do_arquivo', 'modo', 'encoding')\n",
    "\n",
    "```\n",
    "o atríbuto **modo** permite a escolha de como será manipulado o arquivo:\n",
    "<!-- |Mode|Explicação|\n",
    "|----|----------|\n",
    "|r|Abre o arquivo somente para leitura|\n",
    "|r+|Abre o arquivo para leitura e escrita, o ponteiro é colocado no início do arquivo|\n",
    "|w|Abre o arquivo somete para escrita, o ponteiro é colocado no início do arquivo, qualquer informação contida no arquivo é removida e se o arquivo não existir, ele é criado|\n",
    "|w+|Abre o arquivo para escrita e leitura, o ponteiro é colocado no início do arquivo e qualquer informação contida no arquivo é removida, se o arquivo não existir ele é criado|\n",
    "|a|Abre o arquivo somente para escrita, o ponteiro é colocado no final do arquivo, por tanto é possível adicionar informações|\n",
    "|a+| Abre o arquivo para escrita e leitura, o ponteiro é colocado no final do arquivo, por tanto é possível adicionar informações| -->\n",
    "\n",
    "| Mode | Descrição |\n",
    "| ---- | --------- |\n",
    "| r  | arquivo somente leitura |\n",
    "| r+ | arquivo para leitura e escrita, o ponteiro é colocado no início do arquivo |\n",
    "| w  | abre o arquivo somete para escrita, o ponteiro é colocado no início do arquivo, qualquer informação contida no arquivo é removida e se o arquivo não existir, ele é criado |\n",
    "| w+ |Abre o arquivo para escrita e leitura, o ponteiro é colocado no início do arquivo e qualquer informação contida no arquivo é removida, se o arquivo não existir ele é criado |\n",
    "| a |Abre o arquivo somente para escrita, o ponteiro é colocado no final do arquivo, por tanto é possível adicionar informações |\n",
    "| a+ | Abre o arquivo para escrita e leitura, o ponteiro é colocado no final do arquivo, por tanto é possível adicionar informações |\n"
   ]
  },
  {
   "cell_type": "code",
   "execution_count": 13,
   "id": "4b95b6ed-af60-4c65-b7cb-273b73f53147",
   "metadata": {},
   "outputs": [
    {
     "name": "stdout",
     "output_type": "stream",
     "text": [
      "Parou...\n",
      "Fora: maria\n",
      "Musica... \n",
      "Parou...\n",
      "Fora: fernanda\n",
      "Musica... \n",
      "Parou...\n",
      "Fora: santiago\n",
      "Musica... \n",
      "Parou...\n",
      "Fora: carlos\n",
      "Musica... \n",
      "Parou...\n",
      "Fora: joao\n",
      "Musica... \n",
      "Parou...\n",
      "Fora: luiz\n",
      "Musica... \n",
      "Parou...\n",
      "Fora: tabata\n",
      "Musica... \n",
      "Parou...\n",
      "Fora: miguel\n",
      "Musica... \n",
      "Parou...\n",
      "Fora: paulo\n",
      "Musica... \n",
      "Vencedor..: eduardo\n"
     ]
    }
   ],
   "source": [
    "#Escreva um programa em Python que simule uma dança das cadeiras. Você deverá\n",
    "# importar o pacote random e iniciar uma lista com nomes de pessoas que participariam da\n",
    "# brincadeira. O jogo deverá iniciar com 9 cadeiras e 10 participantes. A cada rodada,\n",
    "# uma cadeira deverá ser retirada e um dos jogadores, de forma aleatória, ser eliminado. O\n",
    "# jogo deverá terminar quando apenas restar uma cadeira e ao final de todas as rodadas,\n",
    "# deverá ser apresentado vencedor.\n",
    "from random import randint, choice\n",
    "from time import sleep\n",
    "\n",
    "nomes = ['paulo','joao','fernanda','miguel','luiz','carlos','maria','tabata','eduardo','santiago']\n",
    "cadeiras = 9\n",
    "str = ''\n",
    "\n",
    "while cadeiras >=1:\n",
    "    print('Parou...')\n",
    "    str = choice(nomes)\n",
    "    print(f'Fora: {str}')\n",
    "    nomes.remove(str)\n",
    "    cadeiras -= 1\n",
    "    print('Musica... ')\n",
    "    sleep(1)\n",
    "    \n",
    "print(f'Vencedor..: {nomes[0]}')    \n",
    "    \n",
    "    \n",
    "\n"
   ]
  },
  {
   "cell_type": "code",
   "execution_count": 19,
   "id": "f712feb9-c361-4c54-8a9a-a150c6321483",
   "metadata": {},
   "outputs": [
    {
     "data": {
      "text/plain": [
       "27"
      ]
     },
     "execution_count": 19,
     "metadata": {},
     "output_type": "execute_result"
    }
   ],
   "source": [
    "arquivo = open(\"arquivo.txt\",\"w+\")\n",
    "conteudo = \"Primeira linha do arquiov \\n\"\n",
    "arquivo.write(conteudo)"
   ]
  },
  {
   "cell_type": "code",
   "execution_count": 24,
   "id": "0ffa8b92-54be-400b-9a0f-6352227a5c57",
   "metadata": {},
   "outputs": [
    {
     "data": {
      "text/plain": [
       "['Primeira linha do arquiov ', '']"
      ]
     },
     "execution_count": 24,
     "metadata": {},
     "output_type": "execute_result"
    }
   ],
   "source": [
    "arquivo.seek(0,0)\n",
    "arquivo.read().split('\\n')"
   ]
  },
  {
   "cell_type": "code",
   "execution_count": 25,
   "id": "020bea07-47e5-454d-a028-6fa68b18f7d1",
   "metadata": {},
   "outputs": [],
   "source": [
    "arquivo.close()"
   ]
  },
  {
   "cell_type": "code",
   "execution_count": 32,
   "id": "3c8711a6-a436-49e7-9a98-00a1ec377b6b",
   "metadata": {},
   "outputs": [
    {
     "name": "stdout",
     "output_type": "stream",
     "text": [
      "<class '_io.TextIOWrapper'>\n",
      "<class 'list'>\n"
     ]
    }
   ],
   "source": [
    "arquivo = open('arquivo.txt','a+')\n",
    "print(type(arquivo))\n",
    "conteudo = arquivo.readlines()\n",
    "print(type(conteudo))\n",
    "# arquivo.seek(0,0)\n",
    "# print(arquivo.read())\n",
    "# arquivo.write('Segunda linha do arquivo\\n')\n",
    "arquivo.close()"
   ]
  },
  {
   "cell_type": "code",
   "execution_count": 37,
   "id": "24c2fc33-8176-4579-87eb-5666d8037373",
   "metadata": {},
   "outputs": [
    {
     "name": "stdout",
     "output_type": "stream",
     "text": [
      "Primeira linha do arquiov \n",
      "\n",
      "Segunda linha do arquivo\n",
      "\n",
      "Segunda linha do arquivo\n",
      "\n"
     ]
    }
   ],
   "source": [
    "arquivo = open('arquivo.txt','r')\n",
    "\n",
    "for linha in arquivo.readlines():\n",
    "    print(linha)\n",
    "    \n",
    "arquivo.close()"
   ]
  },
  {
   "cell_type": "code",
   "execution_count": 38,
   "id": "bb195c26-76ff-444c-a60c-62aa40a50aac",
   "metadata": {},
   "outputs": [
    {
     "name": "stdout",
     "output_type": "stream",
     "text": [
      "Primeira linha do arquiov \n",
      "Segunda linha do arquivo\n",
      "Segunda linha do arquivo\n",
      "\n"
     ]
    }
   ],
   "source": [
    "with open('arquivo.txt','r') as arquivo:\n",
    "    conteudo = arquivo.read()\n",
    " \n",
    "print(conteudo)"
   ]
  },
  {
   "cell_type": "code",
   "execution_count": 81,
   "id": "50cf6f9d-2523-45ca-bff0-501db9531861",
   "metadata": {},
   "outputs": [
    {
     "name": "stdin",
     "output_type": "stream",
     "text": [
      "Digite a opcao desejada:\n",
      "1 - Consultar\n",
      "2 - Inserir\n",
      "3 - Deletar\n",
      "4 - Atualizar\n",
      "5 - Listar todos\n",
      "6 - Sair\n",
      " 5\n"
     ]
    },
    {
     "name": "stdout",
     "output_type": "stream",
     "text": [
      "--------------------------------\n",
      "CPF...: 111  NOME..: paulo  \n",
      "\n",
      "--------------------------------\n",
      "CPF...: 222  NOME..: joao  \n",
      "\n",
      "--------------------------------\n",
      "CPF...: 333  NOME..: Flávio  \n",
      "\n",
      "--------------------------------\n",
      "CPF...: 444  NOME..: MARIA DA CONCEICAO555  \n",
      "\n",
      "--------------------------------\n",
      "CPF...: 555  NOME..: PENELOPE\n",
      "  \n",
      "\n",
      "--------------------------------\n",
      "CPF...: 888  NOME..: Pedro das Rosas  \n",
      "\n",
      "--------------------------------\n"
     ]
    },
    {
     "name": "stdin",
     "output_type": "stream",
     "text": [
      "Digite a opcao desejada:\n",
      "1 - Consultar\n",
      "2 - Inserir\n",
      "3 - Deletar\n",
      "4 - Atualizar\n",
      "5 - Listar todos\n",
      "6 - Sair\n",
      " 4\n",
      "Digite o CPF:  555\n"
     ]
    },
    {
     "name": "stdout",
     "output_type": "stream",
     "text": [
      "CPF..: 555\n",
      "NOME.: PENELOPE\n",
      "\n"
     ]
    },
    {
     "name": "stdin",
     "output_type": "stream",
     "text": [
      "Deseja alterar (S/N):  s\n",
      "CPF..: 555\n",
      "NOME.: Penelope Charmosa\n"
     ]
    },
    {
     "name": "stdout",
     "output_type": "stream",
     "text": [
      "registro atualizado com sucesso\n"
     ]
    },
    {
     "name": "stdin",
     "output_type": "stream",
     "text": [
      "Digite a opcao desejada:\n",
      "1 - Consultar\n",
      "2 - Inserir\n",
      "3 - Deletar\n",
      "4 - Atualizar\n",
      "5 - Listar todos\n",
      "6 - Sair\n",
      " 5\n"
     ]
    },
    {
     "name": "stdout",
     "output_type": "stream",
     "text": [
      "--------------------------------\n",
      "CPF...: 111  NOME..: paulo  \n",
      "\n",
      "--------------------------------\n",
      "CPF...: 222  NOME..: joao  \n",
      "\n",
      "--------------------------------\n",
      "CPF...: 333  NOME..: Flávio  \n",
      "\n",
      "--------------------------------\n",
      "CPF...: 444  NOME..: MARIA DA CONCEICAO555  \n",
      "\n",
      "--------------------------------\n",
      "CPF...: 555  NOME..: Penelope Charmosa888  \n",
      "\n",
      "--------------------------------\n"
     ]
    },
    {
     "name": "stdin",
     "output_type": "stream",
     "text": [
      "Digite a opcao desejada:\n",
      "1 - Consultar\n",
      "2 - Inserir\n",
      "3 - Deletar\n",
      "4 - Atualizar\n",
      "5 - Listar todos\n",
      "6 - Sair\n",
      " 4\n",
      "Digite o CPF:  555\n"
     ]
    },
    {
     "name": "stdout",
     "output_type": "stream",
     "text": [
      "CPF..: 555\n",
      "NOME.: Penelope Charmosa888\n"
     ]
    },
    {
     "name": "stdin",
     "output_type": "stream",
     "text": [
      "Deseja alterar (S/N):  s\n",
      "CPF..: 555\n",
      "NOME.: Penelope Charmosa\n"
     ]
    },
    {
     "name": "stdout",
     "output_type": "stream",
     "text": [
      "registro atualizado com sucesso\n"
     ]
    },
    {
     "name": "stdin",
     "output_type": "stream",
     "text": [
      "Digite a opcao desejada:\n",
      "1 - Consultar\n",
      "2 - Inserir\n",
      "3 - Deletar\n",
      "4 - Atualizar\n",
      "5 - Listar todos\n",
      "6 - Sair\n",
      " 5\n"
     ]
    },
    {
     "name": "stdout",
     "output_type": "stream",
     "text": [
      "--------------------------------\n",
      "CPF...: 111  NOME..: paulo  \n",
      "\n",
      "--------------------------------\n",
      "CPF...: 222  NOME..: joao  \n",
      "\n",
      "--------------------------------\n",
      "CPF...: 333  NOME..: Flávio  \n",
      "\n",
      "--------------------------------\n",
      "CPF...: 444  NOME..: MARIA DA CONCEICAO555  \n",
      "\n",
      "--------------------------------\n",
      "CPF...: 555  NOME..: Penelope Charmosa  \n",
      "\n",
      "--------------------------------\n"
     ]
    },
    {
     "name": "stdin",
     "output_type": "stream",
     "text": [
      "Digite a opcao desejada:\n",
      "1 - Consultar\n",
      "2 - Inserir\n",
      "3 - Deletar\n",
      "4 - Atualizar\n",
      "5 - Listar todos\n",
      "6 - Sair\n",
      " 5\n"
     ]
    },
    {
     "name": "stdout",
     "output_type": "stream",
     "text": [
      "--------------------------------\n",
      "CPF...: 111  NOME..: paulo  \n",
      "\n",
      "--------------------------------\n",
      "CPF...: 222  NOME..: joao  \n",
      "\n",
      "--------------------------------\n",
      "CPF...: 333  NOME..: Flávio  \n",
      "\n",
      "--------------------------------\n",
      "CPF...: 444  NOME..: MARIA DA CONCEICAO555  \n",
      "\n",
      "--------------------------------\n",
      "CPF...: 555  NOME..: Penelope Charmosa  \n",
      "\n",
      "--------------------------------\n"
     ]
    },
    {
     "name": "stdin",
     "output_type": "stream",
     "text": [
      "Digite a opcao desejada:\n",
      "1 - Consultar\n",
      "2 - Inserir\n",
      "3 - Deletar\n",
      "4 - Atualizar\n",
      "5 - Listar todos\n",
      "6 - Sair\n",
      " 1\n",
      "Digite o cpf:  555\n"
     ]
    },
    {
     "name": "stdout",
     "output_type": "stream",
     "text": [
      "--------------------------------\n",
      "CPF....: 555\n",
      "Nome...: Penelope Charmosa\n",
      "--------------------------------\n",
      "\n",
      "\n"
     ]
    },
    {
     "name": "stdin",
     "output_type": "stream",
     "text": [
      "Digite a opcao desejada:\n",
      "1 - Consultar\n",
      "2 - Inserir\n",
      "3 - Deletar\n",
      "4 - Atualizar\n",
      "5 - Listar todos\n",
      "6 - Sair\n",
      " 6\n"
     ]
    },
    {
     "ename": "RecursionError",
     "evalue": "maximum recursion depth exceeded",
     "output_type": "error",
     "traceback": [
      "\u001b[0;31m---------------------------------------------------------------------------\u001b[0m",
      "\u001b[0;31mRecursionError\u001b[0m                            Traceback (most recent call last)",
      "\u001b[0;32m/tmp/ipykernel_13352/242344123.py\u001b[0m in \u001b[0;36m<module>\u001b[0;34m\u001b[0m\n\u001b[1;32m    131\u001b[0m \u001b[0;34m\u001b[0m\u001b[0m\n\u001b[1;32m    132\u001b[0m     \u001b[0;32mif\u001b[0m \u001b[0mopcao\u001b[0m \u001b[0;32min\u001b[0m \u001b[0;34m'123456'\u001b[0m\u001b[0;34m:\u001b[0m\u001b[0;34m\u001b[0m\u001b[0;34m\u001b[0m\u001b[0m\n\u001b[0;32m--> 133\u001b[0;31m         \u001b[0mdicio\u001b[0m\u001b[0;34m[\u001b[0m\u001b[0mopcao\u001b[0m\u001b[0;34m]\u001b[0m\u001b[0;34m(\u001b[0m\u001b[0;34m)\u001b[0m\u001b[0;34m\u001b[0m\u001b[0;34m\u001b[0m\u001b[0m\n\u001b[0m\u001b[1;32m    134\u001b[0m     \u001b[0;32melse\u001b[0m\u001b[0;34m:\u001b[0m\u001b[0;34m\u001b[0m\u001b[0;34m\u001b[0m\u001b[0m\n\u001b[1;32m    135\u001b[0m         \u001b[0mprint\u001b[0m\u001b[0;34m(\u001b[0m\u001b[0;34m'Opcao invalida'\u001b[0m\u001b[0;34m)\u001b[0m\u001b[0;34m\u001b[0m\u001b[0;34m\u001b[0m\u001b[0m\n",
      "\u001b[0;32m/tmp/ipykernel_13352/242344123.py\u001b[0m in \u001b[0;36msair\u001b[0;34m()\u001b[0m\n\u001b[1;32m    115\u001b[0m \u001b[0;34m\u001b[0m\u001b[0m\n\u001b[1;32m    116\u001b[0m \u001b[0;32mdef\u001b[0m \u001b[0msair\u001b[0m\u001b[0;34m(\u001b[0m\u001b[0;34m)\u001b[0m\u001b[0;34m:\u001b[0m\u001b[0;34m\u001b[0m\u001b[0;34m\u001b[0m\u001b[0m\n\u001b[0;32m--> 117\u001b[0;31m     \u001b[0mexit\u001b[0m\u001b[0;34m(\u001b[0m\u001b[0;34m)\u001b[0m\u001b[0;34m\u001b[0m\u001b[0;34m\u001b[0m\u001b[0m\n\u001b[0m\u001b[1;32m    118\u001b[0m \u001b[0;34m\u001b[0m\u001b[0m\n\u001b[1;32m    119\u001b[0m dicio = {\n",
      "\u001b[0;32m/tmp/ipykernel_13352/7392877.py\u001b[0m in \u001b[0;36mexit\u001b[0;34m()\u001b[0m\n\u001b[1;32m     73\u001b[0m \u001b[0;34m\u001b[0m\u001b[0m\n\u001b[1;32m     74\u001b[0m \u001b[0;32mdef\u001b[0m \u001b[0mexit\u001b[0m\u001b[0;34m(\u001b[0m\u001b[0;34m)\u001b[0m\u001b[0;34m:\u001b[0m\u001b[0;34m\u001b[0m\u001b[0;34m\u001b[0m\u001b[0m\n\u001b[0;32m---> 75\u001b[0;31m     \u001b[0mexit\u001b[0m\u001b[0;34m(\u001b[0m\u001b[0;34m)\u001b[0m\u001b[0;34m\u001b[0m\u001b[0;34m\u001b[0m\u001b[0m\n\u001b[0m\u001b[1;32m     76\u001b[0m \u001b[0;34m\u001b[0m\u001b[0m\n\u001b[1;32m     77\u001b[0m dicio = {\n",
      "... last 1 frames repeated, from the frame below ...\n",
      "\u001b[0;32m/tmp/ipykernel_13352/7392877.py\u001b[0m in \u001b[0;36mexit\u001b[0;34m()\u001b[0m\n\u001b[1;32m     73\u001b[0m \u001b[0;34m\u001b[0m\u001b[0m\n\u001b[1;32m     74\u001b[0m \u001b[0;32mdef\u001b[0m \u001b[0mexit\u001b[0m\u001b[0;34m(\u001b[0m\u001b[0;34m)\u001b[0m\u001b[0;34m:\u001b[0m\u001b[0;34m\u001b[0m\u001b[0;34m\u001b[0m\u001b[0m\n\u001b[0;32m---> 75\u001b[0;31m     \u001b[0mexit\u001b[0m\u001b[0;34m(\u001b[0m\u001b[0;34m)\u001b[0m\u001b[0;34m\u001b[0m\u001b[0;34m\u001b[0m\u001b[0m\n\u001b[0m\u001b[1;32m     76\u001b[0m \u001b[0;34m\u001b[0m\u001b[0m\n\u001b[1;32m     77\u001b[0m dicio = {\n",
      "\u001b[0;31mRecursionError\u001b[0m: maximum recursion depth exceeded"
     ]
    }
   ],
   "source": [
    "#\n",
    "\n",
    "def consultar():\n",
    "    cpf = input('Digite o cpf: ')\n",
    "    \n",
    "    with open('registro.txt','r') as arquivo:\n",
    "        conteudo = arquivo.readlines()\n",
    "        \n",
    "    for reg in conteudo:\n",
    " \n",
    "        if cpf.rstrip() in reg.split(','):\n",
    "            registro = reg.split(',')\n",
    "            print('-'*32)\n",
    "            print(f'CPF....: {registro[0]}')\n",
    "            print(f'Nome...: {registro[1]}')\n",
    "            print('-'*32)\n",
    "            print('\\n')\n",
    "            break\n",
    "    else:\n",
    "        print('Registro nao encontrado')\n",
    "        \n",
    "    arquivo.close()\n",
    "    \n",
    "def inserir():\n",
    "    print('-'*32)\n",
    "    cpf = input('CPF...: ')\n",
    "    nome = input('Nome..: ').upper()\n",
    "    registro = f'{cpf},{nome}\\n'\n",
    "    \n",
    "    with open('registro.txt','a+') as arquivo:\n",
    "        conteudo = arquivo.write(registro)\n",
    "  \n",
    "    arquivo.close()\n",
    "\n",
    "\n",
    "def deletar():\n",
    "    cpf = input('Digite o CPF a pesquisar ')\n",
    "    \n",
    "    with open('registro.txt','r') as arquivo:\n",
    "        conteudo = arquivo.readlines()\n",
    "        \n",
    "    for indice, valor in enumerate(conteudo):\n",
    "        \n",
    "        if cpf in valor.split(','):\n",
    "            registro = valor.split(',')\n",
    "            print(f'CPF...: {registro[0]}')\n",
    "            print(f'NOME..: {registro[1]}')\n",
    "            \n",
    "            if input('Deseja Excluir (S/N): ').upper() == 'S':  \n",
    "                conteudo.pop(indice)\n",
    "                \n",
    "                with open('registro.txt','w') as arquivo:\n",
    "                    arquivo.write(\"\".join(conteudo))\n",
    "                    \n",
    "                print('Registro Excluido !!!')\n",
    "            else:\n",
    "                print('Operacao cancelada pelo usuario !!')\n",
    "                \n",
    "            break\n",
    "    else:\n",
    "        print(f'Cpf: {cpf} nao encontrado !!')\n",
    "        \n",
    "            \n",
    "\n",
    "def atualizar():\n",
    "    \n",
    "    cpf = input('Digite o CPF: ')\n",
    "    \n",
    "    with open('registro.txt','r') as arquivo:\n",
    "        conteudo = arquivo.readlines()\n",
    "        \n",
    "\n",
    "    for indice,item in enumerate(conteudo):\n",
    "        \n",
    "        if cpf in item.split(','):\n",
    "            registro = item.split(',')\n",
    "            print(f'CPF..: {registro[0]}')\n",
    "            print(f'NOME.: {registro[1]}')\n",
    "            \n",
    "            if input('Deseja alterar (S/N): ').upper() == 'S':\n",
    "                registro[0] = input('CPF..:')\n",
    "                registro[1] = input('NOME.:')\n",
    "                \n",
    "                conteudo[indice] = ','.join(registro)\n",
    "                \n",
    "                with open('registro.txt','w') as arquivo:\n",
    "                    arquivo.write(\"\".join(conteudo))\n",
    "                    \n",
    "                \n",
    "                print('registro atualizado com sucesso')\n",
    "                break\n",
    "            else:\n",
    "                print('Alteracao cancelada pelo usuario !!!')\n",
    "                break\n",
    "                \n",
    "                \n",
    "    else:\n",
    "        print('Registro nao encontrado !!')\n",
    "\n",
    "def listar():\n",
    "    print('-'*32)\n",
    "    \n",
    "    with open('registro.txt','r') as arquivo:\n",
    "        conteudo = arquivo.readlines()\n",
    "        \n",
    "        \n",
    "    for indice, item in enumerate(conteudo):\n",
    "        registro = item.split(',')\n",
    "        if indice >0:\n",
    "            print(f'CPF...: {registro[0]}', end=\"  \")\n",
    "            print(f'NOME..: {registro[1]}', end=\"  \")\n",
    "            print('\\n')\n",
    "            print('-'*32)\n",
    "        \n",
    "\n",
    "def sair():\n",
    "    exit()\n",
    "    \n",
    "dicio = {\n",
    "    '1': consultar,\n",
    "    '2': inserir,\n",
    "    '3': deletar,\n",
    "    '4': atualizar,\n",
    "    '5': listar,\n",
    "    '6': sair\n",
    "}\n",
    "\n",
    "while True:\n",
    "    opcao = input(f'Digite a opcao desejada:\\n1 - Consultar\\n2 - Inserir\\n3 - Deletar\\n' \\\n",
    "                  f'4 - Atualizar\\n5 - Listar todos\\n6 - Sair\\n').upper()\n",
    "    \n",
    "    if opcao in '123456':\n",
    "        dicio[opcao]()\n",
    "    else:\n",
    "        print('Opcao invalida')"
   ]
  },
  {
   "cell_type": "code",
   "execution_count": 98,
   "id": "35e4a0a3-faaa-4e7a-b27c-f581865581cc",
   "metadata": {},
   "outputs": [
    {
     "name": "stdin",
     "output_type": "stream",
     "text": [
      "Digite o nome a pesquisar.: aaron\n"
     ]
    },
    {
     "name": "stdout",
     "output_type": "stream",
     "text": [
      "['Name', 'Position Title', 'Department', 'Employee Annual Salary']\n",
      "AARON,  ELVIA J\n"
     ]
    },
    {
     "name": "stdin",
     "output_type": "stream",
     "text": [
      "Continua.. (S/N) s\n"
     ]
    },
    {
     "name": "stdout",
     "output_type": "stream",
     "text": [
      "AARON,  JEFFERY M\n"
     ]
    },
    {
     "name": "stdin",
     "output_type": "stream",
     "text": [
      "Continua.. (S/N) s\n"
     ]
    },
    {
     "name": "stdout",
     "output_type": "stream",
     "text": [
      "AARON,  KARINA\n"
     ]
    },
    {
     "name": "stdin",
     "output_type": "stream",
     "text": [
      "Continua.. (S/N) s\n"
     ]
    },
    {
     "name": "stdout",
     "output_type": "stream",
     "text": [
      "AARON,  KIMBERLEI R\n"
     ]
    },
    {
     "name": "stdin",
     "output_type": "stream",
     "text": [
      "Continua.. (S/N) s\n"
     ]
    },
    {
     "name": "stdout",
     "output_type": "stream",
     "text": [
      "ACEVEDO,  AARON F\n"
     ]
    },
    {
     "name": "stdin",
     "output_type": "stream",
     "text": [
      "Continua.. (S/N) s\n"
     ]
    },
    {
     "name": "stdout",
     "output_type": "stream",
     "text": [
      "ARMSTEAD,  AARON P\n"
     ]
    },
    {
     "name": "stdin",
     "output_type": "stream",
     "text": [
      "Continua.. (S/N) n\n"
     ]
    }
   ],
   "source": [
    "import csv\n",
    "with open('salarios.csv','r') as arquivo:\n",
    "    conteudo = csv.reader(arquivo, delimiter=',')\n",
    "    cabec = next(conteudo)\n",
    "    #primeira_linha = next(conteudo)\n",
    "\n",
    "    nome = input('Digite o nome a pesquisar.:').upper()\n",
    "    print(cabec)\n",
    "    for linha in conteudo:\n",
    "        \n",
    "        if nome in linha[0]:\n",
    "            print(f'{linha[0]}')\n",
    "            \n",
    "            if input('Continua.. (S/N)').upper() == 'S':\n",
    "                continue\n",
    "            else:\n",
    "                break\n",
    "    else:\n",
    "        print('Registro nao encontrado.. ')\n",
    "        \n",
    "        \n",
    "        \n",
    "# print(cabec)\n",
    "# print(primeira_linha)\n",
    "\n",
    "# for indice, valor in enumerate(demais_linhas):\n",
    "#     print(valor[0],valor[1],valor[2],valor[3])\n",
    "#     for item in valor:\n",
    "#         print(f'Nome..: {item[indice][0]}', end=\" \")\n",
    "#         print(f'Posicao: {item[1]}', end=\" \")\n",
    "#         print(f'Depar..: {item[2]}', end=\" \")\n",
    "#         print(f'Sal Anual..: {item[3]}', end=\" \")\n",
    "#         print('\\n','-'*32)\n",
    "        \n",
    "        \n"
   ]
  },
  {
   "cell_type": "markdown",
   "id": "6751bceb-7b9d-4c59-b798-e649371da038",
   "metadata": {},
   "source": [
    "### Leitura de arquivos textos"
   ]
  },
  {
   "cell_type": "code",
   "execution_count": 1,
   "id": "edfe75fc-6d3a-4f22-bf7d-b58fee326513",
   "metadata": {},
   "outputs": [
    {
     "name": "stdout",
     "output_type": "stream",
     "text": [
      "<_io.TextIOWrapper name='temperatura.csv' mode='r' encoding='UTF-8'>\n"
     ]
    }
   ],
   "source": [
    "#CODE\n",
    "arquivo = open('temperatura.csv','r')\n",
    "print(arquivo)"
   ]
  },
  {
   "cell_type": "markdown",
   "id": "085a8f90-6b07-4d08-b666-082a492e22da",
   "metadata": {},
   "source": [
    "A maneira **mais recomendada de usar o *open* é**."
   ]
  },
  {
   "cell_type": "code",
   "execution_count": null,
   "id": "f9001eb0-1764-45ae-acc1-0e6a05513513",
   "metadata": {},
   "outputs": [],
   "source": [
    "#Code"
   ]
  },
  {
   "cell_type": "markdown",
   "id": "642e4a61-a1a9-43cc-901b-13a25548b02c",
   "metadata": {},
   "source": [
    "## Escrever arquivos usando Python\n",
    "\n",
    "Para escrever um arquivo, é necessário abrir o novo arquivo com o **modo** sendo de escrita:\n",
    "```python\n",
    "arquivo = open('caminho_do_arquivo','w')\n",
    "```"
   ]
  },
  {
   "cell_type": "code",
   "execution_count": 12,
   "id": "7003bc07-cdf6-4153-934d-cef9408862d8",
   "metadata": {},
   "outputs": [],
   "source": [
    "#Code"
   ]
  },
  {
   "cell_type": "markdown",
   "id": "cc1db0a8-a31d-4df7-9565-a3ee485a943f",
   "metadata": {},
   "source": [
    "## Exercicio 01\n",
    "Faça um script python que lê as linhas do arquivo *temperature.csv* e grava em outro arquivo somente as linhas que contém a substring \"Kherson\"."
   ]
  },
  {
   "cell_type": "code",
   "execution_count": 61,
   "id": "9a5767ba-bcea-4512-939c-56d4c4cae8b8",
   "metadata": {},
   "outputs": [],
   "source": [
    "#CODE\n",
    "\n",
    "import csv\n",
    "\n",
    "with open('temperatura.csv','r') as arquivo:\n",
    "    conteudo = csv.reader(arquivo, delimiter=',')\n",
    "    cabec = next(conteudo)\n",
    "\n",
    "    for dados in conteudo:\n",
    "        \n",
    "        try:\n",
    "            dados.index('Kherson')\n",
    "        except ValueError:\n",
    "            \n",
    "            continue\n",
    "        else:\n",
    "            registro = ','.join(dados) + '\\n'\n",
    "            \n",
    "            with open('kherson.csv','a+') as new_arquivo:\n",
    "                new_arquivo.write(registro)\n",
    "                \n"
   ]
  },
  {
   "cell_type": "code",
   "execution_count": 76,
   "id": "6d22ee62-c549-428f-81cb-01a10fb2d133",
   "metadata": {},
   "outputs": [],
   "source": [
    "with open('temperatura.csv','r') as arquivo:\n",
    "    conteudo = arquivo.readlines()\n",
    "    \n",
    "\n",
    "for linha in conteudo:\n",
    "    registro = linha.split(',')\n",
    "    \n",
    "    if \"Kherson\" in registro[6]:\n",
    "        grava = \",\".join(registro)\n",
    "        \n",
    "        with open('kherson.csv','a+') as new_arquivo:\n",
    "            new_conteudo = new_arquivo.write(grava)\n",
    "            \n"
   ]
  },
  {
   "cell_type": "markdown",
   "id": "41d6d413-370d-47c8-b803-101fbc086003",
   "metadata": {},
   "source": [
    "## Exercício 02\n",
    "\n",
    "Faça uma versão do código anterior de maneira que gere o arquivo agora para cidade \"Auckland\"."
   ]
  },
  {
   "cell_type": "code",
   "execution_count": 74,
   "id": "7b466850-cb13-43f0-b008-7086bbf51e93",
   "metadata": {},
   "outputs": [],
   "source": [
    "\n",
    "\n",
    "with open('temperatura.csv','r') as arquivo:\n",
    "    conteudo = arquivo.readlines()\n",
    "    \n",
    "    \n",
    "header = conteudo.pop(0)\n",
    "lista = []\n",
    "\n",
    "for linha in conteudo:\n",
    "\n",
    "    if \"Auckland\" in linha:\n",
    "        lista.append(linha)\n",
    "        \n",
    "lista.insert(0,header)\n",
    "\n",
    "with open('Auckland.csv','w') as arq2:\n",
    "    str_lines = ''.join(lista)\n",
    "    arq2.write(str_lines)"
   ]
  },
  {
   "cell_type": "markdown",
   "id": "26f7c6cb-f989-4ae8-b169-6b9d1ae78ae4",
   "metadata": {},
   "source": [
    "## Exercicio 03\n",
    "\n",
    "Sabendo que temos a lista com a lista contendo dados das cidades \"Auckland\" e \"Kherson\". \n",
    "```python\n",
    "lista = [\"\"\"474544,\"01\",\"01\",\"1867\",68.5094,33.8522,\"Auckland\",\"NEW\",\"New Zealand\",\"36.17S\",\"175.03E\" \"\"\"\n",
    "\"\"\"474545,\"02\",\"01\",\"1867\",66.992,33.7244,\"Auckland\",\"NEW\",\"New Zealand\",\"36.17S\",\"175.03E\" \"\"\",\n",
    "        \"\"\"3778335,\"01\",\"01\",\"1753\",22.7066,42.2816,\"Kherson\",\"UKR\",\"Ukraine\",\"47.42N\",\"31.97E\" \"\"\",\n",
    "\"\"\"3778336,\"02\",\"01\",\"1753\",23.1476,37.1318,\"Kherson\",\"UKR\",\"Ukraine\",\"47.42N\",\"31.97E\" \"\"\"]\n",
    "```\n",
    "\n",
    "Adicione as listas nos arquivos de dados das cidades \"Auckland\" e \"Kherson\"."
   ]
  },
  {
   "cell_type": "code",
   "execution_count": 87,
   "id": "f6be6c05-9fa0-49ac-8df4-ed85e3fd0973",
   "metadata": {},
   "outputs": [],
   "source": [
    "lista = [\"\"\"474544,\"01\",\"01\",\"1867\",68.5094,33.8522,\"Auckland\",\"NEW\",\"New Zealand\",\"36.17S\",\"175.03E\" \"\"\"\n",
    "\"\"\"474545,\"02\",\"01\",\"1867\",66.992,33.7244,\"Auckland\",\"NEW\",\"New Zealand\",\"36.17S\",\"175.03E\" \"\"\",\n",
    "        \"\"\"3778335,\"01\",\"01\",\"1753\",22.7066,42.2816,\"Kherson\",\"UKR\",\"Ukraine\",\"47.42N\",\"31.97E\" \"\"\",\n",
    "\"\"\"3778336,\"02\",\"01\",\"1753\",23.1476,37.1318,\"Kherson\",\"UKR\",\"Ukraine\",\"47.42N\",\"31.97E\" \"\"\"]\n",
    "\n",
    "    \n",
    "for item in lista:\n",
    "\n",
    "    registro = item.split(',') \n",
    "    grava = ','.join(registro) +'\\n'\n",
    "\n",
    "    if \"Auckland\" in item:\n",
    "        with open('Auckland.csv','a+') as arquivo:\n",
    "              arquivo.write(grava)\n",
    "    else:\n",
    "        with open('kherson.csv','a+') as arquivo:\n",
    "              arquivo.write(grava)\n",
    "\n",
    "        \n",
    "    \n",
    "    "
   ]
  },
  {
   "cell_type": "code",
   "execution_count": null,
   "id": "d47c5481-fd1e-46c3-8087-3d79674d527c",
   "metadata": {},
   "outputs": [],
   "source": [
    "lista = [\"\"\"474544,\"01\",\"01\",\"1867\",68.5094,33.8522,\"Auckland\",\"NEW\",\"New Zealand\",\"36.17S\",\"175.03E\" \"\"\"\n",
    "\"\"\"474545,\"02\",\"01\",\"1867\",66.992,33.7244,\"Auckland\",\"NEW\",\"New Zealand\",\"36.17S\",\"175.03E\" \"\"\",\n",
    "        \"\"\"3778335,\"01\",\"01\",\"1753\",22.7066,42.2816,\"Kherson\",\"UKR\",\"Ukraine\",\"47.42N\",\"31.97E\" \"\"\",\n",
    "\"\"\"3778336,\"02\",\"01\",\"1753\",23.1476,37.1318,\"Kherson\",\"UKR\",\"Ukraine\",\"47.42N\",\"31.97E\" \"\"\"]"
   ]
  },
  {
   "cell_type": "code",
   "execution_count": null,
   "id": "4663e1aa-9e1d-4d98-b098-3d2e49b22dd5",
   "metadata": {},
   "outputs": [],
   "source": [
    "#Code"
   ]
  },
  {
   "cell_type": "markdown",
   "id": "328dc989-4919-4c94-8715-8f866be47e3c",
   "metadata": {},
   "source": [
    "## Exercício 04\n",
    "\n",
    "Faça a leitura do arquivo temperatura.csv e converta os dados para lista de dicionário que fique como no exemplo:\n",
    "\n",
    "parte do arquivo csv:\n",
    "\n",
    "| record_id | month | day | year | AverageTemperatureFahr | AverageTemperatureUncertaintyFahr | City         | country_id | Country      | Latitude | Longitude |\n",
    "|-------------|---------|-------|--------|--------------------------|-------------------------------------|----------------|--------------|----------------|------------|-------------|\n",
    "| 3502531     | 01    | 01  | 1937 | 66.9056                  | 32.6444                             | Johannesburg | SOU        | South Africa | 26.52S   | 28.66E    |\n",
    "| 3502532     | 02    | 01  | 1937 | 66.7274                  | 33.1538                             | Johannesburg | SOU        | South Africa | 26.52S   | 28.66E    |\n"
   ]
  },
  {
   "cell_type": "markdown",
   "id": "014b13c7-c155-497f-b7a6-18ee63b67da0",
   "metadata": {},
   "source": [
    "Como deve ficar a estrutura"
   ]
  },
  {
   "cell_type": "code",
   "execution_count": 13,
   "id": "f32bd287-58b6-45a3-abfa-656897ca85b3",
   "metadata": {},
   "outputs": [],
   "source": [
    "rows = [{'\"AverageTemperatureFahr\"': '42.0674',\n",
    "  '\"AverageTemperatureUncertaintyFahr\"': '33.1142',\n",
    "  '\"City\"': '\"Kherson\"',\n",
    "  '\"Country\"': '\"Ukraine\"',\n",
    "  '\"Latitude\"': '\"47.42N\"',\n",
    "  '\"Longitude\"': '\"31.97E\"',\n",
    "  '\"country_id\"': '\"UKR\"',\n",
    "  '\"day\"': '\"01\"',\n",
    "  '\"month\"': '\"04\"',\n",
    "  '\"record_id\"': '3779550',\n",
    "  '\"year\"': '\"1854\"'},\n",
    " {'\"AverageTemperatureFahr\"': '62.654',\n",
    "  '\"AverageTemperatureUncertaintyFahr\"': '33.2888',\n",
    "  '\"City\"': '\"Kherson\"',\n",
    "  '\"Country\"': '\"Ukraine\"',\n",
    "  '\"Latitude\"': '\"47.42N\"',\n",
    "  '\"Longitude\"': '\"31.97E\"',\n",
    "  '\"country_id\"': '\"UKR\"',\n",
    "  '\"day\"': '\"01\"',\n",
    "  '\"month\"': '\"05\"',\n",
    "  '\"record_id\"': '3779551',\n",
    "  '\"year\"': '\"1854\"'}]\n"
   ]
  },
  {
   "cell_type": "code",
   "execution_count": 14,
   "id": "52b92dca-db31-4c94-99fd-95c718d81c3e",
   "metadata": {},
   "outputs": [],
   "source": [
    "#Code"
   ]
  },
  {
   "cell_type": "markdown",
   "id": "81b1555a-4f13-4a4c-abdb-086b1b46b97a",
   "metadata": {},
   "source": [
    "# Funções\n",
    "\n",
    "Em Python, uma função é uma sequência de comandos que executa alguma tarefa e que tem um nome. A sua principal finalidade é nos ajudar a organizar programas em pedaços que correspondam a como imaginamos uma solução do problema.\n",
    "\n",
    "A sintaxe de uma definição de função é:\n",
    "\n",
    "```python\n",
    "def name( args ):\n",
    "    commands\n",
    "```"
   ]
  },
  {
   "cell_type": "markdown",
   "id": "4b2b0dde-ba7c-43a4-91ef-e0c7529c4a00",
   "metadata": {},
   "source": [
    "## Exercicio 01\n",
    "\n",
    "Faça uma função com o nome *read_csv* que recebe como argumento o caminho de um arquivo csv (com o nome), e retorna as linhas em forma de lista."
   ]
  },
  {
   "cell_type": "code",
   "execution_count": null,
   "id": "6b32bd41-aa15-4f66-90dc-2a4a9f5b6b9d",
   "metadata": {},
   "outputs": [],
   "source": [
    "#Code"
   ]
  }
 ],
 "metadata": {
  "kernelspec": {
   "display_name": "Python 3",
   "language": "python",
   "name": "python3"
  },
  "language_info": {
   "codemirror_mode": {
    "name": "ipython",
    "version": 3
   },
   "file_extension": ".py",
   "mimetype": "text/x-python",
   "name": "python",
   "nbconvert_exporter": "python",
   "pygments_lexer": "ipython3",
   "version": "3.8.8"
  }
 },
 "nbformat": 4,
 "nbformat_minor": 5
}
