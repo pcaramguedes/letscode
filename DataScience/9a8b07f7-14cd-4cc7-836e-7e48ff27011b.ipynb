{
 "cells": [
  {
   "cell_type": "markdown",
   "id": "0ee57625-c6f6-4ab9-8c7f-3e2593bede52",
   "metadata": {},
   "source": [
    "## Conversão para Tipos\n",
    "\n",
    "O processo de conversão do valor de um tipo de dados (inteiro, string, float, etc.) em outro tipo de dados é chamado de conversão de tipo. Python tem dois tipos de conversão de tipo.\n",
    "\n",
    "Conversão de tipo implícita\\\n",
    "Conversão de tipo explícito"
   ]
  },
  {
   "cell_type": "code",
   "execution_count": 2,
   "id": "a11eee4f-9a24-4913-b4d3-c1e5b3a1e17c",
   "metadata": {},
   "outputs": [
    {
     "name": "stdout",
     "output_type": "stream",
     "text": [
      "var_1 <class 'int'>\n",
      "var_2 <class 'float'>\n",
      "resultado da soma <class 'float'>\n"
     ]
    }
   ],
   "source": [
    "var_1 = 10\n",
    "var_2 = 3.3\n",
    "\n",
    "print('var_1', type(var_1))\n",
    "print('var_2', type(var_2))\n",
    "\n",
    "print('resultado da soma', type(var_1 + var_2))"
   ]
  },
  {
   "cell_type": "markdown",
   "id": "c4e895aa-0e07-47c9-b524-47dd9d08339c",
   "metadata": {},
   "source": [
    "A **Conversão explícita** consiste em alterar o tipo a partir do uso de uma função do python."
   ]
  },
  {
   "cell_type": "code",
   "execution_count": 17,
   "id": "ea8e49f8-9304-4179-a2d3-bc762c0b3cec",
   "metadata": {},
   "outputs": [
    {
     "name": "stdout",
     "output_type": "stream",
     "text": [
      "2\n",
      "-5\n",
      "<class 'str'>\n"
     ]
    }
   ],
   "source": [
    "var_1 = '1.9999999999999999'\n",
    "var_2 = '-5'\n",
    "\n",
    "print(int(float(var_1)))\n",
    "print(int(var_2))\n",
    "\n",
    "var_2_str = str(int(var_2))\n",
    "print(type(var_2_str))"
   ]
  },
  {
   "cell_type": "markdown",
   "id": "32b35f9b-f456-4887-840a-f48f3583b57b",
   "metadata": {},
   "source": [
    "A função **int(value, base)** permita que um número seja convertido para uma outra base."
   ]
  },
  {
   "cell_type": "code",
   "execution_count": 32,
   "id": "792bfe97-bbe2-4e45-9a46-205e0162a98a",
   "metadata": {},
   "outputs": [
    {
     "name": "stdout",
     "output_type": "stream",
     "text": [
      "Resultado para a conversao da base 2 para a base 10: 18\n",
      "O valor convertido hexadecimal para decimal: 40765\n"
     ]
    }
   ],
   "source": [
    "s = '10010'\n",
    "# 1*2^(4)+ 0*2^(3) + 0*2^(2) + 1*2^(1) + 0*2^(0)\n",
    "print(\"Resultado para a conversao da base 2 para a base 10:\", int(s,2))\n",
    "\n",
    "hexa_str_value = '9F3D'\n",
    "#0,1,2,3,4,5,6,7,8,9,A,B,C,D,E,F\"\n",
    "print(\"O valor convertido hexadecimal para decimal:\", int(hexa_str_value, 16))"
   ]
  },
  {
   "cell_type": "markdown",
   "id": "7bdc474f-712d-43b5-96e6-ef97d59e42bc",
   "metadata": {},
   "source": [
    "ord (): Esta função é usada para converter um caractere em um inteiro.\\\n",
    "hex (): Esta função converte um número inteiro em uma string hexadecimal.\\\n",
    "oct (): Esta função converte um inteiro em uma string octal."
   ]
  },
  {
   "cell_type": "code",
   "execution_count": 37,
   "id": "88f8b6a3-9415-437a-b6df-067336142d55",
   "metadata": {},
   "outputs": [
    {
     "name": "stdout",
     "output_type": "stream",
     "text": [
      "52\n",
      "0x64\n",
      "0o70\n"
     ]
    }
   ],
   "source": [
    "s = '4'\n",
    "\n",
    "c_ord = ord(s)\n",
    "print(c_ord)\n",
    "\n",
    "c_hex = 100\n",
    "print(hex(c_hex))\n",
    "\n",
    "c_oct = 56\n",
    "print(oct(c_oct))"
   ]
  },
  {
   "cell_type": "markdown",
   "id": "7e3d6769-d131-4066-9820-f45e11590cf5",
   "metadata": {
    "tags": []
   },
   "source": [
    "## Comando de seleção:\n",
    "\n",
    "Os **comandos de seleção** são fundamentais na implementação de rotinas que permitem uma adaptação da lógica a ser executada de acordo com uma condição.\n",
    "  <figure style=\"text-align: center;\">\n",
    "      <img type=\"image/png\" src=\"https://www.ime.usp.br/~leo/mac2166/2017-1/img/pt_fluxo_se.png\" width=\"40%\" alt=\"fluxo unário\"/>\n",
    "      <img type=\"image/png\" src=\"https://www.ime.usp.br/~leo/mac2166/2017-1/img/pt_fluxo_se_senao.png\" width=\"40%\" alt=\"fluxo binário\"/>\n",
    "      <figcaption>Diagrama de fluxo de execução unário (a esquerda) e binário (a direita)</figcaption>\n",
    "  </figure>\n"
   ]
  },
  {
   "cell_type": "markdown",
   "id": "084d93fb-ae02-428e-be0d-9efab0dcbbf9",
   "metadata": {},
   "source": [
    "### Exemplo 1\n",
    "\n",
    "Faça um código que calcula a raiz quadrada de um número, caso seja inserido um número negativo deverá imprimir uma mensagem pedindo um número válido."
   ]
  },
  {
   "cell_type": "code",
   "execution_count": 39,
   "id": "aa9a7aa5-4c49-4417-b1ff-a4b5cc2602e2",
   "metadata": {},
   "outputs": [
    {
     "name": "stdin",
     "output_type": "stream",
     "text": [
      "Digite um numero: -4\n"
     ]
    },
    {
     "name": "stdout",
     "output_type": "stream",
     "text": [
      "O valor 'e negativo por favor digite um numero positivo.\n"
     ]
    }
   ],
   "source": [
    "n = float(input(\"Digite um numero:\"))\n",
    "\n",
    "if n < 0:\n",
    "    print(\"O valor 'e negativo por favor digite um numero positivo.\")\n",
    "\n",
    "else:\n",
    "    print(n**(1/2))"
   ]
  },
  {
   "cell_type": "markdown",
   "id": "da728774-1333-415e-b8e0-0ba25f8f66ef",
   "metadata": {},
   "source": [
    "### Exercício 1\n",
    "\n",
    "Faça um código que o usuário insere a idade de uma pessoa e imprime na tela se a pessoa é pode dirigir ou não."
   ]
  },
  {
   "cell_type": "code",
   "execution_count": 42,
   "id": "57e93055-25cf-4c7f-ae36-3c876a2b1664",
   "metadata": {},
   "outputs": [
    {
     "name": "stdin",
     "output_type": "stream",
     "text": [
      "Digite a idade 9\n"
     ]
    },
    {
     "name": "stdout",
     "output_type": "stream",
     "text": [
      "Não pode dirigir\n"
     ]
    }
   ],
   "source": [
    "idade = int(input(\"Digite a idade\"))\n",
    "mensagem = \"Não pode dirigir\"\n",
    "\n",
    "if idade >= 18:\n",
    "    mensagem = \"Pode dirigir\"\n",
    "\n",
    "print(mensagem)"
   ]
  },
  {
   "cell_type": "markdown",
   "id": "b7a6a15f-f23f-4f42-90bf-b794ae8c7026",
   "metadata": {},
   "source": [
    "### Exercício 2\n",
    "\n",
    "Sabendo que um triângulo deve ter um dos lados menor ou igual que a soma dos outros lados, faça um script python que recebe três números que representam as medidas dos lados de um possível triângulo e imprime na tela se é um triângulo válido.\n"
   ]
  },
  {
   "cell_type": "code",
   "execution_count": 49,
   "id": "a05f37f3-65e3-4719-bbf4-41a324c54c38",
   "metadata": {},
   "outputs": [
    {
     "name": "stdin",
     "output_type": "stream",
     "text": [
      "Digite os valores das medidas dos lados do triângulo no formato: a,b,c 2,3,4\n"
     ]
    },
    {
     "name": "stdout",
     "output_type": "stream",
     "text": [
      "É triângulo\n"
     ]
    }
   ],
   "source": [
    "a, b, c = input(\"Digite os valores das medidas dos lados do triângulo no formato: a,b,c\").split(',')\n",
    "a, b, c = float(a), float(b), float(c)\n",
    "\n",
    "mensagem = \"Não é triângulo\"\n",
    "\n",
    "if (a+b>=c and b+c>=a and c+a>=b) and (a>0 and b>0 and c>0):\n",
    "    mensagem = \"É triângulo\"\n",
    "\n",
    "print(mensagem)"
   ]
  },
  {
   "cell_type": "markdown",
   "id": "f3411bcf-0416-4d2a-a4c2-4a126334156b",
   "metadata": {},
   "source": [
    "## Condicionais Alinhados\n",
    "\n",
    "Um condicional pode também ser aninhado dentro de outro. Para exemplificar vamos fazer um código que recebe dois valores (x e y) e verifica quem é o maior e menor e se são iguais."
   ]
  },
  {
   "cell_type": "code",
   "execution_count": 52,
   "id": "cfc15577-5f0a-4675-8634-0f5b2287c591",
   "metadata": {},
   "outputs": [
    {
     "name": "stdin",
     "output_type": "stream",
     "text": [
      "Digite o valor de x -3\n",
      "Digite o valor de y 0\n"
     ]
    },
    {
     "name": "stdout",
     "output_type": "stream",
     "text": [
      "x é menor que y.\n"
     ]
    }
   ],
   "source": [
    "x = float(input(\"Digite o valor de x\"))\n",
    "y = float(input(\"Digite o valor de y\"))\n",
    "\n",
    "if x < y:\n",
    "    print(\"x é menor que y.\")\n",
    "else:\n",
    "    if x > y:\n",
    "        print(\"x é maior do que y\")\n",
    "    else:\n",
    "        print(\"x e y devem ser iguais.\")"
   ]
  },
  {
   "cell_type": "markdown",
   "id": "5cbf7330-c5b0-474d-ae76-3cb66618b06f",
   "metadata": {},
   "source": [
    "O python oferece um recurso para condicinais alinhados chamado *elif*. "
   ]
  },
  {
   "cell_type": "code",
   "execution_count": null,
   "id": "db247516-f30e-4eb5-a421-e8a3b69c42de",
   "metadata": {},
   "outputs": [],
   "source": [
    "x = float(input(\"Digite o valor de x\"))\n",
    "y = float(input(\"Digite o valor de y\"))\n",
    "\n",
    "if x < y:\n",
    "    print(\"x é menor que y.\")\n",
    "elif x > y:\n",
    "    print(\"x é maior do que y\")\n",
    "else:\n",
    "    print(\"x e y devem ser iguais.\")"
   ]
  },
  {
   "cell_type": "markdown",
   "id": "cb575d87-b474-4b31-a417-8da8aeebc43b",
   "metadata": {},
   "source": [
    "### DESAFIO 1\n",
    " \n",
    "Faça um script python que recebe uma URL \"https://site.com.br?id=1930&nome=fulano\" e ele valida os valores dos campos passados por parâmetros (**id** e **nome**) esses campos devem ser inteiros e string respectivamente. Caso sejam válidos o script deve imprimir \"campos válidos\" senão deve imprimir na tela qual o campo não é válido no formato \"campo *nome_variavel* não é válido\". Caso os dois campos sejam inválidos ele deve imprimir \"Campo id e nome não são válidos.\""
   ]
  },
  {
   "cell_type": "code",
   "execution_count": 69,
   "id": "8d7c391b-8f1a-4172-834b-8ad96f1b2e1a",
   "metadata": {},
   "outputs": [
    {
     "name": "stdout",
     "output_type": "stream",
     "text": [
      "Campos id e nome não são válidos\n"
     ]
    }
   ],
   "source": [
    "url = \"https://site.com.br?id=1930&nome=fulano\"\n",
    "\n",
    "first_index_id = url.index(\"id=\") + len(\"id=\")\n",
    "last_index_id = url.index('&') \n",
    "id_ = url[first_index_id:last_index_id]\n",
    "\n",
    "nome = url[url.index(\"nome=\") + len(\"nome=\"):]\n",
    "\n",
    "message = \"campos válidos\"\n",
    "if not id_.isdecimal() and not nome.isalpha():\n",
    "    message = \"Campos id e nome não são válidos\"\n",
    "\n",
    "elif not id_.isdecimal():\n",
    "    message = \"Campo id não é válido\"\n",
    "\n",
    "elif not nome.isalpha():\n",
    "    message = \"Campo nome não é válido\"\n",
    "\n",
    "print(message)"
   ]
  },
  {
   "cell_type": "markdown",
   "id": "f454a672-0a64-48c1-947e-379afa9ef3c5",
   "metadata": {},
   "source": [
    "### Desafio 1.2\n",
    "\n",
    "Modifique o código anterior para verificar se o nome está com a primeira letra maiúscula, caso não esteja deverá imprimir um erro \"Campo nome inválido\"."
   ]
  },
  {
   "cell_type": "markdown",
   "id": "1cbdee5e-e0d2-4417-86d0-c01b8da347ce",
   "metadata": {},
   "source": [
    "## Finalizando\n",
    "\n",
    "1 - Quais as condições de uso de um condicional \n",
    "\n",
    "2 - A diferença entre um condicional binário e unário \\\n",
    "3 - O uso do *elif* \\\n",
    "4 - O uso do *inline* ou usando tuplas"
   ]
  }
 ],
 "metadata": {
  "kernelspec": {
   "display_name": "Python 3",
   "language": "python",
   "name": "python3"
  },
  "language_info": {
   "codemirror_mode": {
    "name": "ipython",
    "version": 3
   },
   "file_extension": ".py",
   "mimetype": "text/x-python",
   "name": "python",
   "nbconvert_exporter": "python",
   "pygments_lexer": "ipython3",
   "version": "3.8.10"
  }
 },
 "nbformat": 4,
 "nbformat_minor": 5
}
