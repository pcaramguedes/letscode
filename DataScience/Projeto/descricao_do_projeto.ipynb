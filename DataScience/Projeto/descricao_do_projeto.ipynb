{
 "cells": [
  {
   "cell_type": "markdown",
   "id": "2b4a6249-193c-4108-b25c-e29d9f7db8eb",
   "metadata": {},
   "source": [
    "# Projeto Final\n",
    "\n",
    "## Descrição\n",
    "\n",
    "O projeto final consiste em implementar 4 funções em python no arquivo *main.py*.\n",
    "\n",
    "- QUESTÃO 01\n",
    "    Implemente uma função de nome *group_by* onde os argumentos sejam: uma lista de strings que são as linhas de um csv e o nome da coluna a ser agrupado os valores.\n",
    "\n",
    "- QUESTÃO 02\n",
    "    Implemente um método que escreva os dados em um arquivo csv. Os argumentos da função são dados é uma lista composta por dicionários que representam as linhas de um CSV e o caminho (com o nome do arquivo) que será salvo.\n",
    "\n",
    "- QUESTÃO 03\n",
    "    Implemente um método que seleciona apenas campos específicos do dicionário que representa\n",
    "    a linha do arquivo CSV e retornam esses dicionários filtrados em uma lista.\n",
    "\n",
    "- QUESTÃO 04\n",
    "    Implemente um método que calcula a média das AverageTemperatureFahr ou AverageTemperatureUncertaintyFahr a partir dos dados agrupados pelos campos City ou Country."
   ]
  },
  {
   "cell_type": "markdown",
   "id": "540779ff-3f29-4621-b31b-e6a431278533",
   "metadata": {},
   "source": [
    "No arquivo zip, junto ao arquivo *main.py* onde deve ir as implementações das funções, também tem os arquivos\n",
    "*output_01.py*, *output_02.csv*, *output_03.csv* e *output_04.py*. Esses arquivos contém as saídas desejadas de cada método\n",
    "\n",
    "Após a implementação das funções e a execução delas como conta no final do arquivo *main.py* vocês poderão comparar os resultados afim de verificar se a função está de acordo com o esperado.\n",
    "\n",
    "O arquivo de dados a serem utilizados é o arquivo **temperature.csv** que está também no arquivo zip."
   ]
  },
  {
   "cell_type": "markdown",
   "id": "c3808382-6c6a-4101-ae9a-9eaea4750bc6",
   "metadata": {},
   "source": [
    "## Como deve ser a entrega\n",
    "\n",
    "- O código deve ser implementados no arquivo main.py nos pontos já assinalados.\n",
    "- Todos os mesmos arquivos encontrados no zip deverão ser enviados em um novo arquivo zip com o nome modulo_1_projeto_*nick_do_email*.zip que deverá ser enviado para giovani.angelo@gmail.com"
   ]
  }
 ],
 "metadata": {
  "kernelspec": {
   "display_name": "Python 3",
   "language": "python",
   "name": "python3"
  },
  "language_info": {
   "codemirror_mode": {
    "name": "ipython",
    "version": 3
   },
   "file_extension": ".py",
   "mimetype": "text/x-python",
   "name": "python",
   "nbconvert_exporter": "python",
   "pygments_lexer": "ipython3",
   "version": "3.8.10"
  }
 },
 "nbformat": 4,
 "nbformat_minor": 5
}
