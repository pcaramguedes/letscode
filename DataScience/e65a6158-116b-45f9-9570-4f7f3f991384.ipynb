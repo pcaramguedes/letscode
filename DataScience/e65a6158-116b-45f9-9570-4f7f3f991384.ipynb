{
 "cells": [
  {
   "cell_type": "markdown",
   "id": "fddd2539-c193-4fad-825f-cdbc868f74cf",
   "metadata": {},
   "source": [
    "## Continuação de Listas"
   ]
  },
  {
   "cell_type": "markdown",
   "id": "bcb21f2c-6094-4e96-a713-ce5ece5a435b",
   "metadata": {},
   "source": [
    "Algumas funções podem ser usadads quando uma lista e **só de valores numéricos**: min(), max(), sum()"
   ]
  },
  {
   "cell_type": "markdown",
   "id": "c4430141-ec27-4b84-b398-2d5cb91d3ba6",
   "metadata": {},
   "source": [
    "## Exercício 02\n",
    "\n",
    "Faça um script python que dada uma lista de número calcule: \\\n",
    "1 - a média de todos os valores \\\n",
    "2 - a distância do maior para o menor valor \\\n",
    "3 - a distância da média para o menor valor \\\n",
    "4 - a distância da média para o maior valor \n",
    "\n",
    "OBS.: len(lista): retorna o tamanho da lista\n",
    "      abs(valor): retorna o valor absoluto de um número."
   ]
  },
  {
   "cell_type": "code",
   "execution_count": 10,
   "id": "0d4c7b7b-6229-408a-b31e-b87f5c70f88a",
   "metadata": {},
   "outputs": [
    {
     "name": "stdout",
     "output_type": "stream",
     "text": [
      "Dados originais:\n",
      " [24, 53, 66, 83, 10, 28, 32, 6, 51, 16, 3, 58, 41, 56, 87, 38, 63, 86, 77, 95]\n",
      "A média dos valores: 48.65\n",
      "A distância do maior para o menor valor: 92\n",
      "A distância da média para o menor valor: 45.65\n",
      "A distância da média para o maior valor: 46.35\n"
     ]
    }
   ],
   "source": [
    "from random import sample\n",
    "\n",
    "list_numbers = sample(range(0,100), 20)\n",
    "\n",
    "#list_numbers\n",
    "# for _ in range(20):\n",
    "#     list_numbers.append(aleatorio_inteiro(0,100))\n",
    "\n",
    "average = sum(list_numbers)/len(list_numbers)\n",
    "\n",
    "print(\"Dados originais:\\n\", list_numbers)\n",
    "print(\"A média dos valores:\", average)\n",
    "print(\"A distância do maior para o menor valor:\", max(list_numbers) - min(list_numbers))\n",
    "print(\"A distância da média para o menor valor:\", average - min(list_numbers))\n",
    "print(\"A distância da média para o maior valor:\", max(list_numbers) - average)"
   ]
  },
  {
   "cell_type": "markdown",
   "id": "488caa5f-fdde-4fea-a7ac-9347f96a2f61",
   "metadata": {},
   "source": [
    "| Função | Parâmetros | Descrição |\n",
    "| --- | --- | --- |\n",
    "| append | valor | Acrescenta um novo item no final da lista |\n",
    "| insert | índice, valor | Insere um novo item na posição dada|\n",
    "| reverse | nenhum | Ordena a lista em ordem reversa|\n",
    "| index | item | Retorna a posição da primeira ocorrência do item|\n",
    "| count | item |Retorna o número de ocorrências do item|\n",
    "| remove | item | Remove a primeira ocorrência do item|"
   ]
  },
  {
   "cell_type": "markdown",
   "id": "3f384f61-437b-4c22-ac12-fa492596a3cc",
   "metadata": {},
   "source": [
    "## Finalizando\n",
    "\n",
    "1 - Entender o conceito de uma lista bem como sua função. \\\n",
    "2 - Entender as principais funções de uma lista \\\n",
    "3 - Usar as principais funções de uma lista. "
   ]
  },
  {
   "cell_type": "markdown",
   "id": "0e7eaee8-3663-47c3-8b48-e51b0654dfee",
   "metadata": {},
   "source": [
    "## Loop For\n",
    "\n",
    "É possível percorrer uma lista iterando através de itens ou iterando através de índices."
   ]
  },
  {
   "cell_type": "code",
   "execution_count": 14,
   "id": "bc31ab0d-998e-4c74-b38b-5dec20258b99",
   "metadata": {},
   "outputs": [
    {
     "name": "stdout",
     "output_type": "stream",
     "text": [
      "pera\n",
      "laranja\n",
      "banana\n",
      "cereja\n",
      "++++++++++++++++++\n",
      "pera\n",
      "laranja\n",
      "banana\n",
      "cereja\n",
      "+++++++++++++++++\n",
      "A fruta pera tem índice 0\n",
      "A fruta laranja tem índice 1\n",
      "A fruta banana tem índice 2\n",
      "A fruta cereja tem índice 3\n",
      "[2, 'a'] 3\n"
     ]
    }
   ],
   "source": [
    "frutas = [\"pera\",'laranja', 'banana', 'cereja']\n",
    "\n",
    "for uma_fruta in frutas:\n",
    "    print(uma_fruta)\n",
    "\n",
    "print(\"++++++++++++++++++\")\n",
    "for i in range(len(frutas)):\n",
    "    print(frutas[i])\n",
    "\n",
    "print(\"+++++++++++++++++\")\n",
    "for i, v in enumerate(frutas): #[[0,\"pera\"], [1,\"laranja\"], [2,\"banana\"], [3,\"cereja\"]]\n",
    "    print(f\"A fruta {v} tem índice {i}\")\n"
   ]
  },
  {
   "cell_type": "markdown",
   "id": "d84c80b4-380c-4063-8c84-1e5c78930762",
   "metadata": {},
   "source": [
    "### Exercício 03\n",
    "\n",
    " Faça um script python que recebe uma lista do usuário (usando a função input) e armazena em uma lista e calcula o quadrado dos números."
   ]
  },
  {
   "cell_type": "code",
   "execution_count": 21,
   "id": "edf971a9-13ab-400b-9442-341a419787a7",
   "metadata": {},
   "outputs": [
    {
     "name": "stdin",
     "output_type": "stream",
     "text": [
      "Insira a lista de números separados por vírgula: 9.9,8\n"
     ]
    },
    {
     "name": "stdout",
     "output_type": "stream",
     "text": [
      "98.01, 64.0\n"
     ]
    }
   ],
   "source": [
    "list_input_values = input(\"Insira a lista de números separados por vírgula:\").split(',')\n",
    "list_values = []\n",
    "\n",
    "#Loop for por elemento:\n",
    "for value in list_input_values:\n",
    "    value_square = float(value)**2\n",
    "    list_values.append(str(value_square))\n",
    "\n",
    "print(\", \".join(list_values))"
   ]
  },
  {
   "cell_type": "markdown",
   "id": "aa70347b-c786-4aea-94fd-ed4ff14335eb",
   "metadata": {},
   "source": [
    "## List comprehensions\n",
    "\n",
    "No python existe uma maneira de trabalhar com lista e loop for. Basicamente é a execução do loop for que obedece a seguinte sintax: \n",
    "```python\n",
    "[<expressão> for <valor> in <sequência>]\n",
    "    \n",
    "[<expressão> for <valor> in <sequência> if <condição> ]\n",
    "    \n",
    "[<expressão> if <condição> else <expressão> for <valor> in <sequência>] \n",
    "```"
   ]
  },
  {
   "cell_type": "markdown",
   "id": "c0d73ac9-8063-439a-908f-368f6eb29269",
   "metadata": {},
   "source": [
    "## Exercício 04\n",
    "\n",
    "Converta o Exercício 03 para *list_comprehention*. E fazer uma outra versão que calcula o quadrado somente para os valores ímpares."
   ]
  },
  {
   "cell_type": "code",
   "execution_count": 27,
   "id": "27467ec5-46f5-43c3-a102-a050a661d8b8",
   "metadata": {},
   "outputs": [
    {
     "name": "stdin",
     "output_type": "stream",
     "text": [
      "Insira a lista de números separados por vírgula: 4, 5,6\n"
     ]
    },
    {
     "name": "stdout",
     "output_type": "stream",
     "text": [
      "Lista de números quadrados\n",
      "[16.0, 25.0, 36.0]\n",
      "Lista de números impares quadrados\n",
      "[25]\n"
     ]
    }
   ],
   "source": [
    "list_input_values = input(\"Insira a lista de números separados por vírgula:\").split(',')\n",
    "list_values = [float(value)**2 for value in list_input_values]\n",
    "print(\"Lista de números quadrados\")\n",
    "print(list_values)\n",
    "\n",
    "list_values_odds = [int(value)**2 for value in list_input_values if not int(value) % 2 == 0]\n",
    "print(\"Lista de números impares quadrados\")\n",
    "print(list_values_odds)"
   ]
  },
  {
   "cell_type": "markdown",
   "id": "491d70cb-3901-48c4-88a9-01d217921232",
   "metadata": {},
   "source": [
    "## Exercício 05\n",
    "\n",
    "Desenvolva um script python que recebe um número não nulo, positivo e inteiro, e soma todos os valores ímpares menores ou igual que o respectivo número. \\\n",
    "Exemplo: número digitado 11\n",
    "resultado: 1+3+5+7+9+11 = 36\n",
    "\n",
    "Exemplo: número digitado 10\n",
    "resultado: 1+3+5+7+9 = 25"
   ]
  },
  {
   "cell_type": "code",
   "execution_count": 8,
   "id": "5138fe86-8df4-4c24-81f2-97ba6ee6ed3c",
   "metadata": {},
   "outputs": [
    {
     "name": "stdin",
     "output_type": "stream",
     "text": [
      "Digite o número inteiro não negativo diferente de zero 100000000\n"
     ]
    },
    {
     "name": "stdout",
     "output_type": "stream",
     "text": [
      "2500000000000000.0\n"
     ]
    }
   ],
   "source": [
    "n = int(input(\"Digite o número inteiro não negativo diferente de zero\"))\n",
    "list_odd_numbers = [value for value in range(1,n+1) if value % 2 != 0 ]\n",
    "value_sum = sum(list_odd_numbers)\n",
    "print(value_sum)\n",
    "\n",
    "# if n % 2 == 0:\n",
    "#     print((n/2)**2)\n",
    "# else:\n",
    "#     print(((n+1)/2)**2)"
   ]
  },
  {
   "cell_type": "markdown",
   "id": "e923fbb7-2110-4660-b284-71cbb01eddd0",
   "metadata": {},
   "source": [
    "## Listas Alinhadas\n",
    "\n",
    "Uma lista pode aceitar objetos e outras listas como elementos:\n",
    "```python\n",
    "list_alunos = ['Aluno1', ['Aluno1', 10], 'Aluno1' , ['Aluno1', 3], ['Aluno1', 9], ['Aluno1', 5], ['Aluno2', 7.5], ['Aluno1', 8], 'Aluno5',\n",
    "               ['Aluno1', 3], ['Aluno2', 3], ['Aluno2', 3], None, None, 'Aluno2', ['Aluno1', 1]]\n",
    "```"
   ]
  },
  {
   "cell_type": "markdown",
   "id": "a43554fa-85c4-4a5e-a491-44502d4be104",
   "metadata": {},
   "source": [
    "## Exercício 06\n",
    "\n",
    "Com base na lista *list_alunos* vamos calcular a média das notas do 'Aluno1'. Contudo a lista chega com dados muito \"sujos\". Logo o código deverá ser imune a tipos de dados estranhos."
   ]
  },
  {
   "cell_type": "code",
   "execution_count": 19,
   "id": "4a8b6649-9c47-4746-aee7-32bb11aaf98c",
   "metadata": {},
   "outputs": [
    {
     "name": "stdout",
     "output_type": "stream",
     "text": [
      "A média do Aluno1 é 5.57.\n"
     ]
    }
   ],
   "source": [
    "list_alunos = ['Aluno1', ['Aluno1', 10], 'Aluno1' , ['Aluno1', 3], ['Aluno1', 9], ['Aluno1', 5], ['Aluno2', 7.5], ['Aluno1', 8], 'Aluno5',\n",
    "               ['Aluno1', 3], ['Aluno2', 3], ['Aluno2', 3], None, None, 'Aluno2', ['Aluno1', 1]]\n",
    "\n",
    "soma_nota_aluno1 = 0\n",
    "qtd_aluno1 = 0\n",
    "nome_aluno = 'Aluno1'\n",
    "\n",
    "for item in list_alunos:\n",
    "    if type(item) == list and item[0] == nome_aluno:\n",
    "        soma_nota_aluno1 += item[1]\n",
    "        qtd_aluno1 += 1\n",
    "\n",
    "if qtd_aluno1 != 0:\n",
    "    print(f\"A média do {nome_aluno} é {round(soma_nota_aluno1/qtd_aluno1, 2)}.\")\n",
    "else:\n",
    "    print(f\"Não foi encontrado o {nome_aluno}\")"
   ]
  },
  {
   "cell_type": "markdown",
   "id": "857beaf8-35a9-4999-8747-a2f0f87dbd9a",
   "metadata": {},
   "source": [
    " Uma *string* pode virar uma lista de algumas maneiras: \\\n",
    " 1 - Usando a função *split()* \\\n",
    " 2 - Forçando o cast com o comando list()"
   ]
  },
  {
   "cell_type": "code",
   "execution_count": 21,
   "id": "42f2bfb9-69b1-4239-98fd-874901194dfc",
   "metadata": {},
   "outputs": [
    {
     "name": "stdout",
     "output_type": "stream",
     "text": [
      "0123456789abcdefghijklmnopqrstuvwxyzABCDEFGHIJKLMNOPQRSTUVWXYZ!\"#$%&'()*+,-./:;<=>?@[\\]^_`{|}~ \t\n",
      "\u000b",
      "\f",
      "\n",
      "['0', '1', '2', '3', '4', '5', '6', '7', '8', '9', 'a', 'b', 'c', 'd', 'e', 'f', 'g', 'h', 'i', 'j', 'k', 'l', 'm', 'n', 'o', 'p', 'q', 'r', 's', 't', 'u', 'v', 'w', 'x', 'y', 'z', 'A', 'B', 'C', 'D', 'E', 'F', 'G', 'H', 'I', 'J', 'K', 'L', 'M', 'N', 'O', 'P', 'Q', 'R', 'S', 'T', 'U', 'V', 'W', 'X', 'Y', 'Z', '!', '\"', '#', '$', '%', '&', \"'\", '(', ')', '*', '+', ',', '-', '.', '/', ':', ';', '<', '=', '>', '?', '@', '[', '\\\\', ']', '^', '_', '`', '{', '|', '}', '~', ' ', '\\t', '\\n', '\\r', '\\x0b', '\\x0c']\n"
     ]
    }
   ],
   "source": [
    "import string\n",
    "\n",
    "print(string.printable)\n",
    "print(list(string.printable))"
   ]
  }
 ],
 "metadata": {
  "kernelspec": {
   "display_name": "Python 3",
   "language": "python",
   "name": "python3"
  },
  "language_info": {
   "codemirror_mode": {
    "name": "ipython",
    "version": 3
   },
   "file_extension": ".py",
   "mimetype": "text/x-python",
   "name": "python",
   "nbconvert_exporter": "python",
   "pygments_lexer": "ipython3",
   "version": "3.8.10"
  }
 },
 "nbformat": 4,
 "nbformat_minor": 5
}
